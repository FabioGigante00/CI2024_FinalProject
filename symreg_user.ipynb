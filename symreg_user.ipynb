{
 "cells": [
  {
   "cell_type": "code",
   "execution_count": 146,
   "metadata": {},
   "outputs": [],
   "source": [
    "import numpy as np\n",
    "from icecream import ic"
   ]
  },
  {
   "cell_type": "code",
   "execution_count": 147,
   "metadata": {},
   "outputs": [
    {
     "data": {
      "text/plain": [
       "(2, 1000)"
      ]
     },
     "execution_count": 147,
     "metadata": {},
     "output_type": "execute_result"
    }
   ],
   "source": [
    "problem = np.load('problem_0.npz')\n",
    "x = problem['x']\n",
    "y = problem['y']\n",
    "x.shape"
   ]
  },
  {
   "cell_type": "code",
   "execution_count": null,
   "metadata": {},
   "outputs": [],
   "source": []
  },
  {
   "cell_type": "code",
   "execution_count": null,
   "metadata": {},
   "outputs": [
    {
     "name": "stdout",
     "output_type": "stream",
     "text": [
      "(2, 1000) (1000,)\n",
      "INPUT\n",
      "[ 2.37857096 -0.74681473]\n",
      "LABEL\n",
      "2.242710018984468\n",
      "['x0', 'x1']\n"
     ]
    }
   ],
   "source": [
    "from gxgp import Node\n",
    "\n",
    "input = x\n",
    "labels = y\n",
    "\n",
    "#Single input and output\n",
    "print(input.shape, labels.shape)\n",
    "#Print a column of input\n",
    "print(\"INPUT\")\n",
    "print(input[:,0])\n",
    "print(\"LABEL\")\n",
    "print(labels[0])\n",
    "#Functional set\n",
    "from operations.operations_dict import basic_function_set, complex_function_set\n",
    "\n",
    "# Terminal set\n",
    "terminal_list = ['x' + str(i) for i in range(input.shape[0])]\n",
    "\n",
    "print(terminal_list)"
   ]
  },
  {
   "cell_type": "markdown",
   "metadata": {},
   "source": [
    "Tree Generation  "
   ]
  },
  {
   "cell_type": "code",
   "execution_count": 149,
   "metadata": {},
   "outputs": [],
   "source": [
    "import random\n",
    "\n",
    "\n",
    "def generate_random_tree(max_depth, basic_function_set, complex_function_set, pc,terminal_set):\n",
    "    if max_depth == 0 or (random.random() < 0.3):  # Terminale con probabilità\n",
    "        terminal = random.choice(terminal_set)\n",
    "        return Node(terminal)\n",
    "    else:\n",
    "        if random.random() < pc:\n",
    "            func = random.choice(list(complex_function_set.keys()))\n",
    "            num_children = complex_function_set[func].__code__.co_argcount  # Numero di argomenti della funzione\n",
    "            children = [generate_random_tree(max_depth - 1, basic_function_set, complex_function_set, pc,terminal_set)\n",
    "                        for _ in range(num_children)]\n",
    "            return Node(complex_function_set[func], children,name=func)\n",
    "        else:\n",
    "            func = random.choice(list(basic_function_set.keys()))\n",
    "            num_children = basic_function_set[func].__code__.co_argcount  # Numero di argomenti della funzione\n",
    "            children = [generate_random_tree(max_depth - 1, basic_function_set, complex_function_set, pc,terminal_set)\n",
    "                        for _ in range(num_children)]\n",
    "            return Node(basic_function_set[func], children,name=func)\n",
    "        \n"
   ]
  },
  {
   "cell_type": "markdown",
   "metadata": {},
   "source": [
    "Generation"
   ]
  },
  {
   "cell_type": "code",
   "execution_count": null,
   "metadata": {},
   "outputs": [
    {
     "name": "stderr",
     "output_type": "stream",
     "text": [
      "C:\\Users\\Fabio\\AppData\\Local\\Temp\\ipykernel_16888\\110250009.py:2: UserWarning: Drawing not available (Key backend: 'module://matplotlib_inline.backend_inline' is not a valid value for backend; supported values are ['gtk3agg', 'gtk3cairo', 'gtk4agg', 'gtk4cairo', 'macosx', 'nbagg', 'notebook', 'qtagg', 'qtcairo', 'qt5agg', 'qt5cairo', 'tkagg', 'tkcairo', 'webagg', 'wx', 'wxagg', 'wxcairo', 'agg', 'cairo', 'pdf', 'pgf', 'ps', 'svg', 'template'])\n",
      "  initialized.draw()\n"
     ]
    }
   ],
   "source": [
    "def initialized_tree(max_depth, basic_function_set, complex_function_set, complex_func_probability,terminal_set):\n",
    "    return generate_random_tree(max_depth, basic_function_set, complex_function_set, pc,terminal_set)\n",
    "\n",
    "initialized = generate_random_tree(6, basic_function_set,complex_function_set, 0.05, terminal_list)\n"
   ]
  },
  {
   "cell_type": "markdown",
   "metadata": {},
   "source": [
    "Create input formatted"
   ]
  },
  {
   "cell_type": "code",
   "execution_count": 151,
   "metadata": {},
   "outputs": [
    {
     "data": {
      "text/plain": [
       "np.float64(2.9363031974471028)"
      ]
     },
     "execution_count": 151,
     "metadata": {},
     "output_type": "execute_result"
    }
   ],
   "source": [
    "vars = {'x'+str(i): input[:,0][i] for i in range(input.shape[0])}\n",
    "initialized(**vars)"
   ]
  },
  {
   "cell_type": "code",
   "execution_count": null,
   "metadata": {},
   "outputs": [
    {
     "name": "stdout",
     "output_type": "stream",
     "text": [
      "MSE (train): 1197.06\n"
     ]
    }
   ],
   "source": [
    "# Fitness\n",
    "def fitness(mytree, vars, labels):\n",
    "    return 100*np.square(labels - mytree(**vars)).sum()/len(labels)"
   ]
  },
  {
   "cell_type": "code",
   "execution_count": null,
   "metadata": {},
   "outputs": [],
   "source": [
    "from gxgp.gp_common import xover_swap_subtree\n",
    "# Xover\n",
    "def xover(tree1, tree2):\n",
    "    return xover_swap_subtree(tree1, tree2)"
   ]
  },
  {
   "cell_type": "markdown",
   "metadata": {},
   "source": [
    "## Training"
   ]
  },
  {
   "cell_type": "code",
   "execution_count": null,
   "metadata": {},
   "outputs": [],
   "source": []
  }
 ],
 "metadata": {
  "kernelspec": {
   "display_name": ".venv",
   "language": "python",
   "name": "python3"
  },
  "language_info": {
   "codemirror_mode": {
    "name": "ipython",
    "version": 3
   },
   "file_extension": ".py",
   "mimetype": "text/x-python",
   "name": "python",
   "nbconvert_exporter": "python",
   "pygments_lexer": "ipython3",
   "version": "3.11.8"
  }
 },
 "nbformat": 4,
 "nbformat_minor": 2
}
