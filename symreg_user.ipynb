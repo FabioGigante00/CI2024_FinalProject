{
 "cells": [
  {
   "cell_type": "markdown",
   "metadata": {},
   "source": [
    "# Imports"
   ]
  },
  {
   "cell_type": "code",
   "execution_count": 1,
   "metadata": {},
   "outputs": [],
   "source": [
    "# If updates on imported files aren't detected, restart the kernel (we'll need to find an automatic solution for this)\n",
    "\n",
    "import numpy as np\n",
    "from icecream import ic\n",
    "\n",
    "from typing import List, Tuple, Dict"
   ]
  },
  {
   "cell_type": "markdown",
   "metadata": {},
   "source": [
    "\n",
    "# Evolution Helper"
   ]
  },
  {
   "cell_type": "code",
   "execution_count": 2,
   "metadata": {},
   "outputs": [],
   "source": [
    "import random\n",
    "from typing import List\n",
    "from gxgp.node import Node\n",
    "from utils.operations_dict import basic_function_set, complex_function_set"
   ]
  },
  {
   "cell_type": "markdown",
   "metadata": {},
   "source": [
    "### Tree Generation"
   ]
  },
  {
   "cell_type": "code",
   "execution_count": 3,
   "metadata": {},
   "outputs": [],
   "source": [
    "def generate_random_tree(max_height: int, pc: float, terminal_list: List[str],\n",
    "                         constants: list[float] = None, p_pick_constant: float = 0.2, p_cut_tree: float = 0.2,\n",
    "                         verbose: bool = False, cur_depth: int = 0) -> Node:\n",
    "    \"\"\"\n",
    "    Generate a random symbolic expression tree.\n",
    "\n",
    "    Mandatory Parameters\n",
    "    ----------\n",
    "    max_height : int\n",
    "        The maximum height of the tree. The height of a tree is the length of the longest path from the root to a leaf (e.g. height of a leaf is 0).\n",
    "    pc : float\n",
    "        The probability of choosing a complex function over a basic function.\n",
    "    terminal_list : List[str]\n",
    "        The terminal list to choose from. Example: ['x0', 'x1', 'x2']\n",
    "\n",
    "    Optional Parameters\n",
    "    ----------\n",
    "    constants : list[float]\n",
    "        A list of constants that can be used in the tree (default is None).\n",
    "    p_pick_constant : float\n",
    "        The probability of choosing a constant over a terminal (default is 0.2).\n",
    "    p_cut_tree : float\n",
    "        The probability of cutting the tree early (default is 0.2).    \n",
    "    verbose : bool    \n",
    "        Whether to print debug information (default is False).\n",
    "    cur_depth : int\n",
    "        The exploration depth (e.g. depth of root is 0)\n",
    "\n",
    "    Returns\n",
    "    -------\n",
    "    Node\n",
    "        A Node object representing the root of the tree.\n",
    "    \"\"\"\n",
    "    indent = ' ' * (cur_depth * 2)\n",
    "\n",
    "    # Cut the tree early with probability 0.2\n",
    "    if (random.random() < p_cut_tree) or max_height == 0:  \n",
    "        # If constants are provided, choose one with probability p_pick_constant\n",
    "        if constants is not None and random.random() < p_pick_constant: \n",
    "            terminal = random.choice(constants) \n",
    "        # Otherwise, pick from the terminal set\n",
    "        else:                                                \n",
    "            terminal = random.choice(terminal_list)\n",
    "        \n",
    "        if verbose: print(f\"{indent}Picked terminal: {terminal}\")\n",
    "\n",
    "        # Set the height of the node to 0\n",
    "        my_node = Node(terminal)\n",
    "        my_node.set_height(0)\n",
    "        return my_node\n",
    "    else:\n",
    "        # Choose a complex function with probability pc\n",
    "        if random.random() < pc:                       \n",
    "            func = random.choice(list(complex_function_set.keys()))\n",
    "            if verbose: print(f\"{indent}Chose complex function {func}\")\n",
    "            num_children = complex_function_set[func].__code__.co_argcount  # Numero di argomenti della funzione\n",
    "            children = [generate_random_tree(max_height - 1, pc, terminal_list, constants, p_pick_constant, p_cut_tree, verbose, cur_depth + 1)\n",
    "                        for _ in range(num_children)]\n",
    "            \n",
    "            # Set height\n",
    "            cur_height = max([child.get_height() for child in children]) + 1\n",
    "            my_node = Node(complex_function_set[func], children, name=func)\n",
    "            my_node.set_height(cur_height)\n",
    "            return my_node\n",
    "        # Otherwise, choose a basic function\n",
    "        else:                                           \n",
    "            func = random.choice(list(basic_function_set.keys()))\n",
    "            if verbose: print(f\"{indent}Chose basic function {func}\")\n",
    "            num_children = basic_function_set[func].__code__.co_argcount  # Numero di argomenti della funzione\n",
    "            children = [generate_random_tree(max_height - 1, pc, terminal_list, constants, p_pick_constant, p_cut_tree, verbose, cur_depth + 1)\n",
    "                        for _ in range(num_children)]\n",
    "            # Set height\n",
    "            cur_height = max([child.get_height() for child in children]) + 1\n",
    "            my_node = Node(basic_function_set[func], children, name=func)\n",
    "            my_node.set_height(cur_height)\n",
    "            return my_node\n",
    "\n",
    "def generate_random_tree_with_all_terminal(max_height: int, pc: float, terminal_list: List[str],\n",
    "                         constants: list[float] = None, p_pick_constant: float = 0.2, p_cut_tree: float = 0.2,\n",
    "                         verbose: bool = False, cur_depth: int = 0, picked_terminal: set[str]=set()) -> Node:\n",
    "    \"\"\"\n",
    "    Generate a random symbolic expression tree.\n",
    "\n",
    "    Mandatory Parameters\n",
    "    ----------\n",
    "    max_height : int\n",
    "        The maximum height of the tree. The height of a tree is the length of the longest path from the root to a leaf (e.g. height of a leaf is 0).\n",
    "    pc : float\n",
    "        The probability of choosing a complex function over a basic function.\n",
    "    terminal_list : List[str]\n",
    "        The terminal list to choose from. Example: ['x0', 'x1', 'x2']\n",
    "\n",
    "    Optional Parameters\n",
    "    ----------\n",
    "    constants : list[float]\n",
    "        A list of constants that can be used in the tree (default is None).\n",
    "    p_pick_constant : float\n",
    "        The probability of choosing a constant over a terminal (default is 0.2).\n",
    "    p_cut_tree : float\n",
    "        The probability of cutting the tree early (default is 0.2).    \n",
    "    verbose : bool    \n",
    "        Whether to print debug information (default is False).\n",
    "    cur_depth : int\n",
    "        The exploration depth (e.g. depth of root is 0)\n",
    "\n",
    "    Returns\n",
    "    -------\n",
    "    Node\n",
    "        A Node object representing the root of the tree.\n",
    "    \"\"\"\n",
    "    indent = ' ' * (cur_depth * 2)\n",
    "\n",
    "    # Cut the tree early with probability 0.2\n",
    "    if (random.random() < p_cut_tree) or max_height == 0:  \n",
    "        # If constants are provided, choose one with probability p_pick_constant\n",
    "        if constants is not None and random.random() < p_pick_constant and len(picked_terminal) == len(terminal_list): \n",
    "            terminal = random.choice(constants) \n",
    "        # Otherwise, pick from the terminal set\n",
    "        else:                                                \n",
    "            terminal = random.choice(terminal_list)\n",
    "            picked_terminal.add(terminal)\n",
    "        \n",
    "        if verbose: print(f\"{indent}Picked terminal: {terminal}\")\n",
    "\n",
    "        # Set the height of the node to 0\n",
    "        my_node = Node(terminal)\n",
    "        my_node.set_height(0)\n",
    "        return my_node\n",
    "    else:\n",
    "        # Choose a complex function with probability pc\n",
    "        if random.random() < pc:                       \n",
    "            func = random.choice(list(complex_function_set.keys()))\n",
    "            if verbose: print(f\"{indent}Chose complex function {func}\")\n",
    "            num_children = complex_function_set[func].__code__.co_argcount  # Numero di argomenti della funzione\n",
    "            children = [generate_random_tree(max_height - 1, pc, terminal_list, constants, p_pick_constant, p_cut_tree, verbose, cur_depth + 1,picked_terminal)\n",
    "                        for _ in range(num_children)]\n",
    "            \n",
    "            # Set height\n",
    "            cur_height = max([child.get_height() for child in children]) + 1\n",
    "            my_node = Node(complex_function_set[func], children, name=func)\n",
    "            my_node.set_height(cur_height)\n",
    "            return my_node\n",
    "        # Otherwise, choose a basic function\n",
    "        else:                                           \n",
    "            func = random.choice(list(basic_function_set.keys()))\n",
    "            if verbose: print(f\"{indent}Chose basic function {func}\")\n",
    "            num_children = basic_function_set[func].__code__.co_argcount  # Numero di argomenti della funzione\n",
    "            children = [generate_random_tree(max_height - 1, pc, terminal_list, constants, p_pick_constant, p_cut_tree, verbose, cur_depth + 1,picked_terminal)\n",
    "                        for _ in range(num_children)]\n",
    "            # Set height\n",
    "            cur_height = max([child.get_height() for child in children]) + 1\n",
    "            my_node = Node(basic_function_set[func], children, name=func)\n",
    "            my_node.set_height(cur_height)\n",
    "            return my_node"
   ]
  },
  {
   "cell_type": "markdown",
   "metadata": {},
   "source": [
    "### Mutations"
   ]
  },
  {
   "cell_type": "code",
   "execution_count": 4,
   "metadata": {},
   "outputs": [],
   "source": [
    "def point_mutation(Tree: Node, terminal_list: List[str], constants: list[float] = None, p_pick_constant: float = 0.2, pc: float = 0.2) -> Node:\n",
    "    \"\"\"\n",
    "    Mutate a tree by changing a random node to a new random node.\n",
    "\n",
    "    Parameters\n",
    "    ----------\n",
    "    Tree : Node\n",
    "        The tree to mutate.\n",
    "    terminal_list : List[str]\n",
    "        The terminal list to choose from. Example: ['x0', 'x1', 'x2']\n",
    "    constants : list[float]\n",
    "        A list of constants that can be used in the tree.\n",
    "    p_pick_constant : float\n",
    "        The probability of choosing a constant over a terminal.\n",
    "    pc : float\n",
    "        The probability of choosing a complex function over a basic function.\n",
    "\n",
    "    Returns\n",
    "    -------\n",
    "    Node\n",
    "        The mutated tree.\n",
    "    \"\"\"\n",
    "\n",
    "    # Get the list of nodes in the tree\n",
    "    node = Tree.get_random_node()\n",
    "\n",
    "    # If the node is a terminal, change it to a new terminal\n",
    "    if node.is_leaf:\n",
    "        if constants is not None and random.random() < p_pick_constant:\n",
    "            terminal = random.choice(constants)\n",
    "        else:\n",
    "            terminal = random.choice(terminal_list)\n",
    "        node.set_func(terminal)\n",
    "        return Tree\n",
    "    # Otherwise, change it to a new function maintaining the arity\n",
    "    else:\n",
    "        if random.random() < pc:\n",
    "            while True:\n",
    "                func = random.choice(list(complex_function_set.keys()))\n",
    "                arity = complex_function_set[func].__code__.co_argcount\n",
    "                if arity == node._arity:\n",
    "                    break\n",
    "            node.set_func(complex_function_set[func], name=func)\n",
    "        else:\n",
    "            while True:\n",
    "                func = random.choice(list(basic_function_set.keys()))\n",
    "                arity = basic_function_set[func].__code__.co_argcount\n",
    "                if arity == node._arity:\n",
    "                    break\n",
    "            node.set_func(basic_function_set[func], name=func)\n",
    "        return Tree\n",
    "    \n",
    "def subtree_mutation(Tree: Node, terminal_list: List[str], constants: list[float] = None, p_pick_constant: float = 0.2, pc: float = 0.2, height: int = 3, verbose: bool = False) -> Node:\n",
    "    \"\"\"\n",
    "    Mutate a tree by changing a random subtree to a new random subtree.\n",
    "\n",
    "    Parameters\n",
    "    ----------\n",
    "    Tree : Node\n",
    "        The tree to mutate.\n",
    "    terminal_list : List[str]\n",
    "        The terminal list to choose from. Example: ['x0', 'x1', 'x2']\n",
    "    constants : list[float]\n",
    "        A list of constants that can be used in the tree.\n",
    "    p_pick_constant : float\n",
    "        The probability of choosing a constant over a terminal.\n",
    "    pc : float\n",
    "        The probability of choosing a complex function over a basic function.\n",
    "    height : int\n",
    "        The maximum height of the new subtree.\n",
    "\n",
    "    Returns\n",
    "    -------\n",
    "    Node\n",
    "        The mutated tree.\n",
    "    \"\"\"\n",
    "\n",
    "    # Get the list of nodes in the tree\n",
    "    node = Tree.get_random_node()\n",
    "\n",
    "    if verbose:\n",
    "        print(f\"Node to mutate: {node._str} at height {node._height}\")\n",
    "\n",
    "    new_subtree = generate_random_tree(height, pc, terminal_list, constants, p_pick_constant)\n",
    "    node = node.replace_tree_shallow(new_subtree)\n",
    "    return Tree\n",
    "\n",
    "def expansion_mutation(Tree: Node, terminal_list: List[str], constants: list[float] = None, p_pick_constant: float = 0.2, pc: float = 0.2, height: int = 3, verbose: bool = False) -> Node:\n",
    "    \"\"\"\n",
    "    Mutate a tree by expanding a random node to a new random subtree.\n",
    "\n",
    "    Parameters\n",
    "    ----------\n",
    "    Tree : Node\n",
    "        The tree to mutate.\n",
    "    terminal_list : List[str]\n",
    "        The terminal list to choose from. Example: ['x0', 'x1', 'x2']\n",
    "    constants : list[float]\n",
    "        A list of constants that can be used in the tree.\n",
    "    p_pick_constant : float\n",
    "        The probability of choosing a constant over a terminal.\n",
    "    pc : float\n",
    "        The probability of choosing a complex function over a basic function.\n",
    "    height : int\n",
    "        The maximum height of the new subtree.\n",
    "\n",
    "    Returns\n",
    "    -------\n",
    "    Node\n",
    "        The mutated tree.\n",
    "    \"\"\"\n",
    "    # Get the list of nodes in the tree\n",
    "    node = random.choice(Tree.get_leafs())\n",
    "\n",
    "    if verbose:\n",
    "        print(f\"Node to mutate: {node._str} at height {node._height}\")  \n",
    "    \n",
    "    \n",
    "    new_subtree = generate_random_tree(height, pc, terminal_list, constants, p_pick_constant)\n",
    "    node = node.replace_tree_shallow(new_subtree)\n",
    "    return Tree\n",
    "\n",
    "def collaps_mutation(Tree: Node, terminal_list: List[str], constants: list[float] = None, p_pick_constant: float = 0.2, pc: float = 0.2, verbose: bool = False) -> Node:\n",
    "    \"\"\"\n",
    "    Mutate a tree by collapsing a random node to a terminal.\n",
    "\n",
    "    Parameters\n",
    "    ----------\n",
    "    Tree : Node\n",
    "        The tree to mutate.\n",
    "    terminal_list : List[str]\n",
    "        The terminal list to choose from. Example: ['x0', 'x1', 'x2']\n",
    "    constants : list[float]\n",
    "        A list of constants that can be used in the tree.\n",
    "    p_pick_constant : float\n",
    "        The probability of choosing a constant over a terminal.\n",
    "    pc : float\n",
    "        The probability of choosing a complex function over a basic function.\n",
    "\n",
    "    Returns\n",
    "    -------\n",
    "    Node\n",
    "        The mutated tree.\n",
    "    \"\"\"\n",
    "\n",
    "    # Get the list of nodes in the tree\n",
    "    node = Tree.get_random_node()\n",
    "\n",
    "    if verbose:\n",
    "        print(f\"Node to mutate: {node._str} at height {node._height}\")\n",
    "\n",
    "   # possible choices\n",
    "    possible_choices = node.get_leafs()\n",
    "\n",
    "\n",
    "    node.replace_tree_shallow(random.choice(possible_choices))\n",
    "    return Tree\n",
    "\n",
    "\n",
    "def permutation_mutation(Tree: Node, verbose: bool = False) -> Node:\n",
    "    \"\"\"\n",
    "    Mutate a tree by permuting the children of a random node through a rotation.\n",
    "\n",
    "    Parameters\n",
    "    ----------\n",
    "    Tree : Node\n",
    "        The tree to mutate.\n",
    "\n",
    "    Returns\n",
    "    -------\n",
    "    Node\n",
    "        The mutated tree.\n",
    "    \"\"\"\n",
    "\n",
    "    # Extract a random node that has at least two children (so no leaves and single input functions)\n",
    "    while True:\n",
    "        father = Tree.get_random_node()\n",
    "        if father._arity > 1:\n",
    "            break\n",
    "    \n",
    "    if verbose:\n",
    "        print(f\"Father node: {father._str} at height {father._height}. It has {len(father._successors)} children: [\", end=\"\")\n",
    "        for i, child in enumerate(father._successors):\n",
    "            print(f\"{child._str},\", end=\" \")\n",
    "        print(\"]\")\n",
    "\n",
    "    \n",
    "    new_successors = ()\n",
    "    for i, child in enumerate(father._successors):\n",
    "        new_successors = new_successors + (father._successors[i-1],)\n",
    "\n",
    "    father._successors = new_successors\n",
    "\n",
    "    if verbose:\n",
    "        print(f\"New children: [\", end=\"\")\n",
    "        for i, child in enumerate(father._successors):\n",
    "            print(f\"{child._str},\", end=\" \")\n",
    "        print(\"]\")\n",
    "\n",
    "    return Tree\n",
    "\n",
    "def hoist_mutation(Tree: Node, verbose: bool = False) -> Node:\n",
    "    \"\"\"\n",
    "    Mutate a tree by replacing the root with a random child.\n",
    "\n",
    "    Parameters\n",
    "    ----------\n",
    "    Tree : Node\n",
    "        The tree to mutate.\n",
    "\n",
    "    Returns\n",
    "    -------\n",
    "    Node\n",
    "        The mutated tree.\n",
    "    \"\"\"\n",
    "\n",
    "    random_node = Tree.get_random_node()\n",
    "    return random_node"
   ]
  },
  {
   "cell_type": "markdown",
   "metadata": {},
   "source": [
    "### crossover"
   ]
  },
  {
   "cell_type": "code",
   "execution_count": 5,
   "metadata": {},
   "outputs": [],
   "source": [
    "def recombination_crossover(Tree1: Node, Tree2: Node, verbose: bool = False) -> Tuple[Node, Node]:\n",
    "    \"\"\"\n",
    "    Recombine two trees by swapping a random subtree.\n",
    "\n",
    "    Parameters\n",
    "    ----------\n",
    "    Tree1 : Node\n",
    "        The first tree.\n",
    "    Tree2 : Node\n",
    "        The second tree.\n",
    "\n",
    "    Returns\n",
    "    -------\n",
    "    Tuple[Node, Node]\n",
    "        The recombined trees.\n",
    "    \"\"\"\n",
    "\n",
    "    # Get the list of nodes in the trees\n",
    "    node1 = Tree1.get_random_node()\n",
    "    node2 = Tree2.get_random_node()\n",
    "\n",
    "    if verbose:\n",
    "        print(f\"Node1 to swap: {node1._str} at height {node1._height}\")\n",
    "        print(f\"Node2 to swap: {node2._str} at height {node2._height}\")\n",
    "\n",
    "    # Swap the subtrees\n",
    "    temp1 = node1.clone()\n",
    "    temp2 = node2.clone()\n",
    "    node1.replace_tree_shallow(temp2)\n",
    "    node2.replace_tree_shallow(temp1)\n",
    "\n",
    "    return Tree1, Tree2\n",
    "\n"
   ]
  },
  {
   "cell_type": "markdown",
   "metadata": {},
   "source": [
    "### Load Data"
   ]
  },
  {
   "cell_type": "code",
   "execution_count": 6,
   "metadata": {},
   "outputs": [
    {
     "name": "stdout",
     "output_type": "stream",
     "text": [
      "Input shape: (2, 5000)  Example of sample:  [0.47539734 4.04724856]\n",
      "Labels shape: (5000,)  Example of label:  1.6192929113321065e-10\n",
      "terminal_list:  ['x0', 'x1']\n"
     ]
    }
   ],
   "source": [
    "from gxgp import Node\n",
    "\n",
    "problem = np.load('./data/problem_5.npz')\n",
    "input = problem['x']\n",
    "labels = problem['y']\n",
    "\n",
    "print(\"Input shape:\", input.shape, \" Example of sample: \", input[:, 0])\n",
    "print(\"Labels shape:\", labels.shape, \" Example of label: \", labels[0])\n",
    "\n",
    "# Terminal set\n",
    "terminal_list = ['x' + str(i) for i in range(input.shape[0])]\n",
    "\n",
    "print(\"terminal_list: \", terminal_list)\n",
    "# Main"
   ]
  },
  {
   "cell_type": "markdown",
   "metadata": {},
   "source": [
    "### examples for generating trees\n",
    "You can fine tune the size of the output by modifying draw() from draw.py"
   ]
  },
  {
   "cell_type": "code",
   "execution_count": 7,
   "metadata": {},
   "outputs": [
    {
     "data": {
      "text/plain": [
       "'\\nheight = 3\\ninitialized = generate_random_tree(height, 0.2, terminal_list, constants=crammed_constants, p_pick_constant=0.4, p_cut_tree=0.01, verbose=True)\\ninitialized.draw()'"
      ]
     },
     "execution_count": 7,
     "metadata": {},
     "output_type": "execute_result"
    }
   ],
   "source": [
    "from utils.terminal_constants import crammed_constants\n",
    "\"\"\"\n",
    "height = 3\n",
    "initialized = generate_random_tree(height, 0.2, terminal_list, constants=crammed_constants, p_pick_constant=0.4, p_cut_tree=0.01, verbose=True)\n",
    "initialized.draw()\"\"\""
   ]
  },
  {
   "cell_type": "code",
   "execution_count": 8,
   "metadata": {},
   "outputs": [
    {
     "data": {
      "text/plain": [
       "'second=generate_random_tree(height, 0.2, terminal_list, constants=crammed_constants, p_pick_constant=0.4, p_cut_tree=0.05, verbose=True)\\nsecond.draw()'"
      ]
     },
     "execution_count": 8,
     "metadata": {},
     "output_type": "execute_result"
    }
   ],
   "source": [
    "\"\"\"second=generate_random_tree(height, 0.2, terminal_list, constants=crammed_constants, p_pick_constant=0.4, p_cut_tree=0.05, verbose=True)\n",
    "second.draw()\"\"\""
   ]
  },
  {
   "cell_type": "code",
   "execution_count": 9,
   "metadata": {},
   "outputs": [
    {
     "data": {
      "text/plain": [
       "'for obj in recombination_crossover(initialized, second, verbose=True):\\n    obj.draw()'"
      ]
     },
     "execution_count": 9,
     "metadata": {},
     "output_type": "execute_result"
    }
   ],
   "source": [
    "\"\"\"for obj in recombination_crossover(initialized, second, verbose=True):\n",
    "    obj.draw()\"\"\""
   ]
  },
  {
   "cell_type": "markdown",
   "metadata": {},
   "source": [
    "### Create input formatted"
   ]
  },
  {
   "cell_type": "code",
   "execution_count": 10,
   "metadata": {},
   "outputs": [
    {
     "name": "stdout",
     "output_type": "stream",
     "text": [
      "input shape is  (2, 5000)\n",
      "vars shape is  (5000,)\n"
     ]
    }
   ],
   "source": [
    "print(\"input shape is \", input.shape)\n",
    "\n",
    "vars = []\n",
    "for j in range(input.shape[1]):\n",
    "    cur_vars = {'x'+str(i): input[i][j] for i in range(input.shape[0])}\n",
    "    # print(\"cur_vars is \", cur_vars)\n",
    "    vars.append(cur_vars)\n",
    "vars = np.array(vars)\n",
    "\n",
    "print(\"vars shape is \", vars.shape)"
   ]
  },
  {
   "cell_type": "markdown",
   "metadata": {},
   "source": [
    "### fitness"
   ]
  },
  {
   "cell_type": "code",
   "execution_count": 11,
   "metadata": {},
   "outputs": [],
   "source": [
    "# Fitness reverse\n",
    "def fitness(mytree, vars, labels):\n",
    "    output = np.array([mytree(**var) for var in vars])\n",
    "    return 100 * np.square(labels - output).mean()\n",
    "\n",
    "#print(fitness(initialized, vars, labels))\n"
   ]
  },
  {
   "cell_type": "code",
   "execution_count": 12,
   "metadata": {},
   "outputs": [
    {
     "data": {
      "text/plain": [
       "'# Xover\\ndef xover(tree1, tree2):\\n    return xover_swap_subtree(tree1, tree2)\\n\\n# initialized.subtree.pop().draw() # this procedure is really similar to get_random_node, except there we use a list and random.choice\\nhoist_mutation(initialized, verbose=True).draw()'"
      ]
     },
     "execution_count": 12,
     "metadata": {},
     "output_type": "execute_result"
    }
   ],
   "source": [
    "from gxgp.gp_common import xover_swap_subtree\n",
    "\"\"\"# Xover\n",
    "def xover(tree1, tree2):\n",
    "    return xover_swap_subtree(tree1, tree2)\n",
    "\n",
    "# initialized.subtree.pop().draw() # this procedure is really similar to get_random_node, except there we use a list and random.choice\n",
    "hoist_mutation(initialized, verbose=True).draw()\"\"\""
   ]
  },
  {
   "cell_type": "markdown",
   "metadata": {},
   "source": [
    "### parent selection"
   ]
  },
  {
   "cell_type": "code",
   "execution_count": 13,
   "metadata": {},
   "outputs": [],
   "source": [
    "def parent_selection(population, pre_calculated_fitnesses=None):\n",
    "    if pre_calculated_fitnesses is None:\n",
    "        candidates = sorted(np.random.choice(population, 2), key=lambda e: fitness(e,vars,labels), reverse=True)\n",
    "    else:\n",
    "        #Random index between 0 and population size\n",
    "        index1 = np.random.randint(0, len(population))\n",
    "        index2 = np.random.randint(0, len(population))\n",
    "        candidates = [population[index1], population[index2]]\n",
    "        if pre_calculated_fitnesses[index1] < pre_calculated_fitnesses[index2]:\n",
    "            candidates = candidates[::-1]\n",
    "    return candidates[0]"
   ]
  },
  {
   "cell_type": "markdown",
   "metadata": {},
   "source": [
    "### utils functions"
   ]
  },
  {
   "cell_type": "code",
   "execution_count": 14,
   "metadata": {},
   "outputs": [],
   "source": [
    "# Tree edit distance matrix\n",
    "def tree_distance(population):\n",
    "    n = len(population)\n",
    "    matrix = np.zeros((n, n))\n",
    "    for i in range(n):\n",
    "        for j in range(i+1, n):\n",
    "            matrix[i][j] = population[i].tree_distance(population[j])\n",
    "    return matrix\n"
   ]
  },
  {
   "cell_type": "markdown",
   "metadata": {},
   "source": [
    "## Training"
   ]
  },
  {
   "cell_type": "code",
   "execution_count": 16,
   "metadata": {},
   "outputs": [
    {
     "name": "stderr",
     "output_type": "stream",
     "text": [
      "Initializing population: 100%|██████████| 400/400 [00:00<00:00, 419.24it/s]\n"
     ]
    },
    {
     "ename": "AttributeError",
     "evalue": "'Node' object has no attribute 'tree_distance'",
     "output_type": "error",
     "traceback": [
      "\u001b[1;31m---------------------------------------------------------------------------\u001b[0m",
      "\u001b[1;31mAttributeError\u001b[0m                            Traceback (most recent call last)",
      "Cell \u001b[1;32mIn[16], line 37\u001b[0m\n\u001b[0;32m     33\u001b[0m         child1, child2 \u001b[38;5;241m=\u001b[39m crossover(parent1, parent2)\n\u001b[0;32m     34\u001b[0m         \u001b[38;5;28;01mreturn\u001b[39;00m [child1, child2]\n\u001b[1;32m---> 37\u001b[0m matrix \u001b[38;5;241m=\u001b[39m \u001b[43mtree_distance\u001b[49m\u001b[43m(\u001b[49m\u001b[43mpopulation\u001b[49m\u001b[43m)\u001b[49m\n\u001b[0;32m     38\u001b[0m \u001b[38;5;28mprint\u001b[39m(matrix)\n\u001b[0;32m     39\u001b[0m MAX_GENERATIONS \u001b[38;5;241m=\u001b[39m \u001b[38;5;241m0\u001b[39m\n",
      "Cell \u001b[1;32mIn[14], line 7\u001b[0m, in \u001b[0;36mtree_distance\u001b[1;34m(population)\u001b[0m\n\u001b[0;32m      5\u001b[0m \u001b[38;5;28;01mfor\u001b[39;00m i \u001b[38;5;129;01min\u001b[39;00m \u001b[38;5;28mrange\u001b[39m(n):\n\u001b[0;32m      6\u001b[0m     \u001b[38;5;28;01mfor\u001b[39;00m j \u001b[38;5;129;01min\u001b[39;00m \u001b[38;5;28mrange\u001b[39m(i\u001b[38;5;241m+\u001b[39m\u001b[38;5;241m1\u001b[39m, n):\n\u001b[1;32m----> 7\u001b[0m         matrix[i][j] \u001b[38;5;241m=\u001b[39m \u001b[43mpopulation\u001b[49m\u001b[43m[\u001b[49m\u001b[43mi\u001b[49m\u001b[43m]\u001b[49m\u001b[38;5;241;43m.\u001b[39;49m\u001b[43mtree_distance\u001b[49m(population[j])\n\u001b[0;32m      8\u001b[0m \u001b[38;5;28;01mreturn\u001b[39;00m matrix\n",
      "\u001b[1;31mAttributeError\u001b[0m: 'Node' object has no attribute 'tree_distance'"
     ]
    }
   ],
   "source": [
    "from tqdm import tqdm\n",
    "from concurrent.futures import ThreadPoolExecutor\n",
    "\n",
    "# Parameters\n",
    "mutation = point_mutation\n",
    "crossover = recombination_crossover\n",
    "OFFSPRING_SIZE = 400\n",
    "POPULATION_SIZE = 400\n",
    "pm = 0.05\n",
    "x_elitism = 0.08\n",
    "MAX_GENERATIONS = 100\n",
    "HEIGHT = 8\n",
    "PC = 0.1\n",
    "P_PICK_CONSTANT = 0.4\n",
    "P_CUT_TREE = 0.05\n",
    "\n",
    "# Initialize the population\n",
    "def initialize_population(_):\n",
    "    return generate_random_tree(HEIGHT, PC, terminal_list, constants=crammed_constants, p_pick_constant=P_PICK_CONSTANT, p_cut_tree=P_CUT_TREE)\n",
    "\n",
    "with ThreadPoolExecutor() as executor:\n",
    "    population = list(tqdm(executor.map(initialize_population, range(POPULATION_SIZE)), desc=\"Initializing population\", total=POPULATION_SIZE))\n",
    "\n",
    "def create_offspring(_):\n",
    "    if random.random() < pm:\n",
    "        child = mutation(parent_selection(population).clone(), terminal_list, constants=crammed_constants, p_pick_constant=P_PICK_CONSTANT, pc=PC)\n",
    "        return [child]\n",
    "    else:\n",
    "        # Select parents\n",
    "        parent1 = parent_selection(population).clone()\n",
    "        parent2 = parent_selection(population).clone()\n",
    "        # Crossover\n",
    "        child1, child2 = crossover(parent1, parent2)\n",
    "        return [child1, child2]\n",
    "    \n",
    "\n",
    "matrix = tree_distance(population)\n",
    "print(matrix)\n",
    "MAX_GENERATIONS = 0\n",
    "\n",
    "# Training\n",
    "for generation in range(MAX_GENERATIONS):\n",
    "    # Evaluate the population\n",
    "    with ThreadPoolExecutor() as executor:\n",
    "        fitnesses = np.array(list(tqdm(executor.map(lambda tree: fitness(tree, vars, labels), population), desc=\"Evaluating population\", total=len(population))))\n",
    "    # Select the best individuals\n",
    "    best_individuals = np.argsort(fitnesses)[:int(x_elitism * POPULATION_SIZE)]\n",
    "    # Create the offspring\n",
    "    OFFSPRING = []\n",
    "    for _ in tqdm(range(OFFSPRING_SIZE), desc=f\"Generation {generation}\"):\n",
    "        # Mutation\n",
    "        if random.random() < pm:\n",
    "            child = mutation(parent_selection(population, fitnesses).clone(), terminal_list, constants=crammed_constants, p_pick_constant=P_PICK_CONSTANT, pc=PC)\n",
    "            OFFSPRING.append(child)\n",
    "        else:\n",
    "            # Select parents\n",
    "            parent1 = parent_selection(population, fitnesses).clone()\n",
    "            parent2 = parent_selection(population, fitnesses).clone()\n",
    "            # Crossover\n",
    "            child1, child2 = crossover(parent1, parent2)\n",
    "            OFFSPRING.extend([child1, child2])\n",
    "    # Combine and select the best individuals\n",
    "    population = [population[i] for i in best_individuals] + OFFSPRING\n",
    "    # Calculate fitness function\n",
    "    with ThreadPoolExecutor() as executor:\n",
    "        fitnesses_offspring = np.array(list(tqdm(executor.map(lambda tree: fitness(tree, vars, labels), OFFSPRING), desc=\"Evaluating population\", total=len(OFFSPRING))))\n",
    "    # Select the best individuals\n",
    "    all_fitnesses = np.concatenate([fitnesses[best_individuals], fitnesses_offspring])\n",
    "    population = [population[i] for i in np.argsort(all_fitnesses)[:POPULATION_SIZE]]\n",
    "    print(f\"Generation {generation} - Best fitness: {fitness(population[0], vars, labels)}\")\n"
   ]
  }
 ],
 "metadata": {
  "kernelspec": {
   "display_name": ".venv",
   "language": "python",
   "name": "python3"
  },
  "language_info": {
   "codemirror_mode": {
    "name": "ipython",
    "version": 3
   },
   "file_extension": ".py",
   "mimetype": "text/x-python",
   "name": "python",
   "nbconvert_exporter": "python",
   "pygments_lexer": "ipython3",
   "version": "3.12.2"
  }
 },
 "nbformat": 4,
 "nbformat_minor": 2
}
