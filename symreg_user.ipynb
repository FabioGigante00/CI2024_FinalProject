{
 "cells": [
  {
   "cell_type": "code",
   "execution_count": 9,
   "metadata": {},
   "outputs": [],
   "source": [
    "import numpy as np\n",
    "from icecream import ic"
   ]
  },
  {
   "cell_type": "code",
   "execution_count": 10,
   "metadata": {},
   "outputs": [
    {
     "data": {
      "text/plain": [
       "(2, 1000)"
      ]
     },
     "execution_count": 10,
     "metadata": {},
     "output_type": "execute_result"
    }
   ],
   "source": [
    "problem = np.load('problem_0.npz')\n",
    "x = problem['x']\n",
    "y = problem['y']\n",
    "x.shape"
   ]
  },
  {
   "cell_type": "code",
   "execution_count": null,
   "metadata": {},
   "outputs": [],
   "source": []
  },
  {
   "cell_type": "code",
   "execution_count": 11,
   "metadata": {},
   "outputs": [
    {
     "name": "stdout",
     "output_type": "stream",
     "text": [
      "(2, 1000) (1000,)\n",
      "INPUT\n",
      "[ 2.37857096 -0.74681473]\n",
      "LABEL\n",
      "2.242710018984468\n",
      "['x0', 'x1']\n"
     ]
    }
   ],
   "source": [
    "from gxgp import Node\n",
    "\n",
    "input = x\n",
    "labels = y\n",
    "\n",
    "#Single input and output\n",
    "print(input.shape, labels.shape)\n",
    "#Print a column of input\n",
    "print(\"INPUT\")\n",
    "print(input[:,0])\n",
    "print(\"LABEL\")\n",
    "print(labels[0])\n",
    "#Functional set\n",
    "from operations.operations_dict import basic_function_set, complex_function_set\n",
    "\n",
    "functional_set = {**basic_function_set, **complex_function_set}\n",
    "\n",
    "# Terminal set\n",
    "terminal_list = ['x' + str(i) for i in range(input.shape[0])]\n",
    "\n",
    "print(terminal_list)"
   ]
  },
  {
   "cell_type": "markdown",
   "metadata": {},
   "source": [
    "## Tree Generation  "
   ]
  },
  {
   "cell_type": "code",
   "execution_count": null,
   "metadata": {},
   "outputs": [],
   "source": [
    "import random\n",
    "\n",
    "\n",
    "def generate_random_tree(max_depth, function_set, terminal_set):\n",
    "    if max_depth == 0 or (random.random() < 0.3):  # Terminale con probabilità\n",
    "        terminal = random.choice(terminal_set)\n",
    "        return Node(terminal)\n",
    "    else:\n",
    "        func = random.choice(list(function_set.keys()))\n",
    "        num_children = function_set[func].__code__.co_argcount  # Numero di argomenti della funzione\n",
    "        children = [generate_random_tree(max_depth - 1, function_set, terminal_set)\n",
    "                    for _ in range(num_children)]\n",
    "        return Node(function_set[func], children,name=func)\n"
   ]
  },
  {
   "cell_type": "markdown",
   "metadata": {},
   "source": [
    "## Generation"
   ]
  },
  {
   "cell_type": "code",
   "execution_count": null,
   "metadata": {},
   "outputs": [],
   "source": [
    "mytree = generate_random_tree(3, functional_set, terminal_list)\n",
    "mytree.draw()"
   ]
  }
 ],
 "metadata": {
  "kernelspec": {
   "display_name": ".venv",
   "language": "python",
   "name": "python3"
  },
  "language_info": {
   "codemirror_mode": {
    "name": "ipython",
    "version": 3
   },
   "file_extension": ".py",
   "mimetype": "text/x-python",
   "name": "python",
   "nbconvert_exporter": "python",
   "pygments_lexer": "ipython3",
   "version": "3.12.2"
  }
 },
 "nbformat": 4,
 "nbformat_minor": 2
}
