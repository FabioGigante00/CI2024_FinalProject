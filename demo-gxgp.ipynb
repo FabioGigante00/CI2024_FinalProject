{
 "cells": [
  {
   "cell_type": "code",
   "execution_count": 61,
   "id": "initial_id",
   "metadata": {
    "ExecuteTime": {
     "end_time": "2024-07-23T08:49:25.200213Z",
     "start_time": "2024-07-23T08:49:25.196664Z"
    },
    "collapsed": true
   },
   "outputs": [],
   "source": [
    "import operator\n",
    "import numpy as np\n",
    "\n",
    "from icecream import ic"
   ]
  },
  {
   "cell_type": "code",
   "execution_count": 62,
   "id": "f87450767cabf48e",
   "metadata": {
    "ExecuteTime": {
     "end_time": "2024-07-23T08:49:25.967332Z",
     "start_time": "2024-07-23T08:49:25.201766Z"
    }
   },
   "outputs": [
    {
     "name": "stderr",
     "output_type": "stream",
     "text": [
      "C:\\Users\\Fabio\\AppData\\Local\\Temp\\ipykernel_11540\\1655470354.py:10: UserWarning: Drawing not available ([WinError 2] \"dot\" not found in path.)\n",
      "  tree.draw()\n"
     ]
    }
   ],
   "source": [
    "from gxgp import Node\n",
    "\n",
    "def multiply(x, y):\n",
    "\treturn np.multiply(x, y)\n",
    "\n",
    "def add(x, y):\n",
    "\treturn np.add(x, y)\n",
    "\n",
    "tree = Node(multiply, [Node(add, [Node(10), Node('x')]), Node(2)])\n",
    "tree.draw()"
   ]
  },
  {
   "cell_type": "code",
   "execution_count": 63,
   "id": "424658f26564b400",
   "metadata": {
    "ExecuteTime": {
     "end_time": "2024-07-23T08:49:25.971899Z",
     "start_time": "2024-07-23T08:49:25.968253Z"
    }
   },
   "outputs": [
    {
     "data": {
      "text/plain": [
       "array([22, 24, 26, 28, 30])"
      ]
     },
     "execution_count": 63,
     "metadata": {},
     "output_type": "execute_result"
    }
   ],
   "source": [
    "tree(x=np.array([1, 2, 3, 4, 5]))"
   ]
  },
  {
   "cell_type": "code",
   "execution_count": 64,
   "id": "3fcf9c84d3f96002",
   "metadata": {
    "ExecuteTime": {
     "end_time": "2024-07-23T08:49:26.130868Z",
     "start_time": "2024-07-23T08:49:25.972729Z"
    }
   },
   "outputs": [
    {
     "ename": "TypeError",
     "evalue": "<lambda>() missing 1 required keyword-only argument: 'x'",
     "output_type": "error",
     "traceback": [
      "\u001b[1;31m---------------------------------------------------------------------------\u001b[0m",
      "\u001b[1;31mTypeError\u001b[0m                                 Traceback (most recent call last)",
      "Cell \u001b[1;32mIn[64], line 1\u001b[0m\n\u001b[1;32m----> 1\u001b[0m \u001b[43mtree\u001b[49m\u001b[43m(\u001b[49m\u001b[43m)\u001b[49m  \u001b[38;5;66;03m# Error: missing 'x'\u001b[39;00m\n",
      "File \u001b[1;32mc:\\Users\\Fabio\\Documents\\Politecnico\\Second Year\\Computational Intelligence\\Repos\\CI2024_FinalProject\\gxgp\\node.py:59\u001b[0m, in \u001b[0;36mNode.__call__\u001b[1;34m(self, **kwargs)\u001b[0m\n\u001b[0;32m     58\u001b[0m \u001b[38;5;28;01mdef\u001b[39;00m \u001b[38;5;21m__call__\u001b[39m(\u001b[38;5;28mself\u001b[39m, \u001b[38;5;241m*\u001b[39m\u001b[38;5;241m*\u001b[39mkwargs):\n\u001b[1;32m---> 59\u001b[0m     \u001b[38;5;28;01mreturn\u001b[39;00m \u001b[38;5;28mself\u001b[39m\u001b[38;5;241m.\u001b[39m_func(\u001b[38;5;241m*\u001b[39m[\u001b[43mc\u001b[49m\u001b[43m(\u001b[49m\u001b[38;5;241;43m*\u001b[39;49m\u001b[38;5;241;43m*\u001b[39;49m\u001b[43mkwargs\u001b[49m\u001b[43m)\u001b[49m \u001b[38;5;28;01mfor\u001b[39;00m c \u001b[38;5;129;01min\u001b[39;00m \u001b[38;5;28mself\u001b[39m\u001b[38;5;241m.\u001b[39m_successors], \u001b[38;5;241m*\u001b[39m\u001b[38;5;241m*\u001b[39mkwargs)\n",
      "File \u001b[1;32mc:\\Users\\Fabio\\Documents\\Politecnico\\Second Year\\Computational Intelligence\\Repos\\CI2024_FinalProject\\gxgp\\node.py:59\u001b[0m, in \u001b[0;36mNode.__call__\u001b[1;34m(self, **kwargs)\u001b[0m\n\u001b[0;32m     58\u001b[0m \u001b[38;5;28;01mdef\u001b[39;00m \u001b[38;5;21m__call__\u001b[39m(\u001b[38;5;28mself\u001b[39m, \u001b[38;5;241m*\u001b[39m\u001b[38;5;241m*\u001b[39mkwargs):\n\u001b[1;32m---> 59\u001b[0m     \u001b[38;5;28;01mreturn\u001b[39;00m \u001b[38;5;28mself\u001b[39m\u001b[38;5;241m.\u001b[39m_func(\u001b[38;5;241m*\u001b[39m[\u001b[43mc\u001b[49m\u001b[43m(\u001b[49m\u001b[38;5;241;43m*\u001b[39;49m\u001b[38;5;241;43m*\u001b[39;49m\u001b[43mkwargs\u001b[49m\u001b[43m)\u001b[49m \u001b[38;5;28;01mfor\u001b[39;00m c \u001b[38;5;129;01min\u001b[39;00m \u001b[38;5;28mself\u001b[39m\u001b[38;5;241m.\u001b[39m_successors], \u001b[38;5;241m*\u001b[39m\u001b[38;5;241m*\u001b[39mkwargs)\n",
      "File \u001b[1;32mc:\\Users\\Fabio\\Documents\\Politecnico\\Second Year\\Computational Intelligence\\Repos\\CI2024_FinalProject\\gxgp\\node.py:59\u001b[0m, in \u001b[0;36mNode.__call__\u001b[1;34m(self, **kwargs)\u001b[0m\n\u001b[0;32m     58\u001b[0m \u001b[38;5;28;01mdef\u001b[39;00m \u001b[38;5;21m__call__\u001b[39m(\u001b[38;5;28mself\u001b[39m, \u001b[38;5;241m*\u001b[39m\u001b[38;5;241m*\u001b[39mkwargs):\n\u001b[1;32m---> 59\u001b[0m     \u001b[38;5;28;01mreturn\u001b[39;00m \u001b[38;5;28;43mself\u001b[39;49m\u001b[38;5;241;43m.\u001b[39;49m\u001b[43m_func\u001b[49m\u001b[43m(\u001b[49m\u001b[38;5;241;43m*\u001b[39;49m\u001b[43m[\u001b[49m\u001b[43mc\u001b[49m\u001b[43m(\u001b[49m\u001b[38;5;241;43m*\u001b[39;49m\u001b[38;5;241;43m*\u001b[39;49m\u001b[43mkwargs\u001b[49m\u001b[43m)\u001b[49m\u001b[43m \u001b[49m\u001b[38;5;28;43;01mfor\u001b[39;49;00m\u001b[43m \u001b[49m\u001b[43mc\u001b[49m\u001b[43m \u001b[49m\u001b[38;5;129;43;01min\u001b[39;49;00m\u001b[43m \u001b[49m\u001b[38;5;28;43mself\u001b[39;49m\u001b[38;5;241;43m.\u001b[39;49m\u001b[43m_successors\u001b[49m\u001b[43m]\u001b[49m\u001b[43m,\u001b[49m\u001b[43m \u001b[49m\u001b[38;5;241;43m*\u001b[39;49m\u001b[38;5;241;43m*\u001b[39;49m\u001b[43mkwargs\u001b[49m\u001b[43m)\u001b[49m\n",
      "\u001b[1;31mTypeError\u001b[0m: <lambda>() missing 1 required keyword-only argument: 'x'"
     ]
    }
   ],
   "source": [
    "tree()  # Error: missing 'x'"
   ]
  },
  {
   "cell_type": "code",
   "execution_count": null,
   "id": "925f2a6ecdf1751a",
   "metadata": {
    "ExecuteTime": {
     "end_time": "2024-07-23T08:49:30.084627Z",
     "start_time": "2024-07-23T08:49:29.807827Z"
    }
   },
   "outputs": [
    {
     "name": "stderr",
     "output_type": "stream",
     "text": [
      "C:\\Users\\Fabio\\AppData\\Local\\Temp\\ipykernel_11540\\4057495332.py:4: UserWarning: Drawing not available ([WinError 2] \"dot\" not found in path.)\n",
      "  tree2.draw()\n"
     ]
    }
   ],
   "source": [
    "tree2 = Node(\n",
    "    lambda a, b, c, d, e: (a + b * c - d) / e, [Node('x'), Node('y'), Node(3), Node('z'), Node(2)]\n",
    ")\n",
    "tree2.draw()"
   ]
  },
  {
   "cell_type": "code",
   "execution_count": null,
   "id": "e7cd6c0c5c309fba",
   "metadata": {
    "ExecuteTime": {
     "end_time": "2024-07-23T08:49:30.779650Z",
     "start_time": "2024-07-23T08:49:30.775019Z"
    }
   },
   "outputs": [
    {
     "data": {
      "text/plain": [
       "2.0"
      ]
     },
     "execution_count": 46,
     "metadata": {},
     "output_type": "execute_result"
    }
   ],
   "source": [
    "# Explicit keyword arguments (unused arguments are ignored)\n",
    "tree2(x=1, y=2, z=3, foo=42)"
   ]
  },
  {
   "cell_type": "code",
   "execution_count": null,
   "id": "d3f931fffe96a9d6",
   "metadata": {
    "ExecuteTime": {
     "end_time": "2024-07-23T08:49:31.732304Z",
     "start_time": "2024-07-23T08:49:31.727653Z"
    }
   },
   "outputs": [
    {
     "data": {
      "text/plain": [
       "2.0"
      ]
     },
     "execution_count": 47,
     "metadata": {},
     "output_type": "execute_result"
    }
   ],
   "source": [
    "# Unpacking a dictionary\n",
    "vars = {'x': 1, 'y': 2, 'z': 3, 'foo': 42}\n",
    "tree2(**vars)"
   ]
  },
  {
   "cell_type": "code",
   "execution_count": null,
   "id": "200e4198",
   "metadata": {},
   "outputs": [
    {
     "data": {
      "text/plain": [
       "'multiply(add(10, 6), 2)'"
      ]
     },
     "execution_count": 48,
     "metadata": {},
     "output_type": "execute_result"
    }
   ],
   "source": [
    "str(tree)"
   ]
  },
  {
   "cell_type": "code",
   "execution_count": null,
   "id": "446b465f",
   "metadata": {},
   "outputs": [],
   "source": []
  }
 ],
 "metadata": {
  "kernelspec": {
   "display_name": "ci-QFw0xGYb-py3.12",
   "language": "python",
   "name": "python3"
  },
  "language_info": {
   "codemirror_mode": {
    "name": "ipython",
    "version": 3
   },
   "file_extension": ".py",
   "mimetype": "text/x-python",
   "name": "python",
   "nbconvert_exporter": "python",
   "pygments_lexer": "ipython3",
   "version": "3.12.2"
  }
 },
 "nbformat": 4,
 "nbformat_minor": 5
}
