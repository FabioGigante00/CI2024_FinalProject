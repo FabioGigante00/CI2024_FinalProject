{
 "cells": [
  {
   "cell_type": "markdown",
   "metadata": {},
   "source": [
    "### Imports"
   ]
  },
  {
   "cell_type": "code",
   "execution_count": 1,
   "metadata": {},
   "outputs": [],
   "source": [
    "# If updates on imported files aren't detected, restart the kernel (we'll need to find an automatic solution for this)\n",
    "\n",
    "import numpy as np\n",
    "from icecream import ic\n",
    "\n",
    "from typing import List, Tuple, Dict"
   ]
  },
  {
   "cell_type": "markdown",
   "metadata": {},
   "source": [
    "\n",
    "### Evolution Helper"
   ]
  },
  {
   "cell_type": "code",
   "execution_count": 2,
   "metadata": {},
   "outputs": [],
   "source": [
    "import random\n",
    "from typing import List\n",
    "from gxgp.node import Node\n",
    "from utils.operations_dict import basic_function_set, complex_function_set"
   ]
  },
  {
   "cell_type": "markdown",
   "metadata": {},
   "source": [
    "### Tree Generation"
   ]
  },
  {
   "cell_type": "code",
   "execution_count": 3,
   "metadata": {},
   "outputs": [],
   "source": [
    "def generate_random_tree(max_height: int, pc: float, terminal_list: List[str],\n",
    "                         constants: list[float] = None, p_pick_constant: float = 0.2, p_cut_tree: float = 0.2,\n",
    "                         verbose: bool = False, cur_depth: int = 0) -> Node:\n",
    "    \"\"\"\n",
    "    Generate a random symbolic expression tree.\n",
    "\n",
    "    Mandatory Parameters\n",
    "    ----------\n",
    "    max_height : int\n",
    "        The maximum height of the tree. The height of a tree is the length of the longest path from the root to a leaf (e.g. height of a leaf is 0).\n",
    "    pc : float\n",
    "        The probability of choosing a complex function over a basic function.\n",
    "    terminal_list : List[str]\n",
    "        The terminal list to choose from. Example: ['x0', 'x1', 'x2']\n",
    "\n",
    "    Optional Parameters\n",
    "    ----------\n",
    "    constants : list[float]\n",
    "        A list of constants that can be used in the tree (default is None).\n",
    "    p_pick_constant : float\n",
    "        The probability of choosing a constant over a terminal (default is 0.2).\n",
    "    p_cut_tree : float\n",
    "        The probability of cutting the tree early (default is 0.2).    \n",
    "    verbose : bool    \n",
    "        Whether to print debug information (default is False).\n",
    "    cur_depth : int\n",
    "        The exploration depth (e.g. depth of root is 0)\n",
    "\n",
    "    Returns\n",
    "    -------\n",
    "    Node\n",
    "        A Node object representing the root of the tree.\n",
    "    \"\"\"\n",
    "    indent = ' ' * (cur_depth * 2)\n",
    "\n",
    "    # Cut the tree early with probability 0.2\n",
    "    if (random.random() < p_cut_tree) or max_height == 0:  \n",
    "        # If constants are provided, choose one with probability p_pick_constant\n",
    "        if constants is not None and random.random() < p_pick_constant: \n",
    "            terminal = random.choice(constants) \n",
    "        # Otherwise, pick from the terminal set\n",
    "        else:                                                \n",
    "            terminal = random.choice(terminal_list)\n",
    "        \n",
    "        if verbose: print(f\"{indent}Picked terminal: {terminal}\")\n",
    "\n",
    "        # Set the height of the node to 0\n",
    "        my_node = Node(terminal)\n",
    "        my_node.set_height(0)\n",
    "        return my_node\n",
    "    else:\n",
    "        # Choose a complex function with probability pc\n",
    "        if random.random() < pc:                       \n",
    "            func = random.choice(list(complex_function_set.keys()))\n",
    "            if verbose: print(f\"{indent}Chose complex function {func}\")\n",
    "            num_children = complex_function_set[func].__code__.co_argcount  # Numero di argomenti della funzione\n",
    "            children = [generate_random_tree(max_height - 1, pc, terminal_list, constants, p_pick_constant, p_cut_tree, verbose, cur_depth + 1)\n",
    "                        for _ in range(num_children)]\n",
    "            \n",
    "            # Set height\n",
    "            cur_height = max([child.get_height() for child in children]) + 1\n",
    "            my_node = Node(complex_function_set[func], children, name=func)\n",
    "            my_node.set_height(cur_height)\n",
    "            return my_node\n",
    "        # Otherwise, choose a basic function\n",
    "        else:                                           \n",
    "            func = random.choice(list(basic_function_set.keys()))\n",
    "            if verbose: print(f\"{indent}Chose basic function {func}\")\n",
    "            num_children = basic_function_set[func].__code__.co_argcount  # Numero di argomenti della funzione\n",
    "            children = [generate_random_tree(max_height - 1, pc, terminal_list, constants, p_pick_constant, p_cut_tree, verbose, cur_depth + 1)\n",
    "                        for _ in range(num_children)]\n",
    "            # Set height\n",
    "            cur_height = max([child.get_height() for child in children]) + 1\n",
    "            my_node = Node(basic_function_set[func], children, name=func)\n",
    "            my_node.set_height(cur_height)\n",
    "            return my_node\n",
    "\n",
    "def generate_random_tree_with_all_terminal(max_height: int, pc: float, terminal_list: List[str],\n",
    "                         constants: list[float] = None, p_pick_constant: float = 0.2, p_cut_tree: float = 0.2,\n",
    "                         verbose: bool = False, cur_depth: int = 0, picked_terminal: set[str]=set()) -> Node:\n",
    "    \"\"\"\n",
    "    Generate a random symbolic expression tree.\n",
    "\n",
    "    Mandatory Parameters\n",
    "    ----------\n",
    "    max_height : int\n",
    "        The maximum height of the tree. The height of a tree is the length of the longest path from the root to a leaf (e.g. height of a leaf is 0).\n",
    "    pc : float\n",
    "        The probability of choosing a complex function over a basic function.\n",
    "    terminal_list : List[str]\n",
    "        The terminal list to choose from. Example: ['x0', 'x1', 'x2']\n",
    "\n",
    "    Optional Parameters\n",
    "    ----------\n",
    "    constants : list[float]\n",
    "        A list of constants that can be used in the tree (default is None).\n",
    "    p_pick_constant : float\n",
    "        The probability of choosing a constant over a terminal (default is 0.2).\n",
    "    p_cut_tree : float\n",
    "        The probability of cutting the tree early (default is 0.2).    \n",
    "    verbose : bool    \n",
    "        Whether to print debug information (default is False).\n",
    "    cur_depth : int\n",
    "        The exploration depth (e.g. depth of root is 0)\n",
    "\n",
    "    Returns\n",
    "    -------\n",
    "    Node\n",
    "        A Node object representing the root of the tree.\n",
    "    \"\"\"\n",
    "    indent = ' ' * (cur_depth * 2)\n",
    "\n",
    "    # Cut the tree early with probability 0.2\n",
    "    if (random.random() < p_cut_tree) or max_height == 0:  \n",
    "        # If constants are provided, choose one with probability p_pick_constant\n",
    "        if constants is not None and random.random() < p_pick_constant and len(picked_terminal) == len(terminal_list): \n",
    "            terminal = random.choice(constants) \n",
    "        # Otherwise, pick from the terminal set\n",
    "        else:                                                \n",
    "            terminal = random.choice(terminal_list)\n",
    "            picked_terminal.add(terminal)\n",
    "        \n",
    "        if verbose: print(f\"{indent}Picked terminal: {terminal}\")\n",
    "\n",
    "        # Set the height of the node to 0\n",
    "        my_node = Node(terminal)\n",
    "        my_node.set_height(0)\n",
    "        return my_node\n",
    "    else:\n",
    "        # Choose a complex function with probability pc\n",
    "        if random.random() < pc:                       \n",
    "            func = random.choice(list(complex_function_set.keys()))\n",
    "            if verbose: print(f\"{indent}Chose complex function {func}\")\n",
    "            num_children = complex_function_set[func].__code__.co_argcount  # Numero di argomenti della funzione\n",
    "            children = [generate_random_tree_with_all_terminal(max_height - 1, pc, terminal_list, constants, p_pick_constant, p_cut_tree, verbose, cur_depth + 1,picked_terminal)\n",
    "                        for _ in range(num_children)]\n",
    "            \n",
    "            # Set height\n",
    "            cur_height = max([child.get_height() for child in children]) + 1\n",
    "            my_node = Node(complex_function_set[func], children, name=func)\n",
    "            my_node.set_height(cur_height)\n",
    "            return my_node\n",
    "        # Otherwise, choose a basic function\n",
    "        else:                                           \n",
    "            func = random.choice(list(basic_function_set.keys()))\n",
    "            if verbose: print(f\"{indent}Chose basic function {func}\")\n",
    "            num_children = basic_function_set[func].__code__.co_argcount  # Numero di argomenti della funzione\n",
    "            children = [generate_random_tree_with_all_terminal(max_height - 1, pc, terminal_list, constants, p_pick_constant, p_cut_tree, verbose, cur_depth + 1,picked_terminal)\n",
    "                        for _ in range(num_children)]\n",
    "            # Set height\n",
    "            cur_height = max([child.get_height() for child in children]) + 1\n",
    "            my_node = Node(basic_function_set[func], children, name=func)\n",
    "            my_node.set_height(cur_height)\n",
    "            return my_node"
   ]
  },
  {
   "cell_type": "markdown",
   "metadata": {},
   "source": [
    "### Mutations"
   ]
  },
  {
   "cell_type": "code",
   "execution_count": 4,
   "metadata": {},
   "outputs": [],
   "source": [
    "def point_mutation(Tree: Node, terminal_list: List[str], constants: list[float] = None, p_pick_constant: float = 0.2, pc: float = 0.2) -> Node:\n",
    "    \"\"\"\n",
    "    Mutate a tree by changing a random node to a new random node.\n",
    "\n",
    "    Parameters\n",
    "    ----------\n",
    "    Tree : Node\n",
    "        The tree to mutate.\n",
    "    terminal_list : List[str]\n",
    "        The terminal list to choose from. Example: ['x0', 'x1', 'x2']\n",
    "    constants : list[float]\n",
    "        A list of constants that can be used in the tree.\n",
    "    p_pick_constant : float\n",
    "        The probability of choosing a constant over a terminal.\n",
    "    pc : float\n",
    "        The probability of choosing a complex function over a basic function.\n",
    "\n",
    "    Returns\n",
    "    -------\n",
    "    Node\n",
    "        The mutated tree.\n",
    "    \"\"\"\n",
    "\n",
    "    # Get the list of nodes in the tree\n",
    "    node = Tree.get_random_node()\n",
    "\n",
    "    # If the node is a terminal, change it to a new terminal\n",
    "    if node.is_leaf:\n",
    "        if constants is not None and random.random() < p_pick_constant:\n",
    "            terminal = random.choice(constants)\n",
    "        else:\n",
    "            terminal = random.choice(terminal_list)\n",
    "        node.set_func(terminal)\n",
    "        return Tree\n",
    "    # Otherwise, change it to a new function maintaining the arity\n",
    "    else:\n",
    "        if random.random() < pc:\n",
    "            while True:\n",
    "                func = random.choice(list(complex_function_set.keys()))\n",
    "                arity = complex_function_set[func].__code__.co_argcount\n",
    "                if arity == node._arity:\n",
    "                    break\n",
    "            node.set_func(complex_function_set[func], name=func)\n",
    "        else:\n",
    "            while True:\n",
    "                func = random.choice(list(basic_function_set.keys()))\n",
    "                arity = basic_function_set[func].__code__.co_argcount\n",
    "                if arity == node._arity:\n",
    "                    break\n",
    "            node.set_func(basic_function_set[func], name=func)\n",
    "        return Tree\n",
    "    \n",
    "def subtree_mutation(Tree: Node, terminal_list: List[str], constants: list[float] = None, p_pick_constant: float = 0.2, pc: float = 0.2, height: int = 3, verbose: bool = False) -> Node:\n",
    "    \"\"\"\n",
    "    Mutate a tree by changing a random subtree to a new random subtree.\n",
    "\n",
    "    Parameters\n",
    "    ----------\n",
    "    Tree : Node\n",
    "        The tree to mutate.\n",
    "    terminal_list : List[str]\n",
    "        The terminal list to choose from. Example: ['x0', 'x1', 'x2']\n",
    "    constants : list[float]\n",
    "        A list of constants that can be used in the tree.\n",
    "    p_pick_constant : float\n",
    "        The probability of choosing a constant over a terminal.\n",
    "    pc : float\n",
    "        The probability of choosing a complex function over a basic function.\n",
    "    height : int\n",
    "        The maximum height of the new subtree.\n",
    "\n",
    "    Returns\n",
    "    -------\n",
    "    Node\n",
    "        The mutated tree.\n",
    "    \"\"\"\n",
    "\n",
    "    # Get the list of nodes in the tree\n",
    "    node = Tree.get_random_node()\n",
    "\n",
    "    if verbose:\n",
    "        print(f\"Node to mutate: {node._str} at height {node._height}\")\n",
    "\n",
    "    new_subtree = generate_random_tree(height, pc, terminal_list, constants, p_pick_constant)\n",
    "    node = node.replace_tree_shallow(new_subtree)\n",
    "    return Tree\n",
    "\n",
    "def expansion_mutation(Tree: Node, terminal_list: List[str], constants: list[float] = None, p_pick_constant: float = 0.2, pc: float = 0.2, height: int = 3, verbose: bool = False) -> Node:\n",
    "    \"\"\"\n",
    "    Mutate a tree by expanding a random node to a new random subtree.\n",
    "\n",
    "    Parameters\n",
    "    ----------\n",
    "    Tree : Node\n",
    "        The tree to mutate.\n",
    "    terminal_list : List[str]\n",
    "        The terminal list to choose from. Example: ['x0', 'x1', 'x2']\n",
    "    constants : list[float]\n",
    "        A list of constants that can be used in the tree.\n",
    "    p_pick_constant : float\n",
    "        The probability of choosing a constant over a terminal.\n",
    "    pc : float\n",
    "        The probability of choosing a complex function over a basic function.\n",
    "    height : int\n",
    "        The maximum height of the new subtree.\n",
    "\n",
    "    Returns\n",
    "    -------\n",
    "    Node\n",
    "        The mutated tree.\n",
    "    \"\"\"\n",
    "    # Get the list of nodes in the tree\n",
    "    node = random.choice(Tree.get_leafs())\n",
    "\n",
    "    if verbose:\n",
    "        print(f\"Node to mutate: {node._str} at height {node._height}\")  \n",
    "    \n",
    "    \n",
    "    new_subtree = generate_random_tree(height, pc, terminal_list, constants, p_pick_constant)\n",
    "    node = node.replace_tree_shallow(new_subtree)\n",
    "    return Tree\n",
    "\n",
    "def collaps_mutation(Tree: Node, terminal_list: List[str], constants: list[float] = None, p_pick_constant: float = 0.2, pc: float = 0.2, verbose: bool = False) -> Node:\n",
    "    \"\"\"\n",
    "    Mutate a tree by collapsing a random node to a terminal.\n",
    "\n",
    "    Parameters\n",
    "    ----------\n",
    "    Tree : Node\n",
    "        The tree to mutate.\n",
    "    terminal_list : List[str]\n",
    "        The terminal list to choose from. Example: ['x0', 'x1', 'x2']\n",
    "    constants : list[float]\n",
    "        A list of constants that can be used in the tree.\n",
    "    p_pick_constant : float\n",
    "        The probability of choosing a constant over a terminal.\n",
    "    pc : float\n",
    "        The probability of choosing a complex function over a basic function.\n",
    "\n",
    "    Returns\n",
    "    -------\n",
    "    Node\n",
    "        The mutated tree.\n",
    "    \"\"\"\n",
    "\n",
    "    # Get the list of nodes in the tree\n",
    "    node = Tree.get_random_node()\n",
    "\n",
    "    if verbose:\n",
    "        print(f\"Node to mutate: {node._str} at height {node._height}\")\n",
    "\n",
    "   # possible choices\n",
    "    possible_choices = node.get_leafs()\n",
    "\n",
    "\n",
    "    node.replace_tree_shallow(random.choice(possible_choices))\n",
    "    return Tree\n",
    "\n",
    "\n",
    "def permutation_mutation(Tree: Node, terminal_list: List[str], constants: list[float] = None, p_pick_constant: float = 0.2, pc: float = 0.2,verbose: bool = False) -> Node:\n",
    "    \"\"\"\n",
    "    Mutate a tree by permuting the children of a random node through a rotation.\n",
    "\n",
    "    Parameters\n",
    "    ----------\n",
    "    Tree : Node\n",
    "        The tree to mutate.\n",
    "\n",
    "    Returns\n",
    "    -------\n",
    "    Node\n",
    "        The mutated tree.\n",
    "    \"\"\"\n",
    "\n",
    "    # Extract a random node that has at least two children (so no leaves and single input functions)\n",
    "    found = False\n",
    "    for i in range(20):\n",
    "        father = Tree.get_random_node()\n",
    "        if father._arity > 1:\n",
    "            found = True\n",
    "            break\n",
    "    if not found:\n",
    "        return Tree\n",
    "    \n",
    "    if verbose:\n",
    "        print(f\"Father node: {father._str} at height {father._height}. It has {len(father._successors)} children: [\", end=\"\")\n",
    "        for i, child in enumerate(father._successors):\n",
    "            print(f\"{child._str},\", end=\" \")\n",
    "        print(\"]\")\n",
    "\n",
    "    \n",
    "    new_successors = ()\n",
    "    for i, child in enumerate(father._successors):\n",
    "        new_successors = new_successors + (father._successors[i-1],)\n",
    "\n",
    "    father._successors = new_successors\n",
    "\n",
    "    if verbose:\n",
    "        print(f\"New children: [\", end=\"\")\n",
    "        for i, child in enumerate(father._successors):\n",
    "            print(f\"{child._str},\", end=\" \")\n",
    "        print(\"]\")\n",
    "\n",
    "    return Tree\n",
    "\n",
    "def hoist_mutation(Tree: Node, terminal_list: List[str], constants: list[float] = None, p_pick_constant: float = 0.2, pc: float = 0.2,verbose: bool = False) -> Node:\n",
    "    \"\"\"\n",
    "    Mutate a tree by replacing the root with a random child.\n",
    "\n",
    "    Parameters\n",
    "    ----------\n",
    "    Tree : Node\n",
    "        The tree to mutate.\n",
    "\n",
    "    Returns\n",
    "    -------\n",
    "    Node\n",
    "        The mutated tree.\n",
    "    \"\"\"\n",
    "\n",
    "    random_node = Tree.get_random_node()\n",
    "    return random_node"
   ]
  },
  {
   "cell_type": "markdown",
   "metadata": {},
   "source": [
    "### crossover"
   ]
  },
  {
   "cell_type": "code",
   "execution_count": 5,
   "metadata": {},
   "outputs": [],
   "source": [
    "def recombination_crossover(Tree1: Node, Tree2: Node, verbose: bool = False) -> Tuple[Node, Node]:\n",
    "    \"\"\"\n",
    "    Recombine two trees by swapping a random subtree.\n",
    "\n",
    "    Parameters\n",
    "    ----------\n",
    "    Tree1 : Node\n",
    "        The first tree.\n",
    "    Tree2 : Node\n",
    "        The second tree.\n",
    "\n",
    "    Returns\n",
    "    -------\n",
    "    Tuple[Node, Node]\n",
    "        The recombined trees.\n",
    "    \"\"\"\n",
    "\n",
    "    # Get the list of nodes in the trees\n",
    "    node1 = Tree1.get_random_node()\n",
    "    node2 = Tree2.get_random_node()\n",
    "\n",
    "    if verbose:\n",
    "        print(f\"Node1 to swap: {node1._str} at height {node1._height}\")\n",
    "        print(f\"Node2 to swap: {node2._str} at height {node2._height}\")\n",
    "\n",
    "    # Swap the subtrees\n",
    "    temp1 = node1.clone()\n",
    "    temp2 = node2.clone()\n",
    "    node1.replace_tree_shallow(temp2)\n",
    "    node2.replace_tree_shallow(temp1)\n",
    "\n",
    "    return Tree1, Tree2\n",
    "\n"
   ]
  },
  {
   "cell_type": "markdown",
   "metadata": {},
   "source": [
    "### Load Data"
   ]
  },
  {
   "cell_type": "code",
   "execution_count": 6,
   "metadata": {},
   "outputs": [
    {
     "name": "stdout",
     "output_type": "stream",
     "text": [
      "Input shape: (3, 5000)  Example of sample:  [ 1.52827812 -2.67876092 -3.73351453]\n",
      "Labels shape: (5000,)  Example of label:  40.96071445158248\n",
      "terminal_list:  ['x0', 'x1', 'x2']\n"
     ]
    }
   ],
   "source": [
    "from gxgp import Node\n",
    "problem_number = 3\n",
    "problem = np.load(f'./data/problem_{problem_number}.npz')\n",
    "input = problem['x']\n",
    "labels = problem['y']\n",
    "\n",
    "print(\"Input shape:\", input.shape, \" Example of sample: \", input[:, 0])\n",
    "print(\"Labels shape:\", labels.shape, \" Example of label: \", labels[0])\n",
    "\n",
    "# Terminal set\n",
    "terminal_list = ['x' + str(i) for i in range(input.shape[0])]\n",
    "\n",
    "print(\"terminal_list: \", terminal_list)\n",
    "# Main"
   ]
  },
  {
   "cell_type": "markdown",
   "metadata": {},
   "source": [
    "### examples for generating trees\n",
    "You can fine tune the size of the output by modifying draw() from draw.py"
   ]
  },
  {
   "cell_type": "code",
   "execution_count": 7,
   "metadata": {},
   "outputs": [],
   "source": [
    "from utils.terminal_constants import crammed_constants\n",
    "\n",
    "# height = 5\n",
    "# initialized = generate_random_tree(height, 0.2, terminal_list, constants=crammed_constants, p_pick_constant=0.7, p_cut_tree=0.01, verbose=True)\n",
    "# initialized.draw()"
   ]
  },
  {
   "cell_type": "code",
   "execution_count": 8,
   "metadata": {},
   "outputs": [],
   "source": [
    "# collapsed = initialized.collapse_constants()\n",
    "# collapsed.draw()"
   ]
  },
  {
   "cell_type": "code",
   "execution_count": 9,
   "metadata": {},
   "outputs": [
    {
     "data": {
      "text/plain": [
       "'second=generate_random_tree(height, 0.2, terminal_list, constants=crammed_constants, p_pick_constant=0.4, p_cut_tree=0.05, verbose=True)\\nsecond.draw()'"
      ]
     },
     "execution_count": 9,
     "metadata": {},
     "output_type": "execute_result"
    }
   ],
   "source": [
    "\"\"\"second=generate_random_tree(height, 0.2, terminal_list, constants=crammed_constants, p_pick_constant=0.4, p_cut_tree=0.05, verbose=True)\n",
    "second.draw()\"\"\""
   ]
  },
  {
   "cell_type": "code",
   "execution_count": 10,
   "metadata": {},
   "outputs": [
    {
     "data": {
      "text/plain": [
       "'for obj in recombination_crossover(initialized, second, verbose=True):\\n    obj.draw()'"
      ]
     },
     "execution_count": 10,
     "metadata": {},
     "output_type": "execute_result"
    }
   ],
   "source": [
    "\"\"\"for obj in recombination_crossover(initialized, second, verbose=True):\n",
    "    obj.draw()\"\"\""
   ]
  },
  {
   "cell_type": "markdown",
   "metadata": {},
   "source": [
    "### Create input formatted"
   ]
  },
  {
   "cell_type": "code",
   "execution_count": 11,
   "metadata": {},
   "outputs": [
    {
     "name": "stdout",
     "output_type": "stream",
     "text": [
      "input shape is  (3, 5000)\n",
      "vars shape is  (5000,)\n"
     ]
    }
   ],
   "source": [
    "print(\"input shape is \", input.shape)\n",
    "\n",
    "vars = []\n",
    "for j in range(input.shape[1]):\n",
    "    cur_vars = {'x'+str(i): input[i][j] for i in range(input.shape[0])}\n",
    "    # print(\"cur_vars is \", cur_vars)\n",
    "    vars.append(cur_vars)\n",
    "vars = np.array(vars)\n",
    "\n",
    "print(\"vars shape is \", vars.shape)"
   ]
  },
  {
   "cell_type": "markdown",
   "metadata": {},
   "source": [
    "### fitness"
   ]
  },
  {
   "cell_type": "code",
   "execution_count": 12,
   "metadata": {},
   "outputs": [],
   "source": [
    "import warnings\n",
    "warnings.simplefilter(\"error\", RuntimeWarning)"
   ]
  },
  {
   "cell_type": "code",
   "execution_count": 13,
   "metadata": {},
   "outputs": [],
   "source": [
    "# def fitness(mytree: Node, vars, labels, verbose=False, penalized = 'sqrt'):\n",
    "#     try:\n",
    "#         output = np.array([mytree(**var) for var in vars])\n",
    "#         mse = 100 * np.square(labels - output).mean()\n",
    "#         if penalized == 'percent':\n",
    "#             return mse +  mse * mytree.get_height() * 0.01 if mytree.get_height() > 0 else mse\n",
    "#         else:\n",
    "#             return mse * np.sqrt(mytree.get_height()) if mytree.get_height() > 0 else mse\n",
    "#     except RuntimeWarning as e:\n",
    "#         if verbose: print(f\"caught runtime warning: {e}, setting fitness to inf\")\n",
    "#         return np.inf\n",
    "\n",
    "# Fitness reverse\n",
    "def fitness(mytree, vars, labels, penalized=None):\n",
    "    try:\n",
    "        output = np.array([mytree(**var) for var in vars])\n",
    "        mytree.reeval_heights()\n",
    "        height = mytree.get_height()\n",
    "        mse = 100 * np.square(labels - output).mean()\n",
    "        if height > 13:\n",
    "            mse *= float(height - 3) / 10\n",
    "        return mse\n",
    "    except RuntimeWarning as e:\n",
    "        # print(f\"caught runtime warning: {e}, setting fitness to inf\")\n",
    "        return np.inf\n",
    "\n",
    "#print(fitness(initialized, vars, labels))\n",
    "\n",
    "def fitness_unscaled(mytree: Node, vars, labels, verbose=False):\n",
    "    try:\n",
    "        output = np.array([mytree(**var) for var in vars])\n",
    "        mse = 100 * np.square(labels - output).mean()\n",
    "        return mse\n",
    "    except RuntimeWarning as e:\n",
    "        if verbose: print(f\"caught runtime warning: {e}, setting fitness to inf\")\n",
    "        return np.inf\n",
    "#print(fitness(initialized, vars, labels))"
   ]
  },
  {
   "cell_type": "code",
   "execution_count": 14,
   "metadata": {},
   "outputs": [
    {
     "data": {
      "text/plain": [
       "'# Xover\\ndef xover(tree1, tree2):\\n    return xover_swap_subtree(tree1, tree2)\\n\\n# initialized.subtree.pop().draw() # this procedure is really similar to get_random_node, except there we use a list and random.choice\\nhoist_mutation(initialized, verbose=True).draw()'"
      ]
     },
     "execution_count": 14,
     "metadata": {},
     "output_type": "execute_result"
    }
   ],
   "source": [
    "from gxgp.gp_common import xover_swap_subtree\n",
    "\"\"\"# Xover\n",
    "def xover(tree1, tree2):\n",
    "    return xover_swap_subtree(tree1, tree2)\n",
    "\n",
    "# initialized.subtree.pop().draw() # this procedure is really similar to get_random_node, except there we use a list and random.choice\n",
    "hoist_mutation(initialized, verbose=True).draw()\"\"\""
   ]
  },
  {
   "cell_type": "markdown",
   "metadata": {},
   "source": [
    "### parent selection"
   ]
  },
  {
   "cell_type": "code",
   "execution_count": 15,
   "metadata": {},
   "outputs": [],
   "source": [
    "\n",
    "def parent_selection(population, pre_calculated_fitnesses=None, penalized = 'sqrt'):\n",
    "    if pre_calculated_fitnesses is None:\n",
    "        candidates = sorted(np.random.choice(population, 2), key=lambda e: fitness(e,vars,labels, penalized=penalized))\n",
    "        return candidates[0]\n",
    "    else:\n",
    "        #Random index between 0 and population size\n",
    "        index1 = np.random.randint(0, len(population))\n",
    "        index2 = np.random.randint(0, len(population))\n",
    "        candidates = [population[index1], population[index2]]\n",
    "        if pre_calculated_fitnesses[index1] > pre_calculated_fitnesses[index2]:\n",
    "            return candidates[1]\n",
    "        else:\n",
    "            return candidates[0]"
   ]
  },
  {
   "cell_type": "markdown",
   "metadata": {},
   "source": [
    "### utils functions"
   ]
  },
  {
   "cell_type": "code",
   "execution_count": 16,
   "metadata": {},
   "outputs": [],
   "source": [
    "import concurrent\n",
    "from concurrent.futures import ThreadPoolExecutor\n",
    "from tqdm import tqdm\n",
    "import numpy as np\n",
    "\n",
    "def compute_pair_distance(i, j, population):\n",
    "    return i, j, population[i].tree_distance(population[j])\n",
    "\n",
    "def tree_distance(population, verbose=\"Calculating tree distance matrix\"):\n",
    "    n = len(population)\n",
    "    matrix = np.zeros((n, n))\n",
    "    pairs = [(i, j) for i in range(n) for j in range(i+1, n)]\n",
    "    \n",
    "    with ThreadPoolExecutor() as executor:\n",
    "        futures = [executor.submit(compute_pair_distance, i, j, population) for i, j in pairs]\n",
    "        for future in tqdm(concurrent.futures.as_completed(futures), desc=verbose, total=len(futures)):\n",
    "            i, j, dist = future.result()\n",
    "            matrix[i][j] = dist/ population[i].__len__() if population[i].__len__() > 0 else dist\n",
    "            matrix[j][i] = dist/ population[j].__len__() if population[j].__len__() > 0 else dist\n",
    "\n",
    "    \n",
    "    return matrix\n",
    "\n",
    "def random_mutation(p1=0.16, p2=0.16, p3=0.16, p4=0.16, p5=0.16):\n",
    "    r = random.random()\n",
    "    if r < p1:\n",
    "        return point_mutation\n",
    "    elif r < p1 + p2:\n",
    "        return subtree_mutation\n",
    "    elif r < p1 + p2 + p3:\n",
    "        return expansion_mutation\n",
    "    elif r < p1 + p2 + p3 + p4:\n",
    "        return permutation_mutation\n",
    "    elif r < p1 + p2 + p3 + p4 + p5:\n",
    "        return collaps_mutation\n",
    "    else:\n",
    "        return hoist_mutation\n"
   ]
  },
  {
   "cell_type": "markdown",
   "metadata": {},
   "source": [
    "### Training"
   ]
  },
  {
   "cell_type": "code",
   "execution_count": null,
   "metadata": {},
   "outputs": [
    {
     "name": "stderr",
     "output_type": "stream",
     "text": [
      "Initializing population: 100%|██████████| 100/100 [00:00<00:00, 49973.84it/s]\n",
      "Initial tree distances: 100%|██████████| 4950/4950 [00:00<00:00, 12636.39it/s]\n",
      "Evaluating population: 100%|██████████| 100/100 [00:26<00:00,  3.84it/s]\n"
     ]
    },
    {
     "name": "stdout",
     "output_type": "stream",
     "text": [
      "0.16 0.16 0.16 0.16 0.16\n"
     ]
    },
    {
     "name": "stderr",
     "output_type": "stream",
     "text": [
      "Generation 0, Creating offsprings: 100%|██████████| 200/200 [00:00<00:00, 303.20it/s]\n",
      "Calculating tree distance matrix: 100%|██████████| 65703/65703 [00:06<00:00, 10441.58it/s]\n",
      "Evaluating offsprings: 100%|██████████| 355/355 [01:35<00:00,  3.72it/s]\n"
     ]
    },
    {
     "name": "stdout",
     "output_type": "stream",
     "text": [
      "Removed 7 identical or invalid trees\n",
      "Kept 6 outsiders with low fitness\n",
      "Generation 0 - Best fitness: 174868.34820510735\n",
      "Population size: 99\n",
      "Best height: 5\n",
      "Mean height of the population: 4.696969696969697\n"
     ]
    },
    {
     "name": "stderr",
     "output_type": "stream",
     "text": [
      "Generation 1, Creating offsprings: 100%|██████████| 200/200 [00:00<00:00, 570.92it/s]\n",
      "Calculating tree distance matrix: 100%|██████████| 67528/67528 [00:04<00:00, 16687.64it/s]\n",
      "Evaluating offsprings: 100%|██████████| 360/360 [01:21<00:00,  4.43it/s]\n"
     ]
    },
    {
     "name": "stdout",
     "output_type": "stream",
     "text": [
      "Removed 10 identical or invalid trees\n",
      "Kept 16 outsiders with low fitness\n",
      "Generation 1 - Best fitness: 174868.34820510735 - Difference: 0.0\n",
      "Population size: 106\n",
      "Best height: 5\n",
      "Mean height of the population: 4.688679245283019\n"
     ]
    },
    {
     "name": "stderr",
     "output_type": "stream",
     "text": [
      "Generation 2, Creating offsprings: 100%|██████████| 200/200 [00:00<00:00, 492.90it/s]\n",
      "Calculating tree distance matrix: 100%|██████████| 67528/67528 [00:05<00:00, 11338.61it/s]\n",
      "Evaluating offsprings: 100%|██████████| 360/360 [01:44<00:00,  3.45it/s]\n"
     ]
    },
    {
     "name": "stdout",
     "output_type": "stream",
     "text": [
      "Removed 12 identical or invalid trees\n",
      "Kept 20 outsiders with low fitness\n",
      "Generation 2 - Best fitness: 139182.0620368147 - Difference: -35686.28616829266\n",
      "Population size: 108\n",
      "Best height: 10\n",
      "Mean height of the population: 5.546296296296297\n"
     ]
    },
    {
     "name": "stderr",
     "output_type": "stream",
     "text": [
      "Generation 3, Creating offsprings: 100%|██████████| 200/200 [00:00<00:00, 382.20it/s]\n",
      "Calculating tree distance matrix: 100%|██████████| 67528/67528 [00:06<00:00, 10883.10it/s]\n",
      "Evaluating offsprings: 100%|██████████| 360/360 [02:17<00:00,  2.62it/s]\n"
     ]
    },
    {
     "name": "stdout",
     "output_type": "stream",
     "text": [
      "Removed 9 identical or invalid trees\n",
      "Kept 20 outsiders with low fitness\n",
      "Generation 3 - Best fitness: 121957.74993974261 - Difference: -17224.312097072077\n",
      "Population size: 111\n",
      "Best height: 5\n",
      "Mean height of the population: 6.18018018018018\n"
     ]
    },
    {
     "name": "stderr",
     "output_type": "stream",
     "text": [
      "Generation 4, Creating offsprings: 100%|██████████| 200/200 [00:00<00:00, 213.68it/s]\n",
      "Calculating tree distance matrix: 100%|██████████| 66430/66430 [00:11<00:00, 5698.96it/s]\n",
      "Evaluating offsprings: 100%|██████████| 357/357 [03:34<00:00,  1.66it/s]\n"
     ]
    },
    {
     "name": "stdout",
     "output_type": "stream",
     "text": [
      "Removed 11 identical or invalid trees\n",
      "Kept 20 outsiders with low fitness\n",
      "Generation 4 - Best fitness: 119874.43600668808 - Difference: -2083.313933054538\n",
      "Population size: 109\n",
      "Best height: 5\n",
      "Mean height of the population: 7.3577981651376145\n"
     ]
    },
    {
     "name": "stderr",
     "output_type": "stream",
     "text": [
      "Generation 5, Creating offsprings: 100%|██████████| 200/200 [00:03<00:00, 57.85it/s]\n",
      "Calculating tree distance matrix: 100%|██████████| 72010/72010 [00:31<00:00, 2288.55it/s]\n",
      "Evaluating offsprings: 100%|██████████| 372/372 [04:21<00:00,  1.42it/s]\n"
     ]
    },
    {
     "name": "stdout",
     "output_type": "stream",
     "text": [
      "Removed 8 identical or invalid trees\n",
      "Kept 20 outsiders with low fitness\n",
      "Generation 5 - Best fitness: 91827.47265891852 - Difference: -28046.96334776956\n",
      "Population size: 112\n",
      "Best height: 13\n",
      "Mean height of the population: 8.035714285714286\n"
     ]
    },
    {
     "name": "stderr",
     "output_type": "stream",
     "text": [
      "Generation 6, Creating offsprings: 100%|██████████| 200/200 [00:01<00:00, 165.22it/s]\n",
      "Calculating tree distance matrix: 100%|██████████| 68635/68635 [00:12<00:00, 5299.56it/s]\n",
      "Evaluating offsprings: 100%|██████████| 363/363 [04:11<00:00,  1.44it/s] \n"
     ]
    },
    {
     "name": "stdout",
     "output_type": "stream",
     "text": [
      "Removed 14 identical or invalid trees\n",
      "Kept 20 outsiders with low fitness\n",
      "Generation 6 - Best fitness: 62078.147521524865 - Difference: -29749.32513739365\n",
      "Population size: 106\n",
      "Best height: 8\n",
      "Mean height of the population: 10.481132075471699\n"
     ]
    },
    {
     "name": "stderr",
     "output_type": "stream",
     "text": [
      "Generation 7, Creating offsprings: 100%|██████████| 200/200 [00:01<00:00, 102.20it/s]\n",
      "Calculating tree distance matrix: 100%|██████████| 70876/70876 [00:21<00:00, 3275.31it/s]\n",
      "Evaluating offsprings: 100%|██████████| 369/369 [07:26<00:00,  1.21s/it]\n"
     ]
    },
    {
     "name": "stdout",
     "output_type": "stream",
     "text": [
      "Removed 6 identical or invalid trees\n",
      "Kept 20 outsiders with low fitness\n",
      "Generation 7 - Best fitness: 62078.147521524865 - Difference: 0.0\n",
      "Population size: 114\n",
      "Best height: 8\n",
      "Mean height of the population: 13.043859649122806\n"
     ]
    },
    {
     "name": "stderr",
     "output_type": "stream",
     "text": [
      "Generation 8, Creating offsprings: 100%|██████████| 200/200 [00:02<00:00, 77.80it/s]\n",
      "Calculating tree distance matrix: 100%|██████████| 67161/67161 [00:27<00:00, 2458.67it/s]\n",
      "Evaluating offsprings: 100%|██████████| 359/359 [09:51<00:00,  1.65s/it] \n"
     ]
    },
    {
     "name": "stdout",
     "output_type": "stream",
     "text": [
      "Removed 8 identical or invalid trees\n",
      "Kept 20 outsiders with low fitness\n",
      "Generation 8 - Best fitness: 61027.93440019506 - Difference: -1050.2131213298053\n",
      "Population size: 112\n",
      "Best height: 17\n",
      "Mean height of the population: 14.714285714285714\n"
     ]
    },
    {
     "name": "stderr",
     "output_type": "stream",
     "text": [
      "Generation 9, Creating offsprings: 100%|██████████| 200/200 [00:02<00:00, 67.16it/s]\n",
      "Calculating tree distance matrix: 100%|██████████| 67896/67896 [00:31<00:00, 2154.84it/s]\n",
      "Evaluating offsprings: 100%|██████████| 361/361 [11:24<00:00,  1.90s/it]\n"
     ]
    },
    {
     "name": "stdout",
     "output_type": "stream",
     "text": [
      "Removed 3 identical or invalid trees\n",
      "Kept 20 outsiders with low fitness\n",
      "Generation 9 - Best fitness: 52875.80821285208 - Difference: -8152.126187342983\n",
      "Population size: 117\n",
      "Best height: 13\n",
      "Mean height of the population: 14.376068376068377\n"
     ]
    },
    {
     "name": "stderr",
     "output_type": "stream",
     "text": [
      "Generation 10, Creating offsprings: 100%|██████████| 200/200 [00:02<00:00, 68.80it/s]\n",
      "Calculating tree distance matrix: 100%|██████████| 67896/67896 [00:30<00:00, 2226.46it/s]\n",
      "Evaluating offsprings: 100%|██████████| 361/361 [10:58<00:00,  1.82s/it]\n"
     ]
    },
    {
     "name": "stdout",
     "output_type": "stream",
     "text": [
      "Removed 5 identical or invalid trees\n",
      "Kept 20 outsiders with low fitness\n",
      "Generation 10 - Best fitness: 43958.313057547755 - Difference: -8917.495155304321\n",
      "Population size: 115\n",
      "Best height: 17\n",
      "Mean height of the population: 14.408695652173913\n"
     ]
    },
    {
     "name": "stderr",
     "output_type": "stream",
     "text": [
      "Generation 11, Creating offsprings: 100%|██████████| 200/200 [00:02<00:00, 76.06it/s]\n",
      "Calculating tree distance matrix: 100%|██████████| 68635/68635 [00:28<00:00, 2383.51it/s]\n",
      "Evaluating offsprings: 100%|██████████| 363/363 [10:26<00:00,  1.73s/it]\n"
     ]
    },
    {
     "name": "stdout",
     "output_type": "stream",
     "text": [
      "Removed 7 identical or invalid trees\n",
      "Kept 20 outsiders with low fitness\n",
      "Generation 11 - Best fitness: 40888.70560979981 - Difference: -3069.6074477479488\n",
      "Population size: 113\n",
      "Best height: 10\n",
      "Mean height of the population: 13.150442477876107\n"
     ]
    },
    {
     "name": "stderr",
     "output_type": "stream",
     "text": [
      "Generation 12, Creating offsprings: 100%|██████████| 200/200 [00:02<00:00, 80.14it/s]\n",
      "Calculating tree distance matrix: 100%|██████████| 72771/72771 [00:26<00:00, 2722.62it/s]\n",
      "Evaluating offsprings: 100%|██████████| 374/374 [09:23<00:00,  1.51s/it] \n"
     ]
    },
    {
     "name": "stdout",
     "output_type": "stream",
     "text": [
      "Removed 8 identical or invalid trees\n",
      "Kept 20 outsiders with low fitness\n",
      "Generation 12 - Best fitness: 39357.927100199406 - Difference: -1530.7785096004009\n",
      "Population size: 112\n",
      "Best height: 17\n",
      "Mean height of the population: 12.839285714285714\n"
     ]
    },
    {
     "name": "stderr",
     "output_type": "stream",
     "text": [
      "Generation 13, Creating offsprings: 100%|██████████| 200/200 [00:02<00:00, 90.04it/s]\n",
      "Calculating tree distance matrix: 100%|██████████| 70500/70500 [00:24<00:00, 2878.27it/s]\n",
      "Evaluating offsprings: 100%|██████████| 368/368 [08:17<00:00,  1.35s/it]\n"
     ]
    },
    {
     "name": "stdout",
     "output_type": "stream",
     "text": [
      "Removed 6 identical or invalid trees\n",
      "Kept 20 outsiders with low fitness\n",
      "Generation 13 - Best fitness: 26829.42219084518 - Difference: -12528.504909354226\n",
      "Population size: 114\n",
      "Best height: 14\n",
      "Mean height of the population: 13.517543859649123\n"
     ]
    },
    {
     "name": "stderr",
     "output_type": "stream",
     "text": [
      "Generation 14, Creating offsprings: 100%|██████████| 200/200 [00:02<00:00, 90.15it/s]\n",
      "Calculating tree distance matrix: 100%|██████████| 68265/68265 [00:24<00:00, 2824.56it/s]\n",
      "Evaluating offsprings: 100%|██████████| 362/362 [08:17<00:00,  1.37s/it]\n"
     ]
    },
    {
     "name": "stdout",
     "output_type": "stream",
     "text": [
      "Removed 4 identical or invalid trees\n",
      "Kept 20 outsiders with low fitness\n",
      "Generation 14 - Best fitness: 26821.59674817251 - Difference: -7.825442672670761\n",
      "Population size: 116\n",
      "Best height: 16\n",
      "Mean height of the population: 13.60344827586207\n"
     ]
    },
    {
     "name": "stderr",
     "output_type": "stream",
     "text": [
      "Generation 15, Creating offsprings: 100%|██████████| 200/200 [00:02<00:00, 76.75it/s]\n",
      "Calculating tree distance matrix: 100%|██████████| 70876/70876 [00:27<00:00, 2574.18it/s]\n",
      "Evaluating offsprings: 100%|██████████| 369/369 [09:24<00:00,  1.53s/it]\n"
     ]
    },
    {
     "name": "stdout",
     "output_type": "stream",
     "text": [
      "Removed 6 identical or invalid trees\n",
      "Kept 20 outsiders with low fitness\n",
      "Generation 15 - Best fitness: 25282.03459754874 - Difference: -1539.5621506237694\n",
      "Population size: 114\n",
      "Best height: 17\n",
      "Mean height of the population: 13.56140350877193\n"
     ]
    },
    {
     "name": "stderr",
     "output_type": "stream",
     "text": [
      "Generation 16, Creating offsprings: 100%|██████████| 200/200 [00:02<00:00, 74.27it/s]\n",
      "Calculating tree distance matrix: 100%|██████████| 67528/67528 [00:29<00:00, 2311.56it/s]\n",
      "Evaluating offsprings: 100%|██████████| 360/360 [10:22<00:00,  1.73s/it]\n"
     ]
    },
    {
     "name": "stdout",
     "output_type": "stream",
     "text": [
      "Removed 6 identical or invalid trees\n",
      "Kept 20 outsiders with low fitness\n",
      "Generation 16 - Best fitness: 22687.776643604226 - Difference: -2594.257953944514\n",
      "Population size: 114\n",
      "Best height: 16\n",
      "Mean height of the population: 14.043859649122806\n"
     ]
    },
    {
     "name": "stderr",
     "output_type": "stream",
     "text": [
      "Generation 17, Creating offsprings: 100%|██████████| 200/200 [00:03<00:00, 63.87it/s]\n",
      "Calculating tree distance matrix: 100%|██████████| 72010/72010 [00:35<00:00, 2057.09it/s]\n",
      "Evaluating offsprings: 100%|██████████| 372/372 [12:05<00:00,  1.95s/it]\n"
     ]
    },
    {
     "name": "stdout",
     "output_type": "stream",
     "text": [
      "Removed 7 identical or invalid trees\n",
      "Kept 20 outsiders with low fitness\n",
      "Generation 17 - Best fitness: 21961.175324226297 - Difference: -726.601319377929\n",
      "Population size: 113\n",
      "Best height: 25\n",
      "Mean height of the population: 15.460176991150442\n"
     ]
    },
    {
     "name": "stderr",
     "output_type": "stream",
     "text": [
      "Generation 18, Creating offsprings: 100%|██████████| 200/200 [00:03<00:00, 57.77it/s]\n",
      "Calculating tree distance matrix: 100%|██████████| 70500/70500 [00:38<00:00, 1846.34it/s]\n",
      "Evaluating offsprings: 100%|██████████| 368/368 [12:54<00:00,  2.10s/it]\n"
     ]
    },
    {
     "name": "stdout",
     "output_type": "stream",
     "text": [
      "Removed 5 identical or invalid trees\n",
      "Kept 20 outsiders with low fitness\n",
      "Generation 18 - Best fitness: 21595.602736928864 - Difference: -365.5725872974326\n",
      "Population size: 115\n",
      "Best height: 20\n",
      "Mean height of the population: 16.06086956521739\n"
     ]
    },
    {
     "name": "stderr",
     "output_type": "stream",
     "text": [
      "Generation 19, Creating offsprings: 100%|██████████| 200/200 [00:03<00:00, 58.42it/s]\n",
      "Calculating tree distance matrix: 100%|██████████| 70500/70500 [00:38<00:00, 1853.99it/s]\n",
      "Evaluating offsprings: 100%|██████████| 368/368 [13:01<00:00,  2.12s/it] \n"
     ]
    },
    {
     "name": "stdout",
     "output_type": "stream",
     "text": [
      "Removed 12 identical or invalid trees\n",
      "Kept 20 outsiders with low fitness\n",
      "Generation 19 - Best fitness: 15180.269168151008 - Difference: -6415.333568777856\n",
      "Population size: 108\n",
      "Best height: 13\n",
      "Mean height of the population: 17.796296296296298\n"
     ]
    },
    {
     "name": "stderr",
     "output_type": "stream",
     "text": [
      "Generation 20, Creating offsprings: 100%|██████████| 200/200 [00:03<00:00, 53.28it/s]\n",
      "Calculating tree distance matrix: 100%|██████████| 67161/67161 [00:40<00:00, 1643.31it/s]\n",
      "Evaluating offsprings: 100%|██████████| 359/359 [14:52<00:00,  2.48s/it]\n"
     ]
    },
    {
     "name": "stdout",
     "output_type": "stream",
     "text": [
      "Removed 6 identical or invalid trees\n",
      "Kept 20 outsiders with low fitness\n",
      "Generation 20 - Best fitness: 12754.808344194604 - Difference: -2425.460823956404\n",
      "Population size: 114\n",
      "Best height: 13\n",
      "Mean height of the population: 17.736842105263158\n"
     ]
    },
    {
     "name": "stderr",
     "output_type": "stream",
     "text": [
      "Generation 21, Creating offsprings: 100%|██████████| 200/200 [00:04<00:00, 46.03it/s]\n",
      "Calculating tree distance matrix: 100%|██████████| 69751/69751 [00:42<00:00, 1622.70it/s]\n",
      "Evaluating offsprings: 100%|██████████| 366/366 [15:31<00:00,  2.55s/it] \n"
     ]
    },
    {
     "name": "stdout",
     "output_type": "stream",
     "text": [
      "Removed 6 identical or invalid trees\n",
      "Kept 20 outsiders with low fitness\n",
      "Generation 21 - Best fitness: 12754.808344194604 - Difference: 0.0\n",
      "Population size: 114\n",
      "Best height: 13\n",
      "Mean height of the population: 17.36842105263158\n"
     ]
    },
    {
     "name": "stderr",
     "output_type": "stream",
     "text": [
      "Generation 22, Creating offsprings: 100%|██████████| 200/200 [00:04<00:00, 49.91it/s]\n",
      "Calculating tree distance matrix: 100%|██████████| 69378/69378 [00:41<00:00, 1667.44it/s]\n",
      "Evaluating offsprings: 100%|██████████| 365/365 [14:29<00:00,  2.38s/it] \n"
     ]
    },
    {
     "name": "stdout",
     "output_type": "stream",
     "text": [
      "Removed 6 identical or invalid trees\n",
      "Kept 20 outsiders with low fitness\n",
      "Generation 22 - Best fitness: 9247.971008207522 - Difference: -3506.837335987082\n",
      "Population size: 114\n",
      "Best height: 20\n",
      "Mean height of the population: 16.69298245614035\n"
     ]
    },
    {
     "name": "stderr",
     "output_type": "stream",
     "text": [
      "Generation 23, Creating offsprings: 100%|██████████| 200/200 [00:03<00:00, 54.94it/s]\n",
      "Calculating tree distance matrix: 100%|██████████| 67528/67528 [00:41<00:00, 1642.79it/s]\n",
      "Evaluating offsprings: 100%|██████████| 360/360 [14:29<00:00,  2.41s/it] \n"
     ]
    },
    {
     "name": "stdout",
     "output_type": "stream",
     "text": [
      "Removed 5 identical or invalid trees\n",
      "Kept 20 outsiders with low fitness\n",
      "Generation 23 - Best fitness: 9247.960481427635 - Difference: -0.010526779886276927\n",
      "Population size: 115\n",
      "Best height: 21\n",
      "Mean height of the population: 18.660869565217393\n"
     ]
    },
    {
     "name": "stderr",
     "output_type": "stream",
     "text": [
      "Generation 24, Creating offsprings: 100%|██████████| 200/200 [00:04<00:00, 47.31it/s]\n",
      "Calculating tree distance matrix: 100%|██████████| 70876/70876 [00:51<00:00, 1370.90it/s]\n",
      "Evaluating offsprings: 100%|██████████| 369/369 [17:30<00:00,  2.85s/it]  \n"
     ]
    },
    {
     "name": "stdout",
     "output_type": "stream",
     "text": [
      "Removed 9 identical or invalid trees\n",
      "Kept 20 outsiders with low fitness\n",
      "Generation 24 - Best fitness: 9172.41919899629 - Difference: -75.54128243134619\n",
      "Population size: 111\n",
      "Best height: 21\n",
      "Mean height of the population: 19.53153153153153\n"
     ]
    },
    {
     "name": "stderr",
     "output_type": "stream",
     "text": [
      "Generation 25, Creating offsprings: 100%|██████████| 200/200 [00:04<00:00, 49.79it/s]\n",
      "Calculating tree distance matrix: 100%|██████████| 70125/70125 [00:48<00:00, 1453.24it/s]\n",
      "Evaluating offsprings: 100%|██████████| 367/367 [16:46<00:00,  2.74s/it]  \n"
     ]
    },
    {
     "name": "stdout",
     "output_type": "stream",
     "text": [
      "Removed 3 identical or invalid trees\n",
      "Kept 20 outsiders with low fitness\n",
      "Generation 25 - Best fitness: 7825.432549149848 - Difference: -1346.9866498464417\n",
      "Population size: 117\n",
      "Best height: 24\n",
      "Mean height of the population: 19.00854700854701\n"
     ]
    },
    {
     "name": "stderr",
     "output_type": "stream",
     "text": [
      "Generation 26, Creating offsprings: 100%|██████████| 200/200 [00:04<00:00, 45.26it/s]\n",
      "Calculating tree distance matrix: 100%|██████████| 70125/70125 [00:47<00:00, 1464.22it/s]\n",
      "Evaluating offsprings: 100%|██████████| 367/367 [16:28<00:00,  2.69s/it]\n"
     ]
    },
    {
     "name": "stdout",
     "output_type": "stream",
     "text": [
      "Removed 12 identical or invalid trees\n",
      "Kept 20 outsiders with low fitness\n",
      "Generation 26 - Best fitness: 7612.732701995262 - Difference: -212.69984715458577\n",
      "Population size: 108\n",
      "Best height: 24\n",
      "Mean height of the population: 18.62962962962963\n"
     ]
    },
    {
     "name": "stderr",
     "output_type": "stream",
     "text": [
      "Generation 27, Creating offsprings: 100%|██████████| 200/200 [00:04<00:00, 44.60it/s]\n",
      "Calculating tree distance matrix: 100%|██████████| 69378/69378 [00:49<00:00, 1390.49it/s]\n",
      "Evaluating offsprings: 100%|██████████| 365/365 [17:23<00:00,  2.86s/it] \n"
     ]
    },
    {
     "name": "stdout",
     "output_type": "stream",
     "text": [
      "Removed 6 identical or invalid trees\n",
      "Kept 20 outsiders with low fitness\n",
      "Generation 27 - Best fitness: 7612.732701995262 - Difference: 0.0\n",
      "Population size: 114\n",
      "Best height: 24\n",
      "Mean height of the population: 19.42105263157895\n"
     ]
    },
    {
     "name": "stderr",
     "output_type": "stream",
     "text": [
      "Generation 28, Creating offsprings: 100%|██████████| 200/200 [00:04<00:00, 41.24it/s]\n",
      "Calculating tree distance matrix: 100%|██████████| 73153/73153 [00:56<00:00, 1283.88it/s]\n",
      "Evaluating offsprings: 100%|██████████| 375/375 [19:44<00:00,  3.16s/it]  \n"
     ]
    },
    {
     "name": "stdout",
     "output_type": "stream",
     "text": [
      "Removed 2 identical or invalid trees\n",
      "Kept 20 outsiders with low fitness\n",
      "Generation 28 - Best fitness: 7018.100564658104 - Difference: -594.6321373371575\n",
      "Population size: 118\n",
      "Best height: 21\n",
      "Mean height of the population: 21.203389830508474\n"
     ]
    },
    {
     "name": "stderr",
     "output_type": "stream",
     "text": [
      "Generation 29, Creating offsprings: 100%|██████████| 200/200 [00:04<00:00, 41.85it/s]\n",
      "Calculating tree distance matrix: 100%|██████████| 67528/67528 [00:54<00:00, 1241.36it/s]\n",
      "Evaluating offsprings: 100%|██████████| 360/360 [18:05<00:00,  3.02s/it]\n"
     ]
    },
    {
     "name": "stdout",
     "output_type": "stream",
     "text": [
      "Removed 1 identical or invalid trees\n",
      "Kept 20 outsiders with low fitness\n",
      "Generation 29 - Best fitness: 6843.848354449463 - Difference: -174.25221020864137\n",
      "Population size: 119\n",
      "Best height: 20\n",
      "Mean height of the population: 20.764705882352942\n"
     ]
    },
    {
     "name": "stderr",
     "output_type": "stream",
     "text": [
      "Generation 30, Creating offsprings: 100%|██████████| 200/200 [00:05<00:00, 39.68it/s]\n",
      "Calculating tree distance matrix: 100%|██████████| 69006/69006 [00:59<00:00, 1168.20it/s]\n",
      "Evaluating offsprings: 100%|██████████| 364/364 [21:05<00:00,  3.48s/it] \n"
     ]
    },
    {
     "name": "stdout",
     "output_type": "stream",
     "text": [
      "Removed 8 identical or invalid trees\n",
      "Kept 20 outsiders with low fitness\n",
      "Generation 30 - Best fitness: 6843.848354449463 - Difference: 0.0\n",
      "Population size: 112\n",
      "Best height: 20\n",
      "Mean height of the population: 20.258928571428573\n"
     ]
    },
    {
     "name": "stderr",
     "output_type": "stream",
     "text": [
      "Generation 31, Creating offsprings: 100%|██████████| 200/200 [00:05<00:00, 39.32it/s]\n",
      "Calculating tree distance matrix: 100%|██████████| 70500/70500 [01:00<00:00, 1159.02it/s]\n",
      "Evaluating offsprings: 100%|██████████| 368/368 [21:16<00:00,  3.47s/it] \n"
     ]
    },
    {
     "name": "stdout",
     "output_type": "stream",
     "text": [
      "Removed 4 identical or invalid trees\n",
      "Kept 20 outsiders with low fitness\n",
      "Generation 31 - Best fitness: 6341.78497801862 - Difference: -502.06337643084316\n",
      "Population size: 116\n",
      "Best height: 21\n",
      "Mean height of the population: 19.49137931034483\n"
     ]
    },
    {
     "name": "stderr",
     "output_type": "stream",
     "text": [
      "Generation 32, Creating offsprings: 100%|██████████| 200/200 [00:05<00:00, 38.65it/s]\n",
      "Calculating tree distance matrix: 100%|██████████| 67896/67896 [00:58<00:00, 1159.26it/s]\n",
      "Evaluating offsprings: 100%|██████████| 361/361 [20:30<00:00,  3.41s/it]  \n"
     ]
    },
    {
     "name": "stdout",
     "output_type": "stream",
     "text": [
      "Removed 8 identical or invalid trees\n",
      "Kept 20 outsiders with low fitness\n",
      "Generation 32 - Best fitness: 6341.363495875487 - Difference: -0.42148214313237986\n",
      "Population size: 112\n",
      "Best height: 21\n",
      "Mean height of the population: 19.517857142857142\n"
     ]
    },
    {
     "name": "stderr",
     "output_type": "stream",
     "text": [
      "Generation 33, Creating offsprings: 100%|██████████| 200/200 [00:04<00:00, 42.07it/s]\n",
      "Calculating tree distance matrix: 100%|██████████| 70876/70876 [01:00<00:00, 1170.90it/s]\n",
      "Evaluating offsprings: 100%|██████████| 369/369 [21:19<00:00,  3.47s/it] \n"
     ]
    },
    {
     "name": "stdout",
     "output_type": "stream",
     "text": [
      "Removed 4 identical or invalid trees\n",
      "Kept 20 outsiders with low fitness\n",
      "Generation 33 - Best fitness: 6338.815471418568 - Difference: -2.548024456918938\n",
      "Population size: 116\n",
      "Best height: 20\n",
      "Mean height of the population: 19.637931034482758\n"
     ]
    },
    {
     "name": "stderr",
     "output_type": "stream",
     "text": [
      "Generation 34, Creating offsprings: 100%|██████████| 200/200 [00:04<00:00, 42.37it/s]\n",
      "Calculating tree distance matrix: 100%|██████████| 69378/69378 [00:59<00:00, 1158.09it/s]\n",
      "Evaluating offsprings:  54%|█████▍    | 197/365 [11:40<07:57,  2.84s/it] "
     ]
    }
   ],
   "source": [
    "from tqdm import tqdm\n",
    "from concurrent.futures import ThreadPoolExecutor\n",
    "import math\n",
    "\n",
    "\n",
    "# Parameters\n",
    "crossover = recombination_crossover\n",
    "OFFSPRING_SIZE = 200\n",
    "POPULATION_SIZE = 100\n",
    "OUTSIDER_SIZE = math.ceil(OFFSPRING_SIZE*0.1)\n",
    "pm = 0.05\n",
    "x_elitism = 0.08\n",
    "MAX_GENERATIONS = 100\n",
    "HEIGHT = 5\n",
    "PC = 0.1\n",
    "P_PICK_CONSTANT = 0.4\n",
    "P_CUT_TREE = 0.05\n",
    "\n",
    "\n",
    "# Initialize the population\n",
    "def initialize_population(_):\n",
    "    return generate_random_tree_with_all_terminal(HEIGHT, PC, terminal_list, constants=crammed_constants, p_pick_constant=P_PICK_CONSTANT, p_cut_tree=P_CUT_TREE)\n",
    "\n",
    "ALREADY_INITIALIZED = False\n",
    "if not ALREADY_INITIALIZED:\n",
    "    with ThreadPoolExecutor() as executor:\n",
    "        population = list(tqdm(executor.map(initialize_population, range(POPULATION_SIZE)), desc=\"Initializing population\", total=POPULATION_SIZE))\n",
    "\n",
    "population = [tree.collapse_constants() for tree in population if tree is not None]    \n",
    "# Remove identical trees\n",
    "distance_matrix = tree_distance(population, verbose='Initial tree distances')\n",
    "n = len(population)\n",
    "# I need to keep only the first tree if there are identical trees\n",
    "for i in range(n):\n",
    "    for j in range(i + 1, n):\n",
    "        if distance_matrix[i][j] == 0 and population[j] is not None:\n",
    "            population[j] = None\n",
    "\n",
    "population = [tree for tree in population if tree is not None]\n",
    "for tree in population:\n",
    "    tree.reeval_heights()\n",
    "\n",
    " # Evaluate the population\n",
    "with ThreadPoolExecutor() as executor:\n",
    "    fitnesses = np.array(list(tqdm(executor.map(lambda tree: fitness(tree, vars, labels, penalized='sqrt'), population), desc=\"Evaluating population\", total=len(population))))\n",
    "   \n",
    "penalized = 'percent'\n",
    "probabilities2 = [0.10, 0.10, 0.10, 0.10, 0.10]\n",
    "probabilities1 = [0.16, 0.16, 0.16, 0.16, 0.16]\n",
    "\n",
    "print(*probabilities1)\n",
    "\n",
    "probabilities = probabilities1\n",
    "# Training\n",
    "for generation in range(MAX_GENERATIONS):\n",
    "    if (generation >= 15):\n",
    "        probabilities = probabilities2\n",
    "        penalized = 'percent'\n",
    "    if(generation >= 25):\n",
    "        penalized = 'percent'\n",
    "        probabilities = probabilities1\n",
    "\n",
    "    pm = max(0.05, 0.2 - generation / MAX_GENERATIONS * 0.15)# from 0.2 to 0.05\n",
    "    # Select the best individuals\n",
    "    best_individuals = np.argsort(fitnesses)[:int(x_elitism * POPULATION_SIZE)]\n",
    "    # Create the offspring\n",
    "    offspring = []\n",
    "    for _ in tqdm(range(OFFSPRING_SIZE), desc=f\"Generation {generation}, Creating offsprings\"):\n",
    "        # Mutation\n",
    "        if random.random() < pm:\n",
    "            mutation = random_mutation(*probabilities)\n",
    "            child = mutation(parent_selection(population, fitnesses).clone(), terminal_list, constants=crammed_constants, p_pick_constant=P_PICK_CONSTANT, pc=PC)\n",
    "            child.reeval_heights()\n",
    "            offspring.append(child)\n",
    "        else:\n",
    "            # Select parents\n",
    "            parent1 = parent_selection(population, fitnesses, penalized).clone()\n",
    "            parent2 = parent_selection(population, fitnesses, penalized).clone()\n",
    "            # Crossover\n",
    "            child1, child2 = crossover(parent1, parent2)\n",
    "            child1.reeval_heights()\n",
    "            child2.reeval_heights()\n",
    "            offspring.extend([child1, child2])\n",
    "    # Combine and select the best individuals\n",
    "    population = [population[i] for i in best_individuals] + offspring\n",
    "\n",
    "    # Remove identical trees\n",
    "    population = [tree.collapse_constants() for tree in population if tree is not None]\n",
    "    distance_matrix = tree_distance(population)\n",
    "    n = len(population)\n",
    "    # I need to keep only the first tree if there are identical trees\n",
    "    for i in range(n):\n",
    "        for j in range(i + 1, n):\n",
    "            if distance_matrix[i][j] == 0 and population[j] is not None:\n",
    "                population[j] = None\n",
    "    \n",
    "    # Sort population for summation of distance similarity\n",
    "    summation = np.zeros(n)\n",
    "    for i in range(n):\n",
    "        summation[i] = np.sum(distance_matrix[i,:])\n",
    "    \n",
    "    distance_sorted = np.argsort(summation)[::-1]\n",
    "    outsiders = set(distance_sorted[:OUTSIDER_SIZE])\n",
    "    # Calculate fitness function\n",
    "    with ThreadPoolExecutor() as executor:\n",
    "        fitnesses_offspring = np.array(list(tqdm(executor.map(lambda tree: fitness(tree, vars, labels, penalized=penalized), offspring), desc=\"Evaluating offsprings\", total=len(offspring))))\n",
    "\n",
    "    # Select the best individuals and outsiders\n",
    "    all_fitnesses = np.concatenate([fitnesses[best_individuals], fitnesses_offspring])\n",
    "    best_fitnesses = set(np.argsort(all_fitnesses)[:POPULATION_SIZE])\n",
    "    # Union between best individuals and outsiders\n",
    "    union = best_fitnesses.union(outsiders)\n",
    "    intersection = best_fitnesses.intersection(outsiders)\n",
    "\n",
    "    union_filtered = [i for i in union if population[i] is not None]\n",
    "\n",
    "    population = [population[i] for i in union_filtered]\n",
    "    before = len(union)\n",
    "    fitnesses = [all_fitnesses[i] for i in union_filtered]\n",
    "    fitnesses = np.array(fitnesses)\n",
    "    best_fitness = fitness_unscaled(population[0], vars, labels)\n",
    "    print(f\"Removed {before - len(population)} identical or invalid trees\")\n",
    "    print(f'Kept {len(outsiders) - len(intersection)} outsiders with low fitness')\n",
    "    if generation > 0:\n",
    "        print(f\"Generation {generation} - Best fitness: {best_fitness} - Difference: {best_fitness - old_best_fitness}\")\n",
    "    else:\n",
    "        print(f\"Generation {generation} - Best fitness: {best_fitness}\")\n",
    "    old_best_fitness = best_fitness\n",
    "    print(f\"Population size: {len(population)}\")\n",
    "    print(f'Best height: {population[0].get_height()}')\n",
    "    print(f\"Mean height of the population: {np.mean([tree.get_height() for tree in population])}\")\n"
   ]
  },
  {
   "cell_type": "code",
   "execution_count": null,
   "metadata": {},
   "outputs": [],
   "source": [
    "from datetime import datetime\n",
    "conf = {\n",
    "    \"problem\": problem_number,\n",
    "    \"crossover\": crossover,\n",
    "    \"OFFSPRING_SIZE\": OFFSPRING_SIZE,\n",
    "    \"POPULATION_SIZE\": POPULATION_SIZE,\n",
    "    \"OUTSIDER_SIZE\": OUTSIDER_SIZE,\n",
    "    \"pm\": pm,\n",
    "    \"x_elitism\": x_elitism,\n",
    "    \"MAX_GENERATIONS\": MAX_GENERATIONS,\n",
    "    \"HEIGHT\": HEIGHT,\n",
    "    \"PC\": PC,\n",
    "    \"P_PICK_CONSTANT\": P_PICK_CONSTANT,\n",
    "    \"P_CUT_TREE\": P_CUT_TREE\n",
    "}\n",
    "def save_results(conf, res_function, res_fitness):\n",
    "    cur_time = datetime.now().strftime(\"%Y-%m-%d_%H-%M-%S\")\n",
    "    with open(f\"./results/{cur_time}.txt\", \"w\") as file:\n",
    "        # Write the contents of conf\n",
    "        file.write(\"# Configuration\\n\")\n",
    "        file.write(\"conf = {\\n\")\n",
    "        for key, value in conf.items():\n",
    "            file.write(f\"    '{key}': {value},\\n\")\n",
    "        file.write(\"}\\n\\n\")\n",
    "        \n",
    "        # Write the contents of res_function\n",
    "        file.write(\"# Resulting function\\n\")\n",
    "        file.write(f\"{res_function}\")\n",
    "        \n",
    "        # Write the contents of res_fitness\n",
    "        file.write(\"# Resulting fitness\\n\")\n",
    "        file.write(f\"{res_fitness}\")\n",
    "save_results(conf, str(population[0]), best_fitness)"
   ]
  },
  {
   "cell_type": "code",
   "execution_count": null,
   "metadata": {},
   "outputs": [],
   "source": [
    "population[0].draw()\n",
    "print(fitness(population[0], vars, labels))"
   ]
  }
 ],
 "metadata": {
  "kernelspec": {
   "display_name": ".venv",
   "language": "python",
   "name": "python3"
  },
  "language_info": {
   "codemirror_mode": {
    "name": "ipython",
    "version": 3
   },
   "file_extension": ".py",
   "mimetype": "text/x-python",
   "name": "python",
   "nbconvert_exporter": "python",
   "pygments_lexer": "ipython3",
   "version": "3.12.6"
  }
 },
 "nbformat": 4,
 "nbformat_minor": 2
}
