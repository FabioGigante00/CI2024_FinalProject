{
 "cells": [
  {
   "cell_type": "markdown",
   "metadata": {},
   "source": [
    "### Imports"
   ]
  },
  {
   "cell_type": "code",
   "execution_count": 1,
   "metadata": {},
   "outputs": [],
   "source": [
    "# If updates on imported files aren't detected, restart the kernel (we'll need to find an automatic solution for this)\n",
    "\n",
    "import numpy as np\n",
    "from icecream import ic\n",
    "\n",
    "from typing import List, Tuple, Dict"
   ]
  },
  {
   "cell_type": "markdown",
   "metadata": {},
   "source": [
    "\n",
    "### Evolution Helper"
   ]
  },
  {
   "cell_type": "code",
   "execution_count": 2,
   "metadata": {},
   "outputs": [],
   "source": [
    "import random\n",
    "from typing import List\n",
    "from gxgp.node import Node\n",
    "from utils.operations_dict import basic_function_set, complex_function_set"
   ]
  },
  {
   "cell_type": "markdown",
   "metadata": {},
   "source": [
    "### Tree Generation"
   ]
  },
  {
   "cell_type": "code",
   "execution_count": 3,
   "metadata": {},
   "outputs": [],
   "source": [
    "def generate_random_tree(max_height: int, pc: float, terminal_list: List[str],\n",
    "                         constants: list[float] = None, p_pick_constant: float = 0.2, p_cut_tree: float = 0.2,\n",
    "                         verbose: bool = False, cur_depth: int = 0) -> Node:\n",
    "    \"\"\"\n",
    "    Generate a random symbolic expression tree.\n",
    "\n",
    "    Mandatory Parameters\n",
    "    ----------\n",
    "    max_height : int\n",
    "        The maximum height of the tree. The height of a tree is the length of the longest path from the root to a leaf (e.g. height of a leaf is 0).\n",
    "    pc : float\n",
    "        The probability of choosing a complex function over a basic function.\n",
    "    terminal_list : List[str]\n",
    "        The terminal list to choose from. Example: ['x0', 'x1', 'x2']\n",
    "\n",
    "    Optional Parameters\n",
    "    ----------\n",
    "    constants : list[float]\n",
    "        A list of constants that can be used in the tree (default is None).\n",
    "    p_pick_constant : float\n",
    "        The probability of choosing a constant over a terminal (default is 0.2).\n",
    "    p_cut_tree : float\n",
    "        The probability of cutting the tree early (default is 0.2).    \n",
    "    verbose : bool    \n",
    "        Whether to print debug information (default is False).\n",
    "    cur_depth : int\n",
    "        The exploration depth (e.g. depth of root is 0)\n",
    "\n",
    "    Returns\n",
    "    -------\n",
    "    Node\n",
    "        A Node object representing the root of the tree.\n",
    "    \"\"\"\n",
    "    indent = ' ' * (cur_depth * 2)\n",
    "\n",
    "    # Cut the tree early with probability 0.2\n",
    "    if (random.random() < p_cut_tree) or max_height == 0:  \n",
    "        # If constants are provided, choose one with probability p_pick_constant\n",
    "        if constants is not None and random.random() < p_pick_constant: \n",
    "            terminal = random.choice(constants) \n",
    "        # Otherwise, pick from the terminal set\n",
    "        else:                                                \n",
    "            terminal = random.choice(terminal_list)\n",
    "        \n",
    "        if verbose: print(f\"{indent}Picked terminal: {terminal}\")\n",
    "\n",
    "        # Set the height of the node to 0\n",
    "        my_node = Node(terminal)\n",
    "        my_node.set_height(0)\n",
    "        return my_node\n",
    "    else:\n",
    "        # Choose a complex function with probability pc\n",
    "        if random.random() < pc:                       \n",
    "            func = random.choice(list(complex_function_set.keys()))\n",
    "            if verbose: print(f\"{indent}Chose complex function {func}\")\n",
    "            num_children = complex_function_set[func].__code__.co_argcount  # Numero di argomenti della funzione\n",
    "            children = [generate_random_tree(max_height - 1, pc, terminal_list, constants, p_pick_constant, p_cut_tree, verbose, cur_depth + 1)\n",
    "                        for _ in range(num_children)]\n",
    "            \n",
    "            # Set height\n",
    "            cur_height = max([child.get_height() for child in children]) + 1\n",
    "            my_node = Node(complex_function_set[func], children, name=func)\n",
    "            my_node.set_height(cur_height)\n",
    "            return my_node\n",
    "        # Otherwise, choose a basic function\n",
    "        else:                                           \n",
    "            func = random.choice(list(basic_function_set.keys()))\n",
    "            if verbose: print(f\"{indent}Chose basic function {func}\")\n",
    "            num_children = basic_function_set[func].__code__.co_argcount  # Numero di argomenti della funzione\n",
    "            children = [generate_random_tree(max_height - 1, pc, terminal_list, constants, p_pick_constant, p_cut_tree, verbose, cur_depth + 1)\n",
    "                        for _ in range(num_children)]\n",
    "            # Set height\n",
    "            cur_height = max([child.get_height() for child in children]) + 1\n",
    "            my_node = Node(basic_function_set[func], children, name=func)\n",
    "            my_node.set_height(cur_height)\n",
    "            return my_node\n",
    "\n",
    "def generate_random_tree_with_all_terminal(max_height: int, pc: float, terminal_list: List[str],\n",
    "                         constants: list[float] = None, p_pick_constant: float = 0.2, p_cut_tree: float = 0.2,\n",
    "                         verbose: bool = False, cur_depth: int = 0, picked_terminal: set[str]=set()) -> Node:\n",
    "    \"\"\"\n",
    "    Generate a random symbolic expression tree.\n",
    "\n",
    "    Mandatory Parameters\n",
    "    ----------\n",
    "    max_height : int\n",
    "        The maximum height of the tree. The height of a tree is the length of the longest path from the root to a leaf (e.g. height of a leaf is 0).\n",
    "    pc : float\n",
    "        The probability of choosing a complex function over a basic function.\n",
    "    terminal_list : List[str]\n",
    "        The terminal list to choose from. Example: ['x0', 'x1', 'x2']\n",
    "\n",
    "    Optional Parameters\n",
    "    ----------\n",
    "    constants : list[float]\n",
    "        A list of constants that can be used in the tree (default is None).\n",
    "    p_pick_constant : float\n",
    "        The probability of choosing a constant over a terminal (default is 0.2).\n",
    "    p_cut_tree : float\n",
    "        The probability of cutting the tree early (default is 0.2).    \n",
    "    verbose : bool    \n",
    "        Whether to print debug information (default is False).\n",
    "    cur_depth : int\n",
    "        The exploration depth (e.g. depth of root is 0)\n",
    "\n",
    "    Returns\n",
    "    -------\n",
    "    Node\n",
    "        A Node object representing the root of the tree.\n",
    "    \"\"\"\n",
    "    indent = ' ' * (cur_depth * 2)\n",
    "\n",
    "    # Cut the tree early with probability 0.2\n",
    "    if (random.random() < p_cut_tree) or max_height == 0:  \n",
    "        # If constants are provided, choose one with probability p_pick_constant\n",
    "        if constants is not None and random.random() < p_pick_constant and len(picked_terminal) == len(terminal_list): \n",
    "            terminal = random.choice(constants) \n",
    "        # Otherwise, pick from the terminal set\n",
    "        else:                                                \n",
    "            terminal = random.choice(terminal_list)\n",
    "            picked_terminal.add(terminal)\n",
    "        \n",
    "        if verbose: print(f\"{indent}Picked terminal: {terminal}\")\n",
    "\n",
    "        # Set the height of the node to 0\n",
    "        my_node = Node(terminal)\n",
    "        my_node.set_height(0)\n",
    "        return my_node\n",
    "    else:\n",
    "        # Choose a complex function with probability pc\n",
    "        if random.random() < pc:                       \n",
    "            func = random.choice(list(complex_function_set.keys()))\n",
    "            if verbose: print(f\"{indent}Chose complex function {func}\")\n",
    "            num_children = complex_function_set[func].__code__.co_argcount  # Numero di argomenti della funzione\n",
    "            children = [generate_random_tree_with_all_terminal(max_height - 1, pc, terminal_list, constants, p_pick_constant, p_cut_tree, verbose, cur_depth + 1,picked_terminal)\n",
    "                        for _ in range(num_children)]\n",
    "            \n",
    "            # Set height\n",
    "            cur_height = max([child.get_height() for child in children]) + 1\n",
    "            my_node = Node(complex_function_set[func], children, name=func)\n",
    "            my_node.set_height(cur_height)\n",
    "            return my_node\n",
    "        # Otherwise, choose a basic function\n",
    "        else:                                           \n",
    "            func = random.choice(list(basic_function_set.keys()))\n",
    "            if verbose: print(f\"{indent}Chose basic function {func}\")\n",
    "            num_children = basic_function_set[func].__code__.co_argcount  # Numero di argomenti della funzione\n",
    "            children = [generate_random_tree_with_all_terminal(max_height - 1, pc, terminal_list, constants, p_pick_constant, p_cut_tree, verbose, cur_depth + 1,picked_terminal)\n",
    "                        for _ in range(num_children)]\n",
    "            # Set height\n",
    "            cur_height = max([child.get_height() for child in children]) + 1\n",
    "            my_node = Node(basic_function_set[func], children, name=func)\n",
    "            my_node.set_height(cur_height)\n",
    "            return my_node"
   ]
  },
  {
   "cell_type": "markdown",
   "metadata": {},
   "source": [
    "### Mutations"
   ]
  },
  {
   "cell_type": "code",
   "execution_count": 4,
   "metadata": {},
   "outputs": [],
   "source": [
    "def point_mutation(Tree: Node, terminal_list: List[str], constants: list[float] = None, p_pick_constant: float = 0.2, pc: float = 0.2) -> Node:\n",
    "    \"\"\"\n",
    "    Mutate a tree by changing a random node to a new random node.\n",
    "\n",
    "    Parameters\n",
    "    ----------\n",
    "    Tree : Node\n",
    "        The tree to mutate.\n",
    "    terminal_list : List[str]\n",
    "        The terminal list to choose from. Example: ['x0', 'x1', 'x2']\n",
    "    constants : list[float]\n",
    "        A list of constants that can be used in the tree.\n",
    "    p_pick_constant : float\n",
    "        The probability of choosing a constant over a terminal.\n",
    "    pc : float\n",
    "        The probability of choosing a complex function over a basic function.\n",
    "\n",
    "    Returns\n",
    "    -------\n",
    "    Node\n",
    "        The mutated tree.\n",
    "    \"\"\"\n",
    "\n",
    "    # Get the list of nodes in the tree\n",
    "    node = Tree.get_random_node()\n",
    "\n",
    "    # If the node is a terminal, change it to a new terminal\n",
    "    if node.is_leaf:\n",
    "        if constants is not None and random.random() < p_pick_constant:\n",
    "            terminal = random.choice(constants)\n",
    "        else:\n",
    "            terminal = random.choice(terminal_list)\n",
    "        node.set_func(terminal)\n",
    "        return Tree\n",
    "    # Otherwise, change it to a new function maintaining the arity\n",
    "    else:\n",
    "        if random.random() < pc:\n",
    "            while True:\n",
    "                func = random.choice(list(complex_function_set.keys()))\n",
    "                arity = complex_function_set[func].__code__.co_argcount\n",
    "                if arity == node._arity:\n",
    "                    break\n",
    "            node.set_func(complex_function_set[func], name=func)\n",
    "        else:\n",
    "            while True:\n",
    "                func = random.choice(list(basic_function_set.keys()))\n",
    "                arity = basic_function_set[func].__code__.co_argcount\n",
    "                if arity == node._arity:\n",
    "                    break\n",
    "            node.set_func(basic_function_set[func], name=func)\n",
    "        return Tree\n",
    "    \n",
    "def subtree_mutation(Tree: Node, terminal_list: List[str], constants: list[float] = None, p_pick_constant: float = 0.2, pc: float = 0.2, height: int = 3, verbose: bool = False) -> Node:\n",
    "    \"\"\"\n",
    "    Mutate a tree by changing a random subtree to a new random subtree.\n",
    "\n",
    "    Parameters\n",
    "    ----------\n",
    "    Tree : Node\n",
    "        The tree to mutate.\n",
    "    terminal_list : List[str]\n",
    "        The terminal list to choose from. Example: ['x0', 'x1', 'x2']\n",
    "    constants : list[float]\n",
    "        A list of constants that can be used in the tree.\n",
    "    p_pick_constant : float\n",
    "        The probability of choosing a constant over a terminal.\n",
    "    pc : float\n",
    "        The probability of choosing a complex function over a basic function.\n",
    "    height : int\n",
    "        The maximum height of the new subtree.\n",
    "\n",
    "    Returns\n",
    "    -------\n",
    "    Node\n",
    "        The mutated tree.\n",
    "    \"\"\"\n",
    "\n",
    "    # Get the list of nodes in the tree\n",
    "    node = Tree.get_random_node()\n",
    "\n",
    "    if verbose:\n",
    "        print(f\"Node to mutate: {node._str} at height {node._height}\")\n",
    "\n",
    "    new_subtree = generate_random_tree(height, pc, terminal_list, constants, p_pick_constant)\n",
    "    node = node.replace_tree_shallow(new_subtree)\n",
    "    return Tree\n",
    "\n",
    "def expansion_mutation(Tree: Node, terminal_list: List[str], constants: list[float] = None, p_pick_constant: float = 0.2, pc: float = 0.2, height: int = 3, verbose: bool = False) -> Node:\n",
    "    \"\"\"\n",
    "    Mutate a tree by expanding a random node to a new random subtree.\n",
    "\n",
    "    Parameters\n",
    "    ----------\n",
    "    Tree : Node\n",
    "        The tree to mutate.\n",
    "    terminal_list : List[str]\n",
    "        The terminal list to choose from. Example: ['x0', 'x1', 'x2']\n",
    "    constants : list[float]\n",
    "        A list of constants that can be used in the tree.\n",
    "    p_pick_constant : float\n",
    "        The probability of choosing a constant over a terminal.\n",
    "    pc : float\n",
    "        The probability of choosing a complex function over a basic function.\n",
    "    height : int\n",
    "        The maximum height of the new subtree.\n",
    "\n",
    "    Returns\n",
    "    -------\n",
    "    Node\n",
    "        The mutated tree.\n",
    "    \"\"\"\n",
    "    # Get the list of nodes in the tree\n",
    "    node = random.choice(Tree.get_leafs())\n",
    "\n",
    "    if verbose:\n",
    "        print(f\"Node to mutate: {node._str} at height {node._height}\")  \n",
    "    \n",
    "    \n",
    "    new_subtree = generate_random_tree(height, pc, terminal_list, constants, p_pick_constant)\n",
    "    node = node.replace_tree_shallow(new_subtree)\n",
    "    return Tree\n",
    "\n",
    "def collaps_mutation(Tree: Node, terminal_list: List[str], constants: list[float] = None, p_pick_constant: float = 0.2, pc: float = 0.2, verbose: bool = False) -> Node:\n",
    "    \"\"\"\n",
    "    Mutate a tree by collapsing a random node to a terminal.\n",
    "\n",
    "    Parameters\n",
    "    ----------\n",
    "    Tree : Node\n",
    "        The tree to mutate.\n",
    "    terminal_list : List[str]\n",
    "        The terminal list to choose from. Example: ['x0', 'x1', 'x2']\n",
    "    constants : list[float]\n",
    "        A list of constants that can be used in the tree.\n",
    "    p_pick_constant : float\n",
    "        The probability of choosing a constant over a terminal.\n",
    "    pc : float\n",
    "        The probability of choosing a complex function over a basic function.\n",
    "\n",
    "    Returns\n",
    "    -------\n",
    "    Node\n",
    "        The mutated tree.\n",
    "    \"\"\"\n",
    "\n",
    "    # Get the list of nodes in the tree\n",
    "    node = Tree.get_random_node()\n",
    "\n",
    "    if verbose:\n",
    "        print(f\"Node to mutate: {node._str} at height {node._height}\")\n",
    "\n",
    "   # possible choices\n",
    "    possible_choices = node.get_leafs()\n",
    "\n",
    "\n",
    "    node.replace_tree_shallow(random.choice(possible_choices))\n",
    "    return Tree\n",
    "\n",
    "\n",
    "def permutation_mutation(Tree: Node, terminal_list: List[str], constants: list[float] = None, p_pick_constant: float = 0.2, pc: float = 0.2,verbose: bool = False) -> Node:\n",
    "    \"\"\"\n",
    "    Mutate a tree by permuting the children of a random node through a rotation.\n",
    "\n",
    "    Parameters\n",
    "    ----------\n",
    "    Tree : Node\n",
    "        The tree to mutate.\n",
    "\n",
    "    Returns\n",
    "    -------\n",
    "    Node\n",
    "        The mutated tree.\n",
    "    \"\"\"\n",
    "\n",
    "    # Extract a random node that has at least two children (so no leaves and single input functions)\n",
    "    found = False\n",
    "    for i in range(20):\n",
    "        father = Tree.get_random_node()\n",
    "        if father._arity > 1:\n",
    "            found = True\n",
    "            break\n",
    "    if not found:\n",
    "        return Tree\n",
    "    \n",
    "    if verbose:\n",
    "        print(f\"Father node: {father._str} at height {father._height}. It has {len(father._successors)} children: [\", end=\"\")\n",
    "        for i, child in enumerate(father._successors):\n",
    "            print(f\"{child._str},\", end=\" \")\n",
    "        print(\"]\")\n",
    "\n",
    "    \n",
    "    new_successors = ()\n",
    "    for i, child in enumerate(father._successors):\n",
    "        new_successors = new_successors + (father._successors[i-1],)\n",
    "\n",
    "    father._successors = new_successors\n",
    "\n",
    "    if verbose:\n",
    "        print(f\"New children: [\", end=\"\")\n",
    "        for i, child in enumerate(father._successors):\n",
    "            print(f\"{child._str},\", end=\" \")\n",
    "        print(\"]\")\n",
    "\n",
    "    return Tree\n",
    "\n",
    "def hoist_mutation(Tree: Node, terminal_list: List[str], constants: list[float] = None, p_pick_constant: float = 0.2, pc: float = 0.2,verbose: bool = False) -> Node:\n",
    "    \"\"\"\n",
    "    Mutate a tree by replacing the root with a random child.\n",
    "\n",
    "    Parameters\n",
    "    ----------\n",
    "    Tree : Node\n",
    "        The tree to mutate.\n",
    "\n",
    "    Returns\n",
    "    -------\n",
    "    Node\n",
    "        The mutated tree.\n",
    "    \"\"\"\n",
    "\n",
    "    random_node = Tree.get_random_node()\n",
    "    return random_node"
   ]
  },
  {
   "cell_type": "markdown",
   "metadata": {},
   "source": [
    "### crossover"
   ]
  },
  {
   "cell_type": "code",
   "execution_count": 5,
   "metadata": {},
   "outputs": [],
   "source": [
    "def recombination_crossover(Tree1: Node, Tree2: Node, verbose: bool = False) -> Tuple[Node, Node]:\n",
    "    \"\"\"\n",
    "    Recombine two trees by swapping a random subtree.\n",
    "\n",
    "    Parameters\n",
    "    ----------\n",
    "    Tree1 : Node\n",
    "        The first tree.\n",
    "    Tree2 : Node\n",
    "        The second tree.\n",
    "\n",
    "    Returns\n",
    "    -------\n",
    "    Tuple[Node, Node]\n",
    "        The recombined trees.\n",
    "    \"\"\"\n",
    "\n",
    "    # Get the list of nodes in the trees\n",
    "    node1 = Tree1.get_random_node()\n",
    "    node2 = Tree2.get_random_node()\n",
    "\n",
    "    if verbose:\n",
    "        print(f\"Node1 to swap: {node1._str} at height {node1._height}\")\n",
    "        print(f\"Node2 to swap: {node2._str} at height {node2._height}\")\n",
    "\n",
    "    # Swap the subtrees\n",
    "    temp1 = node1.clone()\n",
    "    temp2 = node2.clone()\n",
    "    node1.replace_tree_shallow(temp2)\n",
    "    node2.replace_tree_shallow(temp1)\n",
    "\n",
    "    return Tree1, Tree2\n",
    "\n"
   ]
  },
  {
   "cell_type": "markdown",
   "metadata": {},
   "source": [
    "### Load Data"
   ]
  },
  {
   "cell_type": "code",
   "execution_count": 6,
   "metadata": {},
   "outputs": [
    {
     "name": "stdout",
     "output_type": "stream",
     "text": [
      "Input shape: (3, 5000)  Example of sample:  [ 1.52827812 -2.67876092 -3.73351453]\n",
      "Labels shape: (5000,)  Example of label:  40.96071445158248\n",
      "terminal_list:  ['x0', 'x1', 'x2']\n"
     ]
    }
   ],
   "source": [
    "from gxgp import Node\n",
    "problem_number = 3\n",
    "problem = np.load(f'./data/problem_{problem_number}.npz')\n",
    "input = problem['x']\n",
    "labels = problem['y']\n",
    "\n",
    "print(\"Input shape:\", input.shape, \" Example of sample: \", input[:, 0])\n",
    "print(\"Labels shape:\", labels.shape, \" Example of label: \", labels[0])\n",
    "\n",
    "# Terminal set\n",
    "terminal_list = ['x' + str(i) for i in range(input.shape[0])]\n",
    "\n",
    "print(\"terminal_list: \", terminal_list)\n",
    "# Main"
   ]
  },
  {
   "cell_type": "markdown",
   "metadata": {},
   "source": [
    "### examples for generating trees\n",
    "You can fine tune the size of the output by modifying draw() from draw.py"
   ]
  },
  {
   "cell_type": "code",
   "execution_count": 7,
   "metadata": {},
   "outputs": [],
   "source": [
    "from utils.terminal_constants import crammed_constants\n",
    "\n",
    "# height = 5\n",
    "# initialized = generate_random_tree(height, 0.2, terminal_list, constants=crammed_constants, p_pick_constant=0.7, p_cut_tree=0.01, verbose=True)\n",
    "# initialized.draw()"
   ]
  },
  {
   "cell_type": "code",
   "execution_count": 8,
   "metadata": {},
   "outputs": [],
   "source": [
    "# collapsed = initialized.collapse_constants()\n",
    "# collapsed.draw()"
   ]
  },
  {
   "cell_type": "code",
   "execution_count": 9,
   "metadata": {},
   "outputs": [
    {
     "data": {
      "text/plain": [
       "'second=generate_random_tree(height, 0.2, terminal_list, constants=crammed_constants, p_pick_constant=0.4, p_cut_tree=0.05, verbose=True)\\nsecond.draw()'"
      ]
     },
     "execution_count": 9,
     "metadata": {},
     "output_type": "execute_result"
    }
   ],
   "source": [
    "\"\"\"second=generate_random_tree(height, 0.2, terminal_list, constants=crammed_constants, p_pick_constant=0.4, p_cut_tree=0.05, verbose=True)\n",
    "second.draw()\"\"\""
   ]
  },
  {
   "cell_type": "code",
   "execution_count": 10,
   "metadata": {},
   "outputs": [
    {
     "data": {
      "text/plain": [
       "'for obj in recombination_crossover(initialized, second, verbose=True):\\n    obj.draw()'"
      ]
     },
     "execution_count": 10,
     "metadata": {},
     "output_type": "execute_result"
    }
   ],
   "source": [
    "\"\"\"for obj in recombination_crossover(initialized, second, verbose=True):\n",
    "    obj.draw()\"\"\""
   ]
  },
  {
   "cell_type": "markdown",
   "metadata": {},
   "source": [
    "### Create input formatted"
   ]
  },
  {
   "cell_type": "code",
   "execution_count": null,
   "metadata": {},
   "outputs": [
    {
     "name": "stdout",
     "output_type": "stream",
     "text": [
      "input shape is  (3, 5000)\n",
      "vars shape is  (5000,)\n"
     ]
    }
   ],
   "source": [
    "print(\"input shape is \", input.shape)\n",
    "\n",
    "vars = []\n",
    "for j in range(input.shape[1]):\n",
    "    cur_vars = {'x'+str(i): input[i][j] for i in range(input.shape[0])}\n",
    "    # print(\"cur_vars is \", cur_vars)\n",
    "    vars.append(cur_vars)\n",
    "vars = np.array(vars)\n",
    "\n",
    "print(\"vars shape is \", vars.shape)"
   ]
  },
  {
   "cell_type": "markdown",
   "metadata": {},
   "source": [
    "### fitness"
   ]
  },
  {
   "cell_type": "code",
   "execution_count": 12,
   "metadata": {},
   "outputs": [],
   "source": [
    "import warnings\n",
    "warnings.simplefilter(\"error\", RuntimeWarning)"
   ]
  },
  {
   "cell_type": "code",
   "execution_count": 13,
   "metadata": {},
   "outputs": [],
   "source": [
    "# Fitness reverse\n",
    "def fitness(mytree: Node, vars, labels, verbose=False, penalized = 'sqrt'):\n",
    "    try:\n",
    "        output = np.array([mytree(**var) for var in vars])\n",
    "        mse = 100 * np.square(labels - output).mean()\n",
    "        if penalized == 'percent':\n",
    "            return mse +  mse * mytree.get_height() * 0.01 if mytree.get_height() > 0 else mse\n",
    "        else:\n",
    "            return mse * np.sqrt(mytree.get_height()) if mytree.get_height() > 0 else mse\n",
    "    except RuntimeWarning as e:\n",
    "        if verbose: print(f\"caught runtime warning: {e}, setting fitness to inf\")\n",
    "        return np.inf\n",
    "\n",
    "def fitness_unscaled(mytree: Node, vars, labels, verbose=False):\n",
    "    try:\n",
    "        output = np.array([mytree(**var) for var in vars])\n",
    "        mse = 100 * np.square(labels - output).mean()\n",
    "        return mse\n",
    "    except RuntimeWarning as e:\n",
    "        if verbose: print(f\"caught runtime warning: {e}, setting fitness to inf\")\n",
    "        return np.inf\n",
    "#print(fitness(initialized, vars, labels))"
   ]
  },
  {
   "cell_type": "code",
   "execution_count": 14,
   "metadata": {},
   "outputs": [
    {
     "data": {
      "text/plain": [
       "'# Xover\\ndef xover(tree1, tree2):\\n    return xover_swap_subtree(tree1, tree2)\\n\\n# initialized.subtree.pop().draw() # this procedure is really similar to get_random_node, except there we use a list and random.choice\\nhoist_mutation(initialized, verbose=True).draw()'"
      ]
     },
     "execution_count": 14,
     "metadata": {},
     "output_type": "execute_result"
    }
   ],
   "source": [
    "from gxgp.gp_common import xover_swap_subtree\n",
    "\"\"\"# Xover\n",
    "def xover(tree1, tree2):\n",
    "    return xover_swap_subtree(tree1, tree2)\n",
    "\n",
    "# initialized.subtree.pop().draw() # this procedure is really similar to get_random_node, except there we use a list and random.choice\n",
    "hoist_mutation(initialized, verbose=True).draw()\"\"\""
   ]
  },
  {
   "cell_type": "markdown",
   "metadata": {},
   "source": [
    "### parent selection"
   ]
  },
  {
   "cell_type": "code",
   "execution_count": 15,
   "metadata": {},
   "outputs": [],
   "source": [
    "\n",
    "def parent_selection(population, pre_calculated_fitnesses=None, penalized = 'sqrt'):\n",
    "    if pre_calculated_fitnesses is None:\n",
    "        candidates = sorted(np.random.choice(population, 2), key=lambda e: fitness(e,vars,labels, penalized=penalized))\n",
    "        return candidates[0]\n",
    "    else:\n",
    "        #Random index between 0 and population size\n",
    "        index1 = np.random.randint(0, len(population))\n",
    "        index2 = np.random.randint(0, len(population))\n",
    "        candidates = [population[index1], population[index2]]\n",
    "        if pre_calculated_fitnesses[index1] > pre_calculated_fitnesses[index2]:\n",
    "            return candidates[1]\n",
    "        else:\n",
    "            return candidates[0]"
   ]
  },
  {
   "cell_type": "markdown",
   "metadata": {},
   "source": [
    "### utils functions"
   ]
  },
  {
   "cell_type": "code",
   "execution_count": 16,
   "metadata": {},
   "outputs": [],
   "source": [
    "import concurrent\n",
    "from concurrent.futures import ThreadPoolExecutor\n",
    "from tqdm import tqdm\n",
    "import numpy as np\n",
    "\n",
    "def compute_pair_distance(i, j, population):\n",
    "    return i, j, population[i].tree_distance(population[j])\n",
    "\n",
    "def tree_distance(population, verbose=\"Calculating tree distance matrix\"):\n",
    "    n = len(population)\n",
    "    matrix = np.zeros((n, n))\n",
    "    pairs = [(i, j) for i in range(n) for j in range(i+1, n)]\n",
    "    \n",
    "    with ThreadPoolExecutor() as executor:\n",
    "        futures = [executor.submit(compute_pair_distance, i, j, population) for i, j in pairs]\n",
    "        for future in tqdm(concurrent.futures.as_completed(futures), desc=verbose, total=len(futures)):\n",
    "            i, j, dist = future.result()\n",
    "            matrix[i][j] = dist/ population[i].__len__() if population[i].__len__() > 0 else dist\n",
    "            matrix[j][i] = dist/ population[j].__len__() if population[j].__len__() > 0 else dist\n",
    "\n",
    "    \n",
    "    return matrix\n",
    "\n",
    "def random_mutation(p1=0.16, p2=0.16, p3=0.16, p4=0.16, p5=0.16):\n",
    "    r = random.random()\n",
    "    if r < p1:\n",
    "        return point_mutation\n",
    "    elif r < p1 + p2:\n",
    "        return subtree_mutation\n",
    "    elif r < p1 + p2 + p3:\n",
    "        return expansion_mutation\n",
    "    elif r < p1 + p2 + p3 + p4:\n",
    "        return permutation_mutation\n",
    "    elif r < p1 + p2 + p3 + p4 + p5:\n",
    "        return collaps_mutation\n",
    "    else:\n",
    "        return hoist_mutation\n"
   ]
  },
  {
   "cell_type": "markdown",
   "metadata": {},
   "source": [
    "### Training"
   ]
  },
  {
   "cell_type": "code",
   "execution_count": null,
   "metadata": {},
   "outputs": [
    {
     "name": "stderr",
     "output_type": "stream",
     "text": [
      "Initializing population: 100%|██████████| 100/100 [00:00<00:00, 33341.05it/s]"
     ]
    },
    {
     "name": "stderr",
     "output_type": "stream",
     "text": [
      "\n"
     ]
    },
    {
     "name": "stdout",
     "output_type": "stream",
     "text": [
      "Error in node inv: overflow encountered in power\n",
      "Error in node exp: overflow encountered in exp\n"
     ]
    },
    {
     "name": "stderr",
     "output_type": "stream",
     "text": [
      "Initial tree distances: 100%|██████████| 4950/4950 [00:01<00:00, 2637.44it/s]\n",
      "Evaluating population: 100%|██████████| 99/99 [00:51<00:00,  1.91it/s] \n"
     ]
    },
    {
     "name": "stdout",
     "output_type": "stream",
     "text": [
      "0.16 0.16 0.16 0.16 0.16\n"
     ]
    },
    {
     "name": "stderr",
     "output_type": "stream",
     "text": [
      "Generation 0, Creating offsprings: 100%|██████████| 200/200 [00:02<00:00, 75.76it/s]\n",
      "Calculating tree distance matrix: 100%|██████████| 66795/66795 [00:15<00:00, 4321.28it/s]\n",
      "Evaluating offsprings: 100%|██████████| 358/358 [02:49<00:00,  2.11it/s]\n"
     ]
    },
    {
     "name": "stdout",
     "output_type": "stream",
     "text": [
      "Removed 40 identical or invalid trees\n",
      "Kept 10 outsiders with low fitness\n",
      "Generation 0 - Best fitness: 282422.05866406683\n",
      "Population size: 70\n",
      "Best height: 0\n",
      "Mean height of the population: 2.8285714285714287\n"
     ]
    },
    {
     "name": "stderr",
     "output_type": "stream",
     "text": [
      "Generation 1, Creating offsprings: 100%|██████████| 200/200 [00:00<00:00, 484.61it/s]\n",
      "Calculating tree distance matrix: 100%|██████████| 68635/68635 [00:04<00:00, 15088.17it/s]\n",
      "Evaluating offsprings: 100%|██████████| 363/363 [01:11<00:00,  5.08it/s] \n"
     ]
    },
    {
     "name": "stdout",
     "output_type": "stream",
     "text": [
      "Removed 44 identical or invalid trees\n",
      "Kept 17 outsiders with low fitness\n",
      "Generation 1 - Best fitness: 244409.81041760696 - Difference: -38012.24824645987\n",
      "Population size: 73\n",
      "Best height: 2\n",
      "Mean height of the population: 3.095890410958904\n"
     ]
    },
    {
     "name": "stderr",
     "output_type": "stream",
     "text": [
      "Generation 2, Creating offsprings: 100%|██████████| 200/200 [00:00<00:00, 421.34it/s]\n",
      "Calculating tree distance matrix: 100%|██████████| 67896/67896 [00:05<00:00, 12871.45it/s]\n",
      "Evaluating offsprings: 100%|██████████| 361/361 [01:29<00:00,  4.03it/s]\n"
     ]
    },
    {
     "name": "stdout",
     "output_type": "stream",
     "text": [
      "Removed 22 identical or invalid trees\n",
      "Kept 17 outsiders with low fitness\n",
      "Generation 2 - Best fitness: 244409.81041760696 - Difference: 0.0\n",
      "Population size: 95\n",
      "Best height: 2\n",
      "Mean height of the population: 3.6842105263157894\n"
     ]
    },
    {
     "name": "stderr",
     "output_type": "stream",
     "text": [
      "Generation 3, Creating offsprings: 100%|██████████| 200/200 [00:00<00:00, 447.96it/s]\n"
     ]
    },
    {
     "name": "stdout",
     "output_type": "stream",
     "text": [
      "Error in node sqrt: overflow encountered in exp\n"
     ]
    },
    {
     "name": "stderr",
     "output_type": "stream",
     "text": [
      "Calculating tree distance matrix: 100%|██████████| 66795/66795 [00:05<00:00, 13122.06it/s]\n",
      "Evaluating offsprings: 100%|██████████| 358/358 [01:26<00:00,  4.15it/s]\n"
     ]
    },
    {
     "name": "stdout",
     "output_type": "stream",
     "text": [
      "Removed 26 identical or invalid trees\n",
      "Kept 14 outsiders with low fitness\n",
      "Generation 3 - Best fitness: 220339.9131569312 - Difference: -24069.89726067576\n",
      "Population size: 88\n",
      "Best height: 5\n",
      "Mean height of the population: 3.4545454545454546\n"
     ]
    },
    {
     "name": "stderr",
     "output_type": "stream",
     "text": [
      "Generation 4, Creating offsprings: 100%|██████████| 200/200 [00:00<00:00, 399.95it/s]\n",
      "Calculating tree distance matrix: 100%|██████████| 69378/69378 [00:05<00:00, 12081.36it/s]\n",
      "Evaluating offsprings: 100%|██████████| 365/365 [01:31<00:00,  3.98it/s]\n"
     ]
    },
    {
     "name": "stdout",
     "output_type": "stream",
     "text": [
      "Removed 14 identical or invalid trees\n",
      "Kept 19 outsiders with low fitness\n",
      "Generation 4 - Best fitness: 213473.8641054455 - Difference: -6866.049051485694\n",
      "Population size: 105\n",
      "Best height: 5\n",
      "Mean height of the population: 4.3238095238095235\n"
     ]
    },
    {
     "name": "stderr",
     "output_type": "stream",
     "text": [
      "Generation 5, Creating offsprings: 100%|██████████| 200/200 [00:00<00:00, 298.73it/s]\n",
      "Calculating tree distance matrix: 100%|██████████| 66795/66795 [00:07<00:00, 9430.78it/s] \n",
      "Evaluating offsprings: 100%|██████████| 358/358 [02:06<00:00,  2.82it/s]\n"
     ]
    },
    {
     "name": "stdout",
     "output_type": "stream",
     "text": [
      "Removed 22 identical or invalid trees\n",
      "Kept 20 outsiders with low fitness\n",
      "Generation 5 - Best fitness: 190164.50592043222 - Difference: -23309.35818501329\n",
      "Population size: 98\n",
      "Best height: 6\n",
      "Mean height of the population: 5.3979591836734695\n"
     ]
    },
    {
     "name": "stderr",
     "output_type": "stream",
     "text": [
      "Generation 6, Creating offsprings: 100%|██████████| 200/200 [00:00<00:00, 252.07it/s]\n",
      "Calculating tree distance matrix: 100%|██████████| 70500/70500 [00:08<00:00, 8188.76it/s]\n",
      "Evaluating offsprings: 100%|██████████| 368/368 [02:27<00:00,  2.50it/s] \n"
     ]
    },
    {
     "name": "stdout",
     "output_type": "stream",
     "text": [
      "Removed 19 identical or invalid trees\n",
      "Kept 20 outsiders with low fitness\n",
      "Generation 6 - Best fitness: 154142.9465222824 - Difference: -36021.55939814981\n",
      "Population size: 101\n",
      "Best height: 8\n",
      "Mean height of the population: 6.98019801980198\n"
     ]
    },
    {
     "name": "stderr",
     "output_type": "stream",
     "text": [
      "Generation 7, Creating offsprings: 100%|██████████| 200/200 [00:01<00:00, 197.04it/s]\n"
     ]
    },
    {
     "name": "stdout",
     "output_type": "stream",
     "text": [
      "Error in node pow: overflow encountered in power\n"
     ]
    },
    {
     "name": "stderr",
     "output_type": "stream",
     "text": [
      "Calculating tree distance matrix: 100%|██████████| 67896/67896 [00:10<00:00, 6525.82it/s]\n",
      "Evaluating offsprings: 100%|██████████| 361/361 [03:15<00:00,  1.85it/s]\n"
     ]
    },
    {
     "name": "stdout",
     "output_type": "stream",
     "text": [
      "Removed 13 identical or invalid trees\n",
      "Kept 20 outsiders with low fitness\n",
      "Generation 7 - Best fitness: 108031.06657081824 - Difference: -46111.87995146417\n",
      "Population size: 107\n",
      "Best height: 5\n",
      "Mean height of the population: 8.065420560747663\n"
     ]
    },
    {
     "name": "stderr",
     "output_type": "stream",
     "text": [
      "Generation 8, Creating offsprings: 100%|██████████| 200/200 [00:01<00:00, 168.96it/s]\n",
      "Calculating tree distance matrix: 100%|██████████| 70125/70125 [00:12<00:00, 5779.85it/s]\n",
      "Evaluating offsprings: 100%|██████████| 367/367 [03:40<00:00,  1.67it/s]\n"
     ]
    },
    {
     "name": "stdout",
     "output_type": "stream",
     "text": [
      "Removed 6 identical or invalid trees\n",
      "Kept 20 outsiders with low fitness\n",
      "Generation 8 - Best fitness: 94875.22420265521 - Difference: -13155.842368163023\n",
      "Population size: 114\n",
      "Best height: 10\n",
      "Mean height of the population: 8.359649122807017\n"
     ]
    },
    {
     "name": "stderr",
     "output_type": "stream",
     "text": [
      "Generation 9, Creating offsprings: 100%|██████████| 200/200 [00:01<00:00, 164.23it/s]\n",
      "Calculating tree distance matrix: 100%|██████████| 70876/70876 [00:14<00:00, 4962.77it/s]\n",
      "Evaluating offsprings: 100%|██████████| 369/369 [04:24<00:00,  1.40it/s]\n"
     ]
    },
    {
     "name": "stdout",
     "output_type": "stream",
     "text": [
      "Removed 11 identical or invalid trees\n",
      "Kept 20 outsiders with low fitness\n",
      "Generation 9 - Best fitness: 83923.93251085402 - Difference: -10951.29169180119\n",
      "Population size: 109\n",
      "Best height: 11\n",
      "Mean height of the population: 10.302752293577981\n"
     ]
    },
    {
     "name": "stderr",
     "output_type": "stream",
     "text": [
      "Generation 10, Creating offsprings: 100%|██████████| 200/200 [00:01<00:00, 135.60it/s]\n"
     ]
    },
    {
     "name": "stdout",
     "output_type": "stream",
     "text": [
      "Error in node log: divide by zero encountered in log\n"
     ]
    },
    {
     "name": "stderr",
     "output_type": "stream",
     "text": [
      "Calculating tree distance matrix: 100%|██████████| 70125/70125 [00:16<00:00, 4332.81it/s]\n",
      "Evaluating offsprings: 100%|██████████| 367/367 [05:17<00:00,  1.16it/s] \n"
     ]
    },
    {
     "name": "stdout",
     "output_type": "stream",
     "text": [
      "Removed 17 identical or invalid trees\n",
      "Kept 20 outsiders with low fitness\n",
      "Generation 10 - Best fitness: 75920.17238124668 - Difference: -8003.760129607341\n",
      "Population size: 103\n",
      "Best height: 10\n",
      "Mean height of the population: 10.951456310679612\n"
     ]
    },
    {
     "name": "stderr",
     "output_type": "stream",
     "text": [
      "Generation 11, Creating offsprings: 100%|██████████| 200/200 [00:01<00:00, 129.36it/s]\n",
      "Calculating tree distance matrix: 100%|██████████| 67528/67528 [00:16<00:00, 4037.21it/s]\n",
      "Evaluating offsprings: 100%|██████████| 360/360 [05:43<00:00,  1.05it/s]\n"
     ]
    },
    {
     "name": "stdout",
     "output_type": "stream",
     "text": [
      "Removed 15 identical or invalid trees\n",
      "Kept 20 outsiders with low fitness\n",
      "Generation 11 - Best fitness: 69433.7717045803 - Difference: -6486.400676666381\n",
      "Population size: 105\n",
      "Best height: 10\n",
      "Mean height of the population: 12.00952380952381\n"
     ]
    },
    {
     "name": "stderr",
     "output_type": "stream",
     "text": [
      "Generation 12, Creating offsprings: 100%|██████████| 200/200 [00:01<00:00, 118.07it/s]\n",
      "Calculating tree distance matrix: 100%|██████████| 67161/67161 [00:18<00:00, 3609.47it/s]\n",
      "Evaluating offsprings: 100%|██████████| 359/359 [06:17<00:00,  1.05s/it]\n"
     ]
    },
    {
     "name": "stdout",
     "output_type": "stream",
     "text": [
      "Removed 15 identical or invalid trees\n",
      "Kept 20 outsiders with low fitness\n",
      "Generation 12 - Best fitness: 65110.185959795 - Difference: -4323.585744785298\n",
      "Population size: 105\n",
      "Best height: 10\n",
      "Mean height of the population: 11.00952380952381\n"
     ]
    },
    {
     "name": "stderr",
     "output_type": "stream",
     "text": [
      "Generation 13, Creating offsprings: 100%|██████████| 200/200 [00:01<00:00, 108.54it/s]\n"
     ]
    },
    {
     "name": "stdout",
     "output_type": "stream",
     "text": [
      "Error in node log: divide by zero encountered in log\n"
     ]
    },
    {
     "name": "stderr",
     "output_type": "stream",
     "text": [
      "Calculating tree distance matrix: 100%|██████████| 67528/67528 [00:18<00:00, 3723.29it/s]\n",
      "Evaluating offsprings: 100%|██████████| 360/360 [06:06<00:00,  1.02s/it]\n"
     ]
    },
    {
     "name": "stdout",
     "output_type": "stream",
     "text": [
      "Removed 12 identical or invalid trees\n",
      "Kept 20 outsiders with low fitness\n",
      "Generation 13 - Best fitness: 65110.185959795 - Difference: 0.0\n",
      "Population size: 108\n",
      "Best height: 10\n",
      "Mean height of the population: 10.685185185185185\n"
     ]
    },
    {
     "name": "stderr",
     "output_type": "stream",
     "text": [
      "Generation 14, Creating offsprings: 100%|██████████| 200/200 [00:01<00:00, 119.52it/s]\n",
      "Calculating tree distance matrix: 100%|██████████| 70125/70125 [00:19<00:00, 3524.44it/s]\n",
      "Evaluating offsprings: 100%|██████████| 367/367 [06:37<00:00,  1.08s/it] \n"
     ]
    },
    {
     "name": "stdout",
     "output_type": "stream",
     "text": [
      "Removed 9 identical or invalid trees\n",
      "Kept 20 outsiders with low fitness\n",
      "Generation 14 - Best fitness: 62614.23367034596 - Difference: -2495.9522894490437\n",
      "Population size: 111\n",
      "Best height: 12\n",
      "Mean height of the population: 9.82882882882883\n"
     ]
    },
    {
     "name": "stderr",
     "output_type": "stream",
     "text": [
      "Generation 15, Creating offsprings: 100%|██████████| 200/200 [00:01<00:00, 110.31it/s]\n",
      "Calculating tree distance matrix: 100%|██████████| 68265/68265 [00:18<00:00, 3699.18it/s]\n",
      "Evaluating offsprings: 100%|██████████| 362/362 [06:23<00:00,  1.06s/it] \n"
     ]
    },
    {
     "name": "stdout",
     "output_type": "stream",
     "text": [
      "Removed 11 identical or invalid trees\n",
      "Kept 20 outsiders with low fitness\n",
      "Generation 15 - Best fitness: 54199.8349610647 - Difference: -8414.39870928126\n",
      "Population size: 109\n",
      "Best height: 12\n",
      "Mean height of the population: 10.73394495412844\n"
     ]
    },
    {
     "name": "stderr",
     "output_type": "stream",
     "text": [
      "Generation 16, Creating offsprings: 100%|██████████| 200/200 [00:01<00:00, 101.63it/s]\n",
      "Calculating tree distance matrix: 100%|██████████| 64980/64980 [00:20<00:00, 3179.05it/s]\n",
      "Evaluating offsprings: 100%|██████████| 353/353 [07:01<00:00,  1.19s/it] \n"
     ]
    },
    {
     "name": "stdout",
     "output_type": "stream",
     "text": [
      "Removed 23 identical or invalid trees\n",
      "Kept 20 outsiders with low fitness\n",
      "Generation 16 - Best fitness: 54199.8349610647 - Difference: 0.0\n",
      "Population size: 97\n",
      "Best height: 12\n",
      "Mean height of the population: 12.525773195876289\n"
     ]
    },
    {
     "name": "stderr",
     "output_type": "stream",
     "text": [
      "Generation 17, Creating offsprings: 100%|██████████| 200/200 [00:02<00:00, 89.80it/s]\n",
      "Calculating tree distance matrix: 100%|██████████| 70125/70125 [00:22<00:00, 3081.23it/s]\n",
      "Evaluating offsprings: 100%|██████████| 367/367 [07:55<00:00,  1.29s/it] \n"
     ]
    },
    {
     "name": "stdout",
     "output_type": "stream",
     "text": [
      "Removed 18 identical or invalid trees\n",
      "Kept 20 outsiders with low fitness\n",
      "Generation 17 - Best fitness: 49358.63135489904 - Difference: -4841.203606165662\n",
      "Population size: 102\n",
      "Best height: 17\n",
      "Mean height of the population: 12.372549019607844\n"
     ]
    },
    {
     "name": "stderr",
     "output_type": "stream",
     "text": [
      "Generation 18, Creating offsprings: 100%|██████████| 200/200 [00:02<00:00, 90.48it/s]\n",
      "Calculating tree distance matrix: 100%|██████████| 67161/67161 [00:24<00:00, 2788.43it/s]\n",
      "Evaluating offsprings: 100%|██████████| 359/359 [08:16<00:00,  1.38s/it]\n"
     ]
    },
    {
     "name": "stdout",
     "output_type": "stream",
     "text": [
      "Removed 18 identical or invalid trees\n",
      "Kept 20 outsiders with low fitness\n",
      "Generation 18 - Best fitness: 46487.25239908566 - Difference: -2871.3789558133794\n",
      "Population size: 102\n",
      "Best height: 16\n",
      "Mean height of the population: 12.862745098039216\n"
     ]
    },
    {
     "name": "stderr",
     "output_type": "stream",
     "text": [
      "Generation 19, Creating offsprings: 100%|██████████| 200/200 [00:02<00:00, 85.08it/s]\n",
      "Calculating tree distance matrix: 100%|██████████| 71253/71253 [00:25<00:00, 2790.81it/s]\n",
      "Evaluating offsprings: 100%|██████████| 370/370 [08:21<00:00,  1.36s/it]\n"
     ]
    },
    {
     "name": "stdout",
     "output_type": "stream",
     "text": [
      "Removed 13 identical or invalid trees\n",
      "Kept 20 outsiders with low fitness\n",
      "Generation 19 - Best fitness: 44943.006228698345 - Difference: -1544.2461703873123\n",
      "Population size: 107\n",
      "Best height: 15\n",
      "Mean height of the population: 12.093457943925234\n"
     ]
    },
    {
     "name": "stderr",
     "output_type": "stream",
     "text": [
      "Generation 20, Creating offsprings: 100%|██████████| 200/200 [00:02<00:00, 89.94it/s]\n",
      "Calculating tree distance matrix: 100%|██████████| 67161/67161 [00:21<00:00, 3148.83it/s]\n",
      "Evaluating offsprings: 100%|██████████| 359/359 [07:17<00:00,  1.22s/it] \n"
     ]
    },
    {
     "name": "stdout",
     "output_type": "stream",
     "text": [
      "Removed 15 identical or invalid trees\n",
      "Kept 20 outsiders with low fitness\n",
      "Generation 20 - Best fitness: 44943.006228698345 - Difference: 0.0\n",
      "Population size: 105\n",
      "Best height: 15\n",
      "Mean height of the population: 11.961904761904762\n"
     ]
    },
    {
     "name": "stderr",
     "output_type": "stream",
     "text": [
      "Generation 21, Creating offsprings: 100%|██████████| 200/200 [00:02<00:00, 89.08it/s]\n",
      "Calculating tree distance matrix: 100%|██████████| 70125/70125 [00:24<00:00, 2912.01it/s]\n",
      "Evaluating offsprings: 100%|██████████| 367/367 [07:54<00:00,  1.29s/it]\n"
     ]
    },
    {
     "name": "stdout",
     "output_type": "stream",
     "text": [
      "Removed 14 identical or invalid trees\n",
      "Kept 20 outsiders with low fitness\n",
      "Generation 21 - Best fitness: 44466.737340928936 - Difference: -476.26888776940905\n",
      "Population size: 106\n",
      "Best height: 15\n",
      "Mean height of the population: 12.5\n"
     ]
    },
    {
     "name": "stderr",
     "output_type": "stream",
     "text": [
      "Generation 22, Creating offsprings: 100%|██████████| 200/200 [00:02<00:00, 80.95it/s]\n",
      "Calculating tree distance matrix: 100%|██████████| 69006/69006 [00:24<00:00, 2766.35it/s]\n",
      "Evaluating offsprings: 100%|██████████| 364/364 [08:07<00:00,  1.34s/it]\n"
     ]
    },
    {
     "name": "stdout",
     "output_type": "stream",
     "text": [
      "Removed 10 identical or invalid trees\n",
      "Kept 20 outsiders with low fitness\n",
      "Generation 22 - Best fitness: 37376.546598811095 - Difference: -7090.19074211784\n",
      "Population size: 110\n",
      "Best height: 17\n",
      "Mean height of the population: 12.60909090909091\n"
     ]
    },
    {
     "name": "stderr",
     "output_type": "stream",
     "text": [
      "Generation 23, Creating offsprings: 100%|██████████| 200/200 [00:02<00:00, 80.32it/s]\n",
      "Calculating tree distance matrix: 100%|██████████| 69378/69378 [00:25<00:00, 2669.09it/s]\n",
      "Evaluating offsprings: 100%|██████████| 365/365 [08:50<00:00,  1.45s/it]\n"
     ]
    },
    {
     "name": "stdout",
     "output_type": "stream",
     "text": [
      "Removed 17 identical or invalid trees\n",
      "Kept 20 outsiders with low fitness\n",
      "Generation 23 - Best fitness: 37376.546598811095 - Difference: 0.0\n",
      "Population size: 103\n",
      "Best height: 17\n",
      "Mean height of the population: 14.0\n"
     ]
    },
    {
     "name": "stderr",
     "output_type": "stream",
     "text": [
      "Generation 24, Creating offsprings: 100%|██████████| 200/200 [00:02<00:00, 70.15it/s]\n",
      "Calculating tree distance matrix: 100%|██████████| 73153/73153 [00:32<00:00, 2240.67it/s]\n",
      "Evaluating offsprings: 100%|██████████| 375/375 [10:45<00:00,  1.72s/it]\n"
     ]
    },
    {
     "name": "stdout",
     "output_type": "stream",
     "text": [
      "Removed 16 identical or invalid trees\n",
      "Kept 20 outsiders with low fitness\n",
      "Generation 24 - Best fitness: 34503.331672998596 - Difference: -2873.214925812499\n",
      "Population size: 104\n",
      "Best height: 15\n",
      "Mean height of the population: 15.326923076923077\n"
     ]
    },
    {
     "name": "stderr",
     "output_type": "stream",
     "text": [
      "Generation 25, Creating offsprings: 100%|██████████| 200/200 [00:02<00:00, 66.67it/s]\n",
      "Calculating tree distance matrix: 100%|██████████| 67896/67896 [00:32<00:00, 2075.33it/s]\n",
      "Evaluating offsprings: 100%|██████████| 361/361 [11:30<00:00,  1.91s/it]\n"
     ]
    },
    {
     "name": "stdout",
     "output_type": "stream",
     "text": [
      "Removed 7 identical or invalid trees\n",
      "Kept 20 outsiders with low fitness\n",
      "Generation 25 - Best fitness: 33106.192752428295 - Difference: -1397.1389205703017\n",
      "Population size: 113\n",
      "Best height: 15\n",
      "Mean height of the population: 15.274336283185841\n"
     ]
    },
    {
     "name": "stderr",
     "output_type": "stream",
     "text": [
      "Generation 26, Creating offsprings: 100%|██████████| 200/200 [00:03<00:00, 65.41it/s]\n",
      "Calculating tree distance matrix: 100%|██████████| 70876/70876 [00:34<00:00, 2083.56it/s]\n",
      "Evaluating offsprings: 100%|██████████| 369/369 [11:47<00:00,  1.92s/it]\n"
     ]
    },
    {
     "name": "stdout",
     "output_type": "stream",
     "text": [
      "Removed 9 identical or invalid trees\n",
      "Kept 20 outsiders with low fitness\n",
      "Generation 26 - Best fitness: 31256.325247017434 - Difference: -1849.8675054108608\n",
      "Population size: 111\n",
      "Best height: 15\n",
      "Mean height of the population: 15.17117117117117\n"
     ]
    },
    {
     "name": "stderr",
     "output_type": "stream",
     "text": [
      "Generation 27, Creating offsprings: 100%|██████████| 200/200 [00:03<00:00, 56.63it/s]\n",
      "Calculating tree distance matrix: 100%|██████████| 68265/68265 [00:34<00:00, 1966.86it/s]\n",
      "Evaluating offsprings: 100%|██████████| 362/362 [12:06<00:00,  2.01s/it]\n"
     ]
    },
    {
     "name": "stdout",
     "output_type": "stream",
     "text": [
      "Removed 8 identical or invalid trees\n",
      "Kept 20 outsiders with low fitness\n",
      "Generation 27 - Best fitness: 26959.569857978728 - Difference: -4296.755389038706\n",
      "Population size: 112\n",
      "Best height: 15\n",
      "Mean height of the population: 15.196428571428571\n"
     ]
    },
    {
     "name": "stderr",
     "output_type": "stream",
     "text": [
      "Generation 28, Creating offsprings: 100%|██████████| 200/200 [00:03<00:00, 56.76it/s]\n",
      "Calculating tree distance matrix: 100%|██████████| 70500/70500 [00:36<00:00, 1929.38it/s]\n",
      "Evaluating offsprings: 100%|██████████| 368/368 [12:34<00:00,  2.05s/it]\n"
     ]
    },
    {
     "name": "stdout",
     "output_type": "stream",
     "text": [
      "Removed 8 identical or invalid trees\n",
      "Kept 20 outsiders with low fitness\n",
      "Generation 28 - Best fitness: 23526.303562129142 - Difference: -3433.2662958495857\n",
      "Population size: 112\n",
      "Best height: 15\n",
      "Mean height of the population: 14.696428571428571\n"
     ]
    },
    {
     "name": "stderr",
     "output_type": "stream",
     "text": [
      "Generation 29, Creating offsprings: 100%|██████████| 200/200 [00:03<00:00, 62.74it/s]\n",
      "Calculating tree distance matrix: 100%|██████████| 71631/71631 [00:38<00:00, 1838.50it/s]\n",
      "Evaluating offsprings: 100%|██████████| 371/371 [13:10<00:00,  2.13s/it]\n"
     ]
    },
    {
     "name": "stdout",
     "output_type": "stream",
     "text": [
      "Removed 6 identical or invalid trees\n",
      "Kept 20 outsiders with low fitness\n",
      "Generation 29 - Best fitness: 23526.303562129142 - Difference: 0.0\n",
      "Population size: 114\n",
      "Best height: 15\n",
      "Mean height of the population: 13.921052631578947\n"
     ]
    },
    {
     "name": "stderr",
     "output_type": "stream",
     "text": [
      "Generation 30, Creating offsprings: 100%|██████████| 200/200 [00:03<00:00, 56.06it/s]\n",
      "Calculating tree distance matrix: 100%|██████████| 75855/75855 [00:43<00:00, 1727.91it/s]\n",
      "Evaluating offsprings: 100%|██████████| 382/382 [13:58<00:00,  2.20s/it]\n"
     ]
    },
    {
     "name": "stdout",
     "output_type": "stream",
     "text": [
      "Removed 13 identical or invalid trees\n",
      "Kept 20 outsiders with low fitness\n",
      "Generation 30 - Best fitness: 23526.303562129142 - Difference: 0.0\n",
      "Population size: 107\n",
      "Best height: 15\n",
      "Mean height of the population: 13.19626168224299\n"
     ]
    },
    {
     "name": "stderr",
     "output_type": "stream",
     "text": [
      "Generation 31, Creating offsprings: 100%|██████████| 200/200 [00:03<00:00, 55.08it/s]\n",
      "Calculating tree distance matrix: 100%|██████████| 71253/71253 [00:40<00:00, 1762.95it/s]\n",
      "Evaluating offsprings: 100%|██████████| 370/370 [13:32<00:00,  2.20s/it]\n"
     ]
    },
    {
     "name": "stdout",
     "output_type": "stream",
     "text": [
      "Removed 13 identical or invalid trees\n",
      "Kept 20 outsiders with low fitness\n",
      "Generation 31 - Best fitness: 23526.303562129142 - Difference: 0.0\n",
      "Population size: 107\n",
      "Best height: 15\n",
      "Mean height of the population: 12.97196261682243\n"
     ]
    },
    {
     "name": "stderr",
     "output_type": "stream",
     "text": [
      "Generation 32, Creating offsprings: 100%|██████████| 200/200 [00:03<00:00, 55.65it/s]\n",
      "Calculating tree distance matrix: 100%|██████████| 70125/70125 [00:41<00:00, 1708.81it/s]\n",
      "Evaluating offsprings: 100%|██████████| 367/367 [13:52<00:00,  2.27s/it]\n"
     ]
    },
    {
     "name": "stdout",
     "output_type": "stream",
     "text": [
      "Removed 13 identical or invalid trees\n",
      "Kept 20 outsiders with low fitness\n",
      "Generation 32 - Best fitness: 22130.968059777508 - Difference: -1395.3355023516342\n",
      "Population size: 107\n",
      "Best height: 13\n",
      "Mean height of the population: 12.878504672897197\n"
     ]
    },
    {
     "name": "stderr",
     "output_type": "stream",
     "text": [
      "Generation 33, Creating offsprings: 100%|██████████| 200/200 [00:03<00:00, 52.80it/s]\n",
      "Calculating tree distance matrix: 100%|██████████| 71631/71631 [00:43<00:00, 1665.75it/s]\n",
      "Evaluating offsprings: 100%|██████████| 371/371 [14:52<00:00,  2.40s/it]\n"
     ]
    },
    {
     "name": "stdout",
     "output_type": "stream",
     "text": [
      "Removed 7 identical or invalid trees\n",
      "Kept 20 outsiders with low fitness\n",
      "Generation 33 - Best fitness: 22130.968059777508 - Difference: 0.0\n",
      "Population size: 113\n",
      "Best height: 13\n",
      "Mean height of the population: 13.70796460176991\n"
     ]
    },
    {
     "name": "stderr",
     "output_type": "stream",
     "text": [
      "Generation 34, Creating offsprings: 100%|██████████| 200/200 [00:03<00:00, 54.32it/s]\n",
      "Calculating tree distance matrix: 100%|██████████| 67528/67528 [00:43<00:00, 1564.30it/s]\n",
      "Evaluating offsprings: 100%|██████████| 360/360 [15:12<00:00,  2.54s/it]\n"
     ]
    },
    {
     "name": "stdout",
     "output_type": "stream",
     "text": [
      "Removed 7 identical or invalid trees\n",
      "Kept 20 outsiders with low fitness\n",
      "Generation 34 - Best fitness: 20375.293186800045 - Difference: -1755.6748729774627\n",
      "Population size: 113\n",
      "Best height: 15\n",
      "Mean height of the population: 14.495575221238939\n"
     ]
    },
    {
     "name": "stderr",
     "output_type": "stream",
     "text": [
      "Generation 35, Creating offsprings: 100%|██████████| 200/200 [00:04<00:00, 46.31it/s]\n",
      "Calculating tree distance matrix: 100%|██████████| 73920/73920 [00:50<00:00, 1473.16it/s]\n",
      "Evaluating offsprings: 100%|██████████| 377/377 [16:40<00:00,  2.65s/it]\n"
     ]
    },
    {
     "name": "stdout",
     "output_type": "stream",
     "text": [
      "Removed 6 identical or invalid trees\n",
      "Kept 20 outsiders with low fitness\n",
      "Generation 35 - Best fitness: 20375.293186800045 - Difference: 0.0\n",
      "Population size: 114\n",
      "Best height: 15\n",
      "Mean height of the population: 14.859649122807017\n"
     ]
    },
    {
     "name": "stderr",
     "output_type": "stream",
     "text": [
      "Generation 36, Creating offsprings: 100%|██████████| 200/200 [00:04<00:00, 45.88it/s]\n",
      "Calculating tree distance matrix: 100%|██████████| 72010/72010 [00:47<00:00, 1520.54it/s]\n",
      "Evaluating offsprings: 100%|██████████| 372/372 [15:27<00:00,  2.49s/it]\n"
     ]
    },
    {
     "name": "stdout",
     "output_type": "stream",
     "text": [
      "Removed 9 identical or invalid trees\n",
      "Kept 20 outsiders with low fitness\n",
      "Generation 36 - Best fitness: 15829.356167391268 - Difference: -4545.937019408777\n",
      "Population size: 111\n",
      "Best height: 17\n",
      "Mean height of the population: 14.018018018018019\n"
     ]
    },
    {
     "name": "stderr",
     "output_type": "stream",
     "text": [
      "Generation 37, Creating offsprings: 100%|██████████| 200/200 [00:04<00:00, 49.17it/s]\n",
      "Calculating tree distance matrix: 100%|██████████| 73153/73153 [00:48<00:00, 1498.27it/s]\n",
      "Evaluating offsprings: 100%|██████████| 375/375 [16:59<00:00,  2.72s/it]\n"
     ]
    },
    {
     "name": "stdout",
     "output_type": "stream",
     "text": [
      "Removed 7 identical or invalid trees\n",
      "Kept 20 outsiders with low fitness\n",
      "Generation 37 - Best fitness: 15856.37101408204 - Difference: 27.014846690772174\n",
      "Population size: 113\n",
      "Best height: 15\n",
      "Mean height of the population: 14.495575221238939\n"
     ]
    },
    {
     "name": "stderr",
     "output_type": "stream",
     "text": [
      "Generation 38, Creating offsprings: 100%|██████████| 200/200 [00:04<00:00, 47.50it/s]\n",
      "Calculating tree distance matrix: 100%|██████████| 72390/72390 [00:50<00:00, 1447.27it/s]\n",
      "Evaluating offsprings: 100%|██████████| 373/373 [17:27<00:00,  2.81s/it]\n"
     ]
    },
    {
     "name": "stdout",
     "output_type": "stream",
     "text": [
      "Removed 18 identical or invalid trees\n",
      "Kept 20 outsiders with low fitness\n",
      "Generation 38 - Best fitness: 15856.37101408204 - Difference: 0.0\n",
      "Population size: 102\n",
      "Best height: 15\n",
      "Mean height of the population: 14.441176470588236\n"
     ]
    },
    {
     "name": "stderr",
     "output_type": "stream",
     "text": [
      "Generation 39, Creating offsprings: 100%|██████████| 200/200 [00:04<00:00, 43.27it/s]\n",
      "Calculating tree distance matrix: 100%|██████████| 73536/73536 [00:52<00:00, 1390.03it/s]\n",
      "Evaluating offsprings: 100%|██████████| 376/376 [18:20<00:00,  2.93s/it]  \n"
     ]
    },
    {
     "name": "stdout",
     "output_type": "stream",
     "text": [
      "Removed 9 identical or invalid trees\n",
      "Kept 20 outsiders with low fitness\n",
      "Generation 39 - Best fitness: 14263.672418468803 - Difference: -1592.6985956132376\n",
      "Population size: 111\n",
      "Best height: 15\n",
      "Mean height of the population: 16.027027027027028\n"
     ]
    },
    {
     "name": "stderr",
     "output_type": "stream",
     "text": [
      "Generation 40, Creating offsprings: 100%|██████████| 200/200 [00:05<00:00, 39.79it/s]\n",
      "Calculating tree distance matrix: 100%|██████████| 70500/70500 [00:55<00:00, 1268.30it/s]\n",
      "Evaluating offsprings: 100%|██████████| 368/368 [20:09<00:00,  3.29s/it]  \n"
     ]
    },
    {
     "name": "stdout",
     "output_type": "stream",
     "text": [
      "Removed 15 identical or invalid trees\n",
      "Kept 20 outsiders with low fitness\n",
      "Generation 40 - Best fitness: 13760.920895932592 - Difference: -502.75152253621127\n",
      "Population size: 105\n",
      "Best height: 15\n",
      "Mean height of the population: 17.704761904761906\n"
     ]
    },
    {
     "name": "stderr",
     "output_type": "stream",
     "text": [
      "Generation 41, Creating offsprings: 100%|██████████| 200/200 [00:05<00:00, 36.57it/s]\n",
      "Calculating tree distance matrix: 100%|██████████| 73536/73536 [01:08<00:00, 1078.46it/s]\n",
      "Evaluating offsprings: 100%|██████████| 376/376 [23:27<00:00,  3.74s/it]  \n"
     ]
    },
    {
     "name": "stdout",
     "output_type": "stream",
     "text": [
      "Removed 11 identical or invalid trees\n",
      "Kept 20 outsiders with low fitness\n",
      "Generation 41 - Best fitness: 11550.508677986982 - Difference: -2210.41221794561\n",
      "Population size: 109\n",
      "Best height: 15\n",
      "Mean height of the population: 17.027522935779817\n"
     ]
    },
    {
     "name": "stderr",
     "output_type": "stream",
     "text": [
      "Generation 42, Creating offsprings: 100%|██████████| 200/200 [00:05<00:00, 39.89it/s]\n",
      "Calculating tree distance matrix: 100%|██████████| 71253/71253 [01:03<00:00, 1115.76it/s]\n",
      "Evaluating offsprings:   1%|          | 4/370 [02:32<3:56:53, 38.84s/it]"
     ]
    }
   ],
   "source": [
    "from tqdm import tqdm\n",
    "from concurrent.futures import ThreadPoolExecutor\n",
    "import math\n",
    "from utils.terminal_constants import spaced_constants\n",
    "\n",
    "\n",
    "# Parameters\n",
    "crossover = recombination_crossover\n",
    "OFFSPRING_SIZE = 200\n",
    "POPULATION_SIZE = 100\n",
    "OUTSIDER_SIZE = math.ceil(OFFSPRING_SIZE*0.1)\n",
    "pm = 0.05\n",
    "x_elitism = 0.08\n",
    "MAX_GENERATIONS = 100\n",
    "HEIGHT = 5\n",
    "PC = 0.1\n",
    "P_PICK_CONSTANT = 0.4\n",
    "P_CUT_TREE = 0.05\n",
    "CONSTANTS = spaced_constants\n",
    "\n",
    "\n",
    "# Initialize the population\n",
    "def initialize_population(_):\n",
    "    return generate_random_tree_with_all_terminal(HEIGHT, PC, terminal_list, constants=CONSTANTS, p_pick_constant=P_PICK_CONSTANT, p_cut_tree=P_CUT_TREE)\n",
    "\n",
    "ALREADY_INITIALIZED = False\n",
    "if not ALREADY_INITIALIZED:\n",
    "    with ThreadPoolExecutor() as executor:\n",
    "        population = list(tqdm(executor.map(initialize_population, range(POPULATION_SIZE)), desc=\"Initializing population\", total=POPULATION_SIZE))\n",
    "\n",
    "population = [tree.collapse_constants() for tree in population if tree is not None]    \n",
    "# Remove identical trees\n",
    "distance_matrix = tree_distance(population, verbose='Initial tree distances')\n",
    "n = len(population)\n",
    "# I need to keep only the first tree if there are identical trees\n",
    "for i in range(n):\n",
    "    for j in range(i + 1, n):\n",
    "        if distance_matrix[i][j] == 0 and population[j] is not None:\n",
    "            population[j] = None\n",
    "\n",
    "population = [tree for tree in population if tree is not None]\n",
    "for tree in population:\n",
    "    tree.reeval_heights()\n",
    "\n",
    " # Evaluate the population\n",
    "with ThreadPoolExecutor() as executor:\n",
    "    fitnesses = np.array(list(tqdm(executor.map(lambda tree: fitness(tree, vars, labels, penalized='sqrt'), population), desc=\"Evaluating population\", total=len(population))))\n",
    "   \n",
    "penalized = 'percent'\n",
    "probabilities2 = [0.10, 0.10, 0.10, 0.10, 0.10]\n",
    "probabilities1 = [0.16, 0.16, 0.16, 0.16, 0.16]\n",
    "\n",
    "print(*probabilities1)\n",
    "\n",
    "probabilities = probabilities1\n",
    "# Training\n",
    "for generation in range(MAX_GENERATIONS):\n",
    "    if (generation >= 15):\n",
    "        probabilities = probabilities2\n",
    "        penalized = 'percent'\n",
    "    if(generation >= 25):\n",
    "        penalized = 'percent'\n",
    "        probabilities = probabilities1\n",
    "\n",
    "    pm = max(0.05, 0.2 - generation / MAX_GENERATIONS * 0.15)# from 0.2 to 0.05\n",
    "    # Select the best individuals\n",
    "    best_individuals = np.argsort(fitnesses)[:int(x_elitism * POPULATION_SIZE)]\n",
    "    # Create the offspring\n",
    "    offspring = []\n",
    "    for _ in tqdm(range(OFFSPRING_SIZE), desc=f\"Generation {generation}, Creating offsprings\"):\n",
    "        # Mutation\n",
    "        if random.random() < pm:\n",
    "            mutation = random_mutation(*probabilities)\n",
    "            child = mutation(parent_selection(population, fitnesses).clone(), terminal_list, constants=CONSTANTS, p_pick_constant=P_PICK_CONSTANT, pc=PC)\n",
    "            child.reeval_heights()\n",
    "            offspring.append(child)\n",
    "        else:\n",
    "            # Select parents\n",
    "            parent1 = parent_selection(population, fitnesses, penalized).clone()\n",
    "            parent2 = parent_selection(population, fitnesses, penalized).clone()\n",
    "            # Crossover\n",
    "            child1, child2 = crossover(parent1, parent2)\n",
    "            child1.reeval_heights()\n",
    "            child2.reeval_heights()\n",
    "            offspring.extend([child1, child2])\n",
    "    # Combine and select the best individuals\n",
    "    population = [population[i] for i in best_individuals] + offspring\n",
    "\n",
    "    # Remove identical trees\n",
    "    population = [tree.collapse_constants() for tree in population if tree is not None]\n",
    "    distance_matrix = tree_distance(population)\n",
    "    n = len(population)\n",
    "    # I need to keep only the first tree if there are identical trees\n",
    "    for i in range(n):\n",
    "        for j in range(i + 1, n):\n",
    "            if distance_matrix[i][j] == 0 and population[j] is not None:\n",
    "                population[j] = None\n",
    "    \n",
    "    # Sort population for summation of distance similarity\n",
    "    summation = np.zeros(n)\n",
    "    for i in range(n):\n",
    "        summation[i] = np.sum(distance_matrix[i,:])\n",
    "    \n",
    "    distance_sorted = np.argsort(summation)[::-1]\n",
    "    outsiders = set(distance_sorted[:OUTSIDER_SIZE])\n",
    "    # Calculate fitness function\n",
    "    with ThreadPoolExecutor() as executor:\n",
    "        fitnesses_offspring = np.array(list(tqdm(executor.map(lambda tree: fitness(tree, vars, labels, penalized=penalized), offspring), desc=\"Evaluating offsprings\", total=len(offspring))))\n",
    "\n",
    "    # Select the best individuals and outsiders\n",
    "    all_fitnesses = np.concatenate([fitnesses[best_individuals], fitnesses_offspring])\n",
    "    best_fitnesses = set(np.argsort(all_fitnesses)[:POPULATION_SIZE])\n",
    "    # Union between best individuals and outsiders\n",
    "    union = best_fitnesses.union(outsiders)\n",
    "    intersection = best_fitnesses.intersection(outsiders)\n",
    "\n",
    "    union_filtered = [i for i in union if population[i] is not None]\n",
    "\n",
    "    population = [population[i] for i in union_filtered]\n",
    "    before = len(union)\n",
    "    fitnesses = [all_fitnesses[i] for i in union_filtered]\n",
    "    fitnesses = np.array(fitnesses)\n",
    "    best_fitness = fitness_unscaled(population[0], vars, labels)\n",
    "    print(f\"Removed {before - len(population)} identical or invalid trees\")\n",
    "    print(f'Kept {len(outsiders) - len(intersection)} outsiders with low fitness')\n",
    "    if generation > 0:\n",
    "        print(f\"Generation {generation} - Best fitness: {best_fitness} - Difference: {best_fitness - old_best_fitness}\")\n",
    "    else:\n",
    "        print(f\"Generation {generation} - Best fitness: {best_fitness}\")\n",
    "    old_best_fitness = best_fitness\n",
    "    print(f\"Population size: {len(population)}\")\n",
    "    print(f'Best height: {population[0].get_height()}')\n",
    "    print(f\"Mean height of the population: {np.mean([tree.get_height() for tree in population])}\")\n"
   ]
  },
  {
   "cell_type": "code",
   "execution_count": null,
   "metadata": {},
   "outputs": [],
   "source": [
    "from datetime import datetime\n",
    "conf = {\n",
    "    \"problem\": problem_number,\n",
    "    \"crossover\": crossover,\n",
    "    \"OFFSPRING_SIZE\": OFFSPRING_SIZE,\n",
    "    \"POPULATION_SIZE\": POPULATION_SIZE,\n",
    "    \"OUTSIDER_SIZE\": OUTSIDER_SIZE,\n",
    "    \"pm\": pm,\n",
    "    \"x_elitism\": x_elitism,\n",
    "    \"MAX_GENERATIONS\": MAX_GENERATIONS,\n",
    "    \"HEIGHT\": HEIGHT,\n",
    "    \"PC\": PC,\n",
    "    \"P_PICK_CONSTANT\": P_PICK_CONSTANT,\n",
    "    \"P_CUT_TREE\": P_CUT_TREE\n",
    "}\n",
    "def save_results(conf, res_function, res_fitness):\n",
    "    cur_time = datetime.now().strftime(\"%Y-%m-%d_%H-%M-%S\")\n",
    "    with open(f\"./results/{cur_time}.txt\", \"w\") as file:\n",
    "        # Write the contents of conf\n",
    "        file.write(\"# Configuration\\n\")\n",
    "        file.write(\"conf = {\\n\")\n",
    "        for key, value in conf.items():\n",
    "            file.write(f\"    '{key}': {value},\\n\")\n",
    "        file.write(\"}\\n\\n\")\n",
    "        \n",
    "        # Write the contents of res_function\n",
    "        file.write(\"# Resulting function\\n\")\n",
    "        file.write(f\"{res_function}\")\n",
    "        \n",
    "        # Write the contents of res_fitness\n",
    "        file.write(\"# Resulting fitness\\n\")\n",
    "        file.write(f\"{res_fitness}\")\n",
    "save_results(conf, str(population[0]), best_fitness)"
   ]
  },
  {
   "cell_type": "code",
   "execution_count": null,
   "metadata": {},
   "outputs": [],
   "source": [
    "population[0].draw()\n",
    "print(fitness(population[0], vars, labels))"
   ]
  }
 ],
 "metadata": {
  "kernelspec": {
   "display_name": ".venv",
   "language": "python",
   "name": "python3"
  },
  "language_info": {
   "codemirror_mode": {
    "name": "ipython",
    "version": 3
   },
   "file_extension": ".py",
   "mimetype": "text/x-python",
   "name": "python",
   "nbconvert_exporter": "python",
   "pygments_lexer": "ipython3",
   "version": "3.12.6"
  }
 },
 "nbformat": 4,
 "nbformat_minor": 2
}
