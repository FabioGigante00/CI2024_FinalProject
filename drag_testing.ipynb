{
 "cells": [
  {
   "cell_type": "code",
   "execution_count": 7,
   "metadata": {},
   "outputs": [],
   "source": [
    "import numpy as np\n",
    "from gxgp import Node"
   ]
  },
  {
   "cell_type": "code",
   "execution_count": 11,
   "metadata": {},
   "outputs": [
    {
     "name": "stdout",
     "output_type": "stream",
     "text": [
      "<function sum at 0x000001BEFFDBE480>\n",
      "<ufunc 'multiply'>\n",
      "<function sum at 0x000001BEFFDBE480>\n",
      "<function sum at 0x000001BEFFDBE480>\n"
     ]
    }
   ],
   "source": [
    "np.multiply(2.0, 4.0)\n",
    "tree2 = Node(\n",
    "    lambda a, b, c, d, e: (a + b * c - d) / e, [Node('x'), Node('y'), Node(3), Node('z'), Node(2)]\n",
    ")\n",
    "\n",
    "print(np.sum)\n",
    "print(np.multiply)\n",
    "print(np.sum)\n",
    "print(np.sum)"
   ]
  }
 ],
 "metadata": {
  "kernelspec": {
   "display_name": ".venv",
   "language": "python",
   "name": "python3"
  },
  "language_info": {
   "codemirror_mode": {
    "name": "ipython",
    "version": 3
   },
   "file_extension": ".py",
   "mimetype": "text/x-python",
   "name": "python",
   "nbconvert_exporter": "python",
   "pygments_lexer": "ipython3",
   "version": "3.12.6"
  }
 },
 "nbformat": 4,
 "nbformat_minor": 2
}
