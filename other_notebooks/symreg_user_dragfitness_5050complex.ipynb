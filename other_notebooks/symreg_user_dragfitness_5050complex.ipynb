{
 "cells": [
  {
   "cell_type": "markdown",
   "metadata": {},
   "source": [
    "### Imports"
   ]
  },
  {
   "cell_type": "code",
   "execution_count": 1,
   "metadata": {},
   "outputs": [],
   "source": [
    "# If updates on imported files aren't detected, restart the kernel (we'll need to find an automatic solution for this)\n",
    "\n",
    "import numpy as np\n",
    "from icecream import ic\n",
    "\n",
    "from typing import List, Tuple, Dict"
   ]
  },
  {
   "cell_type": "markdown",
   "metadata": {},
   "source": [
    "\n",
    "### Evolution Helper"
   ]
  },
  {
   "cell_type": "code",
   "execution_count": 2,
   "metadata": {},
   "outputs": [],
   "source": [
    "import random\n",
    "from typing import List\n",
    "from gxgp.node import Node\n",
    "from utils.operations_dict import basic_function_set, complex_function_set"
   ]
  },
  {
   "cell_type": "markdown",
   "metadata": {},
   "source": [
    "### Tree Generation"
   ]
  },
  {
   "cell_type": "code",
   "execution_count": 3,
   "metadata": {},
   "outputs": [],
   "source": [
    "def generate_random_tree(max_height: int, pc: float, terminal_list: List[str],\n",
    "                         constants: list[float] = None, p_pick_constant: float = 0.2, p_cut_tree: float = 0.2,\n",
    "                         verbose: bool = False, cur_depth: int = 0) -> Node:\n",
    "    \"\"\"\n",
    "    Generate a random symbolic expression tree.\n",
    "\n",
    "    Mandatory Parameters\n",
    "    ----------\n",
    "    max_height : int\n",
    "        The maximum height of the tree. The height of a tree is the length of the longest path from the root to a leaf (e.g. height of a leaf is 0).\n",
    "    pc : float\n",
    "        The probability of choosing a complex function over a basic function.\n",
    "    terminal_list : List[str]\n",
    "        The terminal list to choose from. Example: ['x0', 'x1', 'x2']\n",
    "\n",
    "    Optional Parameters\n",
    "    ----------\n",
    "    constants : list[float]\n",
    "        A list of constants that can be used in the tree (default is None).\n",
    "    p_pick_constant : float\n",
    "        The probability of choosing a constant over a terminal (default is 0.2).\n",
    "    p_cut_tree : float\n",
    "        The probability of cutting the tree early (default is 0.2).    \n",
    "    verbose : bool    \n",
    "        Whether to print debug information (default is False).\n",
    "    cur_depth : int\n",
    "        The exploration depth (e.g. depth of root is 0)\n",
    "\n",
    "    Returns\n",
    "    -------\n",
    "    Node\n",
    "        A Node object representing the root of the tree.\n",
    "    \"\"\"\n",
    "    indent = ' ' * (cur_depth * 2)\n",
    "\n",
    "    # Cut the tree early with probability 0.2\n",
    "    if (random.random() < p_cut_tree) or max_height == 0:  \n",
    "        # If constants are provided, choose one with probability p_pick_constant\n",
    "        if constants is not None and random.random() < p_pick_constant: \n",
    "            terminal = random.choice(constants) \n",
    "        # Otherwise, pick from the terminal set\n",
    "        else:                                                \n",
    "            terminal = random.choice(terminal_list)\n",
    "        \n",
    "        if verbose: print(f\"{indent}Picked terminal: {terminal}\")\n",
    "\n",
    "        # Set the height of the node to 0\n",
    "        my_node = Node(terminal)\n",
    "        my_node.set_height(0)\n",
    "        return my_node\n",
    "    else:\n",
    "        # Choose a complex function with probability pc\n",
    "        if random.random() < pc:                       \n",
    "            func = random.choice(list(complex_function_set.keys()))\n",
    "            if verbose: print(f\"{indent}Chose complex function {func}\")\n",
    "            num_children = complex_function_set[func].__code__.co_argcount  # Numero di argomenti della funzione\n",
    "            children = [generate_random_tree(max_height - 1, pc, terminal_list, constants, p_pick_constant, p_cut_tree, verbose, cur_depth + 1)\n",
    "                        for _ in range(num_children)]\n",
    "            \n",
    "            # Set height\n",
    "            cur_height = max([child.get_height() for child in children]) + 1\n",
    "            my_node = Node(complex_function_set[func], children, name=func)\n",
    "            my_node.set_height(cur_height)\n",
    "            return my_node\n",
    "        # Otherwise, choose a basic function\n",
    "        else:                                           \n",
    "            func = random.choice(list(basic_function_set.keys()))\n",
    "            if verbose: print(f\"{indent}Chose basic function {func}\")\n",
    "            num_children = basic_function_set[func].__code__.co_argcount  # Numero di argomenti della funzione\n",
    "            children = [generate_random_tree(max_height - 1, pc, terminal_list, constants, p_pick_constant, p_cut_tree, verbose, cur_depth + 1)\n",
    "                        for _ in range(num_children)]\n",
    "            # Set height\n",
    "            cur_height = max([child.get_height() for child in children]) + 1\n",
    "            my_node = Node(basic_function_set[func], children, name=func)\n",
    "            my_node.set_height(cur_height)\n",
    "            return my_node\n",
    "\n",
    "def generate_random_tree_with_all_terminal(max_height: int, pc: float, terminal_list: List[str],\n",
    "                         constants: list[float] = None, p_pick_constant: float = 0.2, p_cut_tree: float = 0.2,\n",
    "                         verbose: bool = False, cur_depth: int = 0, picked_terminal: set[str]=set()) -> Node:\n",
    "    \"\"\"\n",
    "    Generate a random symbolic expression tree.\n",
    "\n",
    "    Mandatory Parameters\n",
    "    ----------\n",
    "    max_height : int\n",
    "        The maximum height of the tree. The height of a tree is the length of the longest path from the root to a leaf (e.g. height of a leaf is 0).\n",
    "    pc : float\n",
    "        The probability of choosing a complex function over a basic function.\n",
    "    terminal_list : List[str]\n",
    "        The terminal list to choose from. Example: ['x0', 'x1', 'x2']\n",
    "\n",
    "    Optional Parameters\n",
    "    ----------\n",
    "    constants : list[float]\n",
    "        A list of constants that can be used in the tree (default is None).\n",
    "    p_pick_constant : float\n",
    "        The probability of choosing a constant over a terminal (default is 0.2).\n",
    "    p_cut_tree : float\n",
    "        The probability of cutting the tree early (default is 0.2).    \n",
    "    verbose : bool    \n",
    "        Whether to print debug information (default is False).\n",
    "    cur_depth : int\n",
    "        The exploration depth (e.g. depth of root is 0)\n",
    "\n",
    "    Returns\n",
    "    -------\n",
    "    Node\n",
    "        A Node object representing the root of the tree.\n",
    "    \"\"\"\n",
    "    indent = ' ' * (cur_depth * 2)\n",
    "\n",
    "    # Cut the tree early with probability 0.2\n",
    "    if (random.random() < p_cut_tree) or max_height == 0:  \n",
    "        # If constants are provided, choose one with probability p_pick_constant\n",
    "        if constants is not None and random.random() < p_pick_constant and len(picked_terminal) == len(terminal_list): \n",
    "            terminal = random.choice(constants) \n",
    "        # Otherwise, pick from the terminal set\n",
    "        else:                                                \n",
    "            terminal = random.choice(terminal_list)\n",
    "            picked_terminal.add(terminal)\n",
    "        \n",
    "        if verbose: print(f\"{indent}Picked terminal: {terminal}\")\n",
    "\n",
    "        # Set the height of the node to 0\n",
    "        my_node = Node(terminal)\n",
    "        my_node.set_height(0)\n",
    "        return my_node\n",
    "    else:\n",
    "        # Choose a complex function with probability pc\n",
    "        if random.random() < pc:                       \n",
    "            func = random.choice(list(complex_function_set.keys()))\n",
    "            if verbose: print(f\"{indent}Chose complex function {func}\")\n",
    "            num_children = complex_function_set[func].__code__.co_argcount  # Numero di argomenti della funzione\n",
    "            children = [generate_random_tree_with_all_terminal(max_height - 1, pc, terminal_list, constants, p_pick_constant, p_cut_tree, verbose, cur_depth + 1,picked_terminal)\n",
    "                        for _ in range(num_children)]\n",
    "            \n",
    "            # Set height\n",
    "            cur_height = max([child.get_height() for child in children]) + 1\n",
    "            my_node = Node(complex_function_set[func], children, name=func)\n",
    "            my_node.set_height(cur_height)\n",
    "            return my_node\n",
    "        # Otherwise, choose a basic function\n",
    "        else:                                           \n",
    "            func = random.choice(list(basic_function_set.keys()))\n",
    "            if verbose: print(f\"{indent}Chose basic function {func}\")\n",
    "            num_children = basic_function_set[func].__code__.co_argcount  # Numero di argomenti della funzione\n",
    "            children = [generate_random_tree_with_all_terminal(max_height - 1, pc, terminal_list, constants, p_pick_constant, p_cut_tree, verbose, cur_depth + 1,picked_terminal)\n",
    "                        for _ in range(num_children)]\n",
    "            # Set height\n",
    "            cur_height = max([child.get_height() for child in children]) + 1\n",
    "            my_node = Node(basic_function_set[func], children, name=func)\n",
    "            my_node.set_height(cur_height)\n",
    "            return my_node"
   ]
  },
  {
   "cell_type": "markdown",
   "metadata": {},
   "source": [
    "### Mutations"
   ]
  },
  {
   "cell_type": "code",
   "execution_count": 4,
   "metadata": {},
   "outputs": [],
   "source": [
    "def point_mutation(Tree: Node, terminal_list: List[str], constants: list[float] = None, p_pick_constant: float = 0.2, pc: float = 0.2) -> Node:\n",
    "    \"\"\"\n",
    "    Mutate a tree by changing a random node to a new random node.\n",
    "\n",
    "    Parameters\n",
    "    ----------\n",
    "    Tree : Node\n",
    "        The tree to mutate.\n",
    "    terminal_list : List[str]\n",
    "        The terminal list to choose from. Example: ['x0', 'x1', 'x2']\n",
    "    constants : list[float]\n",
    "        A list of constants that can be used in the tree.\n",
    "    p_pick_constant : float\n",
    "        The probability of choosing a constant over a terminal.\n",
    "    pc : float\n",
    "        The probability of choosing a complex function over a basic function.\n",
    "\n",
    "    Returns\n",
    "    -------\n",
    "    Node\n",
    "        The mutated tree.\n",
    "    \"\"\"\n",
    "\n",
    "    # Get the list of nodes in the tree\n",
    "    node = Tree.get_random_node()\n",
    "\n",
    "    # If the node is a terminal, change it to a new terminal\n",
    "    if node.is_leaf:\n",
    "        if constants is not None and random.random() < p_pick_constant:\n",
    "            terminal = random.choice(constants)\n",
    "        else:\n",
    "            terminal = random.choice(terminal_list)\n",
    "        node.set_func(terminal)\n",
    "        return Tree\n",
    "    # Otherwise, change it to a new function maintaining the arity\n",
    "    else:\n",
    "        if random.random() < pc:\n",
    "            while True:\n",
    "                func = random.choice(list(complex_function_set.keys()))\n",
    "                arity = complex_function_set[func].__code__.co_argcount\n",
    "                if arity == node._arity:\n",
    "                    break\n",
    "            node.set_func(complex_function_set[func], name=func)\n",
    "        else:\n",
    "            while True:\n",
    "                func = random.choice(list(basic_function_set.keys()))\n",
    "                arity = basic_function_set[func].__code__.co_argcount\n",
    "                if arity == node._arity:\n",
    "                    break\n",
    "            node.set_func(basic_function_set[func], name=func)\n",
    "        return Tree\n",
    "    \n",
    "def subtree_mutation(Tree: Node, terminal_list: List[str], constants: list[float] = None, p_pick_constant: float = 0.2, pc: float = 0.2, height: int = 3, verbose: bool = False) -> Node:\n",
    "    \"\"\"\n",
    "    Mutate a tree by changing a random subtree to a new random subtree.\n",
    "\n",
    "    Parameters\n",
    "    ----------\n",
    "    Tree : Node\n",
    "        The tree to mutate.\n",
    "    terminal_list : List[str]\n",
    "        The terminal list to choose from. Example: ['x0', 'x1', 'x2']\n",
    "    constants : list[float]\n",
    "        A list of constants that can be used in the tree.\n",
    "    p_pick_constant : float\n",
    "        The probability of choosing a constant over a terminal.\n",
    "    pc : float\n",
    "        The probability of choosing a complex function over a basic function.\n",
    "    height : int\n",
    "        The maximum height of the new subtree.\n",
    "\n",
    "    Returns\n",
    "    -------\n",
    "    Node\n",
    "        The mutated tree.\n",
    "    \"\"\"\n",
    "\n",
    "    # Get the list of nodes in the tree\n",
    "    node = Tree.get_random_node()\n",
    "\n",
    "    if verbose:\n",
    "        print(f\"Node to mutate: {node._str} at height {node._height}\")\n",
    "\n",
    "    new_subtree = generate_random_tree(height, pc, terminal_list, constants, p_pick_constant)\n",
    "    node = node.replace_tree_shallow(new_subtree)\n",
    "    return Tree\n",
    "\n",
    "def expansion_mutation(Tree: Node, terminal_list: List[str], constants: list[float] = None, p_pick_constant: float = 0.2, pc: float = 0.2, height: int = 3, verbose: bool = False) -> Node:\n",
    "    \"\"\"\n",
    "    Mutate a tree by expanding a random node to a new random subtree.\n",
    "\n",
    "    Parameters\n",
    "    ----------\n",
    "    Tree : Node\n",
    "        The tree to mutate.\n",
    "    terminal_list : List[str]\n",
    "        The terminal list to choose from. Example: ['x0', 'x1', 'x2']\n",
    "    constants : list[float]\n",
    "        A list of constants that can be used in the tree.\n",
    "    p_pick_constant : float\n",
    "        The probability of choosing a constant over a terminal.\n",
    "    pc : float\n",
    "        The probability of choosing a complex function over a basic function.\n",
    "    height : int\n",
    "        The maximum height of the new subtree.\n",
    "\n",
    "    Returns\n",
    "    -------\n",
    "    Node\n",
    "        The mutated tree.\n",
    "    \"\"\"\n",
    "    # Get the list of nodes in the tree\n",
    "    node = random.choice(Tree.get_leafs())\n",
    "\n",
    "    if verbose:\n",
    "        print(f\"Node to mutate: {node._str} at height {node._height}\")  \n",
    "    \n",
    "    \n",
    "    new_subtree = generate_random_tree(height, pc, terminal_list, constants, p_pick_constant)\n",
    "    node = node.replace_tree_shallow(new_subtree)\n",
    "    return Tree\n",
    "\n",
    "def collaps_mutation(Tree: Node, terminal_list: List[str], constants: list[float] = None, p_pick_constant: float = 0.2, pc: float = 0.2, verbose: bool = False) -> Node:\n",
    "    \"\"\"\n",
    "    Mutate a tree by collapsing a random node to a terminal.\n",
    "\n",
    "    Parameters\n",
    "    ----------\n",
    "    Tree : Node\n",
    "        The tree to mutate.\n",
    "    terminal_list : List[str]\n",
    "        The terminal list to choose from. Example: ['x0', 'x1', 'x2']\n",
    "    constants : list[float]\n",
    "        A list of constants that can be used in the tree.\n",
    "    p_pick_constant : float\n",
    "        The probability of choosing a constant over a terminal.\n",
    "    pc : float\n",
    "        The probability of choosing a complex function over a basic function.\n",
    "\n",
    "    Returns\n",
    "    -------\n",
    "    Node\n",
    "        The mutated tree.\n",
    "    \"\"\"\n",
    "\n",
    "    # Get the list of nodes in the tree\n",
    "    node = Tree.get_random_node()\n",
    "\n",
    "    if verbose:\n",
    "        print(f\"Node to mutate: {node._str} at height {node._height}\")\n",
    "\n",
    "   # possible choices\n",
    "    possible_choices = node.get_leafs()\n",
    "\n",
    "\n",
    "    node.replace_tree_shallow(random.choice(possible_choices))\n",
    "    return Tree\n",
    "\n",
    "\n",
    "def permutation_mutation(Tree: Node, terminal_list: List[str], constants: list[float] = None, p_pick_constant: float = 0.2, pc: float = 0.2,verbose: bool = False) -> Node:\n",
    "    \"\"\"\n",
    "    Mutate a tree by permuting the children of a random node through a rotation.\n",
    "\n",
    "    Parameters\n",
    "    ----------\n",
    "    Tree : Node\n",
    "        The tree to mutate.\n",
    "\n",
    "    Returns\n",
    "    -------\n",
    "    Node\n",
    "        The mutated tree.\n",
    "    \"\"\"\n",
    "\n",
    "    # Extract a random node that has at least two children (so no leaves and single input functions)\n",
    "    found = False\n",
    "    for i in range(20):\n",
    "        father = Tree.get_random_node()\n",
    "        if father._arity > 1:\n",
    "            found = True\n",
    "            break\n",
    "    if not found:\n",
    "        return Tree\n",
    "    \n",
    "    if verbose:\n",
    "        print(f\"Father node: {father._str} at height {father._height}. It has {len(father._successors)} children: [\", end=\"\")\n",
    "        for i, child in enumerate(father._successors):\n",
    "            print(f\"{child._str},\", end=\" \")\n",
    "        print(\"]\")\n",
    "\n",
    "    \n",
    "    new_successors = ()\n",
    "    for i, child in enumerate(father._successors):\n",
    "        new_successors = new_successors + (father._successors[i-1],)\n",
    "\n",
    "    father._successors = new_successors\n",
    "\n",
    "    if verbose:\n",
    "        print(f\"New children: [\", end=\"\")\n",
    "        for i, child in enumerate(father._successors):\n",
    "            print(f\"{child._str},\", end=\" \")\n",
    "        print(\"]\")\n",
    "\n",
    "    return Tree\n",
    "\n",
    "def hoist_mutation(Tree: Node, terminal_list: List[str], constants: list[float] = None, p_pick_constant: float = 0.2, pc: float = 0.2,verbose: bool = False) -> Node:\n",
    "    \"\"\"\n",
    "    Mutate a tree by replacing the root with a random child.\n",
    "\n",
    "    Parameters\n",
    "    ----------\n",
    "    Tree : Node\n",
    "        The tree to mutate.\n",
    "\n",
    "    Returns\n",
    "    -------\n",
    "    Node\n",
    "        The mutated tree.\n",
    "    \"\"\"\n",
    "\n",
    "    random_node = Tree.get_random_node()\n",
    "    return random_node"
   ]
  },
  {
   "cell_type": "markdown",
   "metadata": {},
   "source": [
    "### crossover"
   ]
  },
  {
   "cell_type": "code",
   "execution_count": 5,
   "metadata": {},
   "outputs": [],
   "source": [
    "def recombination_crossover(Tree1: Node, Tree2: Node, verbose: bool = False) -> Tuple[Node, Node]:\n",
    "    \"\"\"\n",
    "    Recombine two trees by swapping a random subtree.\n",
    "\n",
    "    Parameters\n",
    "    ----------\n",
    "    Tree1 : Node\n",
    "        The first tree.\n",
    "    Tree2 : Node\n",
    "        The second tree.\n",
    "\n",
    "    Returns\n",
    "    -------\n",
    "    Tuple[Node, Node]\n",
    "        The recombined trees.\n",
    "    \"\"\"\n",
    "\n",
    "    # Get the list of nodes in the trees\n",
    "    node1 = Tree1.get_random_node()\n",
    "    node2 = Tree2.get_random_node()\n",
    "\n",
    "    if verbose:\n",
    "        print(f\"Node1 to swap: {node1._str} at height {node1._height}\")\n",
    "        print(f\"Node2 to swap: {node2._str} at height {node2._height}\")\n",
    "\n",
    "    # Swap the subtrees\n",
    "    temp1 = node1.clone()\n",
    "    temp2 = node2.clone()\n",
    "    node1.replace_tree_shallow(temp2)\n",
    "    node2.replace_tree_shallow(temp1)\n",
    "\n",
    "    return Tree1, Tree2\n",
    "\n"
   ]
  },
  {
   "cell_type": "markdown",
   "metadata": {},
   "source": [
    "### Load Data"
   ]
  },
  {
   "cell_type": "code",
   "execution_count": 6,
   "metadata": {},
   "outputs": [
    {
     "name": "stdout",
     "output_type": "stream",
     "text": [
      "Input shape: (3, 5000)  Example of sample:  [ 1.52827812 -2.67876092 -3.73351453]\n",
      "Labels shape: (5000,)  Example of label:  40.96071445158248\n",
      "terminal_list:  ['x0', 'x1', 'x2']\n"
     ]
    }
   ],
   "source": [
    "from gxgp import Node\n",
    "problem_number = 3\n",
    "problem = np.load(f'./data/problem_{problem_number}.npz')\n",
    "input = problem['x']\n",
    "labels = problem['y']\n",
    "\n",
    "print(\"Input shape:\", input.shape, \" Example of sample: \", input[:, 0])\n",
    "print(\"Labels shape:\", labels.shape, \" Example of label: \", labels[0])\n",
    "\n",
    "# Terminal set\n",
    "terminal_list = ['x' + str(i) for i in range(input.shape[0])]\n",
    "\n",
    "print(\"terminal_list: \", terminal_list)\n",
    "# Main"
   ]
  },
  {
   "cell_type": "markdown",
   "metadata": {},
   "source": [
    "### examples for generating trees\n",
    "You can fine tune the size of the output by modifying draw() from draw.py"
   ]
  },
  {
   "cell_type": "code",
   "execution_count": 7,
   "metadata": {},
   "outputs": [],
   "source": [
    "from utils.terminal_constants import crammed_constants\n",
    "\n",
    "# height = 5\n",
    "# initialized = generate_random_tree(height, 0.2, terminal_list, constants=crammed_constants, p_pick_constant=0.7, p_cut_tree=0.01, verbose=True)\n",
    "# initialized.draw()"
   ]
  },
  {
   "cell_type": "code",
   "execution_count": 8,
   "metadata": {},
   "outputs": [],
   "source": [
    "# collapsed = initialized.collapse_constants()\n",
    "# collapsed.draw()"
   ]
  },
  {
   "cell_type": "code",
   "execution_count": 9,
   "metadata": {},
   "outputs": [
    {
     "data": {
      "text/plain": [
       "'second=generate_random_tree(height, 0.2, terminal_list, constants=crammed_constants, p_pick_constant=0.4, p_cut_tree=0.05, verbose=True)\\nsecond.draw()'"
      ]
     },
     "execution_count": 9,
     "metadata": {},
     "output_type": "execute_result"
    }
   ],
   "source": [
    "\"\"\"second=generate_random_tree(height, 0.2, terminal_list, constants=crammed_constants, p_pick_constant=0.4, p_cut_tree=0.05, verbose=True)\n",
    "second.draw()\"\"\""
   ]
  },
  {
   "cell_type": "code",
   "execution_count": 10,
   "metadata": {},
   "outputs": [
    {
     "data": {
      "text/plain": [
       "'for obj in recombination_crossover(initialized, second, verbose=True):\\n    obj.draw()'"
      ]
     },
     "execution_count": 10,
     "metadata": {},
     "output_type": "execute_result"
    }
   ],
   "source": [
    "\"\"\"for obj in recombination_crossover(initialized, second, verbose=True):\n",
    "    obj.draw()\"\"\""
   ]
  },
  {
   "cell_type": "markdown",
   "metadata": {},
   "source": [
    "### Create input formatted"
   ]
  },
  {
   "cell_type": "code",
   "execution_count": 11,
   "metadata": {},
   "outputs": [
    {
     "name": "stdout",
     "output_type": "stream",
     "text": [
      "input shape is  (3, 5000)\n",
      "vars shape is  (5000,)\n"
     ]
    }
   ],
   "source": [
    "print(\"input shape is \", input.shape)\n",
    "\n",
    "vars = []\n",
    "for j in range(input.shape[1]):\n",
    "    cur_vars = {'x'+str(i): input[i][j] for i in range(input.shape[0])}\n",
    "    # print(\"cur_vars is \", cur_vars)\n",
    "    vars.append(cur_vars)\n",
    "vars = np.array(vars)\n",
    "\n",
    "print(\"vars shape is \", vars.shape)"
   ]
  },
  {
   "cell_type": "markdown",
   "metadata": {},
   "source": [
    "### fitness"
   ]
  },
  {
   "cell_type": "code",
   "execution_count": 12,
   "metadata": {},
   "outputs": [],
   "source": [
    "import warnings\n",
    "warnings.simplefilter(\"error\", RuntimeWarning)"
   ]
  },
  {
   "cell_type": "code",
   "execution_count": 13,
   "metadata": {},
   "outputs": [],
   "source": [
    "# def fitness(mytree: Node, vars, labels, verbose=False, penalized = 'sqrt'):\n",
    "#     try:\n",
    "#         output = np.array([mytree(**var) for var in vars])\n",
    "#         mse = 100 * np.square(labels - output).mean()\n",
    "#         if penalized == 'percent':\n",
    "#             return mse +  mse * mytree.get_height() * 0.01 if mytree.get_height() > 0 else mse\n",
    "#         else:\n",
    "#             return mse * np.sqrt(mytree.get_height()) if mytree.get_height() > 0 else mse\n",
    "#     except RuntimeWarning as e:\n",
    "#         if verbose: print(f\"caught runtime warning: {e}, setting fitness to inf\")\n",
    "#         return np.inf\n",
    "\n",
    "# Fitness reverse\n",
    "def fitness(mytree, vars, labels, penalized=None):\n",
    "    try:\n",
    "        output = np.array([mytree(**var) for var in vars])\n",
    "        mytree.reeval_heights()\n",
    "        height = mytree.get_height()\n",
    "        mse = 100 * np.square(labels - output).mean()\n",
    "        if height > 25:\n",
    "            mse *= float(height - 15) / 10\n",
    "        return mse\n",
    "    except RuntimeWarning as e:\n",
    "        # print(f\"caught runtime warning: {e}, setting fitness to inf\")\n",
    "        return np.inf\n",
    "\n",
    "#print(fitness(initialized, vars, labels))\n",
    "\n",
    "def fitness_unscaled(mytree: Node, vars, labels, verbose=False):\n",
    "    try:\n",
    "        output = np.array([mytree(**var) for var in vars])\n",
    "        mse = 100 * np.square(labels - output).mean()\n",
    "        return mse\n",
    "    except RuntimeWarning as e:\n",
    "        if verbose: print(f\"caught runtime warning: {e}, setting fitness to inf\")\n",
    "        return np.inf\n",
    "#print(fitness(initialized, vars, labels))"
   ]
  },
  {
   "cell_type": "code",
   "execution_count": 14,
   "metadata": {},
   "outputs": [
    {
     "data": {
      "text/plain": [
       "'# Xover\\ndef xover(tree1, tree2):\\n    return xover_swap_subtree(tree1, tree2)\\n\\n# initialized.subtree.pop().draw() # this procedure is really similar to get_random_node, except there we use a list and random.choice\\nhoist_mutation(initialized, verbose=True).draw()'"
      ]
     },
     "execution_count": 14,
     "metadata": {},
     "output_type": "execute_result"
    }
   ],
   "source": [
    "from gxgp.gp_common import xover_swap_subtree\n",
    "\"\"\"# Xover\n",
    "def xover(tree1, tree2):\n",
    "    return xover_swap_subtree(tree1, tree2)\n",
    "\n",
    "# initialized.subtree.pop().draw() # this procedure is really similar to get_random_node, except there we use a list and random.choice\n",
    "hoist_mutation(initialized, verbose=True).draw()\"\"\""
   ]
  },
  {
   "cell_type": "markdown",
   "metadata": {},
   "source": [
    "### parent selection"
   ]
  },
  {
   "cell_type": "code",
   "execution_count": 15,
   "metadata": {},
   "outputs": [],
   "source": [
    "\n",
    "def parent_selection(population, pre_calculated_fitnesses=None, penalized = 'sqrt'):\n",
    "    if pre_calculated_fitnesses is None:\n",
    "        candidates = sorted(np.random.choice(population, 2), key=lambda e: fitness(e,vars,labels, penalized=penalized))\n",
    "        return candidates[0]\n",
    "    else:\n",
    "        #Random index between 0 and population size\n",
    "        index1 = np.random.randint(0, len(population))\n",
    "        index2 = np.random.randint(0, len(population))\n",
    "        candidates = [population[index1], population[index2]]\n",
    "        if pre_calculated_fitnesses[index1] > pre_calculated_fitnesses[index2]:\n",
    "            return candidates[1]\n",
    "        else:\n",
    "            return candidates[0]"
   ]
  },
  {
   "cell_type": "markdown",
   "metadata": {},
   "source": [
    "### utils functions"
   ]
  },
  {
   "cell_type": "code",
   "execution_count": 16,
   "metadata": {},
   "outputs": [],
   "source": [
    "import concurrent\n",
    "from concurrent.futures import ThreadPoolExecutor\n",
    "from tqdm import tqdm\n",
    "import numpy as np\n",
    "\n",
    "def compute_pair_distance(i, j, population):\n",
    "    return i, j, population[i].tree_distance(population[j])\n",
    "\n",
    "def tree_distance(population, verbose=\"Calculating tree distance matrix\"):\n",
    "    n = len(population)\n",
    "    matrix = np.zeros((n, n))\n",
    "    pairs = [(i, j) for i in range(n) for j in range(i+1, n)]\n",
    "    \n",
    "    with ThreadPoolExecutor() as executor:\n",
    "        futures = [executor.submit(compute_pair_distance, i, j, population) for i, j in pairs]\n",
    "        for future in tqdm(concurrent.futures.as_completed(futures), desc=verbose, total=len(futures)):\n",
    "            i, j, dist = future.result()\n",
    "            matrix[i][j] = dist/ population[i].__len__() if population[i].__len__() > 0 else dist\n",
    "            matrix[j][i] = dist/ population[j].__len__() if population[j].__len__() > 0 else dist\n",
    "\n",
    "    \n",
    "    return matrix\n",
    "\n",
    "def random_mutation(p1=0.16, p2=0.16, p3=0.16, p4=0.16, p5=0.16):\n",
    "    r = random.random()\n",
    "    if r < p1:\n",
    "        return point_mutation\n",
    "    elif r < p1 + p2:\n",
    "        return subtree_mutation\n",
    "    elif r < p1 + p2 + p3:\n",
    "        return expansion_mutation\n",
    "    elif r < p1 + p2 + p3 + p4:\n",
    "        return permutation_mutation\n",
    "    elif r < p1 + p2 + p3 + p4 + p5:\n",
    "        return collaps_mutation\n",
    "    else:\n",
    "        return hoist_mutation\n"
   ]
  },
  {
   "cell_type": "markdown",
   "metadata": {},
   "source": [
    "### Training"
   ]
  },
  {
   "cell_type": "code",
   "execution_count": null,
   "metadata": {},
   "outputs": [
    {
     "name": "stderr",
     "output_type": "stream",
     "text": [
      "Initializing population: 100%|██████████| 100/100 [00:00<00:00, 99674.52it/s]\n",
      "Initial tree distances: 100%|██████████| 4950/4950 [00:00<00:00, 9615.69it/s] \n",
      "Evaluating population: 100%|██████████| 100/100 [00:11<00:00,  8.57it/s]\n"
     ]
    },
    {
     "name": "stdout",
     "output_type": "stream",
     "text": [
      "0.16 0.16 0.16 0.16 0.16\n"
     ]
    },
    {
     "name": "stderr",
     "output_type": "stream",
     "text": [
      "Generation 0, Creating offsprings: 100%|██████████| 200/200 [00:00<00:00, 237.55it/s]\n"
     ]
    },
    {
     "name": "stdout",
     "output_type": "stream",
     "text": [
      "Error in node pow: invalid value encountered in power\n"
     ]
    },
    {
     "name": "stderr",
     "output_type": "stream",
     "text": [
      "Calculating tree distance matrix: 100%|██████████| 69006/69006 [00:04<00:00, 15544.03it/s]\n",
      "Evaluating offsprings: 100%|██████████| 364/364 [00:59<00:00,  6.16it/s]\n"
     ]
    },
    {
     "name": "stdout",
     "output_type": "stream",
     "text": [
      "Removed 10 identical or invalid trees\n",
      "Kept 10 outsiders with low fitness\n",
      "Generation 0 - Best fitness: 273596.20724400633\n",
      "Population size: 100\n",
      "Best height: 0\n",
      "Mean height of the population: 3.58\n"
     ]
    },
    {
     "name": "stderr",
     "output_type": "stream",
     "text": [
      "Generation 1, Creating offsprings: 100%|██████████| 200/200 [00:00<00:00, 520.56it/s]\n",
      "Calculating tree distance matrix: 100%|██████████| 67896/67896 [00:03<00:00, 22070.64it/s]\n",
      "Evaluating offsprings: 100%|██████████| 361/361 [00:42<00:00,  8.45it/s]\n"
     ]
    },
    {
     "name": "stdout",
     "output_type": "stream",
     "text": [
      "Removed 36 identical or invalid trees\n",
      "Kept 13 outsiders with low fitness\n",
      "Generation 1 - Best fitness: 248470.91647218284 - Difference: -25125.290771823493\n",
      "Population size: 77\n",
      "Best height: 2\n",
      "Mean height of the population: 3.090909090909091\n"
     ]
    },
    {
     "name": "stderr",
     "output_type": "stream",
     "text": [
      "Generation 2, Creating offsprings: 100%|██████████| 200/200 [00:00<00:00, 603.80it/s]\n",
      "Calculating tree distance matrix: 100%|██████████| 70500/70500 [00:03<00:00, 22640.23it/s]\n",
      "Evaluating offsprings: 100%|██████████| 368/368 [00:43<00:00,  8.46it/s]\n"
     ]
    },
    {
     "name": "stdout",
     "output_type": "stream",
     "text": [
      "Removed 44 identical or invalid trees\n",
      "Kept 13 outsiders with low fitness\n",
      "Generation 2 - Best fitness: 231032.0347437626 - Difference: -17438.881728420238\n",
      "Population size: 69\n",
      "Best height: 3\n",
      "Mean height of the population: 3.0144927536231885\n"
     ]
    },
    {
     "name": "stderr",
     "output_type": "stream",
     "text": [
      "Generation 3, Creating offsprings: 100%|██████████| 200/200 [00:00<00:00, 917.00it/s]\n"
     ]
    },
    {
     "name": "stdout",
     "output_type": "stream",
     "text": [
      "Error in node abs: overflow encountered in exp\n"
     ]
    },
    {
     "name": "stderr",
     "output_type": "stream",
     "text": [
      "Calculating tree distance matrix: 100%|██████████| 67896/67896 [00:02<00:00, 26914.70it/s]\n",
      "Evaluating offsprings: 100%|██████████| 361/361 [00:37<00:00,  9.65it/s]\n"
     ]
    },
    {
     "name": "stdout",
     "output_type": "stream",
     "text": [
      "Removed 46 identical or invalid trees\n",
      "Kept 19 outsiders with low fitness\n",
      "Generation 3 - Best fitness: 227390.18741347617 - Difference: -3641.8473302864295\n",
      "Population size: 73\n",
      "Best height: 3\n",
      "Mean height of the population: 3.1232876712328768\n"
     ]
    },
    {
     "name": "stderr",
     "output_type": "stream",
     "text": [
      "Generation 4, Creating offsprings: 100%|██████████| 200/200 [00:00<00:00, 782.45it/s]\n"
     ]
    },
    {
     "name": "stdout",
     "output_type": "stream",
     "text": [
      "Error in node sin: invalid value encountered in power\n"
     ]
    },
    {
     "name": "stderr",
     "output_type": "stream",
     "text": [
      "Calculating tree distance matrix: 100%|██████████| 64980/64980 [00:02<00:00, 25179.73it/s]\n",
      "Evaluating offsprings: 100%|██████████| 353/353 [00:58<00:00,  6.08it/s]\n"
     ]
    },
    {
     "name": "stdout",
     "output_type": "stream",
     "text": [
      "Removed 19 identical or invalid trees\n",
      "Kept 20 outsiders with low fitness\n",
      "Generation 4 - Best fitness: 108554.8093731231 - Difference: -118835.37804035307\n",
      "Population size: 101\n",
      "Best height: 6\n",
      "Mean height of the population: 4.138613861386139\n"
     ]
    },
    {
     "name": "stderr",
     "output_type": "stream",
     "text": [
      "Generation 5, Creating offsprings: 100%|██████████| 200/200 [00:01<00:00, 194.55it/s]\n",
      "Calculating tree distance matrix: 100%|██████████| 67528/67528 [00:08<00:00, 8359.15it/s] \n",
      "Evaluating offsprings: 100%|██████████| 360/360 [01:36<00:00,  3.74it/s] \n"
     ]
    },
    {
     "name": "stdout",
     "output_type": "stream",
     "text": [
      "Removed 5 identical or invalid trees\n",
      "Kept 20 outsiders with low fitness\n",
      "Generation 5 - Best fitness: 100363.29490031074 - Difference: -8191.5144728123705\n",
      "Population size: 115\n",
      "Best height: 5\n",
      "Mean height of the population: 4.904347826086957\n"
     ]
    },
    {
     "name": "stderr",
     "output_type": "stream",
     "text": [
      "Generation 6, Creating offsprings: 100%|██████████| 200/200 [00:01<00:00, 171.27it/s]\n",
      "Calculating tree distance matrix: 100%|██████████| 67528/67528 [00:09<00:00, 7469.57it/s] \n",
      "Evaluating offsprings: 100%|██████████| 360/360 [02:04<00:00,  2.89it/s]\n"
     ]
    },
    {
     "name": "stdout",
     "output_type": "stream",
     "text": [
      "Removed 8 identical or invalid trees\n",
      "Kept 20 outsiders with low fitness\n",
      "Generation 6 - Best fitness: 71093.89697963507 - Difference: -29269.397920675663\n",
      "Population size: 112\n",
      "Best height: 5\n",
      "Mean height of the population: 5.348214285714286\n"
     ]
    },
    {
     "name": "stderr",
     "output_type": "stream",
     "text": [
      "Generation 7, Creating offsprings: 100%|██████████| 200/200 [00:02<00:00, 96.69it/s] \n",
      "Calculating tree distance matrix: 100%|██████████| 69006/69006 [00:12<00:00, 5426.62it/s]\n",
      "Evaluating offsprings: 100%|██████████| 364/364 [02:05<00:00,  2.89it/s]\n"
     ]
    },
    {
     "name": "stdout",
     "output_type": "stream",
     "text": [
      "Removed 8 identical or invalid trees\n",
      "Kept 20 outsiders with low fitness\n",
      "Generation 7 - Best fitness: 71080.16252437593 - Difference: -13.734455259138485\n",
      "Population size: 112\n",
      "Best height: 3\n",
      "Mean height of the population: 6.857142857142857\n"
     ]
    },
    {
     "name": "stderr",
     "output_type": "stream",
     "text": [
      "Generation 8, Creating offsprings: 100%|██████████| 200/200 [00:00<00:00, 288.21it/s]\n",
      "Calculating tree distance matrix: 100%|██████████| 64980/64980 [00:06<00:00, 9309.05it/s] \n",
      "Evaluating offsprings: 100%|██████████| 353/353 [02:05<00:00,  2.80it/s] \n"
     ]
    },
    {
     "name": "stdout",
     "output_type": "stream",
     "text": [
      "Removed 13 identical or invalid trees\n",
      "Kept 20 outsiders with low fitness\n",
      "Generation 8 - Best fitness: 69477.5907798209 - Difference: -1602.57174455504\n",
      "Population size: 107\n",
      "Best height: 5\n",
      "Mean height of the population: 7.626168224299065\n"
     ]
    },
    {
     "name": "stderr",
     "output_type": "stream",
     "text": [
      "Generation 9, Creating offsprings: 100%|██████████| 200/200 [00:00<00:00, 271.74it/s]\n",
      "Calculating tree distance matrix: 100%|██████████| 66066/66066 [00:07<00:00, 8624.59it/s] \n",
      "Evaluating offsprings: 100%|██████████| 356/356 [02:28<00:00,  2.40it/s] \n"
     ]
    },
    {
     "name": "stdout",
     "output_type": "stream",
     "text": [
      "Removed 10 identical or invalid trees\n",
      "Kept 20 outsiders with low fitness\n",
      "Generation 9 - Best fitness: 65974.2256929343 - Difference: -3503.3650868865952\n",
      "Population size: 110\n",
      "Best height: 6\n",
      "Mean height of the population: 9.0\n"
     ]
    },
    {
     "name": "stderr",
     "output_type": "stream",
     "text": [
      "Generation 10, Creating offsprings: 100%|██████████| 200/200 [00:00<00:00, 245.45it/s]\n",
      "Calculating tree distance matrix: 100%|██████████| 69006/69006 [00:08<00:00, 8231.80it/s]\n",
      "Evaluating offsprings: 100%|██████████| 364/364 [02:34<00:00,  2.36it/s]\n"
     ]
    },
    {
     "name": "stdout",
     "output_type": "stream",
     "text": [
      "Removed 8 identical or invalid trees\n",
      "Kept 20 outsiders with low fitness\n",
      "Generation 10 - Best fitness: 65974.2256929343 - Difference: 0.0\n",
      "Population size: 112\n",
      "Best height: 6\n",
      "Mean height of the population: 8.696428571428571\n"
     ]
    },
    {
     "name": "stderr",
     "output_type": "stream",
     "text": [
      "Generation 11, Creating offsprings: 100%|██████████| 200/200 [00:00<00:00, 233.87it/s]\n",
      "Calculating tree distance matrix: 100%|██████████| 67528/67528 [00:09<00:00, 7371.17it/s]\n",
      "Evaluating offsprings: 100%|██████████| 360/360 [02:51<00:00,  2.09it/s]\n"
     ]
    },
    {
     "name": "stdout",
     "output_type": "stream",
     "text": [
      "Removed 10 identical or invalid trees\n",
      "Kept 20 outsiders with low fitness\n",
      "Generation 11 - Best fitness: 65974.2256929343 - Difference: 0.0\n",
      "Population size: 110\n",
      "Best height: 6\n",
      "Mean height of the population: 9.436363636363636\n"
     ]
    },
    {
     "name": "stderr",
     "output_type": "stream",
     "text": [
      "Generation 12, Creating offsprings: 100%|██████████| 200/200 [00:01<00:00, 184.60it/s]\n",
      "Calculating tree distance matrix: 100%|██████████| 70500/70500 [00:10<00:00, 6720.70it/s]\n",
      "Evaluating offsprings: 100%|██████████| 368/368 [03:18<00:00,  1.86it/s] \n"
     ]
    },
    {
     "name": "stdout",
     "output_type": "stream",
     "text": [
      "Removed 9 identical or invalid trees\n",
      "Kept 20 outsiders with low fitness\n",
      "Generation 12 - Best fitness: 65974.2256929343 - Difference: 0.0\n",
      "Population size: 111\n",
      "Best height: 6\n",
      "Mean height of the population: 10.765765765765765\n"
     ]
    },
    {
     "name": "stderr",
     "output_type": "stream",
     "text": [
      "Generation 13, Creating offsprings: 100%|██████████| 200/200 [00:01<00:00, 179.54it/s]\n",
      "Calculating tree distance matrix: 100%|██████████| 68635/68635 [00:11<00:00, 6013.02it/s]\n",
      "Evaluating offsprings: 100%|██████████| 363/363 [03:43<00:00,  1.63it/s]\n"
     ]
    },
    {
     "name": "stdout",
     "output_type": "stream",
     "text": [
      "Removed 10 identical or invalid trees\n",
      "Kept 20 outsiders with low fitness\n",
      "Generation 13 - Best fitness: 63694.68467245707 - Difference: -2279.541020477227\n",
      "Population size: 110\n",
      "Best height: 6\n",
      "Mean height of the population: 11.236363636363636\n"
     ]
    },
    {
     "name": "stderr",
     "output_type": "stream",
     "text": [
      "Generation 14, Creating offsprings: 100%|██████████| 200/200 [00:01<00:00, 183.05it/s]\n",
      "Calculating tree distance matrix: 100%|██████████| 68635/68635 [00:11<00:00, 5874.40it/s]\n",
      "Evaluating offsprings: 100%|██████████| 363/363 [03:49<00:00,  1.58it/s]\n"
     ]
    },
    {
     "name": "stdout",
     "output_type": "stream",
     "text": [
      "Removed 13 identical or invalid trees\n",
      "Kept 20 outsiders with low fitness\n",
      "Generation 14 - Best fitness: 48193.677458436956 - Difference: -15501.007214020115\n",
      "Population size: 107\n",
      "Best height: 9\n",
      "Mean height of the population: 12.22429906542056\n"
     ]
    },
    {
     "name": "stderr",
     "output_type": "stream",
     "text": [
      "Generation 15, Creating offsprings: 100%|██████████| 200/200 [00:01<00:00, 174.11it/s]\n",
      "Calculating tree distance matrix: 100%|██████████| 67896/67896 [00:11<00:00, 5672.23it/s]\n",
      "Evaluating offsprings: 100%|██████████| 361/361 [04:02<00:00,  1.49it/s] \n"
     ]
    },
    {
     "name": "stdout",
     "output_type": "stream",
     "text": [
      "Removed 10 identical or invalid trees\n",
      "Kept 20 outsiders with low fitness\n",
      "Generation 15 - Best fitness: 48193.677458436956 - Difference: 0.0\n",
      "Population size: 110\n",
      "Best height: 9\n",
      "Mean height of the population: 12.190909090909091\n"
     ]
    },
    {
     "name": "stderr",
     "output_type": "stream",
     "text": [
      "Generation 16, Creating offsprings: 100%|██████████| 200/200 [00:01<00:00, 164.86it/s]\n"
     ]
    },
    {
     "name": "stdout",
     "output_type": "stream",
     "text": [
      "Error in node log: divide by zero encountered in log\n"
     ]
    },
    {
     "name": "stderr",
     "output_type": "stream",
     "text": [
      "Calculating tree distance matrix: 100%|██████████| 67896/67896 [00:12<00:00, 5380.59it/s]\n",
      "Evaluating offsprings: 100%|██████████| 361/361 [04:08<00:00,  1.45it/s]\n"
     ]
    },
    {
     "name": "stdout",
     "output_type": "stream",
     "text": [
      "Removed 11 identical or invalid trees\n",
      "Kept 20 outsiders with low fitness\n",
      "Generation 16 - Best fitness: 48193.677458436956 - Difference: 0.0\n",
      "Population size: 109\n",
      "Best height: 9\n",
      "Mean height of the population: 14.064220183486238\n"
     ]
    },
    {
     "name": "stderr",
     "output_type": "stream",
     "text": [
      "Generation 17, Creating offsprings: 100%|██████████| 200/200 [00:01<00:00, 151.73it/s]\n",
      "Calculating tree distance matrix: 100%|██████████| 70125/70125 [00:14<00:00, 4830.88it/s]\n",
      "Evaluating offsprings: 100%|██████████| 367/367 [04:47<00:00,  1.28it/s] \n"
     ]
    },
    {
     "name": "stdout",
     "output_type": "stream",
     "text": [
      "Removed 12 identical or invalid trees\n",
      "Kept 20 outsiders with low fitness\n",
      "Generation 17 - Best fitness: 48193.677458436956 - Difference: 0.0\n",
      "Population size: 108\n",
      "Best height: 9\n",
      "Mean height of the population: 12.527777777777779\n"
     ]
    },
    {
     "name": "stderr",
     "output_type": "stream",
     "text": [
      "Generation 18, Creating offsprings: 100%|██████████| 200/200 [00:01<00:00, 146.91it/s]\n",
      "Calculating tree distance matrix: 100%|██████████| 69006/69006 [00:14<00:00, 4779.23it/s]\n",
      "Evaluating offsprings: 100%|██████████| 364/364 [04:44<00:00,  1.28it/s]\n"
     ]
    },
    {
     "name": "stdout",
     "output_type": "stream",
     "text": [
      "Removed 14 identical or invalid trees\n",
      "Kept 20 outsiders with low fitness\n",
      "Generation 18 - Best fitness: 48193.677458436956 - Difference: 0.0\n",
      "Population size: 106\n",
      "Best height: 9\n",
      "Mean height of the population: 13.19811320754717\n"
     ]
    },
    {
     "name": "stderr",
     "output_type": "stream",
     "text": [
      "Generation 19, Creating offsprings: 100%|██████████| 200/200 [00:01<00:00, 140.65it/s]\n",
      "Calculating tree distance matrix: 100%|██████████| 67528/67528 [00:15<00:00, 4351.09it/s]\n",
      "Evaluating offsprings: 100%|██████████| 360/360 [05:05<00:00,  1.18it/s]\n"
     ]
    },
    {
     "name": "stdout",
     "output_type": "stream",
     "text": [
      "Removed 14 identical or invalid trees\n",
      "Kept 20 outsiders with low fitness\n",
      "Generation 19 - Best fitness: 37313.37164292152 - Difference: -10880.305815515436\n",
      "Population size: 106\n",
      "Best height: 9\n",
      "Mean height of the population: 14.339622641509434\n"
     ]
    },
    {
     "name": "stderr",
     "output_type": "stream",
     "text": [
      "Generation 20, Creating offsprings: 100%|██████████| 200/200 [00:01<00:00, 126.05it/s]\n",
      "Calculating tree distance matrix: 100%|██████████| 72010/72010 [00:17<00:00, 4120.85it/s]\n",
      "Evaluating offsprings: 100%|██████████| 372/372 [05:39<00:00,  1.10it/s] \n"
     ]
    },
    {
     "name": "stdout",
     "output_type": "stream",
     "text": [
      "Removed 10 identical or invalid trees\n",
      "Kept 20 outsiders with low fitness\n",
      "Generation 20 - Best fitness: 37313.37164292152 - Difference: 0.0\n",
      "Population size: 110\n",
      "Best height: 9\n",
      "Mean height of the population: 13.572727272727272\n"
     ]
    },
    {
     "name": "stderr",
     "output_type": "stream",
     "text": [
      "Generation 21, Creating offsprings: 100%|██████████| 200/200 [00:01<00:00, 119.35it/s]\n"
     ]
    },
    {
     "name": "stdout",
     "output_type": "stream",
     "text": [
      "Error in node neg: divide by zero encountered in log\n"
     ]
    },
    {
     "name": "stderr",
     "output_type": "stream",
     "text": [
      "Calculating tree distance matrix: 100%|██████████| 74305/74305 [00:18<00:00, 4011.43it/s]\n",
      "Evaluating offsprings: 100%|██████████| 378/378 [06:01<00:00,  1.05it/s]\n"
     ]
    },
    {
     "name": "stdout",
     "output_type": "stream",
     "text": [
      "Removed 15 identical or invalid trees\n",
      "Kept 20 outsiders with low fitness\n",
      "Generation 21 - Best fitness: 37037.31235650284 - Difference: -276.0592864186765\n",
      "Population size: 105\n",
      "Best height: 9\n",
      "Mean height of the population: 13.647619047619047\n"
     ]
    },
    {
     "name": "stderr",
     "output_type": "stream",
     "text": [
      "Generation 22, Creating offsprings: 100%|██████████| 200/200 [00:01<00:00, 113.21it/s]\n",
      "Calculating tree distance matrix: 100%|██████████| 67528/67528 [00:17<00:00, 3808.29it/s]\n",
      "Evaluating offsprings: 100%|██████████| 360/360 [06:03<00:00,  1.01s/it]\n"
     ]
    },
    {
     "name": "stdout",
     "output_type": "stream",
     "text": [
      "Removed 13 identical or invalid trees\n",
      "Kept 20 outsiders with low fitness\n",
      "Generation 22 - Best fitness: 36594.59043244484 - Difference: -442.7219240580016\n",
      "Population size: 107\n",
      "Best height: 9\n",
      "Mean height of the population: 13.429906542056075\n"
     ]
    },
    {
     "name": "stderr",
     "output_type": "stream",
     "text": [
      "Generation 23, Creating offsprings: 100%|██████████| 200/200 [00:02<00:00, 97.26it/s] \n",
      "Calculating tree distance matrix: 100%|██████████| 72390/72390 [00:23<00:00, 3053.50it/s]\n",
      "Evaluating offsprings: 100%|██████████| 373/373 [08:00<00:00,  1.29s/it]\n"
     ]
    },
    {
     "name": "stdout",
     "output_type": "stream",
     "text": [
      "Removed 11 identical or invalid trees\n",
      "Kept 20 outsiders with low fitness\n",
      "Generation 23 - Best fitness: 36594.59043244484 - Difference: 0.0\n",
      "Population size: 109\n",
      "Best height: 9\n",
      "Mean height of the population: 14.339449541284404\n"
     ]
    },
    {
     "name": "stderr",
     "output_type": "stream",
     "text": [
      "Generation 24, Creating offsprings: 100%|██████████| 200/200 [00:02<00:00, 85.43it/s]\n",
      "Calculating tree distance matrix: 100%|██████████| 72771/72771 [00:25<00:00, 2819.86it/s]\n",
      "Evaluating offsprings: 100%|██████████| 374/374 [08:36<00:00,  1.38s/it] \n"
     ]
    },
    {
     "name": "stdout",
     "output_type": "stream",
     "text": [
      "Removed 18 identical or invalid trees\n",
      "Kept 20 outsiders with low fitness\n",
      "Generation 24 - Best fitness: 22974.638644065293 - Difference: -13619.951788379549\n",
      "Population size: 102\n",
      "Best height: 10\n",
      "Mean height of the population: 14.519607843137255\n"
     ]
    },
    {
     "name": "stderr",
     "output_type": "stream",
     "text": [
      "Generation 25, Creating offsprings: 100%|██████████| 200/200 [00:02<00:00, 91.36it/s] \n",
      "Calculating tree distance matrix: 100%|██████████| 70125/70125 [00:25<00:00, 2741.46it/s]\n",
      "Evaluating offsprings: 100%|██████████| 367/367 [08:41<00:00,  1.42s/it]\n"
     ]
    },
    {
     "name": "stdout",
     "output_type": "stream",
     "text": [
      "Removed 9 identical or invalid trees\n",
      "Kept 20 outsiders with low fitness\n",
      "Generation 25 - Best fitness: 22974.638644065293 - Difference: 0.0\n",
      "Population size: 111\n",
      "Best height: 10\n",
      "Mean height of the population: 13.252252252252251\n"
     ]
    },
    {
     "name": "stderr",
     "output_type": "stream",
     "text": [
      "Generation 26, Creating offsprings: 100%|██████████| 200/200 [00:02<00:00, 87.17it/s]\n",
      "Calculating tree distance matrix: 100%|██████████| 70125/70125 [00:24<00:00, 2855.23it/s]\n",
      "Evaluating offsprings: 100%|██████████| 367/367 [08:04<00:00,  1.32s/it]\n"
     ]
    },
    {
     "name": "stdout",
     "output_type": "stream",
     "text": [
      "Removed 11 identical or invalid trees\n",
      "Kept 20 outsiders with low fitness\n",
      "Generation 26 - Best fitness: 22974.638644065293 - Difference: 0.0\n",
      "Population size: 109\n",
      "Best height: 10\n",
      "Mean height of the population: 13.321100917431192\n"
     ]
    },
    {
     "name": "stderr",
     "output_type": "stream",
     "text": [
      "Generation 27, Creating offsprings: 100%|██████████| 200/200 [00:02<00:00, 89.48it/s] \n",
      "Calculating tree distance matrix: 100%|██████████| 72010/72010 [00:24<00:00, 2923.65it/s]\n",
      "Evaluating offsprings: 100%|██████████| 372/372 [07:45<00:00,  1.25s/it]\n"
     ]
    },
    {
     "name": "stdout",
     "output_type": "stream",
     "text": [
      "Removed 13 identical or invalid trees\n",
      "Kept 20 outsiders with low fitness\n",
      "Generation 27 - Best fitness: 22974.638644065293 - Difference: 0.0\n",
      "Population size: 107\n",
      "Best height: 10\n",
      "Mean height of the population: 12.373831775700934\n"
     ]
    },
    {
     "name": "stderr",
     "output_type": "stream",
     "text": [
      "Generation 28, Creating offsprings: 100%|██████████| 200/200 [00:02<00:00, 96.62it/s] \n",
      "Calculating tree distance matrix: 100%|██████████| 69006/69006 [00:22<00:00, 3074.40it/s]\n",
      "Evaluating offsprings: 100%|██████████| 364/364 [07:20<00:00,  1.21s/it]\n"
     ]
    },
    {
     "name": "stdout",
     "output_type": "stream",
     "text": [
      "Removed 15 identical or invalid trees\n",
      "Kept 20 outsiders with low fitness\n",
      "Generation 28 - Best fitness: 22974.638644065293 - Difference: 0.0\n",
      "Population size: 105\n",
      "Best height: 10\n",
      "Mean height of the population: 13.371428571428572\n"
     ]
    },
    {
     "name": "stderr",
     "output_type": "stream",
     "text": [
      "Generation 29, Creating offsprings: 100%|██████████| 200/200 [00:02<00:00, 99.81it/s] \n",
      "Calculating tree distance matrix: 100%|██████████| 71631/71631 [00:21<00:00, 3310.49it/s]\n",
      "Evaluating offsprings: 100%|██████████| 371/371 [07:07<00:00,  1.15s/it]\n"
     ]
    },
    {
     "name": "stdout",
     "output_type": "stream",
     "text": [
      "Removed 13 identical or invalid trees\n",
      "Kept 20 outsiders with low fitness\n",
      "Generation 29 - Best fitness: 22974.638644065293 - Difference: 0.0\n",
      "Population size: 107\n",
      "Best height: 10\n",
      "Mean height of the population: 12.0\n"
     ]
    },
    {
     "name": "stderr",
     "output_type": "stream",
     "text": [
      "Generation 30, Creating offsprings: 100%|██████████| 200/200 [00:01<00:00, 114.71it/s]\n",
      "Calculating tree distance matrix: 100%|██████████| 68635/68635 [00:18<00:00, 3641.49it/s]\n",
      "Evaluating offsprings: 100%|██████████| 363/363 [06:23<00:00,  1.06s/it] \n"
     ]
    },
    {
     "name": "stdout",
     "output_type": "stream",
     "text": [
      "Removed 10 identical or invalid trees\n",
      "Kept 20 outsiders with low fitness\n",
      "Generation 30 - Best fitness: 17342.184584196228 - Difference: -5632.4540598690655\n",
      "Population size: 110\n",
      "Best height: 14\n",
      "Mean height of the population: 12.3\n"
     ]
    },
    {
     "name": "stderr",
     "output_type": "stream",
     "text": [
      "Generation 31, Creating offsprings: 100%|██████████| 200/200 [00:01<00:00, 107.43it/s]\n"
     ]
    },
    {
     "name": "stdout",
     "output_type": "stream",
     "text": [
      "Error in node sub: divide by zero encountered in log\n"
     ]
    },
    {
     "name": "stderr",
     "output_type": "stream",
     "text": [
      "Calculating tree distance matrix: 100%|██████████| 72390/72390 [00:21<00:00, 3357.03it/s]\n",
      "Evaluating offsprings: 100%|██████████| 373/373 [06:57<00:00,  1.12s/it] \n"
     ]
    },
    {
     "name": "stdout",
     "output_type": "stream",
     "text": [
      "Removed 16 identical or invalid trees\n",
      "Kept 20 outsiders with low fitness\n",
      "Generation 31 - Best fitness: 17336.596671861575 - Difference: -5.587912334653083\n",
      "Population size: 104\n",
      "Best height: 23\n",
      "Mean height of the population: 13.846153846153847\n"
     ]
    },
    {
     "name": "stderr",
     "output_type": "stream",
     "text": [
      "Generation 32, Creating offsprings: 100%|██████████| 200/200 [00:01<00:00, 100.37it/s]\n",
      "Calculating tree distance matrix: 100%|██████████| 68265/68265 [00:22<00:00, 3077.58it/s]\n",
      "Evaluating offsprings: 100%|██████████| 362/362 [07:35<00:00,  1.26s/it]\n"
     ]
    },
    {
     "name": "stdout",
     "output_type": "stream",
     "text": [
      "Removed 4 identical or invalid trees\n",
      "Kept 20 outsiders with low fitness\n",
      "Generation 32 - Best fitness: 16188.035444726655 - Difference: -1148.56122713492\n",
      "Population size: 116\n",
      "Best height: 11\n",
      "Mean height of the population: 13.474137931034482\n"
     ]
    },
    {
     "name": "stderr",
     "output_type": "stream",
     "text": [
      "Generation 33, Creating offsprings: 100%|██████████| 200/200 [00:02<00:00, 93.70it/s]\n"
     ]
    },
    {
     "name": "stdout",
     "output_type": "stream",
     "text": [
      "Error in node exp: overflow encountered in exp\n"
     ]
    },
    {
     "name": "stderr",
     "output_type": "stream",
     "text": [
      "Calculating tree distance matrix: 100%|██████████| 68265/68265 [00:24<00:00, 2794.08it/s]\n",
      "Evaluating offsprings: 100%|██████████| 362/362 [08:21<00:00,  1.39s/it] \n"
     ]
    },
    {
     "name": "stdout",
     "output_type": "stream",
     "text": [
      "Removed 6 identical or invalid trees\n",
      "Kept 20 outsiders with low fitness\n",
      "Generation 33 - Best fitness: 16149.18676050863 - Difference: -38.84868421802457\n",
      "Population size: 114\n",
      "Best height: 9\n",
      "Mean height of the population: 13.640350877192983\n"
     ]
    },
    {
     "name": "stderr",
     "output_type": "stream",
     "text": [
      "Generation 34, Creating offsprings: 100%|██████████| 200/200 [00:02<00:00, 85.95it/s]\n",
      "Calculating tree distance matrix: 100%|██████████| 73536/73536 [00:27<00:00, 2702.74it/s]\n",
      "Evaluating offsprings: 100%|██████████| 376/376 [08:55<00:00,  1.42s/it]\n"
     ]
    },
    {
     "name": "stdout",
     "output_type": "stream",
     "text": [
      "Removed 8 identical or invalid trees\n",
      "Kept 20 outsiders with low fitness\n",
      "Generation 34 - Best fitness: 15967.469094849153 - Difference: -181.71766565947655\n",
      "Population size: 112\n",
      "Best height: 10\n",
      "Mean height of the population: 14.392857142857142\n"
     ]
    },
    {
     "name": "stderr",
     "output_type": "stream",
     "text": [
      "Generation 35, Creating offsprings: 100%|██████████| 200/200 [00:02<00:00, 82.40it/s]\n",
      "Calculating tree distance matrix: 100%|██████████| 72010/72010 [00:27<00:00, 2572.77it/s]\n",
      "Evaluating offsprings: 100%|██████████| 372/372 [09:29<00:00,  1.53s/it]\n"
     ]
    },
    {
     "name": "stdout",
     "output_type": "stream",
     "text": [
      "Removed 3 identical or invalid trees\n",
      "Kept 20 outsiders with low fitness\n",
      "Generation 35 - Best fitness: 11744.800368187594 - Difference: -4222.668726661559\n",
      "Population size: 117\n",
      "Best height: 11\n",
      "Mean height of the population: 15.05982905982906\n"
     ]
    },
    {
     "name": "stderr",
     "output_type": "stream",
     "text": [
      "Generation 36, Creating offsprings: 100%|██████████| 200/200 [00:02<00:00, 80.09it/s]\n",
      "Calculating tree distance matrix: 100%|██████████| 72010/72010 [00:28<00:00, 2507.15it/s]\n",
      "Evaluating offsprings: 100%|██████████| 372/372 [09:43<00:00,  1.57s/it] \n"
     ]
    },
    {
     "name": "stdout",
     "output_type": "stream",
     "text": [
      "Removed 5 identical or invalid trees\n",
      "Kept 20 outsiders with low fitness\n",
      "Generation 36 - Best fitness: 11744.800368187594 - Difference: 0.0\n",
      "Population size: 115\n",
      "Best height: 11\n",
      "Mean height of the population: 14.71304347826087\n"
     ]
    },
    {
     "name": "stderr",
     "output_type": "stream",
     "text": [
      "Generation 37, Creating offsprings: 100%|██████████| 200/200 [00:02<00:00, 77.67it/s]\n",
      "Calculating tree distance matrix: 100%|██████████| 72771/72771 [00:29<00:00, 2434.23it/s]\n",
      "Evaluating offsprings: 100%|██████████| 374/374 [10:02<00:00,  1.61s/it]\n"
     ]
    },
    {
     "name": "stdout",
     "output_type": "stream",
     "text": [
      "Removed 10 identical or invalid trees\n",
      "Kept 20 outsiders with low fitness\n",
      "Generation 37 - Best fitness: 11610.174713247823 - Difference: -134.62565493977127\n",
      "Population size: 110\n",
      "Best height: 11\n",
      "Mean height of the population: 15.5\n"
     ]
    },
    {
     "name": "stderr",
     "output_type": "stream",
     "text": [
      "Generation 38, Creating offsprings: 100%|██████████| 200/200 [00:02<00:00, 72.05it/s]\n",
      "Calculating tree distance matrix: 100%|██████████| 71631/71631 [00:32<00:00, 2197.91it/s]\n",
      "Evaluating offsprings: 100%|██████████| 371/371 [11:04<00:00,  1.79s/it]\n"
     ]
    },
    {
     "name": "stdout",
     "output_type": "stream",
     "text": [
      "Removed 10 identical or invalid trees\n",
      "Kept 20 outsiders with low fitness\n",
      "Generation 38 - Best fitness: 10947.277639335492 - Difference: -662.8970739123306\n",
      "Population size: 110\n",
      "Best height: 9\n",
      "Mean height of the population: 18.154545454545456\n"
     ]
    },
    {
     "name": "stderr",
     "output_type": "stream",
     "text": [
      "Generation 39, Creating offsprings: 100%|██████████| 200/200 [00:03<00:00, 65.47it/s]\n",
      "Calculating tree distance matrix: 100%|██████████| 72390/72390 [00:37<00:00, 1929.74it/s]\n",
      "Evaluating offsprings: 100%|██████████| 373/373 [12:27<00:00,  2.00s/it] \n"
     ]
    },
    {
     "name": "stdout",
     "output_type": "stream",
     "text": [
      "Removed 8 identical or invalid trees\n",
      "Kept 20 outsiders with low fitness\n",
      "Generation 39 - Best fitness: 10947.277639335492 - Difference: 0.0\n",
      "Population size: 112\n",
      "Best height: 9\n",
      "Mean height of the population: 17.446428571428573\n"
     ]
    },
    {
     "name": "stderr",
     "output_type": "stream",
     "text": [
      "Generation 40, Creating offsprings: 100%|██████████| 200/200 [00:03<00:00, 60.01it/s]\n",
      "Calculating tree distance matrix: 100%|██████████| 70500/70500 [00:34<00:00, 2017.30it/s]\n",
      "Evaluating offsprings: 100%|██████████| 368/368 [11:49<00:00,  1.93s/it]\n"
     ]
    },
    {
     "name": "stdout",
     "output_type": "stream",
     "text": [
      "Removed 6 identical or invalid trees\n",
      "Kept 20 outsiders with low fitness\n",
      "Generation 40 - Best fitness: 10947.277639335492 - Difference: 0.0\n",
      "Population size: 114\n",
      "Best height: 9\n",
      "Mean height of the population: 16.93859649122807\n"
     ]
    },
    {
     "name": "stderr",
     "output_type": "stream",
     "text": [
      "Generation 41, Creating offsprings: 100%|██████████| 200/200 [00:03<00:00, 62.34it/s]\n"
     ]
    },
    {
     "name": "stdout",
     "output_type": "stream",
     "text": [
      "Error in node pow: overflow encountered in power\n"
     ]
    },
    {
     "name": "stderr",
     "output_type": "stream",
     "text": [
      "Calculating tree distance matrix: 100%|██████████| 73536/73536 [00:38<00:00, 1928.83it/s]\n",
      "Evaluating offsprings: 100%|██████████| 376/376 [12:38<00:00,  2.02s/it]\n"
     ]
    },
    {
     "name": "stdout",
     "output_type": "stream",
     "text": [
      "Removed 3 identical or invalid trees\n",
      "Kept 20 outsiders with low fitness\n",
      "Generation 41 - Best fitness: 9804.10625309127 - Difference: -1143.171386244223\n",
      "Population size: 117\n",
      "Best height: 9\n",
      "Mean height of the population: 16.94017094017094\n"
     ]
    },
    {
     "name": "stderr",
     "output_type": "stream",
     "text": [
      "Generation 42, Creating offsprings: 100%|██████████| 200/200 [00:03<00:00, 66.59it/s]\n",
      "Calculating tree distance matrix: 100%|██████████| 71631/71631 [00:37<00:00, 1904.01it/s]\n",
      "Evaluating offsprings: 100%|██████████| 371/371 [12:34<00:00,  2.03s/it]\n"
     ]
    },
    {
     "name": "stdout",
     "output_type": "stream",
     "text": [
      "Removed 6 identical or invalid trees\n",
      "Kept 20 outsiders with low fitness\n",
      "Generation 42 - Best fitness: 9804.10625309127 - Difference: 0.0\n",
      "Population size: 114\n",
      "Best height: 9\n",
      "Mean height of the population: 15.710526315789474\n"
     ]
    },
    {
     "name": "stderr",
     "output_type": "stream",
     "text": [
      "Generation 43, Creating offsprings: 100%|██████████| 200/200 [00:02<00:00, 66.89it/s]\n",
      "Calculating tree distance matrix: 100%|██████████| 74305/74305 [00:34<00:00, 2127.80it/s]\n",
      "Evaluating offsprings: 100%|██████████| 378/378 [11:39<00:00,  1.85s/it]\n"
     ]
    },
    {
     "name": "stdout",
     "output_type": "stream",
     "text": [
      "Removed 6 identical or invalid trees\n",
      "Kept 20 outsiders with low fitness\n",
      "Generation 43 - Best fitness: 9804.10625309127 - Difference: 0.0\n",
      "Population size: 114\n",
      "Best height: 9\n",
      "Mean height of the population: 16.20175438596491\n"
     ]
    },
    {
     "name": "stderr",
     "output_type": "stream",
     "text": [
      "Generation 44, Creating offsprings: 100%|██████████| 200/200 [00:02<00:00, 67.51it/s]\n",
      "Calculating tree distance matrix: 100%|██████████| 70500/70500 [00:32<00:00, 2197.38it/s]\n",
      "Evaluating offsprings: 100%|██████████| 368/368 [11:12<00:00,  1.83s/it]\n"
     ]
    },
    {
     "name": "stdout",
     "output_type": "stream",
     "text": [
      "Removed 10 identical or invalid trees\n",
      "Kept 20 outsiders with low fitness\n",
      "Generation 44 - Best fitness: 9804.10625309127 - Difference: 0.0\n",
      "Population size: 110\n",
      "Best height: 9\n",
      "Mean height of the population: 15.49090909090909\n"
     ]
    },
    {
     "name": "stderr",
     "output_type": "stream",
     "text": [
      "Generation 45, Creating offsprings: 100%|██████████| 200/200 [00:02<00:00, 67.65it/s]\n",
      "Calculating tree distance matrix: 100%|██████████| 72771/72771 [00:34<00:00, 2134.71it/s]\n",
      "Evaluating offsprings: 100%|██████████| 374/374 [11:34<00:00,  1.86s/it]\n"
     ]
    },
    {
     "name": "stdout",
     "output_type": "stream",
     "text": [
      "Removed 6 identical or invalid trees\n",
      "Kept 20 outsiders with low fitness\n",
      "Generation 45 - Best fitness: 9804.10625309127 - Difference: 0.0\n",
      "Population size: 114\n",
      "Best height: 9\n",
      "Mean height of the population: 15.885964912280702\n"
     ]
    },
    {
     "name": "stderr",
     "output_type": "stream",
     "text": [
      "Generation 46, Creating offsprings: 100%|██████████| 200/200 [00:03<00:00, 66.43it/s]\n"
     ]
    },
    {
     "name": "stdout",
     "output_type": "stream",
     "text": [
      "Error in node pow: invalid value encountered in power\n"
     ]
    },
    {
     "name": "stderr",
     "output_type": "stream",
     "text": [
      "Calculating tree distance matrix: 100%|██████████| 75078/75078 [00:35<00:00, 2128.91it/s]\n",
      "Evaluating offsprings: 100%|██████████| 380/380 [11:22<00:00,  1.80s/it] \n"
     ]
    },
    {
     "name": "stdout",
     "output_type": "stream",
     "text": [
      "Removed 7 identical or invalid trees\n",
      "Kept 20 outsiders with low fitness\n",
      "Generation 46 - Best fitness: 9804.10625309127 - Difference: 0.0\n",
      "Population size: 113\n",
      "Best height: 9\n",
      "Mean height of the population: 16.84070796460177\n"
     ]
    },
    {
     "name": "stderr",
     "output_type": "stream",
     "text": [
      "Generation 47, Creating offsprings: 100%|██████████| 200/200 [00:01<00:00, 116.63it/s]\n",
      "Calculating tree distance matrix: 100%|██████████| 74305/74305 [00:20<00:00, 3587.15it/s]\n",
      "Evaluating offsprings: 100%|██████████| 378/378 [11:49<00:00,  1.88s/it]\n"
     ]
    },
    {
     "name": "stdout",
     "output_type": "stream",
     "text": [
      "Removed 5 identical or invalid trees\n",
      "Kept 20 outsiders with low fitness\n",
      "Generation 47 - Best fitness: 9804.10625309127 - Difference: 0.0\n",
      "Population size: 115\n",
      "Best height: 9\n",
      "Mean height of the population: 16.243478260869566\n"
     ]
    },
    {
     "name": "stderr",
     "output_type": "stream",
     "text": [
      "Generation 48, Creating offsprings: 100%|██████████| 200/200 [00:02<00:00, 68.15it/s]\n",
      "Calculating tree distance matrix: 100%|██████████| 72390/72390 [00:32<00:00, 2238.63it/s]\n",
      "Evaluating offsprings: 100%|██████████| 373/373 [10:48<00:00,  1.74s/it]\n"
     ]
    },
    {
     "name": "stdout",
     "output_type": "stream",
     "text": [
      "Removed 9 identical or invalid trees\n",
      "Kept 20 outsiders with low fitness\n",
      "Generation 48 - Best fitness: 9804.10625309127 - Difference: 0.0\n",
      "Population size: 111\n",
      "Best height: 9\n",
      "Mean height of the population: 16.585585585585587\n"
     ]
    },
    {
     "name": "stderr",
     "output_type": "stream",
     "text": [
      "Generation 49, Creating offsprings: 100%|██████████| 200/200 [00:02<00:00, 77.41it/s]\n",
      "Calculating tree distance matrix: 100%|██████████| 72771/72771 [00:31<00:00, 2296.41it/s]\n",
      "Evaluating offsprings: 100%|██████████| 374/374 [10:55<00:00,  1.75s/it]\n"
     ]
    },
    {
     "name": "stdout",
     "output_type": "stream",
     "text": [
      "Removed 8 identical or invalid trees\n",
      "Kept 20 outsiders with low fitness\n",
      "Generation 49 - Best fitness: 9804.10625309127 - Difference: 0.0\n",
      "Population size: 112\n",
      "Best height: 9\n",
      "Mean height of the population: 17.0625\n"
     ]
    },
    {
     "name": "stderr",
     "output_type": "stream",
     "text": [
      "Generation 50, Creating offsprings: 100%|██████████| 200/200 [00:02<00:00, 71.82it/s]\n",
      "Calculating tree distance matrix: 100%|██████████| 72771/72771 [00:34<00:00, 2117.24it/s]\n",
      "Evaluating offsprings: 100%|██████████| 374/374 [11:55<00:00,  1.91s/it]\n"
     ]
    },
    {
     "name": "stdout",
     "output_type": "stream",
     "text": [
      "Removed 11 identical or invalid trees\n",
      "Kept 20 outsiders with low fitness\n",
      "Generation 50 - Best fitness: 9804.10625309127 - Difference: 0.0\n",
      "Population size: 109\n",
      "Best height: 9\n",
      "Mean height of the population: 16.155963302752294\n"
     ]
    },
    {
     "name": "stderr",
     "output_type": "stream",
     "text": [
      "Generation 51, Creating offsprings: 100%|██████████| 200/200 [00:03<00:00, 64.51it/s]\n",
      "Calculating tree distance matrix: 100%|██████████| 70125/70125 [00:34<00:00, 2052.67it/s]\n",
      "Evaluating offsprings: 100%|██████████| 367/367 [12:07<00:00,  1.98s/it]\n"
     ]
    },
    {
     "name": "stdout",
     "output_type": "stream",
     "text": [
      "Removed 5 identical or invalid trees\n",
      "Kept 20 outsiders with low fitness\n",
      "Generation 51 - Best fitness: 9804.10625309127 - Difference: 0.0\n",
      "Population size: 115\n",
      "Best height: 9\n",
      "Mean height of the population: 16.434782608695652\n"
     ]
    },
    {
     "name": "stderr",
     "output_type": "stream",
     "text": [
      "Generation 52, Creating offsprings: 100%|██████████| 200/200 [00:02<00:00, 70.82it/s]\n",
      "Calculating tree distance matrix: 100%|██████████| 72010/72010 [00:35<00:00, 2053.23it/s]\n",
      "Evaluating offsprings: 100%|██████████| 372/372 [12:16<00:00,  1.98s/it]\n"
     ]
    },
    {
     "name": "stdout",
     "output_type": "stream",
     "text": [
      "Removed 4 identical or invalid trees\n",
      "Kept 20 outsiders with low fitness\n",
      "Generation 52 - Best fitness: 9798.536189139251 - Difference: -5.570063952018245\n",
      "Population size: 116\n",
      "Best height: 12\n",
      "Mean height of the population: 17.525862068965516\n"
     ]
    },
    {
     "name": "stderr",
     "output_type": "stream",
     "text": [
      "Generation 53, Creating offsprings: 100%|██████████| 200/200 [00:03<00:00, 59.29it/s]\n",
      "Calculating tree distance matrix: 100%|██████████| 76245/76245 [00:42<00:00, 1815.14it/s]\n",
      "Evaluating offsprings: 100%|██████████| 383/383 [14:30<00:00,  2.27s/it]\n"
     ]
    },
    {
     "name": "stdout",
     "output_type": "stream",
     "text": [
      "Removed 6 identical or invalid trees\n",
      "Kept 20 outsiders with low fitness\n",
      "Generation 53 - Best fitness: 9798.536189139251 - Difference: 0.0\n",
      "Population size: 114\n",
      "Best height: 12\n",
      "Mean height of the population: 17.964912280701753\n"
     ]
    },
    {
     "name": "stderr",
     "output_type": "stream",
     "text": [
      "Generation 54, Creating offsprings: 100%|██████████| 200/200 [00:03<00:00, 58.05it/s]\n",
      "Calculating tree distance matrix: 100%|██████████| 70876/70876 [00:39<00:00, 1789.63it/s]\n",
      "Evaluating offsprings: 100%|██████████| 369/369 [14:01<00:00,  2.28s/it]\n"
     ]
    },
    {
     "name": "stdout",
     "output_type": "stream",
     "text": [
      "Removed 9 identical or invalid trees\n",
      "Kept 19 outsiders with low fitness\n",
      "Generation 54 - Best fitness: 9798.536189139251 - Difference: 0.0\n",
      "Population size: 110\n",
      "Best height: 12\n",
      "Mean height of the population: 16.618181818181817\n"
     ]
    },
    {
     "name": "stderr",
     "output_type": "stream",
     "text": [
      "Generation 55, Creating offsprings: 100%|██████████| 200/200 [00:03<00:00, 66.14it/s]\n",
      "Calculating tree distance matrix: 100%|██████████| 74305/74305 [00:37<00:00, 1983.13it/s]\n",
      "Evaluating offsprings:  35%|███▍      | 132/378 [06:54<12:13,  2.98s/it]"
     ]
    }
   ],
   "source": [
    "from tqdm import tqdm\n",
    "from concurrent.futures import ThreadPoolExecutor\n",
    "import math\n",
    "\n",
    "\n",
    "# Parameters\n",
    "crossover = recombination_crossover\n",
    "OFFSPRING_SIZE = 200\n",
    "POPULATION_SIZE = 100\n",
    "OUTSIDER_SIZE = math.ceil(OFFSPRING_SIZE*0.1)\n",
    "pm = 0.05\n",
    "x_elitism = 0.08\n",
    "MAX_GENERATIONS = 100\n",
    "HEIGHT = 5\n",
    "PC = 0.5\n",
    "P_PICK_CONSTANT = 0.4\n",
    "P_CUT_TREE = 0.05\n",
    "\n",
    "\n",
    "# Initialize the population\n",
    "def initialize_population(_):\n",
    "    return generate_random_tree_with_all_terminal(HEIGHT, PC, terminal_list, constants=crammed_constants, p_pick_constant=P_PICK_CONSTANT, p_cut_tree=P_CUT_TREE)\n",
    "\n",
    "ALREADY_INITIALIZED = False\n",
    "if not ALREADY_INITIALIZED:\n",
    "    with ThreadPoolExecutor() as executor:\n",
    "        population = list(tqdm(executor.map(initialize_population, range(POPULATION_SIZE)), desc=\"Initializing population\", total=POPULATION_SIZE))\n",
    "\n",
    "population = [tree.collapse_constants() for tree in population if tree is not None]    \n",
    "# Remove identical trees\n",
    "distance_matrix = tree_distance(population, verbose='Initial tree distances')\n",
    "n = len(population)\n",
    "# I need to keep only the first tree if there are identical trees\n",
    "for i in range(n):\n",
    "    for j in range(i + 1, n):\n",
    "        if distance_matrix[i][j] == 0 and population[j] is not None:\n",
    "            population[j] = None\n",
    "\n",
    "population = [tree for tree in population if tree is not None]\n",
    "for tree in population:\n",
    "    tree.reeval_heights()\n",
    "\n",
    " # Evaluate the population\n",
    "with ThreadPoolExecutor() as executor:\n",
    "    fitnesses = np.array(list(tqdm(executor.map(lambda tree: fitness(tree, vars, labels, penalized='sqrt'), population), desc=\"Evaluating population\", total=len(population))))\n",
    "   \n",
    "penalized = 'percent'\n",
    "probabilities2 = [0.10, 0.10, 0.10, 0.10, 0.10]\n",
    "probabilities1 = [0.16, 0.16, 0.16, 0.16, 0.16]\n",
    "\n",
    "print(*probabilities1)\n",
    "\n",
    "probabilities = probabilities1\n",
    "# Training\n",
    "for generation in range(MAX_GENERATIONS):\n",
    "    if (generation >= 15):\n",
    "        probabilities = probabilities2\n",
    "        penalized = 'percent'\n",
    "    if(generation >= 25):\n",
    "        penalized = 'percent'\n",
    "        probabilities = probabilities1\n",
    "\n",
    "    pm = max(0.05, 0.2 - generation / MAX_GENERATIONS * 0.15)# from 0.2 to 0.05\n",
    "    # Select the best individuals\n",
    "    best_individuals = np.argsort(fitnesses)[:int(x_elitism * POPULATION_SIZE)]\n",
    "    # Create the offspring\n",
    "    offspring = []\n",
    "    for _ in tqdm(range(OFFSPRING_SIZE), desc=f\"Generation {generation}, Creating offsprings\"):\n",
    "        # Mutation\n",
    "        if random.random() < pm:\n",
    "            mutation = random_mutation(*probabilities)\n",
    "            child = mutation(parent_selection(population, fitnesses).clone(), terminal_list, constants=crammed_constants, p_pick_constant=P_PICK_CONSTANT, pc=PC)\n",
    "            child.reeval_heights()\n",
    "            offspring.append(child)\n",
    "        else:\n",
    "            # Select parents\n",
    "            parent1 = parent_selection(population, fitnesses, penalized).clone()\n",
    "            parent2 = parent_selection(population, fitnesses, penalized).clone()\n",
    "            # Crossover\n",
    "            child1, child2 = crossover(parent1, parent2)\n",
    "            child1.reeval_heights()\n",
    "            child2.reeval_heights()\n",
    "            offspring.extend([child1, child2])\n",
    "    # Combine and select the best individuals\n",
    "    population = [population[i] for i in best_individuals] + offspring\n",
    "\n",
    "    # Remove identical trees\n",
    "    population = [tree.collapse_constants() for tree in population if tree is not None]\n",
    "    distance_matrix = tree_distance(population)\n",
    "    n = len(population)\n",
    "    # I need to keep only the first tree if there are identical trees\n",
    "    for i in range(n):\n",
    "        for j in range(i + 1, n):\n",
    "            if distance_matrix[i][j] == 0 and population[j] is not None:\n",
    "                population[j] = None\n",
    "    \n",
    "    # Sort population for summation of distance similarity\n",
    "    summation = np.zeros(n)\n",
    "    for i in range(n):\n",
    "        summation[i] = np.sum(distance_matrix[i,:])\n",
    "    \n",
    "    distance_sorted = np.argsort(summation)[::-1]\n",
    "    outsiders = set(distance_sorted[:OUTSIDER_SIZE])\n",
    "    # Calculate fitness function\n",
    "    with ThreadPoolExecutor() as executor:\n",
    "        fitnesses_offspring = np.array(list(tqdm(executor.map(lambda tree: fitness(tree, vars, labels, penalized=penalized), offspring), desc=\"Evaluating offsprings\", total=len(offspring))))\n",
    "\n",
    "    # Select the best individuals and outsiders\n",
    "    all_fitnesses = np.concatenate([fitnesses[best_individuals], fitnesses_offspring])\n",
    "    best_fitnesses = set(np.argsort(all_fitnesses)[:POPULATION_SIZE])\n",
    "    # Union between best individuals and outsiders\n",
    "    union = best_fitnesses.union(outsiders)\n",
    "    intersection = best_fitnesses.intersection(outsiders)\n",
    "\n",
    "    union_filtered = [i for i in union if population[i] is not None]\n",
    "\n",
    "    population = [population[i] for i in union_filtered]\n",
    "    before = len(union)\n",
    "    fitnesses = [all_fitnesses[i] for i in union_filtered]\n",
    "    fitnesses = np.array(fitnesses)\n",
    "    best_fitness = fitness_unscaled(population[0], vars, labels)\n",
    "    print(f\"Removed {before - len(population)} identical or invalid trees\")\n",
    "    print(f'Kept {len(outsiders) - len(intersection)} outsiders with low fitness')\n",
    "    if generation > 0:\n",
    "        print(f\"Generation {generation} - Best fitness: {best_fitness} - Difference: {best_fitness - old_best_fitness}\")\n",
    "    else:\n",
    "        print(f\"Generation {generation} - Best fitness: {best_fitness}\")\n",
    "    old_best_fitness = best_fitness\n",
    "    print(f\"Population size: {len(population)}\")\n",
    "    print(f'Best height: {population[0].get_height()}')\n",
    "    print(f\"Mean height of the population: {np.mean([tree.get_height() for tree in population])}\")\n"
   ]
  },
  {
   "cell_type": "code",
   "execution_count": null,
   "metadata": {},
   "outputs": [],
   "source": [
    "from datetime import datetime\n",
    "conf = {\n",
    "    \"problem\": problem_number,\n",
    "    \"crossover\": crossover,\n",
    "    \"OFFSPRING_SIZE\": OFFSPRING_SIZE,\n",
    "    \"POPULATION_SIZE\": POPULATION_SIZE,\n",
    "    \"OUTSIDER_SIZE\": OUTSIDER_SIZE,\n",
    "    \"pm\": pm,\n",
    "    \"x_elitism\": x_elitism,\n",
    "    \"MAX_GENERATIONS\": MAX_GENERATIONS,\n",
    "    \"HEIGHT\": HEIGHT,\n",
    "    \"PC\": PC,\n",
    "    \"P_PICK_CONSTANT\": P_PICK_CONSTANT,\n",
    "    \"P_CUT_TREE\": P_CUT_TREE\n",
    "}\n",
    "def save_results(conf, res_function, res_fitness):\n",
    "    cur_time = datetime.now().strftime(\"%Y-%m-%d_%H-%M-%S\")\n",
    "    with open(f\"./results/{cur_time}.txt\", \"w\") as file:\n",
    "        # Write the contents of conf\n",
    "        file.write(\"# Configuration\\n\")\n",
    "        file.write(\"conf = {\\n\")\n",
    "        for key, value in conf.items():\n",
    "            file.write(f\"    '{key}': {value},\\n\")\n",
    "        file.write(\"}\\n\\n\")\n",
    "        \n",
    "        # Write the contents of res_function\n",
    "        file.write(\"# Resulting function\\n\")\n",
    "        file.write(f\"{res_function}\")\n",
    "        \n",
    "        # Write the contents of res_fitness\n",
    "        file.write(\"# Resulting fitness\\n\")\n",
    "        file.write(f\"{res_fitness}\")\n",
    "save_results(conf, str(population[0]), best_fitness)"
   ]
  },
  {
   "cell_type": "code",
   "execution_count": null,
   "metadata": {},
   "outputs": [],
   "source": [
    "population[0].draw()\n",
    "print(fitness(population[0], vars, labels))"
   ]
  }
 ],
 "metadata": {
  "kernelspec": {
   "display_name": ".venv",
   "language": "python",
   "name": "python3"
  },
  "language_info": {
   "codemirror_mode": {
    "name": "ipython",
    "version": 3
   },
   "file_extension": ".py",
   "mimetype": "text/x-python",
   "name": "python",
   "nbconvert_exporter": "python",
   "pygments_lexer": "ipython3",
   "version": "3.12.6"
  }
 },
 "nbformat": 4,
 "nbformat_minor": 2
}
