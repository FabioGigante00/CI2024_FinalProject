{
 "cells": [
  {
   "cell_type": "markdown",
   "metadata": {},
   "source": [
    "### Imports"
   ]
  },
  {
   "cell_type": "code",
   "execution_count": 1,
   "metadata": {},
   "outputs": [],
   "source": [
    "# If updates on imported files aren't detected, restart the kernel (we'll need to find an automatic solution for this)\n",
    "\n",
    "import numpy as np\n",
    "from icecream import ic\n",
    "\n",
    "from typing import List, Tuple, Dict"
   ]
  },
  {
   "cell_type": "markdown",
   "metadata": {},
   "source": [
    "\n",
    "### Evolution Helper"
   ]
  },
  {
   "cell_type": "code",
   "execution_count": 2,
   "metadata": {},
   "outputs": [],
   "source": [
    "import random\n",
    "from typing import List\n",
    "from gxgp.node import Node\n",
    "from utils.operations_dict import basic_function_set, complex_function_set"
   ]
  },
  {
   "cell_type": "markdown",
   "metadata": {},
   "source": [
    "### Tree Generation"
   ]
  },
  {
   "cell_type": "code",
   "execution_count": 3,
   "metadata": {},
   "outputs": [],
   "source": [
    "def generate_random_tree(max_height: int, pc: float, terminal_list: List[str],\n",
    "                         constants: list[float] = None, p_pick_constant: float = 0.2, p_cut_tree: float = 0.2,\n",
    "                         verbose: bool = False, cur_depth: int = 0) -> Node:\n",
    "    \"\"\"\n",
    "    Generate a random symbolic expression tree.\n",
    "\n",
    "    Mandatory Parameters\n",
    "    ----------\n",
    "    max_height : int\n",
    "        The maximum height of the tree. The height of a tree is the length of the longest path from the root to a leaf (e.g. height of a leaf is 0).\n",
    "    pc : float\n",
    "        The probability of choosing a complex function over a basic function.\n",
    "    terminal_list : List[str]\n",
    "        The terminal list to choose from. Example: ['x0', 'x1', 'x2']\n",
    "\n",
    "    Optional Parameters\n",
    "    ----------\n",
    "    constants : list[float]\n",
    "        A list of constants that can be used in the tree (default is None).\n",
    "    p_pick_constant : float\n",
    "        The probability of choosing a constant over a terminal (default is 0.2).\n",
    "    p_cut_tree : float\n",
    "        The probability of cutting the tree early (default is 0.2).    \n",
    "    verbose : bool    \n",
    "        Whether to print debug information (default is False).\n",
    "    cur_depth : int\n",
    "        The exploration depth (e.g. depth of root is 0)\n",
    "\n",
    "    Returns\n",
    "    -------\n",
    "    Node\n",
    "        A Node object representing the root of the tree.\n",
    "    \"\"\"\n",
    "    indent = ' ' * (cur_depth * 2)\n",
    "\n",
    "    # Cut the tree early with probability 0.2\n",
    "    if (random.random() < p_cut_tree) or max_height == 0:  \n",
    "        # If constants are provided, choose one with probability p_pick_constant\n",
    "        if constants is not None and random.random() < p_pick_constant: \n",
    "            terminal = random.choice(constants) \n",
    "        # Otherwise, pick from the terminal set\n",
    "        else:                                                \n",
    "            terminal = random.choice(terminal_list)\n",
    "        \n",
    "        if verbose: print(f\"{indent}Picked terminal: {terminal}\")\n",
    "\n",
    "        # Set the height of the node to 0\n",
    "        my_node = Node(terminal)\n",
    "        my_node.set_height(0)\n",
    "        return my_node\n",
    "    else:\n",
    "        # Choose a complex function with probability pc\n",
    "        if random.random() < pc:                       \n",
    "            func = random.choice(list(complex_function_set.keys()))\n",
    "            if verbose: print(f\"{indent}Chose complex function {func}\")\n",
    "            num_children = complex_function_set[func].__code__.co_argcount  # Numero di argomenti della funzione\n",
    "            children = [generate_random_tree(max_height - 1, pc, terminal_list, constants, p_pick_constant, p_cut_tree, verbose, cur_depth + 1)\n",
    "                        for _ in range(num_children)]\n",
    "            \n",
    "            # Set height\n",
    "            cur_height = max([child.get_height() for child in children]) + 1\n",
    "            my_node = Node(complex_function_set[func], children, name=func)\n",
    "            my_node.set_height(cur_height)\n",
    "            return my_node\n",
    "        # Otherwise, choose a basic function\n",
    "        else:                                           \n",
    "            func = random.choice(list(basic_function_set.keys()))\n",
    "            if verbose: print(f\"{indent}Chose basic function {func}\")\n",
    "            num_children = basic_function_set[func].__code__.co_argcount  # Numero di argomenti della funzione\n",
    "            children = [generate_random_tree(max_height - 1, pc, terminal_list, constants, p_pick_constant, p_cut_tree, verbose, cur_depth + 1)\n",
    "                        for _ in range(num_children)]\n",
    "            # Set height\n",
    "            cur_height = max([child.get_height() for child in children]) + 1\n",
    "            my_node = Node(basic_function_set[func], children, name=func)\n",
    "            my_node.set_height(cur_height)\n",
    "            return my_node\n",
    "\n",
    "def generate_random_tree_with_all_terminal(max_height: int, pc: float, terminal_list: List[str],\n",
    "                         constants: list[float] = None, p_pick_constant: float = 0.2, p_cut_tree: float = 0.2,\n",
    "                         verbose: bool = False, cur_depth: int = 0, picked_terminal: set[str]=set()) -> Node:\n",
    "    \"\"\"\n",
    "    Generate a random symbolic expression tree.\n",
    "\n",
    "    Mandatory Parameters\n",
    "    ----------\n",
    "    max_height : int\n",
    "        The maximum height of the tree. The height of a tree is the length of the longest path from the root to a leaf (e.g. height of a leaf is 0).\n",
    "    pc : float\n",
    "        The probability of choosing a complex function over a basic function.\n",
    "    terminal_list : List[str]\n",
    "        The terminal list to choose from. Example: ['x0', 'x1', 'x2']\n",
    "\n",
    "    Optional Parameters\n",
    "    ----------\n",
    "    constants : list[float]\n",
    "        A list of constants that can be used in the tree (default is None).\n",
    "    p_pick_constant : float\n",
    "        The probability of choosing a constant over a terminal (default is 0.2).\n",
    "    p_cut_tree : float\n",
    "        The probability of cutting the tree early (default is 0.2).    \n",
    "    verbose : bool    \n",
    "        Whether to print debug information (default is False).\n",
    "    cur_depth : int\n",
    "        The exploration depth (e.g. depth of root is 0)\n",
    "\n",
    "    Returns\n",
    "    -------\n",
    "    Node\n",
    "        A Node object representing the root of the tree.\n",
    "    \"\"\"\n",
    "    indent = ' ' * (cur_depth * 2)\n",
    "\n",
    "    # Cut the tree early with probability 0.2\n",
    "    if (random.random() < p_cut_tree) or max_height == 0:  \n",
    "        # If constants are provided, choose one with probability p_pick_constant\n",
    "        if constants is not None and random.random() < p_pick_constant and len(picked_terminal) == len(terminal_list): \n",
    "            terminal = random.choice(constants) \n",
    "        # Otherwise, pick from the terminal set\n",
    "        else:                                                \n",
    "            terminal = random.choice(terminal_list)\n",
    "            picked_terminal.add(terminal)\n",
    "        \n",
    "        if verbose: print(f\"{indent}Picked terminal: {terminal}\")\n",
    "\n",
    "        # Set the height of the node to 0\n",
    "        my_node = Node(terminal)\n",
    "        my_node.set_height(0)\n",
    "        return my_node\n",
    "    else:\n",
    "        # Choose a complex function with probability pc\n",
    "        if random.random() < pc:                       \n",
    "            func = random.choice(list(complex_function_set.keys()))\n",
    "            if verbose: print(f\"{indent}Chose complex function {func}\")\n",
    "            num_children = complex_function_set[func].__code__.co_argcount  # Numero di argomenti della funzione\n",
    "            children = [generate_random_tree_with_all_terminal(max_height - 1, pc, terminal_list, constants, p_pick_constant, p_cut_tree, verbose, cur_depth + 1,picked_terminal)\n",
    "                        for _ in range(num_children)]\n",
    "            \n",
    "            # Set height\n",
    "            cur_height = max([child.get_height() for child in children]) + 1\n",
    "            my_node = Node(complex_function_set[func], children, name=func)\n",
    "            my_node.set_height(cur_height)\n",
    "            return my_node\n",
    "        # Otherwise, choose a basic function\n",
    "        else:                                           \n",
    "            func = random.choice(list(basic_function_set.keys()))\n",
    "            if verbose: print(f\"{indent}Chose basic function {func}\")\n",
    "            num_children = basic_function_set[func].__code__.co_argcount  # Numero di argomenti della funzione\n",
    "            children = [generate_random_tree_with_all_terminal(max_height - 1, pc, terminal_list, constants, p_pick_constant, p_cut_tree, verbose, cur_depth + 1,picked_terminal)\n",
    "                        for _ in range(num_children)]\n",
    "            # Set height\n",
    "            cur_height = max([child.get_height() for child in children]) + 1\n",
    "            my_node = Node(basic_function_set[func], children, name=func)\n",
    "            my_node.set_height(cur_height)\n",
    "            return my_node"
   ]
  },
  {
   "cell_type": "markdown",
   "metadata": {},
   "source": [
    "### Mutations"
   ]
  },
  {
   "cell_type": "code",
   "execution_count": 4,
   "metadata": {},
   "outputs": [],
   "source": [
    "def point_mutation(Tree: Node, terminal_list: List[str], constants: list[float] = None, p_pick_constant: float = 0.2, pc: float = 0.2) -> Node:\n",
    "    \"\"\"\n",
    "    Mutate a tree by changing a random node to a new random node.\n",
    "\n",
    "    Parameters\n",
    "    ----------\n",
    "    Tree : Node\n",
    "        The tree to mutate.\n",
    "    terminal_list : List[str]\n",
    "        The terminal list to choose from. Example: ['x0', 'x1', 'x2']\n",
    "    constants : list[float]\n",
    "        A list of constants that can be used in the tree.\n",
    "    p_pick_constant : float\n",
    "        The probability of choosing a constant over a terminal.\n",
    "    pc : float\n",
    "        The probability of choosing a complex function over a basic function.\n",
    "\n",
    "    Returns\n",
    "    -------\n",
    "    Node\n",
    "        The mutated tree.\n",
    "    \"\"\"\n",
    "\n",
    "    # Get the list of nodes in the tree\n",
    "    node = Tree.get_random_node()\n",
    "\n",
    "    # If the node is a terminal, change it to a new terminal\n",
    "    if node.is_leaf:\n",
    "        if constants is not None and random.random() < p_pick_constant:\n",
    "            terminal = random.choice(constants)\n",
    "        else:\n",
    "            terminal = random.choice(terminal_list)\n",
    "        node.set_func(terminal)\n",
    "        return Tree\n",
    "    # Otherwise, change it to a new function maintaining the arity\n",
    "    else:\n",
    "        if random.random() < pc:\n",
    "            while True:\n",
    "                func = random.choice(list(complex_function_set.keys()))\n",
    "                arity = complex_function_set[func].__code__.co_argcount\n",
    "                if arity == node._arity:\n",
    "                    break\n",
    "            node.set_func(complex_function_set[func], name=func)\n",
    "        else:\n",
    "            while True:\n",
    "                func = random.choice(list(basic_function_set.keys()))\n",
    "                arity = basic_function_set[func].__code__.co_argcount\n",
    "                if arity == node._arity:\n",
    "                    break\n",
    "            node.set_func(basic_function_set[func], name=func)\n",
    "        return Tree\n",
    "    \n",
    "def subtree_mutation(Tree: Node, terminal_list: List[str], constants: list[float] = None, p_pick_constant: float = 0.2, pc: float = 0.2, height: int = 3, verbose: bool = False) -> Node:\n",
    "    \"\"\"\n",
    "    Mutate a tree by changing a random subtree to a new random subtree.\n",
    "\n",
    "    Parameters\n",
    "    ----------\n",
    "    Tree : Node\n",
    "        The tree to mutate.\n",
    "    terminal_list : List[str]\n",
    "        The terminal list to choose from. Example: ['x0', 'x1', 'x2']\n",
    "    constants : list[float]\n",
    "        A list of constants that can be used in the tree.\n",
    "    p_pick_constant : float\n",
    "        The probability of choosing a constant over a terminal.\n",
    "    pc : float\n",
    "        The probability of choosing a complex function over a basic function.\n",
    "    height : int\n",
    "        The maximum height of the new subtree.\n",
    "\n",
    "    Returns\n",
    "    -------\n",
    "    Node\n",
    "        The mutated tree.\n",
    "    \"\"\"\n",
    "\n",
    "    # Get the list of nodes in the tree\n",
    "    node = Tree.get_random_node()\n",
    "\n",
    "    if verbose:\n",
    "        print(f\"Node to mutate: {node._str} at height {node._height}\")\n",
    "\n",
    "    new_subtree = generate_random_tree(height, pc, terminal_list, constants, p_pick_constant)\n",
    "    node = node.replace_tree_shallow(new_subtree)\n",
    "    return Tree\n",
    "\n",
    "def expansion_mutation(Tree: Node, terminal_list: List[str], constants: list[float] = None, p_pick_constant: float = 0.2, pc: float = 0.2, height: int = 3, verbose: bool = False) -> Node:\n",
    "    \"\"\"\n",
    "    Mutate a tree by expanding a random node to a new random subtree.\n",
    "\n",
    "    Parameters\n",
    "    ----------\n",
    "    Tree : Node\n",
    "        The tree to mutate.\n",
    "    terminal_list : List[str]\n",
    "        The terminal list to choose from. Example: ['x0', 'x1', 'x2']\n",
    "    constants : list[float]\n",
    "        A list of constants that can be used in the tree.\n",
    "    p_pick_constant : float\n",
    "        The probability of choosing a constant over a terminal.\n",
    "    pc : float\n",
    "        The probability of choosing a complex function over a basic function.\n",
    "    height : int\n",
    "        The maximum height of the new subtree.\n",
    "\n",
    "    Returns\n",
    "    -------\n",
    "    Node\n",
    "        The mutated tree.\n",
    "    \"\"\"\n",
    "    # Get the list of nodes in the tree\n",
    "    node = random.choice(Tree.get_leafs())\n",
    "\n",
    "    if verbose:\n",
    "        print(f\"Node to mutate: {node._str} at height {node._height}\")  \n",
    "    \n",
    "    \n",
    "    new_subtree = generate_random_tree(height, pc, terminal_list, constants, p_pick_constant)\n",
    "    node = node.replace_tree_shallow(new_subtree)\n",
    "    return Tree\n",
    "\n",
    "def collaps_mutation(Tree: Node, terminal_list: List[str], constants: list[float] = None, p_pick_constant: float = 0.2, pc: float = 0.2, verbose: bool = False) -> Node:\n",
    "    \"\"\"\n",
    "    Mutate a tree by collapsing a random node to a terminal.\n",
    "\n",
    "    Parameters\n",
    "    ----------\n",
    "    Tree : Node\n",
    "        The tree to mutate.\n",
    "    terminal_list : List[str]\n",
    "        The terminal list to choose from. Example: ['x0', 'x1', 'x2']\n",
    "    constants : list[float]\n",
    "        A list of constants that can be used in the tree.\n",
    "    p_pick_constant : float\n",
    "        The probability of choosing a constant over a terminal.\n",
    "    pc : float\n",
    "        The probability of choosing a complex function over a basic function.\n",
    "\n",
    "    Returns\n",
    "    -------\n",
    "    Node\n",
    "        The mutated tree.\n",
    "    \"\"\"\n",
    "\n",
    "    # Get the list of nodes in the tree\n",
    "    node = Tree.get_random_node()\n",
    "\n",
    "    if verbose:\n",
    "        print(f\"Node to mutate: {node._str} at height {node._height}\")\n",
    "\n",
    "   # possible choices\n",
    "    possible_choices = node.get_leafs()\n",
    "\n",
    "\n",
    "    node.replace_tree_shallow(random.choice(possible_choices))\n",
    "    return Tree\n",
    "\n",
    "\n",
    "def permutation_mutation(Tree: Node, terminal_list: List[str], constants: list[float] = None, p_pick_constant: float = 0.2, pc: float = 0.2,verbose: bool = False) -> Node:\n",
    "    \"\"\"\n",
    "    Mutate a tree by permuting the children of a random node through a rotation.\n",
    "\n",
    "    Parameters\n",
    "    ----------\n",
    "    Tree : Node\n",
    "        The tree to mutate.\n",
    "\n",
    "    Returns\n",
    "    -------\n",
    "    Node\n",
    "        The mutated tree.\n",
    "    \"\"\"\n",
    "\n",
    "    # Extract a random node that has at least two children (so no leaves and single input functions)\n",
    "    found = False\n",
    "    for i in range(20):\n",
    "        father = Tree.get_random_node()\n",
    "        if father._arity > 1:\n",
    "            found = True\n",
    "            break\n",
    "    if not found:\n",
    "        return Tree\n",
    "    \n",
    "    if verbose:\n",
    "        print(f\"Father node: {father._str} at height {father._height}. It has {len(father._successors)} children: [\", end=\"\")\n",
    "        for i, child in enumerate(father._successors):\n",
    "            print(f\"{child._str},\", end=\" \")\n",
    "        print(\"]\")\n",
    "\n",
    "    \n",
    "    new_successors = ()\n",
    "    for i, child in enumerate(father._successors):\n",
    "        new_successors = new_successors + (father._successors[i-1],)\n",
    "\n",
    "    father._successors = new_successors\n",
    "\n",
    "    if verbose:\n",
    "        print(f\"New children: [\", end=\"\")\n",
    "        for i, child in enumerate(father._successors):\n",
    "            print(f\"{child._str},\", end=\" \")\n",
    "        print(\"]\")\n",
    "\n",
    "    return Tree\n",
    "\n",
    "def hoist_mutation(Tree: Node, terminal_list: List[str], constants: list[float] = None, p_pick_constant: float = 0.2, pc: float = 0.2,verbose: bool = False) -> Node:\n",
    "    \"\"\"\n",
    "    Mutate a tree by replacing the root with a random child.\n",
    "\n",
    "    Parameters\n",
    "    ----------\n",
    "    Tree : Node\n",
    "        The tree to mutate.\n",
    "\n",
    "    Returns\n",
    "    -------\n",
    "    Node\n",
    "        The mutated tree.\n",
    "    \"\"\"\n",
    "\n",
    "    random_node = Tree.get_random_node()\n",
    "    return random_node"
   ]
  },
  {
   "cell_type": "markdown",
   "metadata": {},
   "source": [
    "### crossover"
   ]
  },
  {
   "cell_type": "code",
   "execution_count": 5,
   "metadata": {},
   "outputs": [],
   "source": [
    "def recombination_crossover(Tree1: Node, Tree2: Node, verbose: bool = False) -> Tuple[Node, Node]:\n",
    "    \"\"\"\n",
    "    Recombine two trees by swapping a random subtree.\n",
    "\n",
    "    Parameters\n",
    "    ----------\n",
    "    Tree1 : Node\n",
    "        The first tree.\n",
    "    Tree2 : Node\n",
    "        The second tree.\n",
    "\n",
    "    Returns\n",
    "    -------\n",
    "    Tuple[Node, Node]\n",
    "        The recombined trees.\n",
    "    \"\"\"\n",
    "\n",
    "    # Get the list of nodes in the trees\n",
    "    node1 = Tree1.get_random_node()\n",
    "    node2 = Tree2.get_random_node()\n",
    "\n",
    "    if verbose:\n",
    "        print(f\"Node1 to swap: {node1._str} at height {node1._height}\")\n",
    "        print(f\"Node2 to swap: {node2._str} at height {node2._height}\")\n",
    "\n",
    "    # Swap the subtrees\n",
    "    temp1 = node1.clone()\n",
    "    temp2 = node2.clone()\n",
    "    node1.replace_tree_shallow(temp2)\n",
    "    node2.replace_tree_shallow(temp1)\n",
    "\n",
    "    return Tree1, Tree2\n",
    "\n"
   ]
  },
  {
   "cell_type": "markdown",
   "metadata": {},
   "source": [
    "### Load Data"
   ]
  },
  {
   "cell_type": "code",
   "execution_count": 6,
   "metadata": {},
   "outputs": [
    {
     "name": "stdout",
     "output_type": "stream",
     "text": [
      "Input shape: (3, 5000)  Example of sample:  [ 1.52827812 -2.67876092 -3.73351453]\n",
      "Labels shape: (5000,)  Example of label:  40.96071445158248\n",
      "terminal_list:  ['x0', 'x1', 'x2']\n"
     ]
    }
   ],
   "source": [
    "from gxgp import Node\n",
    "problem_number = 3\n",
    "problem = np.load(f'./data/problem_{problem_number}.npz')\n",
    "input = problem['x']\n",
    "labels = problem['y']\n",
    "\n",
    "print(\"Input shape:\", input.shape, \" Example of sample: \", input[:, 0])\n",
    "print(\"Labels shape:\", labels.shape, \" Example of label: \", labels[0])\n",
    "\n",
    "# Terminal set\n",
    "terminal_list = ['x' + str(i) for i in range(input.shape[0])]\n",
    "\n",
    "print(\"terminal_list: \", terminal_list)\n",
    "# Main"
   ]
  },
  {
   "cell_type": "markdown",
   "metadata": {},
   "source": [
    "### examples for generating trees\n",
    "You can fine tune the size of the output by modifying draw() from draw.py"
   ]
  },
  {
   "cell_type": "code",
   "execution_count": 7,
   "metadata": {},
   "outputs": [],
   "source": [
    "from utils.terminal_constants import crammed_constants\n",
    "\n",
    "# height = 5\n",
    "# initialized = generate_random_tree(height, 0.2, terminal_list, constants=crammed_constants, p_pick_constant=0.7, p_cut_tree=0.01, verbose=True)\n",
    "# initialized.draw()"
   ]
  },
  {
   "cell_type": "code",
   "execution_count": 8,
   "metadata": {},
   "outputs": [],
   "source": [
    "# collapsed = initialized.collapse_constants()\n",
    "# collapsed.draw()"
   ]
  },
  {
   "cell_type": "code",
   "execution_count": 9,
   "metadata": {},
   "outputs": [
    {
     "data": {
      "text/plain": [
       "'second=generate_random_tree(height, 0.2, terminal_list, constants=crammed_constants, p_pick_constant=0.4, p_cut_tree=0.05, verbose=True)\\nsecond.draw()'"
      ]
     },
     "execution_count": 9,
     "metadata": {},
     "output_type": "execute_result"
    }
   ],
   "source": [
    "\"\"\"second=generate_random_tree(height, 0.2, terminal_list, constants=crammed_constants, p_pick_constant=0.4, p_cut_tree=0.05, verbose=True)\n",
    "second.draw()\"\"\""
   ]
  },
  {
   "cell_type": "code",
   "execution_count": 10,
   "metadata": {},
   "outputs": [
    {
     "data": {
      "text/plain": [
       "'for obj in recombination_crossover(initialized, second, verbose=True):\\n    obj.draw()'"
      ]
     },
     "execution_count": 10,
     "metadata": {},
     "output_type": "execute_result"
    }
   ],
   "source": [
    "\"\"\"for obj in recombination_crossover(initialized, second, verbose=True):\n",
    "    obj.draw()\"\"\""
   ]
  },
  {
   "cell_type": "markdown",
   "metadata": {},
   "source": [
    "### Create input formatted"
   ]
  },
  {
   "cell_type": "code",
   "execution_count": 11,
   "metadata": {},
   "outputs": [
    {
     "name": "stdout",
     "output_type": "stream",
     "text": [
      "input shape is  (3, 5000)\n",
      "vars shape is  (5000,)\n"
     ]
    }
   ],
   "source": [
    "print(\"input shape is \", input.shape)\n",
    "\n",
    "vars = []\n",
    "for j in range(input.shape[1]):\n",
    "    cur_vars = {'x'+str(i): input[i][j] for i in range(input.shape[0])}\n",
    "    # print(\"cur_vars is \", cur_vars)\n",
    "    vars.append(cur_vars)\n",
    "vars = np.array(vars)\n",
    "\n",
    "print(\"vars shape is \", vars.shape)"
   ]
  },
  {
   "cell_type": "markdown",
   "metadata": {},
   "source": [
    "### fitness"
   ]
  },
  {
   "cell_type": "code",
   "execution_count": 12,
   "metadata": {},
   "outputs": [],
   "source": [
    "import warnings\n",
    "warnings.simplefilter(\"error\", RuntimeWarning)"
   ]
  },
  {
   "cell_type": "code",
   "execution_count": 13,
   "metadata": {},
   "outputs": [],
   "source": [
    "# def fitness(mytree: Node, vars, labels, verbose=False, penalized = 'sqrt'):\n",
    "#     try:\n",
    "#         output = np.array([mytree(**var) for var in vars])\n",
    "#         mse = 100 * np.square(labels - output).mean()\n",
    "#         if penalized == 'percent':\n",
    "#             return mse +  mse * mytree.get_height() * 0.01 if mytree.get_height() > 0 else mse\n",
    "#         else:\n",
    "#             return mse * np.sqrt(mytree.get_height()) if mytree.get_height() > 0 else mse\n",
    "#     except RuntimeWarning as e:\n",
    "#         if verbose: print(f\"caught runtime warning: {e}, setting fitness to inf\")\n",
    "#         return np.inf\n",
    "\n",
    "# Fitness reverse\n",
    "def fitness(mytree, vars, labels, penalized=None):\n",
    "    try:\n",
    "        output = np.array([mytree(**var) for var in vars])\n",
    "        mytree.reeval_heights()\n",
    "        height = mytree.get_height()\n",
    "        mse = 100 * np.square(labels - output).mean()\n",
    "        if height > 25:\n",
    "            mse *= float(height - 15) / 10\n",
    "        return mse\n",
    "    except RuntimeWarning as e:\n",
    "        # print(f\"caught runtime warning: {e}, setting fitness to inf\")\n",
    "        return np.inf\n",
    "\n",
    "#print(fitness(initialized, vars, labels))\n",
    "\n",
    "def fitness_unscaled(mytree: Node, vars, labels, verbose=False):\n",
    "    try:\n",
    "        output = np.array([mytree(**var) for var in vars])\n",
    "        mse = 100 * np.square(labels - output).mean()\n",
    "        return mse\n",
    "    except RuntimeWarning as e:\n",
    "        if verbose: print(f\"caught runtime warning: {e}, setting fitness to inf\")\n",
    "        return np.inf\n",
    "#print(fitness(initialized, vars, labels))"
   ]
  },
  {
   "cell_type": "code",
   "execution_count": 14,
   "metadata": {},
   "outputs": [
    {
     "data": {
      "text/plain": [
       "'# Xover\\ndef xover(tree1, tree2):\\n    return xover_swap_subtree(tree1, tree2)\\n\\n# initialized.subtree.pop().draw() # this procedure is really similar to get_random_node, except there we use a list and random.choice\\nhoist_mutation(initialized, verbose=True).draw()'"
      ]
     },
     "execution_count": 14,
     "metadata": {},
     "output_type": "execute_result"
    }
   ],
   "source": [
    "from gxgp.gp_common import xover_swap_subtree\n",
    "\"\"\"# Xover\n",
    "def xover(tree1, tree2):\n",
    "    return xover_swap_subtree(tree1, tree2)\n",
    "\n",
    "# initialized.subtree.pop().draw() # this procedure is really similar to get_random_node, except there we use a list and random.choice\n",
    "hoist_mutation(initialized, verbose=True).draw()\"\"\""
   ]
  },
  {
   "cell_type": "markdown",
   "metadata": {},
   "source": [
    "### parent selection"
   ]
  },
  {
   "cell_type": "code",
   "execution_count": 15,
   "metadata": {},
   "outputs": [],
   "source": [
    "\n",
    "def parent_selection(population, pre_calculated_fitnesses=None, penalized = 'sqrt'):\n",
    "    if pre_calculated_fitnesses is None:\n",
    "        candidates = sorted(np.random.choice(population, 2), key=lambda e: fitness(e,vars,labels, penalized=penalized))\n",
    "        return candidates[0]\n",
    "    else:\n",
    "        #Random index between 0 and population size\n",
    "        index1 = np.random.randint(0, len(population))\n",
    "        index2 = np.random.randint(0, len(population))\n",
    "        candidates = [population[index1], population[index2]]\n",
    "        if pre_calculated_fitnesses[index1] > pre_calculated_fitnesses[index2]:\n",
    "            return candidates[1]\n",
    "        else:\n",
    "            return candidates[0]"
   ]
  },
  {
   "cell_type": "markdown",
   "metadata": {},
   "source": [
    "### utils functions"
   ]
  },
  {
   "cell_type": "code",
   "execution_count": 16,
   "metadata": {},
   "outputs": [],
   "source": [
    "import concurrent\n",
    "from concurrent.futures import ThreadPoolExecutor\n",
    "from tqdm import tqdm\n",
    "import numpy as np\n",
    "\n",
    "def compute_pair_distance(i, j, population):\n",
    "    return i, j, population[i].tree_distance(population[j])\n",
    "\n",
    "def tree_distance(population, verbose=\"Calculating tree distance matrix\"):\n",
    "    n = len(population)\n",
    "    matrix = np.zeros((n, n))\n",
    "    pairs = [(i, j) for i in range(n) for j in range(i+1, n)]\n",
    "    \n",
    "    with ThreadPoolExecutor() as executor:\n",
    "        futures = [executor.submit(compute_pair_distance, i, j, population) for i, j in pairs]\n",
    "        for future in tqdm(concurrent.futures.as_completed(futures), desc=verbose, total=len(futures)):\n",
    "            i, j, dist = future.result()\n",
    "            matrix[i][j] = dist/ population[i].__len__() if population[i].__len__() > 0 else dist\n",
    "            matrix[j][i] = dist/ population[j].__len__() if population[j].__len__() > 0 else dist\n",
    "\n",
    "    \n",
    "    return matrix\n",
    "\n",
    "def random_mutation(p1=0.16, p2=0.16, p3=0.16, p4=0.16, p5=0.16):\n",
    "    r = random.random()\n",
    "    if r < p1:\n",
    "        return point_mutation\n",
    "    elif r < p1 + p2:\n",
    "        return subtree_mutation\n",
    "    elif r < p1 + p2 + p3:\n",
    "        return expansion_mutation\n",
    "    elif r < p1 + p2 + p3 + p4:\n",
    "        return permutation_mutation\n",
    "    elif r < p1 + p2 + p3 + p4 + p5:\n",
    "        return collaps_mutation\n",
    "    else:\n",
    "        return hoist_mutation\n"
   ]
  },
  {
   "cell_type": "markdown",
   "metadata": {},
   "source": [
    "### Training"
   ]
  },
  {
   "cell_type": "code",
   "execution_count": null,
   "metadata": {},
   "outputs": [
    {
     "name": "stderr",
     "output_type": "stream",
     "text": [
      "Initializing population: 100%|██████████| 100/100 [00:00<00:00, 33325.15it/s]"
     ]
    },
    {
     "name": "stderr",
     "output_type": "stream",
     "text": [
      "\n",
      "Initial tree distances: 100%|██████████| 4950/4950 [00:01<00:00, 4354.19it/s]\n",
      "Evaluating population: 100%|██████████| 97/97 [00:38<00:00,  2.53it/s]\n"
     ]
    },
    {
     "name": "stdout",
     "output_type": "stream",
     "text": [
      "0.16 0.16 0.16 0.16 0.16\n"
     ]
    },
    {
     "name": "stderr",
     "output_type": "stream",
     "text": [
      "Generation 0, Creating offsprings: 100%|██████████| 200/200 [00:02<00:00, 88.99it/s] \n",
      "Calculating tree distance matrix: 100%|██████████| 67161/67161 [00:16<00:00, 4006.45it/s]\n",
      "Evaluating offsprings: 100%|██████████| 359/359 [03:02<00:00,  1.97it/s]\n"
     ]
    },
    {
     "name": "stdout",
     "output_type": "stream",
     "text": [
      "Removed 11 identical or invalid trees\n",
      "Kept 10 outsiders with low fitness\n",
      "Generation 0 - Best fitness: 92159.46889142648\n",
      "Population size: 99\n",
      "Best height: 5\n",
      "Mean height of the population: 4.03030303030303\n"
     ]
    },
    {
     "name": "stderr",
     "output_type": "stream",
     "text": [
      "Generation 1, Creating offsprings: 100%|██████████| 200/200 [00:01<00:00, 109.11it/s]\n"
     ]
    },
    {
     "name": "stdout",
     "output_type": "stream",
     "text": [
      "Error in node exp: overflow encountered in exp\n"
     ]
    },
    {
     "name": "stderr",
     "output_type": "stream",
     "text": [
      "Calculating tree distance matrix: 100%|██████████| 66795/66795 [00:25<00:00, 2584.69it/s]\n",
      "Evaluating offsprings: 100%|██████████| 358/358 [02:57<00:00,  2.01it/s] \n"
     ]
    },
    {
     "name": "stdout",
     "output_type": "stream",
     "text": [
      "Removed 17 identical or invalid trees\n",
      "Kept 17 outsiders with low fitness\n",
      "Generation 1 - Best fitness: 86849.13784403335 - Difference: -5310.331047393134\n",
      "Population size: 100\n",
      "Best height: 7\n",
      "Mean height of the population: 4.83\n"
     ]
    },
    {
     "name": "stderr",
     "output_type": "stream",
     "text": [
      "Generation 2, Creating offsprings: 100%|██████████| 200/200 [00:04<00:00, 43.63it/s]\n",
      "Calculating tree distance matrix: 100%|██████████| 67161/67161 [00:09<00:00, 6893.47it/s]\n",
      "Evaluating offsprings: 100%|██████████| 359/359 [03:11<00:00,  1.88it/s]\n"
     ]
    },
    {
     "name": "stdout",
     "output_type": "stream",
     "text": [
      "Removed 10 identical or invalid trees\n",
      "Kept 20 outsiders with low fitness\n",
      "Generation 2 - Best fitness: 81413.39421125336 - Difference: -5435.743632779995\n",
      "Population size: 110\n",
      "Best height: 7\n",
      "Mean height of the population: 6.136363636363637\n"
     ]
    },
    {
     "name": "stderr",
     "output_type": "stream",
     "text": [
      "Generation 3, Creating offsprings: 100%|██████████| 200/200 [00:01<00:00, 154.01it/s]\n",
      "Calculating tree distance matrix: 100%|██████████| 66795/66795 [00:13<00:00, 4817.01it/s]\n",
      "Evaluating offsprings: 100%|██████████| 358/358 [04:52<00:00,  1.23it/s] \n"
     ]
    },
    {
     "name": "stdout",
     "output_type": "stream",
     "text": [
      "Removed 12 identical or invalid trees\n",
      "Kept 20 outsiders with low fitness\n",
      "Generation 3 - Best fitness: 74910.5554848923 - Difference: -6502.838726361049\n",
      "Population size: 108\n",
      "Best height: 3\n",
      "Mean height of the population: 6.657407407407407\n"
     ]
    },
    {
     "name": "stderr",
     "output_type": "stream",
     "text": [
      "Generation 4, Creating offsprings: 100%|██████████| 200/200 [00:01<00:00, 139.03it/s]\n",
      "Calculating tree distance matrix: 100%|██████████| 67161/67161 [00:13<00:00, 4831.98it/s]\n",
      "Evaluating offsprings: 100%|██████████| 359/359 [05:00<00:00,  1.20it/s]\n"
     ]
    },
    {
     "name": "stdout",
     "output_type": "stream",
     "text": [
      "Removed 15 identical or invalid trees\n",
      "Kept 20 outsiders with low fitness\n",
      "Generation 4 - Best fitness: 73441.32642330142 - Difference: -1469.229061590886\n",
      "Population size: 105\n",
      "Best height: 5\n",
      "Mean height of the population: 6.742857142857143\n"
     ]
    },
    {
     "name": "stderr",
     "output_type": "stream",
     "text": [
      "Generation 5, Creating offsprings: 100%|██████████| 200/200 [00:01<00:00, 159.65it/s]\n",
      "Calculating tree distance matrix: 100%|██████████| 67161/67161 [00:13<00:00, 5078.11it/s]\n",
      "Evaluating offsprings: 100%|██████████| 359/359 [04:38<00:00,  1.29it/s]\n"
     ]
    },
    {
     "name": "stdout",
     "output_type": "stream",
     "text": [
      "Removed 11 identical or invalid trees\n",
      "Kept 20 outsiders with low fitness\n",
      "Generation 5 - Best fitness: 67709.56827699335 - Difference: -5731.758146308071\n",
      "Population size: 109\n",
      "Best height: 5\n",
      "Mean height of the population: 6.559633027522936\n"
     ]
    },
    {
     "name": "stderr",
     "output_type": "stream",
     "text": [
      "Generation 6, Creating offsprings: 100%|██████████| 200/200 [00:01<00:00, 152.88it/s]\n",
      "Calculating tree distance matrix: 100%|██████████| 72390/72390 [00:14<00:00, 5040.07it/s]\n",
      "Evaluating offsprings: 100%|██████████| 373/373 [04:54<00:00,  1.27it/s]\n"
     ]
    },
    {
     "name": "stdout",
     "output_type": "stream",
     "text": [
      "Removed 9 identical or invalid trees\n",
      "Kept 20 outsiders with low fitness\n",
      "Generation 6 - Best fitness: 60803.48543900292 - Difference: -6906.082837990427\n",
      "Population size: 111\n",
      "Best height: 10\n",
      "Mean height of the population: 7.63963963963964\n"
     ]
    },
    {
     "name": "stderr",
     "output_type": "stream",
     "text": [
      "Generation 7, Creating offsprings: 100%|██████████| 200/200 [00:01<00:00, 157.24it/s]\n",
      "Calculating tree distance matrix: 100%|██████████| 69751/69751 [00:14<00:00, 4759.78it/s]\n",
      "Evaluating offsprings: 100%|██████████| 366/366 [05:01<00:00,  1.21it/s]\n"
     ]
    },
    {
     "name": "stdout",
     "output_type": "stream",
     "text": [
      "Removed 4 identical or invalid trees\n",
      "Kept 20 outsiders with low fitness\n",
      "Generation 7 - Best fitness: 57586.907652824775 - Difference: -3216.577786178146\n",
      "Population size: 116\n",
      "Best height: 6\n",
      "Mean height of the population: 7.5\n"
     ]
    },
    {
     "name": "stderr",
     "output_type": "stream",
     "text": [
      "Generation 8, Creating offsprings: 100%|██████████| 200/200 [00:01<00:00, 147.58it/s]\n",
      "Calculating tree distance matrix: 100%|██████████| 70500/70500 [00:15<00:00, 4634.77it/s]\n",
      "Evaluating offsprings: 100%|██████████| 368/368 [05:11<00:00,  1.18it/s] \n"
     ]
    },
    {
     "name": "stdout",
     "output_type": "stream",
     "text": [
      "Removed 6 identical or invalid trees\n",
      "Kept 20 outsiders with low fitness\n",
      "Generation 8 - Best fitness: 57416.629921037296 - Difference: -170.27773178747884\n",
      "Population size: 114\n",
      "Best height: 8\n",
      "Mean height of the population: 8.912280701754385\n"
     ]
    },
    {
     "name": "stderr",
     "output_type": "stream",
     "text": [
      "Generation 9, Creating offsprings: 100%|██████████| 200/200 [00:01<00:00, 132.38it/s]\n",
      "Calculating tree distance matrix: 100%|██████████| 68635/68635 [00:16<00:00, 4280.75it/s]\n",
      "Evaluating offsprings: 100%|██████████| 363/363 [05:41<00:00,  1.06it/s] \n"
     ]
    },
    {
     "name": "stdout",
     "output_type": "stream",
     "text": [
      "Removed 11 identical or invalid trees\n",
      "Kept 20 outsiders with low fitness\n",
      "Generation 9 - Best fitness: 55582.78619922104 - Difference: -1833.843721816258\n",
      "Population size: 109\n",
      "Best height: 12\n",
      "Mean height of the population: 9.256880733944953\n"
     ]
    },
    {
     "name": "stderr",
     "output_type": "stream",
     "text": [
      "Generation 10, Creating offsprings: 100%|██████████| 200/200 [00:01<00:00, 123.20it/s]\n",
      "Calculating tree distance matrix: 100%|██████████| 70500/70500 [00:17<00:00, 3919.04it/s]\n",
      "Evaluating offsprings: 100%|██████████| 368/368 [06:14<00:00,  1.02s/it]\n"
     ]
    },
    {
     "name": "stdout",
     "output_type": "stream",
     "text": [
      "Removed 13 identical or invalid trees\n",
      "Kept 20 outsiders with low fitness\n",
      "Generation 10 - Best fitness: 52995.174539080246 - Difference: -2587.611660140792\n",
      "Population size: 107\n",
      "Best height: 12\n",
      "Mean height of the population: 10.30841121495327\n"
     ]
    },
    {
     "name": "stderr",
     "output_type": "stream",
     "text": [
      "Generation 11, Creating offsprings: 100%|██████████| 200/200 [00:01<00:00, 106.33it/s]\n",
      "Calculating tree distance matrix: 100%|██████████| 69751/69751 [00:21<00:00, 3273.38it/s]\n",
      "Evaluating offsprings: 100%|██████████| 366/366 [07:48<00:00,  1.28s/it] \n"
     ]
    },
    {
     "name": "stdout",
     "output_type": "stream",
     "text": [
      "Removed 6 identical or invalid trees\n",
      "Kept 20 outsiders with low fitness\n",
      "Generation 11 - Best fitness: 52353.01006661707 - Difference: -642.1644724631769\n",
      "Population size: 114\n",
      "Best height: 12\n",
      "Mean height of the population: 11.473684210526315\n"
     ]
    },
    {
     "name": "stderr",
     "output_type": "stream",
     "text": [
      "Generation 12, Creating offsprings: 100%|██████████| 200/200 [00:02<00:00, 91.17it/s]\n",
      "Calculating tree distance matrix: 100%|██████████| 67161/67161 [00:23<00:00, 2825.35it/s]\n",
      "Evaluating offsprings: 100%|██████████| 359/359 [09:11<00:00,  1.54s/it]\n"
     ]
    },
    {
     "name": "stdout",
     "output_type": "stream",
     "text": [
      "Removed 1 identical or invalid trees\n",
      "Kept 20 outsiders with low fitness\n",
      "Generation 12 - Best fitness: 45340.06879842716 - Difference: -7012.941268189912\n",
      "Population size: 119\n",
      "Best height: 9\n",
      "Mean height of the population: 12.042016806722689\n"
     ]
    },
    {
     "name": "stderr",
     "output_type": "stream",
     "text": [
      "Generation 13, Creating offsprings: 100%|██████████| 200/200 [00:02<00:00, 78.56it/s]\n",
      "Calculating tree distance matrix: 100%|██████████| 70500/70500 [00:28<00:00, 2471.20it/s]\n",
      "Evaluating offsprings: 100%|██████████| 368/368 [10:30<00:00,  1.71s/it]\n"
     ]
    },
    {
     "name": "stdout",
     "output_type": "stream",
     "text": [
      "Removed 10 identical or invalid trees\n",
      "Kept 20 outsiders with low fitness\n",
      "Generation 13 - Best fitness: 45340.06879842716 - Difference: 0.0\n",
      "Population size: 110\n",
      "Best height: 9\n",
      "Mean height of the population: 13.927272727272728\n"
     ]
    },
    {
     "name": "stderr",
     "output_type": "stream",
     "text": [
      "Generation 14, Creating offsprings: 100%|██████████| 200/200 [00:02<00:00, 69.67it/s]\n",
      "Calculating tree distance matrix: 100%|██████████| 69006/69006 [00:30<00:00, 2236.07it/s]\n",
      "Evaluating offsprings: 100%|██████████| 364/364 [11:19<00:00,  1.87s/it]\n"
     ]
    },
    {
     "name": "stdout",
     "output_type": "stream",
     "text": [
      "Removed 6 identical or invalid trees\n",
      "Kept 20 outsiders with low fitness\n",
      "Generation 14 - Best fitness: 45340.06879842716 - Difference: 0.0\n",
      "Population size: 114\n",
      "Best height: 9\n",
      "Mean height of the population: 14.447368421052632\n"
     ]
    },
    {
     "name": "stderr",
     "output_type": "stream",
     "text": [
      "Generation 15, Creating offsprings: 100%|██████████| 200/200 [00:02<00:00, 71.05it/s]\n",
      "Calculating tree distance matrix: 100%|██████████| 67896/67896 [00:30<00:00, 2198.34it/s]\n",
      "Evaluating offsprings: 100%|██████████| 361/361 [11:09<00:00,  1.85s/it]\n"
     ]
    },
    {
     "name": "stdout",
     "output_type": "stream",
     "text": [
      "Removed 10 identical or invalid trees\n",
      "Kept 20 outsiders with low fitness\n",
      "Generation 15 - Best fitness: 45340.06879842716 - Difference: 0.0\n",
      "Population size: 110\n",
      "Best height: 9\n",
      "Mean height of the population: 14.918181818181818\n"
     ]
    },
    {
     "name": "stderr",
     "output_type": "stream",
     "text": [
      "Generation 16, Creating offsprings: 100%|██████████| 200/200 [00:02<00:00, 77.09it/s]\n",
      "Calculating tree distance matrix: 100%|██████████| 68635/68635 [00:30<00:00, 2261.74it/s]\n",
      "Evaluating offsprings: 100%|██████████| 363/363 [11:10<00:00,  1.85s/it]\n"
     ]
    },
    {
     "name": "stdout",
     "output_type": "stream",
     "text": [
      "Removed 8 identical or invalid trees\n",
      "Kept 20 outsiders with low fitness\n",
      "Generation 16 - Best fitness: 44172.14525900092 - Difference: -1167.923539426236\n",
      "Population size: 112\n",
      "Best height: 14\n",
      "Mean height of the population: 15.526785714285714\n"
     ]
    },
    {
     "name": "stderr",
     "output_type": "stream",
     "text": [
      "Generation 17, Creating offsprings: 100%|██████████| 200/200 [00:02<00:00, 70.47it/s]\n",
      "Calculating tree distance matrix: 100%|██████████| 68265/68265 [00:32<00:00, 2078.78it/s]\n",
      "Evaluating offsprings: 100%|██████████| 362/362 [11:51<00:00,  1.97s/it] \n"
     ]
    },
    {
     "name": "stdout",
     "output_type": "stream",
     "text": [
      "Removed 10 identical or invalid trees\n",
      "Kept 20 outsiders with low fitness\n",
      "Generation 17 - Best fitness: 40726.984870750945 - Difference: -3445.1603882499767\n",
      "Population size: 110\n",
      "Best height: 22\n",
      "Mean height of the population: 16.845454545454544\n"
     ]
    },
    {
     "name": "stderr",
     "output_type": "stream",
     "text": [
      "Generation 18, Creating offsprings: 100%|██████████| 200/200 [00:03<00:00, 66.39it/s]\n",
      "Calculating tree distance matrix: 100%|██████████| 70125/70125 [00:36<00:00, 1924.63it/s]\n",
      "Evaluating offsprings: 100%|██████████| 367/367 [13:06<00:00,  2.14s/it] \n"
     ]
    },
    {
     "name": "stdout",
     "output_type": "stream",
     "text": [
      "Removed 11 identical or invalid trees\n",
      "Kept 20 outsiders with low fitness\n",
      "Generation 18 - Best fitness: 39513.74072982238 - Difference: -1213.2441409285675\n",
      "Population size: 109\n",
      "Best height: 22\n",
      "Mean height of the population: 15.944954128440367\n"
     ]
    },
    {
     "name": "stderr",
     "output_type": "stream",
     "text": [
      "Generation 19, Creating offsprings: 100%|██████████| 200/200 [00:03<00:00, 60.28it/s]\n",
      "Calculating tree distance matrix: 100%|██████████| 68265/68265 [00:40<00:00, 1701.04it/s]\n",
      "Evaluating offsprings: 100%|██████████| 362/362 [14:27<00:00,  2.40s/it]\n"
     ]
    },
    {
     "name": "stdout",
     "output_type": "stream",
     "text": [
      "Removed 10 identical or invalid trees\n",
      "Kept 20 outsiders with low fitness\n",
      "Generation 19 - Best fitness: 35410.686370570904 - Difference: -4103.054359251473\n",
      "Population size: 110\n",
      "Best height: 22\n",
      "Mean height of the population: 17.363636363636363\n"
     ]
    },
    {
     "name": "stderr",
     "output_type": "stream",
     "text": [
      "Generation 20, Creating offsprings: 100%|██████████| 200/200 [00:03<00:00, 60.24it/s]\n",
      "Calculating tree distance matrix: 100%|██████████| 66430/66430 [00:38<00:00, 1719.03it/s]\n",
      "Evaluating offsprings: 100%|██████████| 357/357 [14:02<00:00,  2.36s/it]\n"
     ]
    },
    {
     "name": "stdout",
     "output_type": "stream",
     "text": [
      "Removed 13 identical or invalid trees\n",
      "Kept 20 outsiders with low fitness\n",
      "Generation 20 - Best fitness: 35402.252559728 - Difference: -8.433810842907405\n",
      "Population size: 107\n",
      "Best height: 23\n",
      "Mean height of the population: 18.009345794392523\n"
     ]
    },
    {
     "name": "stderr",
     "output_type": "stream",
     "text": [
      "Generation 21, Creating offsprings: 100%|██████████| 200/200 [00:04<00:00, 48.27it/s]\n",
      "Calculating tree distance matrix: 100%|██████████| 70125/70125 [00:48<00:00, 1450.70it/s]\n",
      "Evaluating offsprings: 100%|██████████| 367/367 [17:42<00:00,  2.89s/it]  \n"
     ]
    },
    {
     "name": "stdout",
     "output_type": "stream",
     "text": [
      "Removed 12 identical or invalid trees\n",
      "Kept 20 outsiders with low fitness\n",
      "Generation 21 - Best fitness: 35344.73367244998 - Difference: -57.518887278019974\n",
      "Population size: 108\n",
      "Best height: 23\n",
      "Mean height of the population: 19.203703703703702\n"
     ]
    },
    {
     "name": "stderr",
     "output_type": "stream",
     "text": [
      "Generation 22, Creating offsprings: 100%|██████████| 200/200 [00:04<00:00, 41.94it/s]\n",
      "Calculating tree distance matrix: 100%|██████████| 73153/73153 [00:54<00:00, 1331.26it/s]\n",
      "Evaluating offsprings: 100%|██████████| 375/375 [19:54<00:00,  3.19s/it] \n"
     ]
    },
    {
     "name": "stdout",
     "output_type": "stream",
     "text": [
      "Removed 8 identical or invalid trees\n",
      "Kept 20 outsiders with low fitness\n",
      "Generation 22 - Best fitness: 34598.58652352548 - Difference: -746.1471489244941\n",
      "Population size: 112\n",
      "Best height: 23\n",
      "Mean height of the population: 19.160714285714285\n"
     ]
    },
    {
     "name": "stderr",
     "output_type": "stream",
     "text": [
      "Generation 23, Creating offsprings: 100%|██████████| 200/200 [00:05<00:00, 39.78it/s]\n",
      "Calculating tree distance matrix: 100%|██████████| 72390/72390 [00:53<00:00, 1352.36it/s]\n",
      "Evaluating offsprings: 100%|██████████| 373/373 [19:14<00:00,  3.09s/it] \n"
     ]
    },
    {
     "name": "stdout",
     "output_type": "stream",
     "text": [
      "Removed 9 identical or invalid trees\n",
      "Kept 20 outsiders with low fitness\n",
      "Generation 23 - Best fitness: 34396.47401405513 - Difference: -202.11250947035296\n",
      "Population size: 111\n",
      "Best height: 25\n",
      "Mean height of the population: 19.72972972972973\n"
     ]
    },
    {
     "name": "stderr",
     "output_type": "stream",
     "text": [
      "Generation 24, Creating offsprings: 100%|██████████| 200/200 [00:04<00:00, 47.65it/s]\n",
      "Calculating tree distance matrix: 100%|██████████| 69751/69751 [00:51<00:00, 1365.05it/s]\n",
      "Evaluating offsprings: 100%|██████████| 366/366 [19:00<00:00,  3.12s/it]\n"
     ]
    },
    {
     "name": "stdout",
     "output_type": "stream",
     "text": [
      "Removed 10 identical or invalid trees\n",
      "Kept 20 outsiders with low fitness\n",
      "Generation 24 - Best fitness: 33948.65191750337 - Difference: -447.8220965517612\n",
      "Population size: 110\n",
      "Best height: 23\n",
      "Mean height of the population: 19.681818181818183\n"
     ]
    },
    {
     "name": "stderr",
     "output_type": "stream",
     "text": [
      "Generation 25, Creating offsprings: 100%|██████████| 200/200 [00:04<00:00, 41.41it/s]\n",
      "Calculating tree distance matrix: 100%|██████████| 72010/72010 [00:57<00:00, 1257.92it/s]\n",
      "Evaluating offsprings: 100%|██████████| 372/372 [20:38<00:00,  3.33s/it] \n"
     ]
    },
    {
     "name": "stdout",
     "output_type": "stream",
     "text": [
      "Removed 8 identical or invalid trees\n",
      "Kept 20 outsiders with low fitness\n",
      "Generation 25 - Best fitness: 6812.598943948828 - Difference: -27136.052973554542\n",
      "Population size: 112\n",
      "Best height: 23\n",
      "Mean height of the population: 20.508928571428573\n"
     ]
    },
    {
     "name": "stderr",
     "output_type": "stream",
     "text": [
      "Generation 26, Creating offsprings: 100%|██████████| 200/200 [00:04<00:00, 44.57it/s]\n",
      "Calculating tree distance matrix: 100%|██████████| 66795/66795 [00:53<00:00, 1244.68it/s]\n",
      "Evaluating offsprings: 100%|██████████| 358/358 [20:22<00:00,  3.41s/it] \n"
     ]
    },
    {
     "name": "stdout",
     "output_type": "stream",
     "text": [
      "Removed 7 identical or invalid trees\n",
      "Kept 19 outsiders with low fitness\n",
      "Generation 26 - Best fitness: 6558.424005964072 - Difference: -254.17493798475516\n",
      "Population size: 112\n",
      "Best height: 23\n",
      "Mean height of the population: 20.785714285714285\n"
     ]
    },
    {
     "name": "stderr",
     "output_type": "stream",
     "text": [
      "Generation 27, Creating offsprings: 100%|██████████| 200/200 [00:05<00:00, 38.14it/s]\n",
      "Calculating tree distance matrix: 100%|██████████| 72771/72771 [01:01<00:00, 1175.84it/s]\n",
      "Evaluating offsprings: 100%|██████████| 374/374 [21:37<00:00,  3.47s/it]  \n"
     ]
    },
    {
     "name": "stdout",
     "output_type": "stream",
     "text": [
      "Removed 5 identical or invalid trees\n",
      "Kept 20 outsiders with low fitness\n",
      "Generation 27 - Best fitness: 6198.187896610603 - Difference: -360.23610935346915\n",
      "Population size: 115\n",
      "Best height: 23\n",
      "Mean height of the population: 20.582608695652173\n"
     ]
    },
    {
     "name": "stderr",
     "output_type": "stream",
     "text": [
      "Generation 28, Creating offsprings: 100%|██████████| 200/200 [00:04<00:00, 42.06it/s]\n",
      "Calculating tree distance matrix: 100%|██████████| 74305/74305 [01:01<00:00, 1217.16it/s]\n",
      "Evaluating offsprings: 100%|██████████| 378/378 [22:05<00:00,  3.51s/it]  \n"
     ]
    },
    {
     "name": "stdout",
     "output_type": "stream",
     "text": [
      "Removed 3 identical or invalid trees\n",
      "Kept 20 outsiders with low fitness\n",
      "Generation 28 - Best fitness: 5558.901039400233 - Difference: -639.2868572103707\n",
      "Population size: 117\n",
      "Best height: 23\n",
      "Mean height of the population: 19.846153846153847\n"
     ]
    },
    {
     "name": "stderr",
     "output_type": "stream",
     "text": [
      "Generation 29, Creating offsprings: 100%|██████████| 200/200 [00:04<00:00, 43.08it/s]\n",
      "Calculating tree distance matrix: 100%|██████████| 71253/71253 [00:56<00:00, 1260.86it/s]\n",
      "Evaluating offsprings: 100%|██████████| 370/370 [20:55<00:00,  3.39s/it] \n"
     ]
    },
    {
     "name": "stdout",
     "output_type": "stream",
     "text": [
      "Removed 4 identical or invalid trees\n",
      "Kept 20 outsiders with low fitness\n",
      "Generation 29 - Best fitness: 5558.901039400233 - Difference: 0.0\n",
      "Population size: 116\n",
      "Best height: 23\n",
      "Mean height of the population: 19.629310344827587\n"
     ]
    },
    {
     "name": "stderr",
     "output_type": "stream",
     "text": [
      "Generation 30, Creating offsprings: 100%|██████████| 200/200 [00:04<00:00, 46.77it/s]\n",
      "Calculating tree distance matrix: 100%|██████████| 72010/72010 [00:56<00:00, 1274.57it/s]\n",
      "Evaluating offsprings: 100%|██████████| 372/372 [20:43<00:00,  3.34s/it] \n"
     ]
    },
    {
     "name": "stdout",
     "output_type": "stream",
     "text": [
      "Removed 4 identical or invalid trees\n",
      "Kept 20 outsiders with low fitness\n",
      "Generation 30 - Best fitness: 5558.901039400233 - Difference: 0.0\n",
      "Population size: 116\n",
      "Best height: 23\n",
      "Mean height of the population: 19.370689655172413\n"
     ]
    },
    {
     "name": "stderr",
     "output_type": "stream",
     "text": [
      "Generation 31, Creating offsprings: 100%|██████████| 200/200 [00:04<00:00, 48.05it/s]\n",
      "Calculating tree distance matrix: 100%|██████████| 72010/72010 [00:52<00:00, 1359.60it/s]\n",
      "Evaluating offsprings: 100%|██████████| 372/372 [19:41<00:00,  3.18s/it] \n"
     ]
    },
    {
     "name": "stdout",
     "output_type": "stream",
     "text": [
      "Removed 2 identical or invalid trees\n",
      "Kept 20 outsiders with low fitness\n",
      "Generation 31 - Best fitness: 3375.236769757327 - Difference: -2183.6642696429058\n",
      "Population size: 118\n",
      "Best height: 23\n",
      "Mean height of the population: 19.347457627118644\n"
     ]
    },
    {
     "name": "stderr",
     "output_type": "stream",
     "text": [
      "Generation 32, Creating offsprings: 100%|██████████| 200/200 [00:04<00:00, 42.39it/s]\n",
      "Calculating tree distance matrix: 100%|██████████| 69751/69751 [00:53<00:00, 1316.04it/s]\n",
      "Evaluating offsprings: 100%|██████████| 366/366 [19:57<00:00,  3.27s/it]\n"
     ]
    },
    {
     "name": "stdout",
     "output_type": "stream",
     "text": [
      "Removed 4 identical or invalid trees\n",
      "Kept 20 outsiders with low fitness\n",
      "Generation 32 - Best fitness: 2729.0279308255217 - Difference: -646.2088389318051\n",
      "Population size: 116\n",
      "Best height: 23\n",
      "Mean height of the population: 19.336206896551722\n"
     ]
    },
    {
     "name": "stderr",
     "output_type": "stream",
     "text": [
      "Generation 33, Creating offsprings: 100%|██████████| 200/200 [00:04<00:00, 41.09it/s]\n",
      "Calculating tree distance matrix:   7%|▋         | 5069/73153 [00:04<00:58, 1173.72it/s]"
     ]
    }
   ],
   "source": [
    "from tqdm import tqdm\n",
    "from concurrent.futures import ThreadPoolExecutor\n",
    "import math\n",
    "\n",
    "\n",
    "# Parameters\n",
    "crossover = recombination_crossover\n",
    "OFFSPRING_SIZE = 200\n",
    "POPULATION_SIZE = 100\n",
    "OUTSIDER_SIZE = math.ceil(OFFSPRING_SIZE*0.1)\n",
    "pm = 0.15\n",
    "x_elitism = 0.08\n",
    "MAX_GENERATIONS = 100\n",
    "HEIGHT = 5\n",
    "PC = 0.1\n",
    "P_PICK_CONSTANT = 0.4\n",
    "P_CUT_TREE = 0.05\n",
    "\n",
    "\n",
    "# Initialize the population\n",
    "def initialize_population(_):\n",
    "    return generate_random_tree_with_all_terminal(HEIGHT, PC, terminal_list, constants=crammed_constants, p_pick_constant=P_PICK_CONSTANT, p_cut_tree=P_CUT_TREE)\n",
    "\n",
    "ALREADY_INITIALIZED = False\n",
    "if not ALREADY_INITIALIZED:\n",
    "    with ThreadPoolExecutor() as executor:\n",
    "        population = list(tqdm(executor.map(initialize_population, range(POPULATION_SIZE)), desc=\"Initializing population\", total=POPULATION_SIZE))\n",
    "\n",
    "population = [tree.collapse_constants() for tree in population if tree is not None]    \n",
    "# Remove identical trees\n",
    "distance_matrix = tree_distance(population, verbose='Initial tree distances')\n",
    "n = len(population)\n",
    "# I need to keep only the first tree if there are identical trees\n",
    "for i in range(n):\n",
    "    for j in range(i + 1, n):\n",
    "        if distance_matrix[i][j] == 0 and population[j] is not None:\n",
    "            population[j] = None\n",
    "\n",
    "population = [tree for tree in population if tree is not None]\n",
    "for tree in population:\n",
    "    tree.reeval_heights()\n",
    "\n",
    " # Evaluate the population\n",
    "with ThreadPoolExecutor() as executor:\n",
    "    fitnesses = np.array(list(tqdm(executor.map(lambda tree: fitness(tree, vars, labels, penalized='sqrt'), population), desc=\"Evaluating population\", total=len(population))))\n",
    "   \n",
    "penalized = 'percent'\n",
    "probabilities2 = [0.10, 0.10, 0.10, 0.10, 0.10]\n",
    "probabilities1 = [0.16, 0.16, 0.16, 0.16, 0.16]\n",
    "\n",
    "print(*probabilities1)\n",
    "\n",
    "probabilities = probabilities1\n",
    "# Training\n",
    "for generation in range(MAX_GENERATIONS):\n",
    "    if (generation >= 15):\n",
    "        probabilities = probabilities2\n",
    "        penalized = 'percent'\n",
    "    if(generation >= 25):\n",
    "        penalized = 'percent'\n",
    "        probabilities = probabilities1\n",
    "\n",
    "    pm = max(0.05, 0.2 - generation / MAX_GENERATIONS * 0.15)# from 0.2 to 0.05\n",
    "    # Select the best individuals\n",
    "    best_individuals = np.argsort(fitnesses)[:int(x_elitism * POPULATION_SIZE)]\n",
    "    # Create the offspring\n",
    "    offspring = []\n",
    "    for _ in tqdm(range(OFFSPRING_SIZE), desc=f\"Generation {generation}, Creating offsprings\"):\n",
    "        # Mutation\n",
    "        if random.random() < pm:\n",
    "            mutation = random_mutation(*probabilities)\n",
    "            child = mutation(parent_selection(population, fitnesses).clone(), terminal_list, constants=crammed_constants, p_pick_constant=P_PICK_CONSTANT, pc=PC)\n",
    "            child.reeval_heights()\n",
    "            offspring.append(child)\n",
    "        else:\n",
    "            # Select parents\n",
    "            parent1 = parent_selection(population, fitnesses, penalized).clone()\n",
    "            parent2 = parent_selection(population, fitnesses, penalized).clone()\n",
    "            # Crossover\n",
    "            child1, child2 = crossover(parent1, parent2)\n",
    "            child1.reeval_heights()\n",
    "            child2.reeval_heights()\n",
    "            offspring.extend([child1, child2])\n",
    "    # Combine and select the best individuals\n",
    "    population = [population[i] for i in best_individuals] + offspring\n",
    "\n",
    "    # Remove identical trees\n",
    "    population = [tree.collapse_constants() for tree in population if tree is not None]\n",
    "    distance_matrix = tree_distance(population)\n",
    "    n = len(population)\n",
    "    # I need to keep only the first tree if there are identical trees\n",
    "    for i in range(n):\n",
    "        for j in range(i + 1, n):\n",
    "            if distance_matrix[i][j] == 0 and population[j] is not None:\n",
    "                population[j] = None\n",
    "    \n",
    "    # Sort population for summation of distance similarity\n",
    "    summation = np.zeros(n)\n",
    "    for i in range(n):\n",
    "        summation[i] = np.sum(distance_matrix[i,:])\n",
    "    \n",
    "    distance_sorted = np.argsort(summation)[::-1]\n",
    "    outsiders = set(distance_sorted[:OUTSIDER_SIZE])\n",
    "    # Calculate fitness function\n",
    "    with ThreadPoolExecutor() as executor:\n",
    "        fitnesses_offspring = np.array(list(tqdm(executor.map(lambda tree: fitness(tree, vars, labels, penalized=penalized), offspring), desc=\"Evaluating offsprings\", total=len(offspring))))\n",
    "\n",
    "    # Select the best individuals and outsiders\n",
    "    all_fitnesses = np.concatenate([fitnesses[best_individuals], fitnesses_offspring])\n",
    "    best_fitnesses = set(np.argsort(all_fitnesses)[:POPULATION_SIZE])\n",
    "    # Union between best individuals and outsiders\n",
    "    union = best_fitnesses.union(outsiders)\n",
    "    intersection = best_fitnesses.intersection(outsiders)\n",
    "\n",
    "    union_filtered = [i for i in union if population[i] is not None]\n",
    "\n",
    "    population = [population[i] for i in union_filtered]\n",
    "    before = len(union)\n",
    "    fitnesses = [all_fitnesses[i] for i in union_filtered]\n",
    "    fitnesses = np.array(fitnesses)\n",
    "    best_fitness = fitness_unscaled(population[0], vars, labels)\n",
    "    print(f\"Removed {before - len(population)} identical or invalid trees\")\n",
    "    print(f'Kept {len(outsiders) - len(intersection)} outsiders with low fitness')\n",
    "    if generation > 0:\n",
    "        print(f\"Generation {generation} - Best fitness: {best_fitness} - Difference: {best_fitness - old_best_fitness}\")\n",
    "    else:\n",
    "        print(f\"Generation {generation} - Best fitness: {best_fitness}\")\n",
    "    old_best_fitness = best_fitness\n",
    "    print(f\"Population size: {len(population)}\")\n",
    "    print(f'Best height: {population[0].get_height()}')\n",
    "    print(f\"Mean height of the population: {np.mean([tree.get_height() for tree in population])}\")\n"
   ]
  },
  {
   "cell_type": "code",
   "execution_count": null,
   "metadata": {},
   "outputs": [],
   "source": [
    "from datetime import datetime\n",
    "conf = {\n",
    "    \"problem\": problem_number,\n",
    "    \"crossover\": crossover,\n",
    "    \"OFFSPRING_SIZE\": OFFSPRING_SIZE,\n",
    "    \"POPULATION_SIZE\": POPULATION_SIZE,\n",
    "    \"OUTSIDER_SIZE\": OUTSIDER_SIZE,\n",
    "    \"pm\": pm,\n",
    "    \"x_elitism\": x_elitism,\n",
    "    \"MAX_GENERATIONS\": MAX_GENERATIONS,\n",
    "    \"HEIGHT\": HEIGHT,\n",
    "    \"PC\": PC,\n",
    "    \"P_PICK_CONSTANT\": P_PICK_CONSTANT,\n",
    "    \"P_CUT_TREE\": P_CUT_TREE\n",
    "}\n",
    "def save_results(conf, res_function, res_fitness):\n",
    "    cur_time = datetime.now().strftime(\"%Y-%m-%d_%H-%M-%S\")\n",
    "    with open(f\"./results/{cur_time}.txt\", \"w\") as file:\n",
    "        # Write the contents of conf\n",
    "        file.write(\"# Configuration\\n\")\n",
    "        file.write(\"conf = {\\n\")\n",
    "        for key, value in conf.items():\n",
    "            file.write(f\"    '{key}': {value},\\n\")\n",
    "        file.write(\"}\\n\\n\")\n",
    "        \n",
    "        # Write the contents of res_function\n",
    "        file.write(\"# Resulting function\\n\")\n",
    "        file.write(f\"{res_function}\")\n",
    "        \n",
    "        # Write the contents of res_fitness\n",
    "        file.write(\"# Resulting fitness\\n\")\n",
    "        file.write(f\"{res_fitness}\")\n",
    "save_results(conf, str(population[0]), best_fitness)"
   ]
  },
  {
   "cell_type": "code",
   "execution_count": null,
   "metadata": {},
   "outputs": [],
   "source": [
    "population[0].draw()\n",
    "print(fitness(population[0], vars, labels))"
   ]
  }
 ],
 "metadata": {
  "kernelspec": {
   "display_name": ".venv",
   "language": "python",
   "name": "python3"
  },
  "language_info": {
   "codemirror_mode": {
    "name": "ipython",
    "version": 3
   },
   "file_extension": ".py",
   "mimetype": "text/x-python",
   "name": "python",
   "nbconvert_exporter": "python",
   "pygments_lexer": "ipython3",
   "version": "3.12.6"
  }
 },
 "nbformat": 4,
 "nbformat_minor": 2
}
