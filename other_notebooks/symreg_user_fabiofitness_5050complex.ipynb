{
 "cells": [
  {
   "cell_type": "markdown",
   "metadata": {},
   "source": [
    "### Imports"
   ]
  },
  {
   "cell_type": "code",
   "execution_count": 1,
   "metadata": {},
   "outputs": [],
   "source": [
    "# If updates on imported files aren't detected, restart the kernel (we'll need to find an automatic solution for this)\n",
    "\n",
    "import numpy as np\n",
    "from icecream import ic\n",
    "\n",
    "from typing import List, Tuple, Dict"
   ]
  },
  {
   "cell_type": "markdown",
   "metadata": {},
   "source": [
    "\n",
    "### Evolution Helper"
   ]
  },
  {
   "cell_type": "code",
   "execution_count": 2,
   "metadata": {},
   "outputs": [],
   "source": [
    "import random\n",
    "from typing import List\n",
    "from gxgp.node import Node\n",
    "from utils.operations_dict import basic_function_set, complex_function_set"
   ]
  },
  {
   "cell_type": "markdown",
   "metadata": {},
   "source": [
    "### Tree Generation"
   ]
  },
  {
   "cell_type": "code",
   "execution_count": 3,
   "metadata": {},
   "outputs": [],
   "source": [
    "def generate_random_tree(max_height: int, pc: float, terminal_list: List[str],\n",
    "                         constants: list[float] = None, p_pick_constant: float = 0.2, p_cut_tree: float = 0.2,\n",
    "                         verbose: bool = False, cur_depth: int = 0) -> Node:\n",
    "    \"\"\"\n",
    "    Generate a random symbolic expression tree.\n",
    "\n",
    "    Mandatory Parameters\n",
    "    ----------\n",
    "    max_height : int\n",
    "        The maximum height of the tree. The height of a tree is the length of the longest path from the root to a leaf (e.g. height of a leaf is 0).\n",
    "    pc : float\n",
    "        The probability of choosing a complex function over a basic function.\n",
    "    terminal_list : List[str]\n",
    "        The terminal list to choose from. Example: ['x0', 'x1', 'x2']\n",
    "\n",
    "    Optional Parameters\n",
    "    ----------\n",
    "    constants : list[float]\n",
    "        A list of constants that can be used in the tree (default is None).\n",
    "    p_pick_constant : float\n",
    "        The probability of choosing a constant over a terminal (default is 0.2).\n",
    "    p_cut_tree : float\n",
    "        The probability of cutting the tree early (default is 0.2).    \n",
    "    verbose : bool    \n",
    "        Whether to print debug information (default is False).\n",
    "    cur_depth : int\n",
    "        The exploration depth (e.g. depth of root is 0)\n",
    "\n",
    "    Returns\n",
    "    -------\n",
    "    Node\n",
    "        A Node object representing the root of the tree.\n",
    "    \"\"\"\n",
    "    indent = ' ' * (cur_depth * 2)\n",
    "\n",
    "    # Cut the tree early with probability 0.2\n",
    "    if (random.random() < p_cut_tree) or max_height == 0:  \n",
    "        # If constants are provided, choose one with probability p_pick_constant\n",
    "        if constants is not None and random.random() < p_pick_constant: \n",
    "            terminal = random.choice(constants) \n",
    "        # Otherwise, pick from the terminal set\n",
    "        else:                                                \n",
    "            terminal = random.choice(terminal_list)\n",
    "        \n",
    "        if verbose: print(f\"{indent}Picked terminal: {terminal}\")\n",
    "\n",
    "        # Set the height of the node to 0\n",
    "        my_node = Node(terminal)\n",
    "        my_node.set_height(0)\n",
    "        return my_node\n",
    "    else:\n",
    "        # Choose a complex function with probability pc\n",
    "        if random.random() < pc:                       \n",
    "            func = random.choice(list(complex_function_set.keys()))\n",
    "            if verbose: print(f\"{indent}Chose complex function {func}\")\n",
    "            num_children = complex_function_set[func].__code__.co_argcount  # Numero di argomenti della funzione\n",
    "            children = [generate_random_tree(max_height - 1, pc, terminal_list, constants, p_pick_constant, p_cut_tree, verbose, cur_depth + 1)\n",
    "                        for _ in range(num_children)]\n",
    "            \n",
    "            # Set height\n",
    "            cur_height = max([child.get_height() for child in children]) + 1\n",
    "            my_node = Node(complex_function_set[func], children, name=func)\n",
    "            my_node.set_height(cur_height)\n",
    "            return my_node\n",
    "        # Otherwise, choose a basic function\n",
    "        else:                                           \n",
    "            func = random.choice(list(basic_function_set.keys()))\n",
    "            if verbose: print(f\"{indent}Chose basic function {func}\")\n",
    "            num_children = basic_function_set[func].__code__.co_argcount  # Numero di argomenti della funzione\n",
    "            children = [generate_random_tree(max_height - 1, pc, terminal_list, constants, p_pick_constant, p_cut_tree, verbose, cur_depth + 1)\n",
    "                        for _ in range(num_children)]\n",
    "            # Set height\n",
    "            cur_height = max([child.get_height() for child in children]) + 1\n",
    "            my_node = Node(basic_function_set[func], children, name=func)\n",
    "            my_node.set_height(cur_height)\n",
    "            return my_node\n",
    "\n",
    "def generate_random_tree_with_all_terminal(max_height: int, pc: float, terminal_list: List[str],\n",
    "                         constants: list[float] = None, p_pick_constant: float = 0.2, p_cut_tree: float = 0.2,\n",
    "                         verbose: bool = False, cur_depth: int = 0, picked_terminal: set[str]=set()) -> Node:\n",
    "    \"\"\"\n",
    "    Generate a random symbolic expression tree.\n",
    "\n",
    "    Mandatory Parameters\n",
    "    ----------\n",
    "    max_height : int\n",
    "        The maximum height of the tree. The height of a tree is the length of the longest path from the root to a leaf (e.g. height of a leaf is 0).\n",
    "    pc : float\n",
    "        The probability of choosing a complex function over a basic function.\n",
    "    terminal_list : List[str]\n",
    "        The terminal list to choose from. Example: ['x0', 'x1', 'x2']\n",
    "\n",
    "    Optional Parameters\n",
    "    ----------\n",
    "    constants : list[float]\n",
    "        A list of constants that can be used in the tree (default is None).\n",
    "    p_pick_constant : float\n",
    "        The probability of choosing a constant over a terminal (default is 0.2).\n",
    "    p_cut_tree : float\n",
    "        The probability of cutting the tree early (default is 0.2).    \n",
    "    verbose : bool    \n",
    "        Whether to print debug information (default is False).\n",
    "    cur_depth : int\n",
    "        The exploration depth (e.g. depth of root is 0)\n",
    "\n",
    "    Returns\n",
    "    -------\n",
    "    Node\n",
    "        A Node object representing the root of the tree.\n",
    "    \"\"\"\n",
    "    indent = ' ' * (cur_depth * 2)\n",
    "\n",
    "    # Cut the tree early with probability 0.2\n",
    "    if (random.random() < p_cut_tree) or max_height == 0:  \n",
    "        # If constants are provided, choose one with probability p_pick_constant\n",
    "        if constants is not None and random.random() < p_pick_constant and len(picked_terminal) == len(terminal_list): \n",
    "            terminal = random.choice(constants) \n",
    "        # Otherwise, pick from the terminal set\n",
    "        else:                                                \n",
    "            terminal = random.choice(terminal_list)\n",
    "            picked_terminal.add(terminal)\n",
    "        \n",
    "        if verbose: print(f\"{indent}Picked terminal: {terminal}\")\n",
    "\n",
    "        # Set the height of the node to 0\n",
    "        my_node = Node(terminal)\n",
    "        my_node.set_height(0)\n",
    "        return my_node\n",
    "    else:\n",
    "        # Choose a complex function with probability pc\n",
    "        if random.random() < pc:                       \n",
    "            func = random.choice(list(complex_function_set.keys()))\n",
    "            if verbose: print(f\"{indent}Chose complex function {func}\")\n",
    "            num_children = complex_function_set[func].__code__.co_argcount  # Numero di argomenti della funzione\n",
    "            children = [generate_random_tree_with_all_terminal(max_height - 1, pc, terminal_list, constants, p_pick_constant, p_cut_tree, verbose, cur_depth + 1,picked_terminal)\n",
    "                        for _ in range(num_children)]\n",
    "            \n",
    "            # Set height\n",
    "            cur_height = max([child.get_height() for child in children]) + 1\n",
    "            my_node = Node(complex_function_set[func], children, name=func)\n",
    "            my_node.set_height(cur_height)\n",
    "            return my_node\n",
    "        # Otherwise, choose a basic function\n",
    "        else:                                           \n",
    "            func = random.choice(list(basic_function_set.keys()))\n",
    "            if verbose: print(f\"{indent}Chose basic function {func}\")\n",
    "            num_children = basic_function_set[func].__code__.co_argcount  # Numero di argomenti della funzione\n",
    "            children = [generate_random_tree_with_all_terminal(max_height - 1, pc, terminal_list, constants, p_pick_constant, p_cut_tree, verbose, cur_depth + 1,picked_terminal)\n",
    "                        for _ in range(num_children)]\n",
    "            # Set height\n",
    "            cur_height = max([child.get_height() for child in children]) + 1\n",
    "            my_node = Node(basic_function_set[func], children, name=func)\n",
    "            my_node.set_height(cur_height)\n",
    "            return my_node"
   ]
  },
  {
   "cell_type": "markdown",
   "metadata": {},
   "source": [
    "### Mutations"
   ]
  },
  {
   "cell_type": "code",
   "execution_count": 4,
   "metadata": {},
   "outputs": [],
   "source": [
    "def point_mutation(Tree: Node, terminal_list: List[str], constants: list[float] = None, p_pick_constant: float = 0.2, pc: float = 0.2) -> Node:\n",
    "    \"\"\"\n",
    "    Mutate a tree by changing a random node to a new random node.\n",
    "\n",
    "    Parameters\n",
    "    ----------\n",
    "    Tree : Node\n",
    "        The tree to mutate.\n",
    "    terminal_list : List[str]\n",
    "        The terminal list to choose from. Example: ['x0', 'x1', 'x2']\n",
    "    constants : list[float]\n",
    "        A list of constants that can be used in the tree.\n",
    "    p_pick_constant : float\n",
    "        The probability of choosing a constant over a terminal.\n",
    "    pc : float\n",
    "        The probability of choosing a complex function over a basic function.\n",
    "\n",
    "    Returns\n",
    "    -------\n",
    "    Node\n",
    "        The mutated tree.\n",
    "    \"\"\"\n",
    "\n",
    "    # Get the list of nodes in the tree\n",
    "    node = Tree.get_random_node()\n",
    "\n",
    "    # If the node is a terminal, change it to a new terminal\n",
    "    if node.is_leaf:\n",
    "        if constants is not None and random.random() < p_pick_constant:\n",
    "            terminal = random.choice(constants)\n",
    "        else:\n",
    "            terminal = random.choice(terminal_list)\n",
    "        node.set_func(terminal)\n",
    "        return Tree\n",
    "    # Otherwise, change it to a new function maintaining the arity\n",
    "    else:\n",
    "        if random.random() < pc:\n",
    "            while True:\n",
    "                func = random.choice(list(complex_function_set.keys()))\n",
    "                arity = complex_function_set[func].__code__.co_argcount\n",
    "                if arity == node._arity:\n",
    "                    break\n",
    "            node.set_func(complex_function_set[func], name=func)\n",
    "        else:\n",
    "            while True:\n",
    "                func = random.choice(list(basic_function_set.keys()))\n",
    "                arity = basic_function_set[func].__code__.co_argcount\n",
    "                if arity == node._arity:\n",
    "                    break\n",
    "            node.set_func(basic_function_set[func], name=func)\n",
    "        return Tree\n",
    "    \n",
    "def subtree_mutation(Tree: Node, terminal_list: List[str], constants: list[float] = None, p_pick_constant: float = 0.2, pc: float = 0.2, height: int = 3, verbose: bool = False) -> Node:\n",
    "    \"\"\"\n",
    "    Mutate a tree by changing a random subtree to a new random subtree.\n",
    "\n",
    "    Parameters\n",
    "    ----------\n",
    "    Tree : Node\n",
    "        The tree to mutate.\n",
    "    terminal_list : List[str]\n",
    "        The terminal list to choose from. Example: ['x0', 'x1', 'x2']\n",
    "    constants : list[float]\n",
    "        A list of constants that can be used in the tree.\n",
    "    p_pick_constant : float\n",
    "        The probability of choosing a constant over a terminal.\n",
    "    pc : float\n",
    "        The probability of choosing a complex function over a basic function.\n",
    "    height : int\n",
    "        The maximum height of the new subtree.\n",
    "\n",
    "    Returns\n",
    "    -------\n",
    "    Node\n",
    "        The mutated tree.\n",
    "    \"\"\"\n",
    "\n",
    "    # Get the list of nodes in the tree\n",
    "    node = Tree.get_random_node()\n",
    "\n",
    "    if verbose:\n",
    "        print(f\"Node to mutate: {node._str} at height {node._height}\")\n",
    "\n",
    "    new_subtree = generate_random_tree(height, pc, terminal_list, constants, p_pick_constant)\n",
    "    node = node.replace_tree_shallow(new_subtree)\n",
    "    return Tree\n",
    "\n",
    "def expansion_mutation(Tree: Node, terminal_list: List[str], constants: list[float] = None, p_pick_constant: float = 0.2, pc: float = 0.2, height: int = 3, verbose: bool = False) -> Node:\n",
    "    \"\"\"\n",
    "    Mutate a tree by expanding a random node to a new random subtree.\n",
    "\n",
    "    Parameters\n",
    "    ----------\n",
    "    Tree : Node\n",
    "        The tree to mutate.\n",
    "    terminal_list : List[str]\n",
    "        The terminal list to choose from. Example: ['x0', 'x1', 'x2']\n",
    "    constants : list[float]\n",
    "        A list of constants that can be used in the tree.\n",
    "    p_pick_constant : float\n",
    "        The probability of choosing a constant over a terminal.\n",
    "    pc : float\n",
    "        The probability of choosing a complex function over a basic function.\n",
    "    height : int\n",
    "        The maximum height of the new subtree.\n",
    "\n",
    "    Returns\n",
    "    -------\n",
    "    Node\n",
    "        The mutated tree.\n",
    "    \"\"\"\n",
    "    # Get the list of nodes in the tree\n",
    "    node = random.choice(Tree.get_leafs())\n",
    "\n",
    "    if verbose:\n",
    "        print(f\"Node to mutate: {node._str} at height {node._height}\")  \n",
    "    \n",
    "    \n",
    "    new_subtree = generate_random_tree(height, pc, terminal_list, constants, p_pick_constant)\n",
    "    node = node.replace_tree_shallow(new_subtree)\n",
    "    return Tree\n",
    "\n",
    "def collaps_mutation(Tree: Node, terminal_list: List[str], constants: list[float] = None, p_pick_constant: float = 0.2, pc: float = 0.2, verbose: bool = False) -> Node:\n",
    "    \"\"\"\n",
    "    Mutate a tree by collapsing a random node to a terminal.\n",
    "\n",
    "    Parameters\n",
    "    ----------\n",
    "    Tree : Node\n",
    "        The tree to mutate.\n",
    "    terminal_list : List[str]\n",
    "        The terminal list to choose from. Example: ['x0', 'x1', 'x2']\n",
    "    constants : list[float]\n",
    "        A list of constants that can be used in the tree.\n",
    "    p_pick_constant : float\n",
    "        The probability of choosing a constant over a terminal.\n",
    "    pc : float\n",
    "        The probability of choosing a complex function over a basic function.\n",
    "\n",
    "    Returns\n",
    "    -------\n",
    "    Node\n",
    "        The mutated tree.\n",
    "    \"\"\"\n",
    "\n",
    "    # Get the list of nodes in the tree\n",
    "    node = Tree.get_random_node()\n",
    "\n",
    "    if verbose:\n",
    "        print(f\"Node to mutate: {node._str} at height {node._height}\")\n",
    "\n",
    "   # possible choices\n",
    "    possible_choices = node.get_leafs()\n",
    "\n",
    "\n",
    "    node.replace_tree_shallow(random.choice(possible_choices))\n",
    "    return Tree\n",
    "\n",
    "\n",
    "def permutation_mutation(Tree: Node, terminal_list: List[str], constants: list[float] = None, p_pick_constant: float = 0.2, pc: float = 0.2,verbose: bool = False) -> Node:\n",
    "    \"\"\"\n",
    "    Mutate a tree by permuting the children of a random node through a rotation.\n",
    "\n",
    "    Parameters\n",
    "    ----------\n",
    "    Tree : Node\n",
    "        The tree to mutate.\n",
    "\n",
    "    Returns\n",
    "    -------\n",
    "    Node\n",
    "        The mutated tree.\n",
    "    \"\"\"\n",
    "\n",
    "    # Extract a random node that has at least two children (so no leaves and single input functions)\n",
    "    found = False\n",
    "    for i in range(20):\n",
    "        father = Tree.get_random_node()\n",
    "        if father._arity > 1:\n",
    "            found = True\n",
    "            break\n",
    "    if not found:\n",
    "        return Tree\n",
    "    \n",
    "    if verbose:\n",
    "        print(f\"Father node: {father._str} at height {father._height}. It has {len(father._successors)} children: [\", end=\"\")\n",
    "        for i, child in enumerate(father._successors):\n",
    "            print(f\"{child._str},\", end=\" \")\n",
    "        print(\"]\")\n",
    "\n",
    "    \n",
    "    new_successors = ()\n",
    "    for i, child in enumerate(father._successors):\n",
    "        new_successors = new_successors + (father._successors[i-1],)\n",
    "\n",
    "    father._successors = new_successors\n",
    "\n",
    "    if verbose:\n",
    "        print(f\"New children: [\", end=\"\")\n",
    "        for i, child in enumerate(father._successors):\n",
    "            print(f\"{child._str},\", end=\" \")\n",
    "        print(\"]\")\n",
    "\n",
    "    return Tree\n",
    "\n",
    "def hoist_mutation(Tree: Node, terminal_list: List[str], constants: list[float] = None, p_pick_constant: float = 0.2, pc: float = 0.2,verbose: bool = False) -> Node:\n",
    "    \"\"\"\n",
    "    Mutate a tree by replacing the root with a random child.\n",
    "\n",
    "    Parameters\n",
    "    ----------\n",
    "    Tree : Node\n",
    "        The tree to mutate.\n",
    "\n",
    "    Returns\n",
    "    -------\n",
    "    Node\n",
    "        The mutated tree.\n",
    "    \"\"\"\n",
    "\n",
    "    random_node = Tree.get_random_node()\n",
    "    return random_node"
   ]
  },
  {
   "cell_type": "markdown",
   "metadata": {},
   "source": [
    "### crossover"
   ]
  },
  {
   "cell_type": "code",
   "execution_count": 5,
   "metadata": {},
   "outputs": [],
   "source": [
    "def recombination_crossover(Tree1: Node, Tree2: Node, verbose: bool = False) -> Tuple[Node, Node]:\n",
    "    \"\"\"\n",
    "    Recombine two trees by swapping a random subtree.\n",
    "\n",
    "    Parameters\n",
    "    ----------\n",
    "    Tree1 : Node\n",
    "        The first tree.\n",
    "    Tree2 : Node\n",
    "        The second tree.\n",
    "\n",
    "    Returns\n",
    "    -------\n",
    "    Tuple[Node, Node]\n",
    "        The recombined trees.\n",
    "    \"\"\"\n",
    "\n",
    "    # Get the list of nodes in the trees\n",
    "    node1 = Tree1.get_random_node()\n",
    "    node2 = Tree2.get_random_node()\n",
    "\n",
    "    if verbose:\n",
    "        print(f\"Node1 to swap: {node1._str} at height {node1._height}\")\n",
    "        print(f\"Node2 to swap: {node2._str} at height {node2._height}\")\n",
    "\n",
    "    # Swap the subtrees\n",
    "    temp1 = node1.clone()\n",
    "    temp2 = node2.clone()\n",
    "    node1.replace_tree_shallow(temp2)\n",
    "    node2.replace_tree_shallow(temp1)\n",
    "\n",
    "    return Tree1, Tree2\n",
    "\n"
   ]
  },
  {
   "cell_type": "markdown",
   "metadata": {},
   "source": [
    "### Load Data"
   ]
  },
  {
   "cell_type": "code",
   "execution_count": 6,
   "metadata": {},
   "outputs": [
    {
     "name": "stdout",
     "output_type": "stream",
     "text": [
      "Input shape: (3, 5000)  Example of sample:  [ 1.52827812 -2.67876092 -3.73351453]\n",
      "Labels shape: (5000,)  Example of label:  40.96071445158248\n",
      "terminal_list:  ['x0', 'x1', 'x2']\n"
     ]
    }
   ],
   "source": [
    "from gxgp import Node\n",
    "problem_number = 3\n",
    "problem = np.load(f'./data/problem_{problem_number}.npz')\n",
    "input = problem['x']\n",
    "labels = problem['y']\n",
    "\n",
    "print(\"Input shape:\", input.shape, \" Example of sample: \", input[:, 0])\n",
    "print(\"Labels shape:\", labels.shape, \" Example of label: \", labels[0])\n",
    "\n",
    "# Terminal set\n",
    "terminal_list = ['x' + str(i) for i in range(input.shape[0])]\n",
    "\n",
    "print(\"terminal_list: \", terminal_list)\n",
    "# Main"
   ]
  },
  {
   "cell_type": "markdown",
   "metadata": {},
   "source": [
    "### examples for generating trees\n",
    "You can fine tune the size of the output by modifying draw() from draw.py"
   ]
  },
  {
   "cell_type": "code",
   "execution_count": 7,
   "metadata": {},
   "outputs": [],
   "source": [
    "from utils.terminal_constants import crammed_constants\n",
    "\n",
    "# height = 5\n",
    "# initialized = generate_random_tree(height, 0.2, terminal_list, constants=crammed_constants, p_pick_constant=0.7, p_cut_tree=0.01, verbose=True)\n",
    "# initialized.draw()"
   ]
  },
  {
   "cell_type": "code",
   "execution_count": 8,
   "metadata": {},
   "outputs": [],
   "source": [
    "# collapsed = initialized.collapse_constants()\n",
    "# collapsed.draw()"
   ]
  },
  {
   "cell_type": "code",
   "execution_count": 9,
   "metadata": {},
   "outputs": [
    {
     "data": {
      "text/plain": [
       "'second=generate_random_tree(height, 0.2, terminal_list, constants=crammed_constants, p_pick_constant=0.4, p_cut_tree=0.05, verbose=True)\\nsecond.draw()'"
      ]
     },
     "execution_count": 9,
     "metadata": {},
     "output_type": "execute_result"
    }
   ],
   "source": [
    "\"\"\"second=generate_random_tree(height, 0.2, terminal_list, constants=crammed_constants, p_pick_constant=0.4, p_cut_tree=0.05, verbose=True)\n",
    "second.draw()\"\"\""
   ]
  },
  {
   "cell_type": "code",
   "execution_count": 10,
   "metadata": {},
   "outputs": [
    {
     "data": {
      "text/plain": [
       "'for obj in recombination_crossover(initialized, second, verbose=True):\\n    obj.draw()'"
      ]
     },
     "execution_count": 10,
     "metadata": {},
     "output_type": "execute_result"
    }
   ],
   "source": [
    "\"\"\"for obj in recombination_crossover(initialized, second, verbose=True):\n",
    "    obj.draw()\"\"\""
   ]
  },
  {
   "cell_type": "markdown",
   "metadata": {},
   "source": [
    "### Create input formatted"
   ]
  },
  {
   "cell_type": "code",
   "execution_count": null,
   "metadata": {},
   "outputs": [
    {
     "name": "stdout",
     "output_type": "stream",
     "text": [
      "input shape is  (3, 5000)\n",
      "vars shape is  (5000,)\n"
     ]
    }
   ],
   "source": [
    "print(\"input shape is \", input.shape)\n",
    "\n",
    "vars = []\n",
    "for j in range(input.shape[1]):\n",
    "    cur_vars = {'x'+str(i): input[i][j] for i in range(input.shape[0])}\n",
    "    # print(\"cur_vars is \", cur_vars)\n",
    "    vars.append(cur_vars)\n",
    "vars = np.array(vars)\n",
    "\n",
    "print(\"vars shape is \", vars.shape)"
   ]
  },
  {
   "cell_type": "markdown",
   "metadata": {},
   "source": [
    "### fitness"
   ]
  },
  {
   "cell_type": "code",
   "execution_count": 12,
   "metadata": {},
   "outputs": [],
   "source": [
    "import warnings\n",
    "warnings.simplefilter(\"error\", RuntimeWarning)"
   ]
  },
  {
   "cell_type": "code",
   "execution_count": 13,
   "metadata": {},
   "outputs": [],
   "source": [
    "# Fitness reverse\n",
    "def fitness(mytree: Node, vars, labels, verbose=False, penalized = 'sqrt'):\n",
    "    try:\n",
    "        output = np.array([mytree(**var) for var in vars])\n",
    "        mse = 100 * np.square(labels - output).mean()\n",
    "        if penalized == 'percent':\n",
    "            return mse +  mse * mytree.get_height() * 0.01 if mytree.get_height() > 0 else mse\n",
    "        else:\n",
    "            return mse * np.sqrt(mytree.get_height()) if mytree.get_height() > 0 else mse\n",
    "    except RuntimeWarning as e:\n",
    "        if verbose: print(f\"caught runtime warning: {e}, setting fitness to inf\")\n",
    "        return np.inf\n",
    "\n",
    "def fitness_unscaled(mytree: Node, vars, labels, verbose=False):\n",
    "    try:\n",
    "        output = np.array([mytree(**var) for var in vars])\n",
    "        mse = 100 * np.square(labels - output).mean()\n",
    "        return mse\n",
    "    except RuntimeWarning as e:\n",
    "        if verbose: print(f\"caught runtime warning: {e}, setting fitness to inf\")\n",
    "        return np.inf\n",
    "#print(fitness(initialized, vars, labels))"
   ]
  },
  {
   "cell_type": "code",
   "execution_count": 14,
   "metadata": {},
   "outputs": [
    {
     "data": {
      "text/plain": [
       "'# Xover\\ndef xover(tree1, tree2):\\n    return xover_swap_subtree(tree1, tree2)\\n\\n# initialized.subtree.pop().draw() # this procedure is really similar to get_random_node, except there we use a list and random.choice\\nhoist_mutation(initialized, verbose=True).draw()'"
      ]
     },
     "execution_count": 14,
     "metadata": {},
     "output_type": "execute_result"
    }
   ],
   "source": [
    "from gxgp.gp_common import xover_swap_subtree\n",
    "\"\"\"# Xover\n",
    "def xover(tree1, tree2):\n",
    "    return xover_swap_subtree(tree1, tree2)\n",
    "\n",
    "# initialized.subtree.pop().draw() # this procedure is really similar to get_random_node, except there we use a list and random.choice\n",
    "hoist_mutation(initialized, verbose=True).draw()\"\"\""
   ]
  },
  {
   "cell_type": "markdown",
   "metadata": {},
   "source": [
    "### parent selection"
   ]
  },
  {
   "cell_type": "code",
   "execution_count": 15,
   "metadata": {},
   "outputs": [],
   "source": [
    "\n",
    "def parent_selection(population, pre_calculated_fitnesses=None, penalized = 'sqrt'):\n",
    "    if pre_calculated_fitnesses is None:\n",
    "        candidates = sorted(np.random.choice(population, 2), key=lambda e: fitness(e,vars,labels, penalized=penalized))\n",
    "        return candidates[0]\n",
    "    else:\n",
    "        #Random index between 0 and population size\n",
    "        index1 = np.random.randint(0, len(population))\n",
    "        index2 = np.random.randint(0, len(population))\n",
    "        candidates = [population[index1], population[index2]]\n",
    "        if pre_calculated_fitnesses[index1] > pre_calculated_fitnesses[index2]:\n",
    "            return candidates[1]\n",
    "        else:\n",
    "            return candidates[0]"
   ]
  },
  {
   "cell_type": "markdown",
   "metadata": {},
   "source": [
    "### utils functions"
   ]
  },
  {
   "cell_type": "code",
   "execution_count": 16,
   "metadata": {},
   "outputs": [],
   "source": [
    "import concurrent\n",
    "from concurrent.futures import ThreadPoolExecutor\n",
    "from tqdm import tqdm\n",
    "import numpy as np\n",
    "\n",
    "def compute_pair_distance(i, j, population):\n",
    "    return i, j, population[i].tree_distance(population[j])\n",
    "\n",
    "def tree_distance(population, verbose=\"Calculating tree distance matrix\"):\n",
    "    n = len(population)\n",
    "    matrix = np.zeros((n, n))\n",
    "    pairs = [(i, j) for i in range(n) for j in range(i+1, n)]\n",
    "    \n",
    "    with ThreadPoolExecutor() as executor:\n",
    "        futures = [executor.submit(compute_pair_distance, i, j, population) for i, j in pairs]\n",
    "        for future in tqdm(concurrent.futures.as_completed(futures), desc=verbose, total=len(futures)):\n",
    "            i, j, dist = future.result()\n",
    "            matrix[i][j] = dist/ population[i].__len__() if population[i].__len__() > 0 else dist\n",
    "            matrix[j][i] = dist/ population[j].__len__() if population[j].__len__() > 0 else dist\n",
    "\n",
    "    \n",
    "    return matrix\n",
    "\n",
    "def random_mutation(p1=0.16, p2=0.16, p3=0.16, p4=0.16, p5=0.16):\n",
    "    r = random.random()\n",
    "    if r < p1:\n",
    "        return point_mutation\n",
    "    elif r < p1 + p2:\n",
    "        return subtree_mutation\n",
    "    elif r < p1 + p2 + p3:\n",
    "        return expansion_mutation\n",
    "    elif r < p1 + p2 + p3 + p4:\n",
    "        return permutation_mutation\n",
    "    elif r < p1 + p2 + p3 + p4 + p5:\n",
    "        return collaps_mutation\n",
    "    else:\n",
    "        return hoist_mutation\n"
   ]
  },
  {
   "cell_type": "markdown",
   "metadata": {},
   "source": [
    "### Training"
   ]
  },
  {
   "cell_type": "code",
   "execution_count": null,
   "metadata": {},
   "outputs": [
    {
     "name": "stderr",
     "output_type": "stream",
     "text": [
      "Initializing population: 100%|██████████| 100/100 [00:00<00:00, 14285.29it/s]\n"
     ]
    },
    {
     "name": "stderr",
     "output_type": "stream",
     "text": [
      "Initial tree distances: 100%|██████████| 4950/4950 [00:00<00:00, 7412.19it/s]\n",
      "Evaluating population: 100%|██████████| 98/98 [00:31<00:00,  3.14it/s]\n"
     ]
    },
    {
     "name": "stdout",
     "output_type": "stream",
     "text": [
      "0.16 0.16 0.16 0.16 0.16\n"
     ]
    },
    {
     "name": "stderr",
     "output_type": "stream",
     "text": [
      "Generation 0, Creating offsprings: 100%|██████████| 200/200 [00:00<00:00, 226.17it/s]\n",
      "Calculating tree distance matrix: 100%|██████████| 69378/69378 [00:06<00:00, 10416.49it/s]\n",
      "Evaluating offsprings: 100%|██████████| 365/365 [01:57<00:00,  3.11it/s] \n"
     ]
    },
    {
     "name": "stdout",
     "output_type": "stream",
     "text": [
      "Removed 25 identical or invalid trees\n",
      "Kept 3 outsiders with low fitness\n",
      "Generation 0 - Best fitness: 266572.9741892321\n",
      "Population size: 78\n",
      "Best height: 0\n",
      "Mean height of the population: 3.8076923076923075\n"
     ]
    },
    {
     "name": "stderr",
     "output_type": "stream",
     "text": [
      "Generation 1, Creating offsprings: 100%|██████████| 200/200 [00:00<00:00, 321.32it/s]\n",
      "Calculating tree distance matrix: 100%|██████████| 67161/67161 [00:05<00:00, 13009.12it/s]\n",
      "Evaluating offsprings: 100%|██████████| 359/359 [01:31<00:00,  3.90it/s]\n"
     ]
    },
    {
     "name": "stdout",
     "output_type": "stream",
     "text": [
      "Removed 15 identical or invalid trees\n",
      "Kept 14 outsiders with low fitness\n",
      "Generation 1 - Best fitness: 237044.85618538497 - Difference: -29528.118003847136\n",
      "Population size: 99\n",
      "Best height: 1\n",
      "Mean height of the population: 4.1313131313131315\n"
     ]
    },
    {
     "name": "stderr",
     "output_type": "stream",
     "text": [
      "Generation 2, Creating offsprings: 100%|██████████| 200/200 [00:00<00:00, 362.40it/s]\n",
      "Calculating tree distance matrix: 100%|██████████| 66430/66430 [00:09<00:00, 6941.87it/s]\n",
      "Evaluating offsprings: 100%|██████████| 357/357 [02:02<00:00,  2.91it/s] \n"
     ]
    },
    {
     "name": "stdout",
     "output_type": "stream",
     "text": [
      "Removed 32 identical or invalid trees\n",
      "Kept 16 outsiders with low fitness\n",
      "Generation 2 - Best fitness: 188126.2426892022 - Difference: -48918.61349618278\n",
      "Population size: 84\n",
      "Best height: 2\n",
      "Mean height of the population: 3.4523809523809526\n"
     ]
    },
    {
     "name": "stderr",
     "output_type": "stream",
     "text": [
      "Generation 3, Creating offsprings: 100%|██████████| 200/200 [00:00<00:00, 238.53it/s]\n",
      "Calculating tree distance matrix: 100%|██████████| 70876/70876 [00:11<00:00, 6154.43it/s]\n",
      "Evaluating offsprings: 100%|██████████| 369/369 [02:15<00:00,  2.72it/s]\n"
     ]
    },
    {
     "name": "stdout",
     "output_type": "stream",
     "text": [
      "Removed 16 identical or invalid trees\n",
      "Kept 19 outsiders with low fitness\n",
      "Generation 3 - Best fitness: 122693.63852952163 - Difference: -65432.60415968056\n",
      "Population size: 103\n",
      "Best height: 2\n",
      "Mean height of the population: 4.834951456310679\n"
     ]
    },
    {
     "name": "stderr",
     "output_type": "stream",
     "text": [
      "Generation 4, Creating offsprings: 100%|██████████| 200/200 [00:02<00:00, 88.51it/s] \n",
      "Calculating tree distance matrix: 100%|██████████| 70125/70125 [00:19<00:00, 3551.85it/s]\n",
      "Evaluating offsprings: 100%|██████████| 367/367 [02:35<00:00,  2.36it/s]\n"
     ]
    },
    {
     "name": "stdout",
     "output_type": "stream",
     "text": [
      "Removed 16 identical or invalid trees\n",
      "Kept 20 outsiders with low fitness\n",
      "Generation 4 - Best fitness: 86983.64331110676 - Difference: -35709.99521841487\n",
      "Population size: 104\n",
      "Best height: 2\n",
      "Mean height of the population: 5.1923076923076925\n"
     ]
    },
    {
     "name": "stderr",
     "output_type": "stream",
     "text": [
      "Generation 5, Creating offsprings: 100%|██████████| 200/200 [00:00<00:00, 267.80it/s]\n",
      "Calculating tree distance matrix: 100%|██████████| 72771/72771 [00:07<00:00, 9475.57it/s] \n",
      "Evaluating offsprings: 100%|██████████| 374/374 [02:06<00:00,  2.95it/s]\n"
     ]
    },
    {
     "name": "stdout",
     "output_type": "stream",
     "text": [
      "Removed 14 identical or invalid trees\n",
      "Kept 20 outsiders with low fitness\n",
      "Generation 5 - Best fitness: 86983.64331110676 - Difference: 0.0\n",
      "Population size: 106\n",
      "Best height: 2\n",
      "Mean height of the population: 4.679245283018868\n"
     ]
    },
    {
     "name": "stderr",
     "output_type": "stream",
     "text": [
      "Generation 6, Creating offsprings: 100%|██████████| 200/200 [00:00<00:00, 341.26it/s]\n",
      "Calculating tree distance matrix: 100%|██████████| 66795/66795 [00:06<00:00, 10634.25it/s]\n",
      "Evaluating offsprings: 100%|██████████| 358/358 [01:44<00:00,  3.44it/s]\n"
     ]
    },
    {
     "name": "stdout",
     "output_type": "stream",
     "text": [
      "Removed 13 identical or invalid trees\n",
      "Kept 20 outsiders with low fitness\n",
      "Generation 6 - Best fitness: 80394.3475544046 - Difference: -6589.295756702166\n",
      "Population size: 107\n",
      "Best height: 4\n",
      "Mean height of the population: 3.869158878504673\n"
     ]
    },
    {
     "name": "stderr",
     "output_type": "stream",
     "text": [
      "Generation 7, Creating offsprings: 100%|██████████| 200/200 [00:00<00:00, 356.12it/s]\n",
      "Calculating tree distance matrix: 100%|██████████| 70876/70876 [00:05<00:00, 11994.91it/s]\n",
      "Evaluating offsprings: 100%|██████████| 369/369 [01:32<00:00,  3.97it/s]\n"
     ]
    },
    {
     "name": "stdout",
     "output_type": "stream",
     "text": [
      "Removed 12 identical or invalid trees\n",
      "Kept 20 outsiders with low fitness\n",
      "Generation 7 - Best fitness: 65520.66737223074 - Difference: -14873.680182173855\n",
      "Population size: 108\n",
      "Best height: 7\n",
      "Mean height of the population: 3.759259259259259\n"
     ]
    },
    {
     "name": "stderr",
     "output_type": "stream",
     "text": [
      "Generation 8, Creating offsprings: 100%|██████████| 200/200 [00:00<00:00, 393.11it/s]\n",
      "Calculating tree distance matrix: 100%|██████████| 66066/66066 [00:05<00:00, 11988.83it/s]\n",
      "Evaluating offsprings: 100%|██████████| 356/356 [01:29<00:00,  3.98it/s]\n"
     ]
    },
    {
     "name": "stdout",
     "output_type": "stream",
     "text": [
      "Removed 16 identical or invalid trees\n",
      "Kept 20 outsiders with low fitness\n",
      "Generation 8 - Best fitness: 56129.80063452926 - Difference: -9390.866737701479\n",
      "Population size: 104\n",
      "Best height: 9\n",
      "Mean height of the population: 4.413461538461538\n"
     ]
    },
    {
     "name": "stderr",
     "output_type": "stream",
     "text": [
      "Generation 9, Creating offsprings: 100%|██████████| 200/200 [00:00<00:00, 345.75it/s]\n",
      "Calculating tree distance matrix: 100%|██████████| 68265/68265 [00:06<00:00, 10463.98it/s]\n",
      "Evaluating offsprings: 100%|██████████| 362/362 [01:53<00:00,  3.18it/s]\n"
     ]
    },
    {
     "name": "stdout",
     "output_type": "stream",
     "text": [
      "Removed 16 identical or invalid trees\n",
      "Kept 20 outsiders with low fitness\n",
      "Generation 9 - Best fitness: 56129.80063452926 - Difference: 0.0\n",
      "Population size: 104\n",
      "Best height: 9\n",
      "Mean height of the population: 4.769230769230769\n"
     ]
    },
    {
     "name": "stderr",
     "output_type": "stream",
     "text": [
      "Generation 10, Creating offsprings: 100%|██████████| 200/200 [00:00<00:00, 315.25it/s]\n",
      "Calculating tree distance matrix: 100%|██████████| 67896/67896 [00:06<00:00, 9772.14it/s] \n",
      "Evaluating offsprings: 100%|██████████| 361/361 [02:00<00:00,  2.99it/s]\n"
     ]
    },
    {
     "name": "stdout",
     "output_type": "stream",
     "text": [
      "Removed 10 identical or invalid trees\n",
      "Kept 20 outsiders with low fitness\n",
      "Generation 10 - Best fitness: 53772.80536403616 - Difference: -2356.9952704930984\n",
      "Population size: 110\n",
      "Best height: 9\n",
      "Mean height of the population: 5.4363636363636365\n"
     ]
    },
    {
     "name": "stderr",
     "output_type": "stream",
     "text": [
      "Generation 11, Creating offsprings: 100%|██████████| 200/200 [00:00<00:00, 249.56it/s]\n",
      "Calculating tree distance matrix: 100%|██████████| 74305/74305 [00:09<00:00, 7792.34it/s]\n",
      "Evaluating offsprings: 100%|██████████| 378/378 [02:42<00:00,  2.32it/s]\n"
     ]
    },
    {
     "name": "stdout",
     "output_type": "stream",
     "text": [
      "Removed 15 identical or invalid trees\n",
      "Kept 20 outsiders with low fitness\n",
      "Generation 11 - Best fitness: 53456.06724386942 - Difference: -316.7381201667449\n",
      "Population size: 105\n",
      "Best height: 6\n",
      "Mean height of the population: 6.447619047619048\n"
     ]
    },
    {
     "name": "stderr",
     "output_type": "stream",
     "text": [
      "Generation 12, Creating offsprings: 100%|██████████| 200/200 [00:00<00:00, 209.97it/s]\n",
      "Calculating tree distance matrix: 100%|██████████| 70125/70125 [00:10<00:00, 6951.00it/s]\n",
      "Evaluating offsprings: 100%|██████████| 367/367 [03:03<00:00,  2.01it/s] \n"
     ]
    },
    {
     "name": "stdout",
     "output_type": "stream",
     "text": [
      "Removed 14 identical or invalid trees\n",
      "Kept 20 outsiders with low fitness\n",
      "Generation 12 - Best fitness: 52463.614139016805 - Difference: -992.4531048526114\n",
      "Population size: 106\n",
      "Best height: 8\n",
      "Mean height of the population: 7.2075471698113205\n"
     ]
    },
    {
     "name": "stderr",
     "output_type": "stream",
     "text": [
      "Generation 13, Creating offsprings: 100%|██████████| 200/200 [00:01<00:00, 186.38it/s]\n",
      "Calculating tree distance matrix: 100%|██████████| 71631/71631 [00:11<00:00, 6030.98it/s]\n",
      "Evaluating offsprings: 100%|██████████| 371/371 [03:41<00:00,  1.67it/s]\n"
     ]
    },
    {
     "name": "stdout",
     "output_type": "stream",
     "text": [
      "Removed 10 identical or invalid trees\n",
      "Kept 20 outsiders with low fitness\n",
      "Generation 13 - Best fitness: 52463.614139016805 - Difference: 0.0\n",
      "Population size: 110\n",
      "Best height: 8\n",
      "Mean height of the population: 7.4818181818181815\n"
     ]
    },
    {
     "name": "stderr",
     "output_type": "stream",
     "text": [
      "Generation 14, Creating offsprings: 100%|██████████| 200/200 [00:01<00:00, 166.24it/s]\n",
      "Calculating tree distance matrix: 100%|██████████| 67896/67896 [00:12<00:00, 5394.86it/s]\n",
      "Evaluating offsprings: 100%|██████████| 361/361 [03:55<00:00,  1.53it/s]\n"
     ]
    },
    {
     "name": "stdout",
     "output_type": "stream",
     "text": [
      "Removed 12 identical or invalid trees\n",
      "Kept 20 outsiders with low fitness\n",
      "Generation 14 - Best fitness: 52463.614139016805 - Difference: 0.0\n",
      "Population size: 108\n",
      "Best height: 8\n",
      "Mean height of the population: 7.37962962962963\n"
     ]
    },
    {
     "name": "stderr",
     "output_type": "stream",
     "text": [
      "Generation 15, Creating offsprings: 100%|██████████| 200/200 [00:01<00:00, 186.93it/s]\n",
      "Calculating tree distance matrix: 100%|██████████| 66066/66066 [00:11<00:00, 5945.32it/s]\n",
      "Evaluating offsprings: 100%|██████████| 356/356 [03:32<00:00,  1.68it/s] \n"
     ]
    },
    {
     "name": "stdout",
     "output_type": "stream",
     "text": [
      "Removed 25 identical or invalid trees\n",
      "Kept 20 outsiders with low fitness\n",
      "Generation 15 - Best fitness: 52568.47549514427 - Difference: 104.86135612746148\n",
      "Population size: 95\n",
      "Best height: 6\n",
      "Mean height of the population: 7.8\n"
     ]
    },
    {
     "name": "stderr",
     "output_type": "stream",
     "text": [
      "Generation 16, Creating offsprings: 100%|██████████| 200/200 [00:01<00:00, 177.92it/s]\n",
      "Calculating tree distance matrix: 100%|██████████| 69751/69751 [00:11<00:00, 5878.39it/s]\n",
      "Evaluating offsprings: 100%|██████████| 366/366 [03:46<00:00,  1.61it/s]\n"
     ]
    },
    {
     "name": "stdout",
     "output_type": "stream",
     "text": [
      "Removed 22 identical or invalid trees\n",
      "Kept 20 outsiders with low fitness\n",
      "Generation 16 - Best fitness: 51107.26673461407 - Difference: -1461.208760530193\n",
      "Population size: 98\n",
      "Best height: 9\n",
      "Mean height of the population: 7.948979591836735\n"
     ]
    },
    {
     "name": "stderr",
     "output_type": "stream",
     "text": [
      "Generation 17, Creating offsprings: 100%|██████████| 200/200 [00:01<00:00, 178.81it/s]\n",
      "Calculating tree distance matrix: 100%|██████████| 66430/66430 [00:11<00:00, 5704.24it/s]\n",
      "Evaluating offsprings: 100%|██████████| 357/357 [03:42<00:00,  1.60it/s]\n"
     ]
    },
    {
     "name": "stdout",
     "output_type": "stream",
     "text": [
      "Removed 29 identical or invalid trees\n",
      "Kept 20 outsiders with low fitness\n",
      "Generation 17 - Best fitness: 51021.194455230725 - Difference: -86.07227938334836\n",
      "Population size: 91\n",
      "Best height: 9\n",
      "Mean height of the population: 7.714285714285714\n"
     ]
    },
    {
     "name": "stderr",
     "output_type": "stream",
     "text": [
      "Generation 18, Creating offsprings: 100%|██████████| 200/200 [00:01<00:00, 173.14it/s]\n",
      "Calculating tree distance matrix: 100%|██████████| 69006/69006 [00:11<00:00, 5873.38it/s]\n",
      "Evaluating offsprings: 100%|██████████| 364/364 [03:43<00:00,  1.63it/s]\n"
     ]
    },
    {
     "name": "stdout",
     "output_type": "stream",
     "text": [
      "Removed 22 identical or invalid trees\n",
      "Kept 20 outsiders with low fitness\n",
      "Generation 18 - Best fitness: 48651.23748626982 - Difference: -2369.956968960905\n",
      "Population size: 98\n",
      "Best height: 12\n",
      "Mean height of the population: 8.653061224489797\n"
     ]
    },
    {
     "name": "stderr",
     "output_type": "stream",
     "text": [
      "Generation 19, Creating offsprings: 100%|██████████| 200/200 [00:01<00:00, 151.32it/s]\n",
      "Calculating tree distance matrix: 100%|██████████| 72390/72390 [00:13<00:00, 5224.36it/s]\n",
      "Evaluating offsprings: 100%|██████████| 373/373 [04:22<00:00,  1.42it/s]\n"
     ]
    },
    {
     "name": "stdout",
     "output_type": "stream",
     "text": [
      "Removed 19 identical or invalid trees\n",
      "Kept 20 outsiders with low fitness\n",
      "Generation 19 - Best fitness: 48074.5017562013 - Difference: -576.735730068518\n",
      "Population size: 101\n",
      "Best height: 13\n",
      "Mean height of the population: 8.871287128712872\n"
     ]
    },
    {
     "name": "stderr",
     "output_type": "stream",
     "text": [
      "Generation 20, Creating offsprings: 100%|██████████| 200/200 [00:01<00:00, 142.11it/s]\n",
      "Calculating tree distance matrix: 100%|██████████| 69378/69378 [00:14<00:00, 4750.66it/s]\n",
      "Evaluating offsprings: 100%|██████████| 365/365 [04:47<00:00,  1.27it/s]\n"
     ]
    },
    {
     "name": "stdout",
     "output_type": "stream",
     "text": [
      "Removed 27 identical or invalid trees\n",
      "Kept 20 outsiders with low fitness\n",
      "Generation 20 - Best fitness: 48074.5017562013 - Difference: 0.0\n",
      "Population size: 93\n",
      "Best height: 13\n",
      "Mean height of the population: 9.13978494623656\n"
     ]
    },
    {
     "name": "stderr",
     "output_type": "stream",
     "text": [
      "Generation 21, Creating offsprings: 100%|██████████| 200/200 [00:01<00:00, 150.93it/s]\n",
      "Calculating tree distance matrix: 100%|██████████| 69006/69006 [00:14<00:00, 4789.39it/s]\n",
      "Evaluating offsprings: 100%|██████████| 364/364 [04:39<00:00,  1.30it/s]\n"
     ]
    },
    {
     "name": "stdout",
     "output_type": "stream",
     "text": [
      "Removed 22 identical or invalid trees\n",
      "Kept 20 outsiders with low fitness\n",
      "Generation 21 - Best fitness: 47353.860621923675 - Difference: -720.6411342776264\n",
      "Population size: 98\n",
      "Best height: 10\n",
      "Mean height of the population: 9.071428571428571\n"
     ]
    },
    {
     "name": "stderr",
     "output_type": "stream",
     "text": [
      "Generation 22, Creating offsprings: 100%|██████████| 200/200 [00:01<00:00, 142.79it/s]\n",
      "Calculating tree distance matrix: 100%|██████████| 69751/69751 [00:14<00:00, 4871.61it/s]\n",
      "Evaluating offsprings: 100%|██████████| 366/366 [04:42<00:00,  1.29it/s]\n"
     ]
    },
    {
     "name": "stdout",
     "output_type": "stream",
     "text": [
      "Removed 22 identical or invalid trees\n",
      "Kept 20 outsiders with low fitness\n",
      "Generation 22 - Best fitness: 47353.860621923675 - Difference: 0.0\n",
      "Population size: 98\n",
      "Best height: 10\n",
      "Mean height of the population: 9.03061224489796\n"
     ]
    },
    {
     "name": "stderr",
     "output_type": "stream",
     "text": [
      "Generation 23, Creating offsprings: 100%|██████████| 200/200 [00:01<00:00, 152.52it/s]\n",
      "Calculating tree distance matrix: 100%|██████████| 69378/69378 [00:14<00:00, 4924.53it/s]\n",
      "Evaluating offsprings: 100%|██████████| 365/365 [04:30<00:00,  1.35it/s] \n"
     ]
    },
    {
     "name": "stdout",
     "output_type": "stream",
     "text": [
      "Removed 22 identical or invalid trees\n",
      "Kept 20 outsiders with low fitness\n",
      "Generation 23 - Best fitness: 47353.860621923675 - Difference: 0.0\n",
      "Population size: 98\n",
      "Best height: 10\n",
      "Mean height of the population: 9.489795918367347\n"
     ]
    },
    {
     "name": "stderr",
     "output_type": "stream",
     "text": [
      "Generation 24, Creating offsprings: 100%|██████████| 200/200 [00:01<00:00, 140.91it/s]\n",
      "Calculating tree distance matrix: 100%|██████████| 71631/71631 [00:15<00:00, 4628.77it/s]\n",
      "Evaluating offsprings: 100%|██████████| 371/371 [04:48<00:00,  1.29it/s] \n"
     ]
    },
    {
     "name": "stdout",
     "output_type": "stream",
     "text": [
      "Removed 15 identical or invalid trees\n",
      "Kept 20 outsiders with low fitness\n",
      "Generation 24 - Best fitness: 47353.860621923675 - Difference: 0.0\n",
      "Population size: 105\n",
      "Best height: 10\n",
      "Mean height of the population: 9.552380952380952\n"
     ]
    },
    {
     "name": "stderr",
     "output_type": "stream",
     "text": [
      "Generation 25, Creating offsprings: 100%|██████████| 200/200 [00:01<00:00, 133.44it/s]\n",
      "Calculating tree distance matrix: 100%|██████████| 71631/71631 [00:15<00:00, 4505.58it/s]\n",
      "Evaluating offsprings: 100%|██████████| 371/371 [05:08<00:00,  1.20it/s]\n"
     ]
    },
    {
     "name": "stdout",
     "output_type": "stream",
     "text": [
      "Removed 21 identical or invalid trees\n",
      "Kept 20 outsiders with low fitness\n",
      "Generation 25 - Best fitness: 47708.60652453365 - Difference: 354.745902609975\n",
      "Population size: 99\n",
      "Best height: 9\n",
      "Mean height of the population: 9.696969696969697\n"
     ]
    },
    {
     "name": "stderr",
     "output_type": "stream",
     "text": [
      "Generation 26, Creating offsprings: 100%|██████████| 200/200 [00:01<00:00, 139.32it/s]\n",
      "Calculating tree distance matrix: 100%|██████████| 69751/69751 [00:16<00:00, 4261.70it/s]\n",
      "Evaluating offsprings: 100%|██████████| 366/366 [05:23<00:00,  1.13it/s] \n"
     ]
    },
    {
     "name": "stdout",
     "output_type": "stream",
     "text": [
      "Removed 17 identical or invalid trees\n",
      "Kept 20 outsiders with low fitness\n",
      "Generation 26 - Best fitness: 43746.61835329521 - Difference: -3961.9881712384376\n",
      "Population size: 103\n",
      "Best height: 10\n",
      "Mean height of the population: 10.16504854368932\n"
     ]
    },
    {
     "name": "stderr",
     "output_type": "stream",
     "text": [
      "Generation 27, Creating offsprings: 100%|██████████| 200/200 [00:01<00:00, 122.21it/s]\n",
      "Calculating tree distance matrix: 100%|██████████| 72771/72771 [00:17<00:00, 4155.22it/s]\n",
      "Evaluating offsprings: 100%|██████████| 374/374 [05:38<00:00,  1.11it/s] \n"
     ]
    },
    {
     "name": "stdout",
     "output_type": "stream",
     "text": [
      "Removed 20 identical or invalid trees\n",
      "Kept 20 outsiders with low fitness\n",
      "Generation 27 - Best fitness: 43746.61835329521 - Difference: 0.0\n",
      "Population size: 100\n",
      "Best height: 10\n",
      "Mean height of the population: 10.4\n"
     ]
    },
    {
     "name": "stderr",
     "output_type": "stream",
     "text": [
      "Generation 28, Creating offsprings: 100%|██████████| 200/200 [00:01<00:00, 120.05it/s]\n",
      "Calculating tree distance matrix: 100%|██████████| 71631/71631 [00:18<00:00, 3855.42it/s]\n",
      "Evaluating offsprings: 100%|██████████| 371/371 [06:02<00:00,  1.02it/s] \n"
     ]
    },
    {
     "name": "stdout",
     "output_type": "stream",
     "text": [
      "Removed 13 identical or invalid trees\n",
      "Kept 20 outsiders with low fitness\n",
      "Generation 28 - Best fitness: 43746.61835329521 - Difference: 0.0\n",
      "Population size: 107\n",
      "Best height: 10\n",
      "Mean height of the population: 10.373831775700934\n"
     ]
    },
    {
     "name": "stderr",
     "output_type": "stream",
     "text": [
      "Generation 29, Creating offsprings: 100%|██████████| 200/200 [00:01<00:00, 114.24it/s]\n",
      "Calculating tree distance matrix: 100%|██████████| 71631/71631 [00:19<00:00, 3717.63it/s]\n",
      "Evaluating offsprings: 100%|██████████| 371/371 [06:21<00:00,  1.03s/it]\n"
     ]
    },
    {
     "name": "stdout",
     "output_type": "stream",
     "text": [
      "Removed 20 identical or invalid trees\n",
      "Kept 20 outsiders with low fitness\n",
      "Generation 29 - Best fitness: 43490.76390610313 - Difference: -255.85444719208317\n",
      "Population size: 100\n",
      "Best height: 10\n",
      "Mean height of the population: 9.98\n"
     ]
    },
    {
     "name": "stderr",
     "output_type": "stream",
     "text": [
      "Generation 30, Creating offsprings: 100%|██████████| 200/200 [00:01<00:00, 114.95it/s]\n",
      "Calculating tree distance matrix: 100%|██████████| 71631/71631 [00:19<00:00, 3582.12it/s]\n",
      "Evaluating offsprings: 100%|██████████| 371/371 [06:29<00:00,  1.05s/it]\n"
     ]
    },
    {
     "name": "stdout",
     "output_type": "stream",
     "text": [
      "Removed 16 identical or invalid trees\n",
      "Kept 20 outsiders with low fitness\n",
      "Generation 30 - Best fitness: 43467.938264244716 - Difference: -22.82564185841329\n",
      "Population size: 104\n",
      "Best height: 10\n",
      "Mean height of the population: 9.98076923076923\n"
     ]
    },
    {
     "name": "stderr",
     "output_type": "stream",
     "text": [
      "Generation 31, Creating offsprings: 100%|██████████| 200/200 [00:01<00:00, 107.30it/s]\n",
      "Calculating tree distance matrix: 100%|██████████| 72390/72390 [00:20<00:00, 3475.52it/s]\n",
      "Evaluating offsprings: 100%|██████████| 373/373 [06:55<00:00,  1.11s/it]\n"
     ]
    },
    {
     "name": "stdout",
     "output_type": "stream",
     "text": [
      "Removed 15 identical or invalid trees\n",
      "Kept 20 outsiders with low fitness\n",
      "Generation 31 - Best fitness: 43185.245367850934 - Difference: -282.6928963937826\n",
      "Population size: 105\n",
      "Best height: 10\n",
      "Mean height of the population: 10.59047619047619\n"
     ]
    },
    {
     "name": "stderr",
     "output_type": "stream",
     "text": [
      "Generation 32, Creating offsprings: 100%|██████████| 200/200 [00:01<00:00, 105.44it/s]\n",
      "Calculating tree distance matrix: 100%|██████████| 73536/73536 [00:22<00:00, 3320.52it/s]\n",
      "Evaluating offsprings: 100%|██████████| 376/376 [07:00<00:00,  1.12s/it]\n"
     ]
    },
    {
     "name": "stdout",
     "output_type": "stream",
     "text": [
      "Removed 17 identical or invalid trees\n",
      "Kept 20 outsiders with low fitness\n",
      "Generation 32 - Best fitness: 42962.072743670135 - Difference: -223.17262418079918\n",
      "Population size: 103\n",
      "Best height: 10\n",
      "Mean height of the population: 9.533980582524272\n"
     ]
    },
    {
     "name": "stderr",
     "output_type": "stream",
     "text": [
      "Generation 33, Creating offsprings: 100%|██████████| 200/200 [00:01<00:00, 102.00it/s]\n",
      "Calculating tree distance matrix: 100%|██████████| 73536/73536 [00:21<00:00, 3475.15it/s]\n",
      "Evaluating offsprings: 100%|██████████| 376/376 [06:52<00:00,  1.10s/it] \n"
     ]
    },
    {
     "name": "stdout",
     "output_type": "stream",
     "text": [
      "Removed 15 identical or invalid trees\n",
      "Kept 20 outsiders with low fitness\n",
      "Generation 33 - Best fitness: 42237.38147508628 - Difference: -724.6912685838543\n",
      "Population size: 105\n",
      "Best height: 10\n",
      "Mean height of the population: 9.209523809523809\n"
     ]
    },
    {
     "name": "stderr",
     "output_type": "stream",
     "text": [
      "Generation 34, Creating offsprings: 100%|██████████| 200/200 [00:01<00:00, 109.22it/s]\n",
      "Calculating tree distance matrix: 100%|██████████| 69378/69378 [00:19<00:00, 3566.06it/s]\n",
      "Evaluating offsprings: 100%|██████████| 365/365 [06:42<00:00,  1.10s/it] \n"
     ]
    },
    {
     "name": "stdout",
     "output_type": "stream",
     "text": [
      "Removed 21 identical or invalid trees\n",
      "Kept 20 outsiders with low fitness\n",
      "Generation 34 - Best fitness: 42237.38147508628 - Difference: 0.0\n",
      "Population size: 99\n",
      "Best height: 10\n",
      "Mean height of the population: 9.282828282828282\n"
     ]
    },
    {
     "name": "stderr",
     "output_type": "stream",
     "text": [
      "Generation 35, Creating offsprings: 100%|██████████| 200/200 [00:01<00:00, 111.91it/s]\n",
      "Calculating tree distance matrix: 100%|██████████| 72010/72010 [00:20<00:00, 3527.87it/s]\n",
      "Evaluating offsprings: 100%|██████████| 372/372 [06:44<00:00,  1.09s/it]\n"
     ]
    },
    {
     "name": "stdout",
     "output_type": "stream",
     "text": [
      "Removed 15 identical or invalid trees\n",
      "Kept 20 outsiders with low fitness\n",
      "Generation 35 - Best fitness: 42215.69211676404 - Difference: -21.689358322240878\n",
      "Population size: 105\n",
      "Best height: 10\n",
      "Mean height of the population: 9.19047619047619\n"
     ]
    },
    {
     "name": "stderr",
     "output_type": "stream",
     "text": [
      "Generation 36, Creating offsprings: 100%|██████████| 200/200 [00:01<00:00, 104.24it/s]\n",
      "Calculating tree distance matrix: 100%|██████████| 71253/71253 [00:22<00:00, 3220.02it/s]\n",
      "Evaluating offsprings: 100%|██████████| 370/370 [07:12<00:00,  1.17s/it] \n"
     ]
    },
    {
     "name": "stdout",
     "output_type": "stream",
     "text": [
      "Removed 21 identical or invalid trees\n",
      "Kept 20 outsiders with low fitness\n",
      "Generation 36 - Best fitness: 42081.19455936902 - Difference: -134.49755739502143\n",
      "Population size: 99\n",
      "Best height: 10\n",
      "Mean height of the population: 9.212121212121213\n"
     ]
    },
    {
     "name": "stderr",
     "output_type": "stream",
     "text": [
      "Generation 37, Creating offsprings: 100%|██████████| 200/200 [00:02<00:00, 96.40it/s]\n",
      "Calculating tree distance matrix: 100%|██████████| 73920/73920 [00:24<00:00, 2999.80it/s]\n",
      "Evaluating offsprings: 100%|██████████| 377/377 [08:10<00:00,  1.30s/it]\n"
     ]
    },
    {
     "name": "stdout",
     "output_type": "stream",
     "text": [
      "Removed 15 identical or invalid trees\n",
      "Kept 20 outsiders with low fitness\n",
      "Generation 37 - Best fitness: 41173.37824956919 - Difference: -907.8163097998258\n",
      "Population size: 105\n",
      "Best height: 10\n",
      "Mean height of the population: 9.4\n"
     ]
    },
    {
     "name": "stderr",
     "output_type": "stream",
     "text": [
      "Generation 38, Creating offsprings: 100%|██████████| 200/200 [00:02<00:00, 95.91it/s] \n",
      "Calculating tree distance matrix: 100%|██████████| 70125/70125 [00:23<00:00, 3006.46it/s]\n",
      "Evaluating offsprings: 100%|██████████| 367/367 [07:52<00:00,  1.29s/it]\n"
     ]
    },
    {
     "name": "stdout",
     "output_type": "stream",
     "text": [
      "Removed 15 identical or invalid trees\n",
      "Kept 20 outsiders with low fitness\n",
      "Generation 38 - Best fitness: 41135.30883287177 - Difference: -38.06941669742082\n",
      "Population size: 105\n",
      "Best height: 10\n",
      "Mean height of the population: 8.942857142857143\n"
     ]
    },
    {
     "name": "stderr",
     "output_type": "stream",
     "text": [
      "Generation 39, Creating offsprings: 100%|██████████| 200/200 [00:02<00:00, 92.80it/s]\n",
      "Calculating tree distance matrix: 100%|██████████| 74691/74691 [00:24<00:00, 3023.36it/s]\n",
      "Evaluating offsprings: 100%|██████████| 379/379 [08:13<00:00,  1.30s/it]\n"
     ]
    },
    {
     "name": "stdout",
     "output_type": "stream",
     "text": [
      "Removed 18 identical or invalid trees\n",
      "Kept 20 outsiders with low fitness\n",
      "Generation 39 - Best fitness: 41127.91119136499 - Difference: -7.3976415067809285\n",
      "Population size: 102\n",
      "Best height: 10\n",
      "Mean height of the population: 9.166666666666666\n"
     ]
    },
    {
     "name": "stderr",
     "output_type": "stream",
     "text": [
      "Generation 40, Creating offsprings: 100%|██████████| 200/200 [00:02<00:00, 94.18it/s]\n",
      "Calculating tree distance matrix: 100%|██████████| 69006/69006 [00:23<00:00, 2950.94it/s]\n",
      "Evaluating offsprings: 100%|██████████| 364/364 [08:01<00:00,  1.32s/it]\n"
     ]
    },
    {
     "name": "stdout",
     "output_type": "stream",
     "text": [
      "Removed 13 identical or invalid trees\n",
      "Kept 20 outsiders with low fitness\n",
      "Generation 40 - Best fitness: 40974.42779406848 - Difference: -153.48339729651343\n",
      "Population size: 107\n",
      "Best height: 10\n",
      "Mean height of the population: 8.850467289719626\n"
     ]
    },
    {
     "name": "stderr",
     "output_type": "stream",
     "text": [
      "Generation 41, Creating offsprings: 100%|██████████| 200/200 [00:02<00:00, 94.20it/s]\n",
      "Calculating tree distance matrix: 100%|██████████| 70500/70500 [00:24<00:00, 2905.20it/s]\n",
      "Evaluating offsprings: 100%|██████████| 368/368 [08:03<00:00,  1.31s/it] \n"
     ]
    },
    {
     "name": "stdout",
     "output_type": "stream",
     "text": [
      "Removed 11 identical or invalid trees\n",
      "Kept 20 outsiders with low fitness\n",
      "Generation 41 - Best fitness: 40969.75244992211 - Difference: -4.675344146366115\n",
      "Population size: 109\n",
      "Best height: 10\n",
      "Mean height of the population: 8.743119266055047\n"
     ]
    },
    {
     "name": "stderr",
     "output_type": "stream",
     "text": [
      "Generation 42, Creating offsprings: 100%|██████████| 200/200 [00:02<00:00, 85.05it/s]\n",
      "Calculating tree distance matrix: 100%|██████████| 73920/73920 [00:24<00:00, 2990.90it/s]\n",
      "Evaluating offsprings: 100%|██████████| 377/377 [08:16<00:00,  1.32s/it]\n"
     ]
    },
    {
     "name": "stdout",
     "output_type": "stream",
     "text": [
      "Removed 15 identical or invalid trees\n",
      "Kept 20 outsiders with low fitness\n",
      "Generation 42 - Best fitness: 40960.99998735641 - Difference: -8.752462565702444\n",
      "Population size: 105\n",
      "Best height: 10\n",
      "Mean height of the population: 8.685714285714285\n"
     ]
    },
    {
     "name": "stderr",
     "output_type": "stream",
     "text": [
      "Generation 43, Creating offsprings: 100%|██████████| 200/200 [00:02<00:00, 83.05it/s]\n",
      "Calculating tree distance matrix: 100%|██████████| 74691/74691 [00:25<00:00, 2963.91it/s]\n",
      "Evaluating offsprings: 100%|██████████| 379/379 [08:04<00:00,  1.28s/it] \n"
     ]
    },
    {
     "name": "stdout",
     "output_type": "stream",
     "text": [
      "Removed 20 identical or invalid trees\n",
      "Kept 20 outsiders with low fitness\n",
      "Generation 43 - Best fitness: 40675.3486330354 - Difference: -285.6513543210094\n",
      "Population size: 100\n",
      "Best height: 10\n",
      "Mean height of the population: 9.03\n"
     ]
    },
    {
     "name": "stderr",
     "output_type": "stream",
     "text": [
      "Generation 44, Creating offsprings: 100%|██████████| 200/200 [00:02<00:00, 92.07it/s]\n",
      "Calculating tree distance matrix: 100%|██████████| 75078/75078 [00:25<00:00, 2891.70it/s]\n",
      "Evaluating offsprings: 100%|██████████| 380/380 [08:35<00:00,  1.36s/it] \n"
     ]
    },
    {
     "name": "stdout",
     "output_type": "stream",
     "text": [
      "Removed 16 identical or invalid trees\n",
      "Kept 20 outsiders with low fitness\n",
      "Generation 44 - Best fitness: 40651.5405571384 - Difference: -23.808075896995433\n",
      "Population size: 104\n",
      "Best height: 10\n",
      "Mean height of the population: 8.701923076923077\n"
     ]
    },
    {
     "name": "stderr",
     "output_type": "stream",
     "text": [
      "Generation 45, Creating offsprings: 100%|██████████| 200/200 [00:02<00:00, 82.41it/s]\n",
      "Calculating tree distance matrix: 100%|██████████| 75466/75466 [00:27<00:00, 2697.05it/s]\n",
      "Evaluating offsprings: 100%|██████████| 381/381 [09:15<00:00,  1.46s/it]\n"
     ]
    },
    {
     "name": "stdout",
     "output_type": "stream",
     "text": [
      "Removed 14 identical or invalid trees\n",
      "Kept 20 outsiders with low fitness\n",
      "Generation 45 - Best fitness: 40651.5405571384 - Difference: 0.0\n",
      "Population size: 106\n",
      "Best height: 10\n",
      "Mean height of the population: 8.89622641509434\n"
     ]
    },
    {
     "name": "stderr",
     "output_type": "stream",
     "text": [
      "Generation 46, Creating offsprings: 100%|██████████| 200/200 [00:02<00:00, 85.87it/s]\n",
      "Calculating tree distance matrix: 100%|██████████| 70876/70876 [00:28<00:00, 2512.24it/s]\n",
      "Evaluating offsprings: 100%|██████████| 369/369 [09:10<00:00,  1.49s/it]\n"
     ]
    },
    {
     "name": "stdout",
     "output_type": "stream",
     "text": [
      "Removed 17 identical or invalid trees\n",
      "Kept 20 outsiders with low fitness\n",
      "Generation 46 - Best fitness: 40518.18789315238 - Difference: -133.35266398602107\n",
      "Population size: 103\n",
      "Best height: 10\n",
      "Mean height of the population: 9.106796116504855\n"
     ]
    },
    {
     "name": "stderr",
     "output_type": "stream",
     "text": [
      "Generation 47, Creating offsprings: 100%|██████████| 200/200 [00:02<00:00, 78.80it/s]\n",
      "Calculating tree distance matrix: 100%|██████████| 72771/72771 [00:28<00:00, 2570.95it/s]\n",
      "Evaluating offsprings: 100%|██████████| 374/374 [09:30<00:00,  1.52s/it]\n"
     ]
    },
    {
     "name": "stdout",
     "output_type": "stream",
     "text": [
      "Removed 11 identical or invalid trees\n",
      "Kept 20 outsiders with low fitness\n",
      "Generation 47 - Best fitness: 40518.18789315238 - Difference: 0.0\n",
      "Population size: 109\n",
      "Best height: 10\n",
      "Mean height of the population: 9.009174311926605\n"
     ]
    },
    {
     "name": "stderr",
     "output_type": "stream",
     "text": [
      "Generation 48, Creating offsprings: 100%|██████████| 200/200 [00:02<00:00, 77.80it/s]\n",
      "Calculating tree distance matrix: 100%|██████████| 67896/67896 [00:27<00:00, 2462.41it/s]\n",
      "Evaluating offsprings: 100%|██████████| 361/361 [09:23<00:00,  1.56s/it] \n"
     ]
    },
    {
     "name": "stdout",
     "output_type": "stream",
     "text": [
      "Removed 19 identical or invalid trees\n",
      "Kept 20 outsiders with low fitness\n",
      "Generation 48 - Best fitness: 40518.18789315238 - Difference: 0.0\n",
      "Population size: 101\n",
      "Best height: 10\n",
      "Mean height of the population: 8.930693069306932\n"
     ]
    },
    {
     "name": "stderr",
     "output_type": "stream",
     "text": [
      "Generation 49, Creating offsprings: 100%|██████████| 200/200 [00:02<00:00, 79.34it/s]\n",
      "Calculating tree distance matrix: 100%|██████████| 72771/72771 [00:29<00:00, 2478.86it/s]\n",
      "Evaluating offsprings: 100%|██████████| 374/374 [09:52<00:00,  1.59s/it]\n"
     ]
    },
    {
     "name": "stdout",
     "output_type": "stream",
     "text": [
      "Removed 9 identical or invalid trees\n",
      "Kept 20 outsiders with low fitness\n",
      "Generation 49 - Best fitness: 40518.18789315238 - Difference: 0.0\n",
      "Population size: 111\n",
      "Best height: 10\n",
      "Mean height of the population: 9.018018018018019\n"
     ]
    },
    {
     "name": "stderr",
     "output_type": "stream",
     "text": [
      "Generation 50, Creating offsprings: 100%|██████████| 200/200 [00:02<00:00, 80.23it/s]\n",
      "Calculating tree distance matrix: 100%|██████████| 71253/71253 [00:28<00:00, 2521.32it/s]\n",
      "Evaluating offsprings: 100%|██████████| 370/370 [09:28<00:00,  1.54s/it] \n"
     ]
    },
    {
     "name": "stdout",
     "output_type": "stream",
     "text": [
      "Removed 21 identical or invalid trees\n",
      "Kept 20 outsiders with low fitness\n",
      "Generation 50 - Best fitness: 40518.18789315238 - Difference: 0.0\n",
      "Population size: 99\n",
      "Best height: 10\n",
      "Mean height of the population: 9.404040404040405\n"
     ]
    },
    {
     "name": "stderr",
     "output_type": "stream",
     "text": [
      "Generation 51, Creating offsprings: 100%|██████████| 200/200 [00:02<00:00, 80.44it/s]\n",
      "Calculating tree distance matrix: 100%|██████████| 72390/72390 [00:29<00:00, 2464.42it/s]\n",
      "Evaluating offsprings: 100%|██████████| 373/373 [09:52<00:00,  1.59s/it]\n"
     ]
    },
    {
     "name": "stdout",
     "output_type": "stream",
     "text": [
      "Removed 16 identical or invalid trees\n",
      "Kept 20 outsiders with low fitness\n",
      "Generation 51 - Best fitness: 40341.21842404257 - Difference: -176.96946910981205\n",
      "Population size: 104\n",
      "Best height: 10\n",
      "Mean height of the population: 8.846153846153847\n"
     ]
    },
    {
     "name": "stderr",
     "output_type": "stream",
     "text": [
      "Generation 52, Creating offsprings: 100%|██████████| 200/200 [00:02<00:00, 81.45it/s]\n",
      "Calculating tree distance matrix: 100%|██████████| 72771/72771 [00:29<00:00, 2504.97it/s]\n",
      "Evaluating offsprings: 100%|██████████| 374/374 [09:31<00:00,  1.53s/it]\n"
     ]
    },
    {
     "name": "stdout",
     "output_type": "stream",
     "text": [
      "Removed 14 identical or invalid trees\n",
      "Kept 20 outsiders with low fitness\n",
      "Generation 52 - Best fitness: 40335.649268544475 - Difference: -5.569155498094915\n",
      "Population size: 106\n",
      "Best height: 10\n",
      "Mean height of the population: 8.735849056603774\n"
     ]
    },
    {
     "name": "stderr",
     "output_type": "stream",
     "text": [
      "Generation 53, Creating offsprings: 100%|██████████| 200/200 [00:02<00:00, 79.77it/s]\n",
      "Calculating tree distance matrix: 100%|██████████| 73536/73536 [00:29<00:00, 2492.55it/s]\n",
      "Evaluating offsprings: 100%|██████████| 376/376 [08:33<00:00,  1.37s/it] \n"
     ]
    },
    {
     "name": "stdout",
     "output_type": "stream",
     "text": [
      "Removed 13 identical or invalid trees\n",
      "Kept 20 outsiders with low fitness\n",
      "Generation 53 - Best fitness: 40329.05920389669 - Difference: -6.590064647782128\n",
      "Population size: 107\n",
      "Best height: 10\n",
      "Mean height of the population: 8.85981308411215\n"
     ]
    },
    {
     "name": "stderr",
     "output_type": "stream",
     "text": [
      "Generation 54, Creating offsprings: 100%|██████████| 200/200 [00:02<00:00, 81.35it/s]\n",
      "Calculating tree distance matrix: 100%|██████████| 74691/74691 [00:30<00:00, 2481.60it/s]\n",
      "Evaluating offsprings: 100%|██████████| 379/379 [09:54<00:00,  1.57s/it]\n"
     ]
    },
    {
     "name": "stdout",
     "output_type": "stream",
     "text": [
      "Removed 17 identical or invalid trees\n",
      "Kept 20 outsiders with low fitness\n",
      "Generation 54 - Best fitness: 40329.05920389669 - Difference: 0.0\n",
      "Population size: 103\n",
      "Best height: 10\n",
      "Mean height of the population: 8.78640776699029\n"
     ]
    },
    {
     "name": "stderr",
     "output_type": "stream",
     "text": [
      "Generation 55, Creating offsprings: 100%|██████████| 200/200 [00:02<00:00, 84.00it/s]\n",
      "Calculating tree distance matrix: 100%|██████████| 75466/75466 [00:29<00:00, 2559.92it/s]\n",
      "Evaluating offsprings: 100%|██████████| 381/381 [09:43<00:00,  1.53s/it]\n"
     ]
    },
    {
     "name": "stdout",
     "output_type": "stream",
     "text": [
      "Removed 13 identical or invalid trees\n",
      "Kept 20 outsiders with low fitness\n",
      "Generation 55 - Best fitness: 40213.39449485374 - Difference: -115.6647090429542\n",
      "Population size: 107\n",
      "Best height: 10\n",
      "Mean height of the population: 9.08411214953271\n"
     ]
    },
    {
     "name": "stderr",
     "output_type": "stream",
     "text": [
      "Generation 56, Creating offsprings: 100%|██████████| 200/200 [00:02<00:00, 77.99it/s]\n",
      "Calculating tree distance matrix: 100%|██████████| 72390/72390 [00:29<00:00, 2481.98it/s]\n",
      "Evaluating offsprings: 100%|██████████| 373/373 [09:42<00:00,  1.56s/it]\n"
     ]
    },
    {
     "name": "stdout",
     "output_type": "stream",
     "text": [
      "Removed 7 identical or invalid trees\n",
      "Kept 20 outsiders with low fitness\n",
      "Generation 56 - Best fitness: 39857.01437114275 - Difference: -356.3801237109874\n",
      "Population size: 113\n",
      "Best height: 10\n",
      "Mean height of the population: 8.769911504424778\n"
     ]
    },
    {
     "name": "stderr",
     "output_type": "stream",
     "text": [
      "Generation 57, Creating offsprings: 100%|██████████| 200/200 [00:02<00:00, 79.69it/s]\n",
      "Calculating tree distance matrix: 100%|██████████| 73920/73920 [00:28<00:00, 2572.63it/s]\n",
      "Evaluating offsprings: 100%|██████████| 377/377 [09:41<00:00,  1.54s/it] \n"
     ]
    },
    {
     "name": "stdout",
     "output_type": "stream",
     "text": [
      "Removed 17 identical or invalid trees\n",
      "Kept 20 outsiders with low fitness\n",
      "Generation 57 - Best fitness: 39818.214083956664 - Difference: -38.8002871860881\n",
      "Population size: 103\n",
      "Best height: 10\n",
      "Mean height of the population: 8.805825242718447\n"
     ]
    },
    {
     "name": "stderr",
     "output_type": "stream",
     "text": [
      "Generation 58, Creating offsprings: 100%|██████████| 200/200 [00:02<00:00, 78.77it/s]\n",
      "Calculating tree distance matrix: 100%|██████████| 72010/72010 [00:28<00:00, 2527.27it/s]\n",
      "Evaluating offsprings: 100%|██████████| 372/372 [09:28<00:00,  1.53s/it] \n"
     ]
    },
    {
     "name": "stdout",
     "output_type": "stream",
     "text": [
      "Removed 17 identical or invalid trees\n",
      "Kept 20 outsiders with low fitness\n",
      "Generation 58 - Best fitness: 39333.82545855326 - Difference: -484.3886254034005\n",
      "Population size: 103\n",
      "Best height: 10\n",
      "Mean height of the population: 8.776699029126213\n"
     ]
    },
    {
     "name": "stderr",
     "output_type": "stream",
     "text": [
      "Generation 59, Creating offsprings: 100%|██████████| 200/200 [00:02<00:00, 75.92it/s]\n",
      "Calculating tree distance matrix: 100%|██████████| 73536/73536 [00:28<00:00, 2574.83it/s]\n",
      "Evaluating offsprings: 100%|██████████| 376/376 [09:29<00:00,  1.51s/it]\n"
     ]
    },
    {
     "name": "stdout",
     "output_type": "stream",
     "text": [
      "Removed 13 identical or invalid trees\n",
      "Kept 20 outsiders with low fitness\n",
      "Generation 59 - Best fitness: 39333.82545855326 - Difference: 0.0\n",
      "Population size: 107\n",
      "Best height: 10\n",
      "Mean height of the population: 9.130841121495328\n"
     ]
    },
    {
     "name": "stderr",
     "output_type": "stream",
     "text": [
      "Generation 60, Creating offsprings: 100%|██████████| 200/200 [00:02<00:00, 79.23it/s]\n",
      "Calculating tree distance matrix: 100%|██████████| 75855/75855 [00:29<00:00, 2589.39it/s]\n",
      "Evaluating offsprings: 100%|██████████| 382/382 [09:33<00:00,  1.50s/it]\n"
     ]
    },
    {
     "name": "stdout",
     "output_type": "stream",
     "text": [
      "Removed 11 identical or invalid trees\n",
      "Kept 20 outsiders with low fitness\n",
      "Generation 60 - Best fitness: 39333.82545855326 - Difference: 0.0\n",
      "Population size: 109\n",
      "Best height: 10\n",
      "Mean height of the population: 8.917431192660551\n"
     ]
    },
    {
     "name": "stderr",
     "output_type": "stream",
     "text": [
      "Generation 61, Creating offsprings: 100%|██████████| 200/200 [00:02<00:00, 86.36it/s]\n",
      "Calculating tree distance matrix: 100%|██████████| 74305/74305 [00:27<00:00, 2667.15it/s]\n",
      "Evaluating offsprings: 100%|██████████| 378/378 [09:11<00:00,  1.46s/it]\n"
     ]
    },
    {
     "name": "stdout",
     "output_type": "stream",
     "text": [
      "Removed 14 identical or invalid trees\n",
      "Kept 20 outsiders with low fitness\n",
      "Generation 61 - Best fitness: 34347.38281694282 - Difference: -4986.44264161044\n",
      "Population size: 106\n",
      "Best height: 10\n",
      "Mean height of the population: 8.735849056603774\n"
     ]
    },
    {
     "name": "stderr",
     "output_type": "stream",
     "text": [
      "Generation 62, Creating offsprings: 100%|██████████| 200/200 [00:02<00:00, 84.01it/s]\n",
      "Calculating tree distance matrix: 100%|██████████| 73153/73153 [00:27<00:00, 2614.89it/s]\n",
      "Evaluating offsprings: 100%|██████████| 375/375 [09:11<00:00,  1.47s/it]\n"
     ]
    },
    {
     "name": "stdout",
     "output_type": "stream",
     "text": [
      "Removed 17 identical or invalid trees\n",
      "Kept 20 outsiders with low fitness\n",
      "Generation 62 - Best fitness: 34347.38281694282 - Difference: 0.0\n",
      "Population size: 103\n",
      "Best height: 10\n",
      "Mean height of the population: 9.0\n"
     ]
    },
    {
     "name": "stderr",
     "output_type": "stream",
     "text": [
      "Generation 63, Creating offsprings: 100%|██████████| 200/200 [00:02<00:00, 83.78it/s]\n",
      "Calculating tree distance matrix: 100%|██████████| 75466/75466 [00:29<00:00, 2561.56it/s]\n",
      "Evaluating offsprings: 100%|██████████| 381/381 [09:28<00:00,  1.49s/it]\n"
     ]
    },
    {
     "name": "stdout",
     "output_type": "stream",
     "text": [
      "Removed 12 identical or invalid trees\n",
      "Kept 20 outsiders with low fitness\n",
      "Generation 63 - Best fitness: 33912.77801168551 - Difference: -434.6048052573169\n",
      "Population size: 108\n",
      "Best height: 10\n",
      "Mean height of the population: 9.37962962962963\n"
     ]
    },
    {
     "name": "stderr",
     "output_type": "stream",
     "text": [
      "Generation 64, Creating offsprings: 100%|██████████| 200/200 [00:02<00:00, 82.91it/s]\n",
      "Calculating tree distance matrix: 100%|██████████| 73153/73153 [00:29<00:00, 2449.89it/s]\n",
      "Evaluating offsprings:  14%|█▍        | 52/375 [02:50<17:52,  3.32s/it] "
     ]
    }
   ],
   "source": [
    "from tqdm import tqdm\n",
    "from concurrent.futures import ThreadPoolExecutor\n",
    "import math\n",
    "\n",
    "\n",
    "# Parameters\n",
    "crossover = recombination_crossover\n",
    "OFFSPRING_SIZE = 200\n",
    "POPULATION_SIZE = 100\n",
    "OUTSIDER_SIZE = math.ceil(OFFSPRING_SIZE*0.1)\n",
    "pm = 0.05\n",
    "x_elitism = 0.08\n",
    "MAX_GENERATIONS = 100\n",
    "HEIGHT = 5\n",
    "PC = 0.1\n",
    "P_PICK_CONSTANT = 0.4\n",
    "P_CUT_TREE = 0.05\n",
    "\n",
    "\n",
    "# Initialize the population\n",
    "def initialize_population(_):\n",
    "    return generate_random_tree_with_all_terminal(HEIGHT, PC, terminal_list, constants=crammed_constants, p_pick_constant=P_PICK_CONSTANT, p_cut_tree=P_CUT_TREE)\n",
    "\n",
    "ALREADY_INITIALIZED = False\n",
    "if not ALREADY_INITIALIZED:\n",
    "    with ThreadPoolExecutor() as executor:\n",
    "        population = list(tqdm(executor.map(initialize_population, range(POPULATION_SIZE)), desc=\"Initializing population\", total=POPULATION_SIZE))\n",
    "\n",
    "population = [tree.collapse_constants() for tree in population if tree is not None]    \n",
    "# Remove identical trees\n",
    "distance_matrix = tree_distance(population, verbose='Initial tree distances')\n",
    "n = len(population)\n",
    "# I need to keep only the first tree if there are identical trees\n",
    "for i in range(n):\n",
    "    for j in range(i + 1, n):\n",
    "        if distance_matrix[i][j] == 0 and population[j] is not None:\n",
    "            population[j] = None\n",
    "\n",
    "population = [tree for tree in population if tree is not None]\n",
    "for tree in population:\n",
    "    tree.reeval_heights()\n",
    "\n",
    " # Evaluate the population\n",
    "with ThreadPoolExecutor() as executor:\n",
    "    fitnesses = np.array(list(tqdm(executor.map(lambda tree: fitness(tree, vars, labels, penalized='sqrt'), population), desc=\"Evaluating population\", total=len(population))))\n",
    "   \n",
    "penalized = 'percent'\n",
    "probabilities2 = [0.10, 0.10, 0.10, 0.10, 0.10]\n",
    "probabilities1 = [0.16, 0.16, 0.16, 0.16, 0.16]\n",
    "\n",
    "print(*probabilities1)\n",
    "\n",
    "probabilities = probabilities1\n",
    "# Training\n",
    "for generation in range(MAX_GENERATIONS):\n",
    "    if (generation >= 15):\n",
    "        probabilities = probabilities2\n",
    "        penalized = 'percent'\n",
    "    if(generation >= 25):\n",
    "        penalized = 'percent'\n",
    "        probabilities = probabilities1\n",
    "\n",
    "    pm = max(0.05, 0.2 - generation / MAX_GENERATIONS * 0.15)# from 0.2 to 0.05\n",
    "    # Select the best individuals\n",
    "    best_individuals = np.argsort(fitnesses)[:int(x_elitism * POPULATION_SIZE)]\n",
    "    # Create the offspring\n",
    "    offspring = []\n",
    "    for _ in tqdm(range(OFFSPRING_SIZE), desc=f\"Generation {generation}, Creating offsprings\"):\n",
    "        # Mutation\n",
    "        if random.random() < pm:\n",
    "            mutation = random_mutation(*probabilities)\n",
    "            child = mutation(parent_selection(population, fitnesses).clone(), terminal_list, constants=crammed_constants, p_pick_constant=P_PICK_CONSTANT, pc=PC)\n",
    "            child.reeval_heights()\n",
    "            offspring.append(child)\n",
    "        else:\n",
    "            # Select parents\n",
    "            parent1 = parent_selection(population, fitnesses, penalized).clone()\n",
    "            parent2 = parent_selection(population, fitnesses, penalized).clone()\n",
    "            # Crossover\n",
    "            child1, child2 = crossover(parent1, parent2)\n",
    "            child1.reeval_heights()\n",
    "            child2.reeval_heights()\n",
    "            offspring.extend([child1, child2])\n",
    "    # Combine and select the best individuals\n",
    "    population = [population[i] for i in best_individuals] + offspring\n",
    "\n",
    "    # Remove identical trees\n",
    "    population = [tree.collapse_constants() for tree in population if tree is not None]\n",
    "    distance_matrix = tree_distance(population)\n",
    "    n = len(population)\n",
    "    # I need to keep only the first tree if there are identical trees\n",
    "    for i in range(n):\n",
    "        for j in range(i + 1, n):\n",
    "            if distance_matrix[i][j] == 0 and population[j] is not None:\n",
    "                population[j] = None\n",
    "    \n",
    "    # Sort population for summation of distance similarity\n",
    "    summation = np.zeros(n)\n",
    "    for i in range(n):\n",
    "        summation[i] = np.sum(distance_matrix[i,:])\n",
    "    \n",
    "    distance_sorted = np.argsort(summation)[::-1]\n",
    "    outsiders = set(distance_sorted[:OUTSIDER_SIZE])\n",
    "    # Calculate fitness function\n",
    "    with ThreadPoolExecutor() as executor:\n",
    "        fitnesses_offspring = np.array(list(tqdm(executor.map(lambda tree: fitness(tree, vars, labels, penalized=penalized), offspring), desc=\"Evaluating offsprings\", total=len(offspring))))\n",
    "\n",
    "    # Select the best individuals and outsiders\n",
    "    all_fitnesses = np.concatenate([fitnesses[best_individuals], fitnesses_offspring])\n",
    "    best_fitnesses = set(np.argsort(all_fitnesses)[:POPULATION_SIZE])\n",
    "    # Union between best individuals and outsiders\n",
    "    union = best_fitnesses.union(outsiders)\n",
    "    intersection = best_fitnesses.intersection(outsiders)\n",
    "\n",
    "    union_filtered = [i for i in union if population[i] is not None]\n",
    "\n",
    "    population = [population[i] for i in union_filtered]\n",
    "    before = len(union)\n",
    "    fitnesses = [all_fitnesses[i] for i in union_filtered]\n",
    "    fitnesses = np.array(fitnesses)\n",
    "    best_fitness = fitness_unscaled(population[0], vars, labels)\n",
    "    print(f\"Removed {before - len(population)} identical or invalid trees\")\n",
    "    print(f'Kept {len(outsiders) - len(intersection)} outsiders with low fitness')\n",
    "    if generation > 0:\n",
    "        print(f\"Generation {generation} - Best fitness: {best_fitness} - Difference: {best_fitness - old_best_fitness}\")\n",
    "    else:\n",
    "        print(f\"Generation {generation} - Best fitness: {best_fitness}\")\n",
    "    old_best_fitness = best_fitness\n",
    "    print(f\"Population size: {len(population)}\")\n",
    "    print(f'Best height: {population[0].get_height()}')\n",
    "    print(f\"Mean height of the population: {np.mean([tree.get_height() for tree in population])}\")\n"
   ]
  },
  {
   "cell_type": "code",
   "execution_count": null,
   "metadata": {},
   "outputs": [],
   "source": [
    "from datetime import datetime\n",
    "conf = {\n",
    "    \"problem\": problem_number,\n",
    "    \"crossover\": crossover,\n",
    "    \"OFFSPRING_SIZE\": OFFSPRING_SIZE,\n",
    "    \"POPULATION_SIZE\": POPULATION_SIZE,\n",
    "    \"OUTSIDER_SIZE\": OUTSIDER_SIZE,\n",
    "    \"pm\": pm,\n",
    "    \"x_elitism\": x_elitism,\n",
    "    \"MAX_GENERATIONS\": MAX_GENERATIONS,\n",
    "    \"HEIGHT\": HEIGHT,\n",
    "    \"PC\": PC,\n",
    "    \"P_PICK_CONSTANT\": P_PICK_CONSTANT,\n",
    "    \"P_CUT_TREE\": P_CUT_TREE\n",
    "}\n",
    "def save_results(conf, res_function, res_fitness):\n",
    "    cur_time = datetime.now().strftime(\"%Y-%m-%d_%H-%M-%S\")\n",
    "    with open(f\"./results/{cur_time}.txt\", \"w\") as file:\n",
    "        # Write the contents of conf\n",
    "        file.write(\"# Configuration\\n\")\n",
    "        file.write(\"conf = {\\n\")\n",
    "        for key, value in conf.items():\n",
    "            file.write(f\"    '{key}': {value},\\n\")\n",
    "        file.write(\"}\\n\\n\")\n",
    "        \n",
    "        # Write the contents of res_function\n",
    "        file.write(\"# Resulting function\\n\")\n",
    "        file.write(f\"{res_function}\")\n",
    "        \n",
    "        # Write the contents of res_fitness\n",
    "        file.write(\"# Resulting fitness\\n\")\n",
    "        file.write(f\"{res_fitness}\")\n",
    "save_results(conf, str(population[0]), best_fitness)"
   ]
  },
  {
   "cell_type": "code",
   "execution_count": null,
   "metadata": {},
   "outputs": [],
   "source": [
    "population[0].draw()\n",
    "print(fitness(population[0], vars, labels))"
   ]
  }
 ],
 "metadata": {
  "kernelspec": {
   "display_name": ".venv",
   "language": "python",
   "name": "python3"
  },
  "language_info": {
   "codemirror_mode": {
    "name": "ipython",
    "version": 3
   },
   "file_extension": ".py",
   "mimetype": "text/x-python",
   "name": "python",
   "nbconvert_exporter": "python",
   "pygments_lexer": "ipython3",
   "version": "3.12.6"
  }
 },
 "nbformat": 4,
 "nbformat_minor": 2
}
